{
 "cells": [
  {
   "cell_type": "markdown",
   "metadata": {},
   "source": [
    "**What's MC and why MC?**  \n",
    "refer to [this site](https://stats.stackexchange.com/questions/165/how-would-you-explain-markov-chain-monte-carlo-mcmc-to-a-layperson)\n",
    "\n",
    "[https://zhuanlan.zhihu.com/p/25610149](https://zhuanlan.zhihu.com/p/25610149)\n",
    "\n",
    "[http://cos.name/2013/01/lda-math-mcmc-and-gibbs-sampling/](http://cos.name/2013/01/lda-math-mcmc-and-gibbs-sampling/) \n",
    "\n",
    "\n",
    "[https://people.duke.edu/~ccc14/sta-663/MCMC.html](https://people.duke.edu/~ccc14/sta-663/MCMC.html)\n",
    "\n"
   ]
  }
 ],
 "metadata": {
  "kernelspec": {
   "display_name": "Python 2",
   "language": "python",
   "name": "python2"
  },
  "language_info": {
   "codemirror_mode": {
    "name": "ipython",
    "version": 2
   },
   "file_extension": ".py",
   "mimetype": "text/x-python",
   "name": "python",
   "nbconvert_exporter": "python",
   "pygments_lexer": "ipython2",
   "version": "2.7.12"
  }
 },
 "nbformat": 4,
 "nbformat_minor": 2
}
