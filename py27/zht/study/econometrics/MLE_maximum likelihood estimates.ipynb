{
 "cells": [
  {
   "cell_type": "markdown",
   "metadata": {},
   "source": [
    "The polynomial that results from maximizing the likelihood should be the same as a polynomial from a least squares fit,if we assume a normal(Gaussian) distribution and the data is independent and identically distributed.We will compare it to validate our algorithm.  \n",
    "\n",
    "how to understand MLE?  Watch [this video](https://www.youtube.com/watch?v=5NMxiOGL39M) and begin in 14 minute"
   ]
  },
  {
   "cell_type": "code",
   "execution_count": 22,
   "metadata": {
    "collapsed": true
   },
   "outputs": [],
   "source": [
    "#generate sample data\n",
    "import numpy as np\n",
    "import math\n",
    "\n",
    "\n",
    "x=np.linspace(0.0,10,num=100)\n",
    "trueValue=[0.0,3.5,4.4]\n",
    "a,b,c=tuple(trueValue)\n",
    "\n",
    "y=c*(x**2)+b*x+a\n",
    "\n",
    "#add normal noise to the data\n",
    "noise=np.random.normal(0,10.,100)\n",
    "y=y+noise\n",
    "\n",
    "\n",
    "#save the data as a np array\n",
    "np.save('data/myData',[x,y])"
   ]
  },
  {
   "cell_type": "code",
   "execution_count": 23,
   "metadata": {
    "scrolled": true
   },
   "outputs": [
    {
     "data": {
      "text/plain": [
       "<matplotlib.collections.PathCollection at 0x1f25ff60>"
      ]
     },
     "execution_count": 23,
     "metadata": {},
     "output_type": "execute_result"
    },
    {
     "data": {
      "image/png": "[encoded data removed]",
      "text/plain": [
       "<matplotlib.figure.Figure at 0x1eee1a20>"
      ]
     },
     "metadata": {},
     "output_type": "display_data"
    }
   ],
   "source": [
    "import matplotlib.pyplot as plt\n",
    "%matplotlib inline\n",
    "\n",
    "plt.style.use('seaborn-darkgrid')\n",
    "plt.scatter(x,y)"
   ]
  },
  {
   "cell_type": "markdown",
   "metadata": {},
   "source": [
    "Now onto the formulation of the likelihood equation that we will use to determine coefficients of a fitted polynomial.  \n",
    "\n",
    "Linear regression is generally of some form  \n",
    "$$Y=X\\beta +r$$ \n",
    "\n",
    "For a seconde order polynomial,X is of the form $X=[1,x,x^2]$.We can rewrite the equation of linear regression as\n",
    "$$ r=Y-X\\beta$$\n",
    "where the resuals r are ecpressed as teh difference batween the true model(Y) and the linear model($X\\beta$).If we assume the data to be of an independent and identically distributed sample,and that the residual r is from a normal(Gaussian) distribution,then we will get the following probability density funcion $f$.\n",
    "$$\n",
    "f(x|\\mu , \\sigma^2) = (2 \\pi \\sigma^2)^{-\\frac{n}{2}} \\text{exp}(- \\frac{(x-\\mu)^2}{2\\sigma^2})\n",
    "$$\n",
    "\n",
    "The probability density function $f(x | \\mu,\\sigma^2)$ is for a point $x$,with a mean $\\mu$, and standard deviation $\\sigma$.If we substitute the residual into the equation,and assume that the residual will have a mean of zero$(\\mu=0)$ we get\n",
    "$$\n",
    "f(r|0 , \\sigma^2) = (2 \\pi \\sigma^2)^{-\\frac{n}{2}} \\text{exp}(- \\frac{(y - x\\beta)^2}{2\\sigma^2})\n",
    "$$\n",
    "\n",
    "which defines the probability density function for a given point.The likelihood $L$ is defined as \n",
    "$$\n",
    "L(\\beta | x_1, x_2, \\cdots, x_n) = \\prod_{i=1}^{n}f(x_i | \\beta)\n",
    "$$\n",
    "\n",
    "the multiplication of all probability densities at each $x_i$ point.When we substitute the probability density function into the definition of the maximum likelihood function,we have the following.\n",
    "$$\n",
    "L(\\beta | x_1, x_2, \\cdots, x_n) = (2 \\pi \\sigma^2)^{\\frac{n}{2}} \\text{exp}(- \\frac{(\\mathbf{Y} - \\mathbf{X}\\mathbf{\\beta})^{\\text{T}}(\\mathbf{Y} - \\mathbf{X}\\mathbf{\\beta} ) }{2\\sigma^2})\n",
    "$$\n",
    "\n",
    "It is practical to work with the log-likelihood as opposed to the likelihood equation as the likelihood equation can be nearly zero."
   ]
  },
  {
   "cell_type": "code",
   "execution_count": 24,
   "metadata": {
    "collapsed": true
   },
   "outputs": [],
   "source": [
    "#define a function to calculate the log likelihood\n",
    "def calLogLikelihood(guess,true,n):\n",
    "    error=true-guess\n",
    "    sigma=np.std(error)\n",
    "    f=((1.0/(2.0*math.pi*sigma*sigma))**(n/2))* \\\n",
    "        np.exp(-1*(np.dot(error,error))/(2*sigma*sigma))\n",
    "    return np.log(f)"
   ]
  },
  {
   "cell_type": "markdown",
   "metadata": {},
   "source": [
    "Optimization is used to determine which paramters $\\beta$ maximize the log-likelihood function.The optimization problem is expressed below.\n",
    "$$\n",
    "\\{ \\hat {\\beta}_{MLE} \\} \\subseteq \\{\\text{arg max} \\ln \\bigg ( L(\\beta | x_1,x_2,\\cdots,x_n) \\bigg ) \\}\n",
    "$$\n",
    "\n",
    "So since our data originates from a second order polynomial,let's fit a second order polynomial to the data.First we will have to define a funciton which will calculate the log likelihood value of the second order polynomial for three different coefficients ('var')."
   ]
  },
  {
   "cell_type": "code",
   "execution_count": 25,
   "metadata": {
    "collapsed": true
   },
   "outputs": [],
   "source": [
    "#define the function which will return the objective function to be minimized\n",
    "def myFunction(var):\n",
    "    [x,y]=np.load('data/myData.npy')\n",
    "    yGuess=(var[2]*(x**2))+(var[1]*x)+var[0]\n",
    "    f=calLogLikelihood(yGuess,y,float(len(yGuess)))\n",
    "    return (-1*f)"
   ]
  },
  {
   "cell_type": "markdown",
   "metadata": {},
   "source": [
    "We can then ues gradient-based optimization to find which polynomial coefficients maximize the log-likelihood."
   ]
  },
  {
   "cell_type": "code",
   "execution_count": 26,
   "metadata": {},
   "outputs": [
    {
     "name": "stdout",
     "output_type": "stream",
     "text": [
      "Optimization terminated successfully.\n",
      "         Current function value: 369.055171\n",
      "         Iterations: 13\n",
      "         Function evaluations: 130\n",
      "         Gradient evaluations: 26\n"
     ]
    }
   ],
   "source": [
    "nvar=3\n",
    "var=np.zeros(nvar)   #pick some random starting points for the optimization,here we choose three 0s\n",
    "var[0]=-15.0\n",
    "var[1]=4.0\n",
    "var[2]=0.0\n",
    "from scipy.optimize import minimize\n",
    "res=minimize(myFunction,var,method='BFGS',options={'disp':True})"
   ]
  },
  {
   "cell_type": "code",
   "execution_count": 27,
   "metadata": {},
   "outputs": [
    {
     "name": "stdout",
     "output_type": "stream",
     "text": [
      "      fun: 369.0551714453393\n",
      " hess_inv: array([[ 8.76853425, -3.422308  ,  0.28158815],\n",
      "       [-3.422308  ,  1.77523901, -0.16499241],\n",
      "       [ 0.28158815, -0.16499241,  0.016419  ]])\n",
      "      jac: array([  0.00000000e+00,   0.00000000e+00,   3.81469727e-06])\n",
      "  message: 'Optimization terminated successfully.'\n",
      "     nfev: 130\n",
      "      nit: 13\n",
      "     njev: 26\n",
      "   status: 0\n",
      "  success: True\n",
      "        x: array([-3.47822001,  5.24373436,  4.27130965])\n"
     ]
    }
   ],
   "source": [
    "print res"
   ]
  },
  {
   "cell_type": "markdown",
   "metadata": {},
   "source": [
    "As it turns out ,with the assumptions we have made(Guassian distribution,independent and identically distributed,$\\mu$=0) the result of maximizing the likelihood should be the same as performing a least squares fit.So let's go ahead and perform a least squares fit to determine the coefficients fo a second order polynomial from data points.This can be done with scikit-learn easily with the following lines of Python code."
   ]
  },
  {
   "cell_type": "code",
   "execution_count": 28,
   "metadata": {
    "collapsed": true
   },
   "outputs": [],
   "source": [
    "#perform least squares fit using sklearn\n",
    "from sklearn.preprocessing import PolynomialFeatures\n",
    "from sklearn.linear_model import LinearRegression\n",
    "from sklearn.pipeline import Pipeline\n",
    "\n",
    "model=Pipeline([('poly',PolynomialFeatures(degree=2)), \\\n",
    "               ('linear',LinearRegression(fit_intercept=False))])\n",
    "\n",
    "model=model.fit(x[:,np.newaxis],y)\n",
    "coefs=model.named_steps['linear'].coef_"
   ]
  },
  {
   "cell_type": "code",
   "execution_count": 29,
   "metadata": {},
   "outputs": [
    {
     "data": {
      "text/plain": [
       "array([-3.47821169,  5.24372933,  4.27131014])"
      ]
     },
     "execution_count": 29,
     "metadata": {},
     "output_type": "execute_result"
    }
   ],
   "source": [
    "coefs"
   ]
  },
  {
   "cell_type": "markdown",
   "metadata": {},
   "source": [
    "compare the two results"
   ]
  },
  {
   "cell_type": "code",
   "execution_count": 30,
   "metadata": {},
   "outputs": [
    {
     "data": {
      "image/png": "[encoded data removed]",
      "text/plain": [
       "<matplotlib.figure.Figure at 0x1eaf39b0>"
      ]
     },
     "metadata": {},
     "output_type": "display_data"
    }
   ],
   "source": [
    "# plot the data and model fits\n",
    "plt.figure(figsize=(12,8))\n",
    "plt.plot(x,y, 'ok')\n",
    "plt.plot(x,model.predict(x[:,np.newaxis]), '-g', label='Least Squres')\n",
    "plt.plot(x,(res.x[2]*(x**2)) + (res.x[1]*x) + res.x[0], '--b', label='Max Likelihood')\n",
    "plt.plot(x,(c*x**2)+b*x+a,'--r',label='True line')\n",
    "plt.grid(True)\n",
    "plt.legend(loc=2)\n",
    "plt.show()\n",
    "# plt.savefig('maxLikelihoodComp.png', dpi=300, type='png')"
   ]
  },
  {
   "cell_type": "code",
   "execution_count": 31,
   "metadata": {
    "scrolled": false
   },
   "outputs": [
    {
     "name": "stdout",
     "output_type": "stream",
     "text": [
      "true value: [0.0, 3.5, 4.4]\n",
      "max likelihood: [-3.47822001  5.24373436  4.27130965]\n",
      "least square: [-3.47821169  5.24372933  4.27131014]\n"
     ]
    }
   ],
   "source": [
    "print 'true value:',trueValue\n",
    "print 'max likelihood:',res.x\n",
    "print 'least square:',coefs"
   ]
  }
 ],
 "metadata": {
  "kernelspec": {
   "display_name": "Python 2",
   "language": "python",
   "name": "python2"
  },
  "language_info": {
   "codemirror_mode": {
    "name": "ipython",
    "version": 2
   },
   "file_extension": ".py",
   "mimetype": "text/x-python",
   "name": "python",
   "nbconvert_exporter": "python",
   "pygments_lexer": "ipython2",
   "version": "2.7.12"
  },
  "toc": {
   "colors": {
    "hover_highlight": "#DAA520",
    "navigate_num": "#000000",
    "navigate_text": "#333333",
    "running_highlight": "#FF0000",
    "selected_highlight": "#FFD700",
    "sidebar_border": "#EEEEEE",
    "wrapper_background": "#FFFFFF"
   },
   "moveMenuLeft": true,
   "nav_menu": {
    "height": "12px",
    "width": "252px"
   },
   "navigate_menu": true,
   "number_sections": true,
   "sideBar": true,
   "threshold": 4,
   "toc_cell": true,
   "toc_section_display": "block",
   "toc_window_display": false,
   "widenNotebook": false
  }
 },
 "nbformat": 4,
 "nbformat_minor": 2
}
