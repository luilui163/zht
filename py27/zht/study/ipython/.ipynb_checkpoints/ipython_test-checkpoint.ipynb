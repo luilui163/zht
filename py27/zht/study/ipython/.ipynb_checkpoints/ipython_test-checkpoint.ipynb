{
 "cells": [
  {
   "cell_type": "code",
   "execution_count": 6,
   "metadata": {
    "collapsed": true
   },
   "outputs": [],
   "source": [
    "%matplotlib inline"
   ]
  },
  {
   "cell_type": "code",
   "execution_count": 7,
   "metadata": {
    "collapsed": true
   },
   "outputs": [],
   "source": [
    "import pandas as pd\n",
    "import numpy as np\n",
    "import matplotlib.pyplot as plt"
   ]
  },
  {
   "cell_type": "code",
   "execution_count": 8,
   "metadata": {
    "collapsed": false
   },
   "outputs": [
    {
     "name": "stdout",
     "output_type": "stream",
     "text": [
      "-0.269516110326\n",
      "-0.0386439735132\n"
     ]
    }
   ],
   "source": [
    "np.random.seed(123)\n",
    "normal=np.random.randn(500)\n",
    "print np.mean(normal[:10])\n",
    "print np.mean(normal)"
   ]
  },
  {
   "cell_type": "code",
   "execution_count": 9,
   "metadata": {
    "collapsed": false,
    "scrolled": true
   },
   "outputs": [
    {
     "data": {
      "text/plain": [
       "<matplotlib.text.Text at 0xc993a20>"
      ]
     },
     "execution_count": 9,
     "metadata": {},
     "output_type": "execute_result"
    },
    {
     "data": {
      "image/png": "[encoded data removed]",
      "text/plain": [
       "<matplotlib.figure.Figure at 0xc914da0>"
      ]
     },
     "metadata": {},
     "output_type": "display_data"
    }
   ],
   "source": [
    "plt.hist([normal[:10],normal[10:100],normal[100:250],normal],normed=1,histtype='bar',stacked=True)\n",
    "plt.xlabel('Value')\n",
    "plt.ylabel('Frequence')"
   ]
  },
  {
   "cell_type": "code",
   "execution_count": 10,
   "metadata": {
    "collapsed": false
   },
   "outputs": [
    {
     "name": "stdout",
     "output_type": "stream",
     "text": [
      "{\n",
      "  \"stdin_port\": 53284, \n",
      "  \"ip\": \"127.0.0.1\", \n",
      "  \"control_port\": 53285, \n",
      "  \"hb_port\": 53286, \n",
      "  \"signature_scheme\": \"hmac-sha256\", \n",
      "  \"key\": \"c05e033a-a830-48d6-8b89-fbc590c9fe28\", \n",
      "  \"shell_port\": 53282, \n",
      "  \"transport\": \"tcp\", \n",
      "  \"iopub_port\": 53283\n",
      "}\n",
      "\n",
      "Paste the above JSON into a file, and connect with:\n",
      "    $> ipython <app> --existing <file>\n",
      "or, if you are local, you can connect with just:\n",
      "    $> ipython <app> --existing kernel-694739c9-74c0-40f3-ac3f-1750071cfeb0.json \n",
      "or even just:\n",
      "    $> ipython <app> --existing \n",
      "if this is the most recent IPython session you have started.\n"
     ]
    }
   ],
   "source": [
    "%connect_info"
   ]
  },
  {
   "cell_type": "code",
   "execution_count": 11,
   "metadata": {
    "collapsed": false,
    "scrolled": true
   },
   "outputs": [
    {
     "name": "stdout",
     "output_type": "stream",
     "text": [
      " 驱动器 C 中的卷没有标签。\n",
      " 卷的序列号是 2848-F691\n",
      "\n",
      " C:\\Anaconda\\zht_ipython 的目录\n",
      "\n"
     ]
    },
    {
     "name": "stderr",
     "output_type": "stream",
     "text": [
      "找不到文件\n"
     ]
    }
   ],
   "source": [
    "ls -l"
   ]
  },
  {
   "cell_type": "code",
   "execution_count": 12,
   "metadata": {
    "collapsed": false
   },
   "outputs": [
    {
     "data": {
      "text/plain": [
       "u'C:\\\\Anaconda\\\\zht_ipython'"
      ]
     },
     "execution_count": 12,
     "metadata": {},
     "output_type": "execute_result"
    }
   ],
   "source": [
    "pwd"
   ]
  },
  {
   "cell_type": "code",
   "execution_count": 14,
   "metadata": {
    "collapsed": false,
    "scrolled": true
   },
   "outputs": [
    {
     "name": "stdout",
     "output_type": "stream",
     "text": [
      "mean: 0.10717932292\n",
      "standard deviation: 5.09321794712\n"
     ]
    },
    {
     "data": {
      "image/png": "[encoded data removed]",
      "text/plain": [
       "<matplotlib.figure.Figure at 0xdf1e0f0>"
      ]
     },
     "metadata": {},
     "output_type": "display_data"
    }
   ],
   "source": [
    "def bimodal(n):\n",
    "    X=np.zeros((n))\n",
    "    for i in range(n):\n",
    "        if np.random.binomial(1,0.5)==0:\n",
    "            X[i]=np.random.normal(-5,1)\n",
    "        else:\n",
    "            X[i]=np.random.normal(5,1)\n",
    "    return X\n",
    "X=bimodal(1000)\n",
    "\n",
    "plt.hist(X,bins=50)\n",
    "plt.ylabel('Frequence')\n",
    "plt.xlabel('Value')\n",
    "print 'mean:',np.mean(X)\n",
    "print 'standard deviation:',np.std(X)"
   ]
  },
  {
   "cell_type": "markdown",
   "metadata": {},
   "source": [
    "#long-short equity strategies"
   ]
  },
  {
   "cell_type": "code",
   "execution_count": 16,
   "metadata": {
    "collapsed": false
   },
   "outputs": [],
   "source": [
    "#long-short equity strategies\n",
    "import numpy as np\n",
    "import pandas as pd\n",
    "import matplotlib.pyplot as plt\n",
    "%matplotlib inline"
   ]
  },
  {
   "cell_type": "code",
   "execution_count": 23,
   "metadata": {
    "collapsed": false
   },
   "outputs": [
    {
     "data": {
      "text/html": [
       "<div>\n",
       "<table border=\"1\" class=\"dataframe\">\n",
       "  <thead>\n",
       "    <tr style=\"text-align: right;\">\n",
       "      <th></th>\n",
       "      <th>Factor Value</th>\n",
       "    </tr>\n",
       "  </thead>\n",
       "  <tbody>\n",
       "    <tr>\n",
       "      <th>equity0</th>\n",
       "      <td>-1.949794</td>\n",
       "    </tr>\n",
       "    <tr>\n",
       "      <th>equity1</th>\n",
       "      <td>1.749970</td>\n",
       "    </tr>\n",
       "    <tr>\n",
       "      <th>equity2</th>\n",
       "      <td>-0.598556</td>\n",
       "    </tr>\n",
       "    <tr>\n",
       "      <th>equity3</th>\n",
       "      <td>-1.214023</td>\n",
       "    </tr>\n",
       "    <tr>\n",
       "      <th>equity4</th>\n",
       "      <td>-0.045399</td>\n",
       "    </tr>\n",
       "    <tr>\n",
       "      <th>equity5</th>\n",
       "      <td>-1.062187</td>\n",
       "    </tr>\n",
       "    <tr>\n",
       "      <th>equity6</th>\n",
       "      <td>-0.627529</td>\n",
       "    </tr>\n",
       "    <tr>\n",
       "      <th>equity7</th>\n",
       "      <td>-0.470268</td>\n",
       "    </tr>\n",
       "    <tr>\n",
       "      <th>equity8</th>\n",
       "      <td>-0.089512</td>\n",
       "    </tr>\n",
       "    <tr>\n",
       "      <th>equity9</th>\n",
       "      <td>-2.077574</td>\n",
       "    </tr>\n",
       "  </tbody>\n",
       "</table>\n",
       "</div>"
      ],
      "text/plain": [
       "         Factor Value\n",
       "equity0     -1.949794\n",
       "equity1      1.749970\n",
       "equity2     -0.598556\n",
       "equity3     -1.214023\n",
       "equity4     -0.045399\n",
       "equity5     -1.062187\n",
       "equity6     -0.627529\n",
       "equity7     -0.470268\n",
       "equity8     -0.089512\n",
       "equity9     -2.077574"
      ]
     },
     "execution_count": 23,
     "metadata": {},
     "output_type": "execute_result"
    }
   ],
   "source": [
    "current_factor_values=np.random.normal(0,1,10000)\n",
    "equity_names=['equity'+str(i) for i in range(10000)]\n",
    "factor_data=pd.Series(current_factor_values,index=equity_names)\n",
    "factor_data=pd.DataFrame(factor_data,columns=['Factor Value'])\n",
    "factor_data.head(10)"
   ]
  },
  {
   "cell_type": "code",
   "execution_count": 24,
   "metadata": {
    "collapsed": false
   },
   "outputs": [
    {
     "data": {
      "text/html": [
       "<div>\n",
       "<table border=\"1\" class=\"dataframe\">\n",
       "  <thead>\n",
       "    <tr style=\"text-align: right;\">\n",
       "      <th></th>\n",
       "      <th>Returns</th>\n",
       "      <th>Factor Value</th>\n",
       "    </tr>\n",
       "  </thead>\n",
       "  <tbody>\n",
       "    <tr>\n",
       "      <th>equity0</th>\n",
       "      <td>-0.892124</td>\n",
       "      <td>-1.949794</td>\n",
       "    </tr>\n",
       "    <tr>\n",
       "      <th>equity1</th>\n",
       "      <td>0.564892</td>\n",
       "      <td>1.749970</td>\n",
       "    </tr>\n",
       "    <tr>\n",
       "      <th>equity2</th>\n",
       "      <td>-0.479329</td>\n",
       "      <td>-0.598556</td>\n",
       "    </tr>\n",
       "    <tr>\n",
       "      <th>equity3</th>\n",
       "      <td>-3.640656</td>\n",
       "      <td>-1.214023</td>\n",
       "    </tr>\n",
       "    <tr>\n",
       "      <th>equity4</th>\n",
       "      <td>-0.872196</td>\n",
       "      <td>-0.045399</td>\n",
       "    </tr>\n",
       "    <tr>\n",
       "      <th>equity5</th>\n",
       "      <td>-2.005785</td>\n",
       "      <td>-1.062187</td>\n",
       "    </tr>\n",
       "    <tr>\n",
       "      <th>equity6</th>\n",
       "      <td>-2.013432</td>\n",
       "      <td>-0.627529</td>\n",
       "    </tr>\n",
       "    <tr>\n",
       "      <th>equity7</th>\n",
       "      <td>0.130352</td>\n",
       "      <td>-0.470268</td>\n",
       "    </tr>\n",
       "    <tr>\n",
       "      <th>equity8</th>\n",
       "      <td>1.183757</td>\n",
       "      <td>-0.089512</td>\n",
       "    </tr>\n",
       "    <tr>\n",
       "      <th>equity9</th>\n",
       "      <td>-1.906133</td>\n",
       "      <td>-2.077574</td>\n",
       "    </tr>\n",
       "  </tbody>\n",
       "</table>\n",
       "</div>"
      ],
      "text/plain": [
       "          Returns  Factor Value\n",
       "equity0 -0.892124     -1.949794\n",
       "equity1  0.564892      1.749970\n",
       "equity2 -0.479329     -0.598556\n",
       "equity3 -3.640656     -1.214023\n",
       "equity4 -0.872196     -0.045399\n",
       "equity5 -2.005785     -1.062187\n",
       "equity6 -2.013432     -0.627529\n",
       "equity7  0.130352     -0.470268\n",
       "equity8  1.183757     -0.089512\n",
       "equity9 -1.906133     -2.077574"
      ]
     },
     "execution_count": 24,
     "metadata": {},
     "output_type": "execute_result"
    }
   ],
   "source": [
    "future_returns=current_factor_values+np.random.normal(0,1,10000)\n",
    "return_data=pd.Series(future_returns,index=equity_names)\n",
    "return_data=pd.DataFrame(return_data,columns=['Returns'])\n",
    "data=return_data.join(factor_data)\n",
    "data.head(10)"
   ]
  },
  {
   "cell_type": "code",
   "execution_count": 25,
   "metadata": {
    "collapsed": false
   },
   "outputs": [
    {
     "data": {
      "text/plain": [
       "<matplotlib.legend.Legend at 0xe542a58>"
      ]
     },
     "execution_count": 25,
     "metadata": {},
     "output_type": "execute_result"
    },
    {
     "data": {
      "image/png": "[encoded data removed]",
      "text/plain": [
       "<matplotlib.figure.Figure at 0xe2b5f28>"
      ]
     },
     "metadata": {},
     "output_type": "display_data"
    }
   ],
   "source": [
    "ranked_data=data.sort('Factor Value')\n",
    "number_of_baskets=10000/500\n",
    "basket_returns=np.zeros(number_of_baskets)\n",
    "for i in range(number_of_baskets):\n",
    "    start=i*500\n",
    "    end=i*500+500\n",
    "    basket_returns[i]=ranked_data[start:end]['Returns'].mean()\n",
    "plt.bar(range(number_of_baskets),basket_returns)\n",
    "plt.ylabel('Returns')\n",
    "plt.xlabel('Basket')\n",
    "plt.legend(['Returns of each basket'])"
   ]
  },
  {
   "cell_type": "code",
   "execution_count": 28,
   "metadata": {
    "collapsed": false
   },
   "outputs": [
    {
     "data": {
      "text/plain": [
       "4.0503251094772628"
      ]
     },
     "execution_count": 28,
     "metadata": {},
     "output_type": "execute_result"
    }
   ],
   "source": [
    "basket_returns[-1]-basket_returns[0]"
   ]
  },
  {
   "cell_type": "markdown",
   "metadata": {},
   "source": [
    "# researching a pairs trading strategy"
   ]
  },
  {
   "cell_type": "code",
   "execution_count": 29,
   "metadata": {
    "collapsed": true
   },
   "outputs": [],
   "source": [
    "import numpy as np\n",
    "import pandas as pd\n",
    "import statsmodels\n",
    "from statsmodels.tsa.stattools import coint\n",
    "np.random.seed(103)\n",
    "import matplotlib.pyplot as plt\n",
    "%matplotlib inline"
   ]
  },
  {
   "cell_type": "code",
   "execution_count": 32,
   "metadata": {
    "collapsed": false
   },
   "outputs": [
    {
     "data": {
      "text/plain": [
       "<matplotlib.axes._subplots.AxesSubplot at 0xf6a76d8>"
      ]
     },
     "execution_count": 32,
     "metadata": {},
     "output_type": "execute_result"
    },
    {
     "data": {
      "image/png": "[encoded data removed]",
      "text/plain": [
       "<matplotlib.figure.Figure at 0xf6b2940>"
      ]
     },
     "metadata": {},
     "output_type": "display_data"
    }
   ],
   "source": [
    "X_returns=np.random.normal(0,1,100)\n",
    "X=pd.Series(np.cumsum(X_returns),name='X')+50\n",
    "X.plot()"
   ]
  },
  {
   "cell_type": "code",
   "execution_count": 33,
   "metadata": {
    "collapsed": false
   },
   "outputs": [
    {
     "data": {
      "text/plain": [
       "<matplotlib.axes._subplots.AxesSubplot at 0xf7bb780>"
      ]
     },
     "execution_count": 33,
     "metadata": {},
     "output_type": "execute_result"
    },
    {
     "data": {
      "image/png": "[encoded data removed]",
      "text/plain": [
       "<matplotlib.figure.Figure at 0xf8fac18>"
      ]
     },
     "metadata": {},
     "output_type": "display_data"
    }
   ],
   "source": [
    "some_noise=np.random.normal(0,1,100)\n",
    "Y=X+5+some_noise\n",
    "pd.concat([X,Y],axis=1).plot()"
   ]
  },
  {
   "cell_type": "raw",
   "metadata": {},
   "source": [
    "now we generate Y.Remember that Y is supposed to have a deep economic link to X"
   ]
  },
  {
   "cell_type": "code",
   "execution_count": 36,
   "metadata": {
    "collapsed": false
   },
   "outputs": [
    {
     "data": {
      "text/plain": [
       "<matplotlib.legend.Legend at 0x1b3946a0>"
      ]
     },
     "execution_count": 36,
     "metadata": {},
     "output_type": "execute_result"
    },
    {
     "data": {
      "image/png": "[encoded data removed]",
      "text/plain": [
       "<matplotlib.figure.Figure at 0x1afce978>"
      ]
     },
     "metadata": {},
     "output_type": "display_data"
    }
   ],
   "source": [
    "(Y/X).plot()\n",
    "plt.axhline((Y/X).mean(),color='red',linestyle='--')\n",
    "plt.xlabel('Time')\n",
    "plt.legend(['Price Ratio','Mean'])"
   ]
  },
  {
   "cell_type": "markdown",
   "metadata": {},
   "source": [
    "   ##test for Cointegration\n",
    "that's an intuitive definition,but how do we test fo rthis statistically?"
   ]
  },
  {
   "cell_type": "code",
   "execution_count": 38,
   "metadata": {
    "collapsed": false
   },
   "outputs": [
    {
     "name": "stdout",
     "output_type": "stream",
     "text": [
      "1.51603646405e-13\n"
     ]
    }
   ],
   "source": [
    "score,pvalue,_=coint(X,Y)\n",
    "print pvalue"
   ]
  },
  {
   "cell_type": "code",
   "execution_count": 39,
   "metadata": {
    "collapsed": false
   },
   "outputs": [
    {
     "data": {
      "text/plain": [
       "0.93523143041283519"
      ]
     },
     "execution_count": 39,
     "metadata": {},
     "output_type": "execute_result"
    }
   ],
   "source": [
    "X.corr(Y)"
   ]
  },
  {
   "cell_type": "markdown",
   "metadata": {},
   "source": [
    "###corrlation without cointegration"
   ]
  },
  {
   "cell_type": "code",
   "execution_count": 45,
   "metadata": {
    "collapsed": false,
    "scrolled": true
   },
   "outputs": [
    {
     "data": {
      "text/plain": [
       "<matplotlib.axes._subplots.AxesSubplot at 0x1b456320>"
      ]
     },
     "execution_count": 45,
     "metadata": {},
     "output_type": "execute_result"
    },
    {
     "data": {
      "image/png": "[encoded data removed]",
      "text/plain": [
       "<matplotlib.figure.Figure at 0x1b461390>"
      ]
     },
     "metadata": {},
     "output_type": "display_data"
    }
   ],
   "source": [
    "X_returns=np.random.normal(1,1,100)\n",
    "Y_returns=np.random.normal(2,1,100)\n",
    "\n",
    "\n",
    "X_diverging=pd.DataFrame(np.cumsum(X_returns),columns=['X'])\n",
    "Y_diverging=pd.DataFrame(np.cumsum(Y_returns),columns=['Y'])\n",
    "\n",
    "pd.concat([X_diverging,Y_diverging],axis=1).plot()"
   ]
  },
  {
   "cell_type": "code",
   "execution_count": 46,
   "metadata": {
    "collapsed": false
   },
   "outputs": [
    {
     "data": {
      "text/plain": [
       "(0, 40)"
      ]
     },
     "execution_count": 46,
     "metadata": {},
     "output_type": "execute_result"
    },
    {
     "data": {
      "image/png": "[encoded data removed]",
      "text/plain": [
       "<matplotlib.figure.Figure at 0x1b0529e8>"
      ]
     },
     "metadata": {},
     "output_type": "display_data"
    }
   ],
   "source": [
    "Y2=pd.Series(np.random.normal(0,1,1000),name='Y2')+20\n",
    "Y3=Y2.copy()\n",
    "Y3[0:100]=30\n",
    "Y3[100:200]=10\n",
    "Y3[200:300]=30\n",
    "Y3[300:400]=10\n",
    "Y3[400:500]=30\n",
    "Y3[500:600]=10\n",
    "Y3[600:700]=30\n",
    "Y3[700:800]=10\n",
    "Y3[800:900]=30\n",
    "Y3[900:1000]=10\n",
    "Y2.plot()\n",
    "Y3.plot()\n",
    "plt.ylim([0,40])"
   ]
  },
  {
   "cell_type": "code",
   "execution_count": 51,
   "metadata": {
    "collapsed": false
   },
   "outputs": [
    {
     "name": "stdout",
     "output_type": "stream",
     "text": [
      "correlation:0.00822593077587\n",
      "cointegration test p-values: 0.0\n"
     ]
    }
   ],
   "source": [
    "#correlation is nearly zero\n",
    "print 'correlation:'+str(Y2.corr(Y3))\n",
    "score,pvalue,_=coint(Y2,Y3)\n",
    "print 'cointegration test p-values:',pvalue"
   ]
  },
  {
   "cell_type": "markdown",
   "metadata": {},
   "source": [
    "##regression analysis"
   ]
  },
  {
   "cell_type": "code",
   "execution_count": 53,
   "metadata": {
    "collapsed": false
   },
   "outputs": [],
   "source": [
    "import numpy as np\n",
    "from statsmodels import regression,stats\n",
    "import statsmodels.api as sm\n",
    "import matplotlib.pyplot as plt\n",
    "import scipy as sp\n",
    "\n",
    "def linreg(X,Y):\n",
    "    x=sm.add_constant(X)\n",
    "    model=regression.linear_model.OLS(Y,x).fit()\n",
    "    return model.params[0],model.params[1]"
   ]
  },
  {
   "cell_type": "code",
   "execution_count": 54,
   "metadata": {
    "collapsed": false
   },
   "outputs": [
    {
     "name": "stdout",
     "output_type": "stream",
     "text": [
      "slope: -0.00415778487203 intercept: 0.264217742312\n"
     ]
    }
   ],
   "source": [
    "np.random.seed(13)\n",
    "rand=np.random.randn(100)\n",
    "xs=np.arange(100)\n",
    "a,b=linreg(xs,rand)\n",
    "print 'slope:',b,'intercept:',a"
   ]
  },
  {
   "cell_type": "code",
   "execution_count": 57,
   "metadata": {
    "collapsed": false
   },
   "outputs": [
    {
     "data": {
      "text/plain": [
       "[<matplotlib.lines.Line2D at 0x1f18ac50>]"
      ]
     },
     "execution_count": 57,
     "metadata": {},
     "output_type": "execute_result"
    },
    {
     "data": {
      "image/png": "[encoded data removed]",
      "text/plain": [
       "<matplotlib.figure.Figure at 0x1f158f60>"
      ]
     },
     "metadata": {},
     "output_type": "display_data"
    }
   ],
   "source": [
    "plt.scatter(xs,rand,alpha=0.7)\n",
    "Y_hat=a+xs*b\n",
    "plt.plot(xs,Y_hat,'r',alpha=0.9)"
   ]
  },
  {
   "cell_type": "code",
   "execution_count": 59,
   "metadata": {
    "collapsed": false
   },
   "outputs": [
    {
     "name": "stderr",
     "output_type": "stream",
     "text": [
      ":0: FutureWarning: IPython widgets are experimental and may change in the future.\n"
     ]
    },
    {
     "data": {
      "text/plain": [
       "<matplotlib.axes._subplots.AxesSubplot at 0x1f5e3f98>"
      ]
     },
     "execution_count": 59,
     "metadata": {},
     "output_type": "execute_result"
    },
    {
     "data": {
      "image/png": "[encoded data removed]",
      "text/plain": [
       "<matplotlib.figure.Figure at 0xed07208>"
      ]
     },
     "metadata": {},
     "output_type": "display_data"
    }
   ],
   "source": [
    "import seaborn\n",
    "seaborn.regplot(xs,rand)"
   ]
  },
  {
   "cell_type": "code",
   "execution_count": null,
   "metadata": {
    "collapsed": true
   },
   "outputs": [],
   "source": []
  }
 ],
 "metadata": {
  "kernelspec": {
   "display_name": "Python 2",
   "language": "python",
   "name": "python2"
  },
  "language_info": {
   "codemirror_mode": {
    "name": "ipython",
    "version": 2
   },
   "file_extension": ".py",
   "mimetype": "text/x-python",
   "name": "python",
   "nbconvert_exporter": "python",
   "pygments_lexer": "ipython2",
   "version": "2.7.10"
  }
 },
 "nbformat": 4,
 "nbformat_minor": 0
}
