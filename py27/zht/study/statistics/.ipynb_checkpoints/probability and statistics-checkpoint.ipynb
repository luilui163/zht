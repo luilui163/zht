{
 "cells": [
  {
   "cell_type": "markdown",
   "metadata": {},
   "source": [
    "statistics describe a sample while a parameter describes an entire population.  \n",
    "**Expectation**  \n",
    "\n",
    "\n",
    "**recall:**we minimize $E[(y-\\mu)^2]$ by setting $\\mu=E(y)$.  \n",
    "**similarly:**We minimize $E|y-\\mu|$ by setting $\\mu=median(y)$  \n",
    "**Regression:**We minimize $E[(y-\\mu(x))^2|x]$ by setting $\\mu(x)=E(y|x)$\n",
    " * Typically,we then further assume $E(y|x)=x\\beta$  \n",
    "\n",
    "**Median regression:** minimize $E(|y-\\mu(x)|x)$ by setting $\\mu(x)=Median(y|x)$.  \n",
    " * Similarly,we might assume $Median(y|x)=x\\beta$  \n",
    " \n",
    " \n",
    " "
   ]
  },
  {
   "cell_type": "code",
   "execution_count": null,
   "metadata": {
    "collapsed": true
   },
   "outputs": [],
   "source": []
  }
 ],
 "metadata": {
  "kernelspec": {
   "display_name": "Python 2",
   "language": "python",
   "name": "python2"
  },
  "language_info": {
   "codemirror_mode": {
    "name": "ipython",
    "version": 2
   },
   "file_extension": ".py",
   "mimetype": "text/x-python",
   "name": "python",
   "nbconvert_exporter": "python",
   "pygments_lexer": "ipython2",
   "version": "2.7.12"
  }
 },
 "nbformat": 4,
 "nbformat_minor": 2
}
