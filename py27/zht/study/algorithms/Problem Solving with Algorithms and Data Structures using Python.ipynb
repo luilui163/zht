{
 "cells": [
  {
   "cell_type": "markdown",
   "metadata": {},
   "source": [
    "# Basic Data Structures"
   ]
  },
  {
   "cell_type": "markdown",
   "metadata": {},
   "source": [
    "## Stack\n",
    "last in first out(LIFO)\n",
    "### Implementing a Stack in Python"
   ]
  },
  {
   "cell_type": "code",
   "execution_count": 1,
   "metadata": {
    "collapsed": true
   },
   "outputs": [],
   "source": [
    "class Stack:\n",
    "    def __init__(self):\n",
    "        self.items=[]\n",
    "    \n",
    "    def isEmpty(self):\n",
    "        return self.items==[]\n",
    "    \n",
    "    def push(self,item):\n",
    "        self.items.append(item)\n",
    "    \n",
    "    def pop(self):\n",
    "        return self.items.pop()\n",
    "    \n",
    "    def peek(self):\n",
    "        return self.items[-1]\n",
    "    \n",
    "    def size(self):\n",
    "        return len(self.items)    "
   ]
  },
  {
   "cell_type": "code",
   "execution_count": 2,
   "metadata": {},
   "outputs": [
    {
     "name": "stdout",
     "output_type": "stream",
     "text": [
      "True\n",
      "4\n",
      "1\n",
      "4\n"
     ]
    }
   ],
   "source": [
    "s=Stack()\n",
    "print (s.isEmpty())\n",
    "s.push(4)\n",
    "print (s.peek())\n",
    "print (s.size())\n",
    "print (s.pop())"
   ]
  },
  {
   "cell_type": "markdown",
   "metadata": {
    "collapsed": true
   },
   "source": [
    "## Queue\n",
    "### Implementing a Queue in Python\n",
    "FIFO(first in first out)"
   ]
  },
  {
   "cell_type": "code",
   "execution_count": 3,
   "metadata": {
    "collapsed": true
   },
   "outputs": [],
   "source": [
    "class Queue:\n",
    "    def __init__(self):\n",
    "        self.items=[]\n",
    "    \n",
    "    def isEmpty(self):\n",
    "        return self.items==[]\n",
    "    \n",
    "    def enqueue(self,item):\n",
    "        self.items.insert(0,item)\n",
    "    \n",
    "    def dequeue(self):\n",
    "        return self.items.pop()\n",
    "    \n",
    "    def size(self):\n",
    "        return len(self.items)"
   ]
  },
  {
   "cell_type": "markdown",
   "metadata": {},
   "source": [
    "### Simulation:Printing Tasks"
   ]
  },
  {
   "cell_type": "code",
   "execution_count": 4,
   "metadata": {},
   "outputs": [
    {
     "name": "stdout",
     "output_type": "stream",
     "text": [
      "Average Wait 117.45 secs   0 tasks remaining.\n",
      "Average Wait 128.67 secs   1 tasks remaining.\n",
      "Average Wait 135.56 secs   0 tasks remaining.\n",
      "Average Wait 569.45 secs   1 tasks remaining.\n",
      "Average Wait 215.48 secs   0 tasks remaining.\n",
      "Average Wait 153.82 secs   2 tasks remaining.\n",
      "Average Wait  96.67 secs   0 tasks remaining.\n",
      "Average Wait 168.78 secs   0 tasks remaining.\n",
      "Average Wait 220.79 secs   3 tasks remaining.\n",
      "Average Wait 294.83 secs   0 tasks remaining.\n"
     ]
    }
   ],
   "source": [
    "class Printer:\n",
    "    def __init__(self,ppm):\n",
    "        self.pagerate=ppm\n",
    "        self.currentTask=None\n",
    "        self.timeRemaining=0\n",
    "    \n",
    "    def tick(self):\n",
    "        if self.currentTask!=None:\n",
    "            self.timeRemaining-=1\n",
    "            if self.timeRemaining<=0:\n",
    "                self.currentTask=None\n",
    "    \n",
    "    def busy(self):\n",
    "        if self.currentTask!=None:\n",
    "            return True\n",
    "        else:\n",
    "            return False\n",
    "    \n",
    "    def startNext(self,newtask):\n",
    "        self.currentTask=newtask\n",
    "        self.timeRemaining=newtask.getPages()*60/self.pagerate\n",
    "\n",
    "import random\n",
    "\n",
    "class Task:\n",
    "    def __init__(self,time):\n",
    "        self.timestamp=time\n",
    "        self.pages=random.randrange(1,21)\n",
    "    \n",
    "    def getStamp(self):\n",
    "        return self.timestamp\n",
    "    \n",
    "    def getPages(self):\n",
    "        return self.pages\n",
    "    \n",
    "    def waitTime(self,currenttime):\n",
    "        return currenttime-self.timestamp\n",
    "\n",
    "\n",
    "def simulation(numSeconds,pagesPerMinute):\n",
    "    labprinter=Printer(pagesPerMinute)\n",
    "    printQueue=Queue()\n",
    "    waitingtimes=[]\n",
    "    \n",
    "    for currentSecond in range(numSeconds):\n",
    "        if newPrintTask():\n",
    "            task=Task(currentSecond)\n",
    "            printQueue.enqueue(task)\n",
    "            \n",
    "        if (not labprinter.busy()) and (not printQueue.isEmpty()):\n",
    "            nexttask=printQueue.dequeue()\n",
    "            waitingtimes.append(nexttask.waitTime(currentSecond))\n",
    "            labprinter.startNext(nexttask)\n",
    "        \n",
    "        labprinter.tick()\n",
    "    \n",
    "    averageWait=sum(waitingtimes)/len(waitingtimes)\n",
    "    print ('Average Wait %6.2f secs %3d tasks remaining.'%(averageWait,printQueue.size()))\n",
    "\n",
    "def newPrintTask():\n",
    "    num=random.randrange(1,181)\n",
    "    if num==180:\n",
    "        return True\n",
    "    else:\n",
    "        return False\n",
    "    \n",
    "for i in range(10):\n",
    "    simulation(36000,5)\n"
   ]
  },
  {
   "cell_type": "markdown",
   "metadata": {},
   "source": [
    "## Deque\n",
    "A deque,also known as a double-ended queue,is an ordered collection of items similar to the queue.It has two ends,a front and a rear,and the items remain positioned in the collection.What makes a deque different is the unrestrictive nature of adding and removing items.New items can be added at either the front or the rear.\n",
    "### Implementing a Deque in Python"
   ]
  },
  {
   "cell_type": "code",
   "execution_count": 5,
   "metadata": {
    "collapsed": true
   },
   "outputs": [],
   "source": [
    "class Deque:\n",
    "    def __init__(self):\n",
    "        self.items=[]\n",
    "        \n",
    "    def isEmpty(self):\n",
    "        return self.items==[]\n",
    "    \n",
    "    def addFront(self,item):\n",
    "        self.items.append(item)\n",
    "    \n",
    "    def addRear(self,item):\n",
    "        self.items.insert(0,item)\n",
    "    \n",
    "    def removeFront(self):\n",
    "        return self.items.pop()\n",
    "    \n",
    "    def removeRear(self):\n",
    "        return self.items.pop(0)\n",
    "    \n",
    "    def size(self):\n",
    "        return len(self.items)"
   ]
  },
  {
   "cell_type": "markdown",
   "metadata": {},
   "source": [
    "### Palindrome-Checker"
   ]
  },
  {
   "cell_type": "code",
   "execution_count": 6,
   "metadata": {},
   "outputs": [
    {
     "name": "stdout",
     "output_type": "stream",
     "text": [
      "False\n",
      "True\n"
     ]
    }
   ],
   "source": [
    "def palchecker(aStr):\n",
    "    chardeque=Deque()\n",
    "    for ch in aStr:\n",
    "        chardeque.addRear(ch)\n",
    "    \n",
    "    stillEqual=True\n",
    "    \n",
    "    while chardeque.size()>1 and stillEqual:\n",
    "        first=chardeque.removeFront()\n",
    "        last=chardeque.removeRear()\n",
    "        if first!=last:\n",
    "            stillEqual=False\n",
    "    \n",
    "    return stillEqual\n",
    "\n",
    "print (palchecker('lsdkjfskf'))\n",
    "print (palchecker('radar'))"
   ]
  },
  {
   "cell_type": "markdown",
   "metadata": {},
   "source": [
    "## The unordered list\n",
    "The structure of an unordered list,is a collection of items where each item holds a relative position with respect to the others."
   ]
  },
  {
   "cell_type": "code",
   "execution_count": 7,
   "metadata": {
    "collapsed": true
   },
   "outputs": [],
   "source": [
    "class Node:\n",
    "    def __init__(self,initdata):\n",
    "        self.data=initdata\n",
    "        self.next=None\n",
    "    \n",
    "    def getData(self):\n",
    "        return self.data\n",
    "    \n",
    "    def getNext(self):\n",
    "        return self.next\n",
    "    \n",
    "    def setData(self,newdata):\n",
    "        self.data=newdata\n",
    "    \n",
    "    def setNext(self,newnext):\n",
    "        self.next=newnext\n",
    "\n",
    "class UnorderedList:\n",
    "    def __init__(self):\n",
    "        self.head=None\n",
    "    \n",
    "    def isEmpty(self):\n",
    "        return self.head==None\n",
    "    \n",
    "    def add(self,item):\n",
    "        tmp=Node(item)\n",
    "        tmp.setNext(self.head)\n",
    "        self.head=tmp\n",
    "    \n",
    "    def size(self):\n",
    "        current=self.head\n",
    "        count=0\n",
    "        while current!=None:\n",
    "            count+=1\n",
    "            current=current.getNext()\n",
    "        return count\n",
    "    \n",
    "    def search(self,item):\n",
    "        current=self.head\n",
    "        found=False\n",
    "        while current!=None and not found:\n",
    "            if current.getData()==item:\n",
    "                found=True\n",
    "            else:\n",
    "                current=current.getNext()\n",
    "        return found\n",
    "    \n",
    "    def remove(self,item):\n",
    "        current=self.head\n",
    "        previou=None\n",
    "        found=False\n",
    "        while not found:\n",
    "            if current.getData()==item:\n",
    "                found=True\n",
    "            else:\n",
    "                previous=current\n",
    "                current=current.getNext()\n",
    "        if previous==None:\n",
    "            self.head=current.getNext()\n",
    "        else:\n",
    "            previous.setNext(current,current.getNext())"
   ]
  },
  {
   "cell_type": "markdown",
   "metadata": {},
   "source": [
    "## Ordered List\n",
    "The structure of an ordered list is a collection of items where each item holds a relative position that is based upon some underlying characteristic of the item."
   ]
  },
  {
   "cell_type": "code",
   "execution_count": 8,
   "metadata": {
    "collapsed": true
   },
   "outputs": [],
   "source": [
    "class OrdererList:\n",
    "    def __init__(self):\n",
    "        self.head=None\n",
    "    \n",
    "    def isEmpty(self):\n",
    "        return self.head==None\n",
    "    \n",
    "    def size(self):\n",
    "        current=self.head\n",
    "        count=0\n",
    "        while current!=None:\n",
    "            count+=1\n",
    "            current=current.getNext()\n",
    "        return count\n",
    "    \n",
    "    def search(self,item):\n",
    "        current=self.head\n",
    "        found=False\n",
    "        stop=False\n",
    "        while current!=None and not found and not stop:\n",
    "            if current.getData()==item:\n",
    "                found=True\n",
    "            else:\n",
    "                if current.getData()>item:\n",
    "                    stop=True\n",
    "                else:\n",
    "                    current=current.getNext()\n",
    "        return found\n",
    "    \n",
    "    def add(self,item):\n",
    "        current=self.head\n",
    "        previous=None\n",
    "        stop=False\n",
    "        while current!=None and not stop:\n",
    "            if current.getData()>item:\n",
    "                stop=True\n",
    "            else:\n",
    "                previous=current\n",
    "                current=current.getNext()\n",
    "        \n",
    "        tmp=Node(item)\n",
    "        if previous==None:\n",
    "            tmp.setNext(self.head)\n",
    "            self.head=tmp\n",
    "        else:\n",
    "            tmp.setNext(current)\n",
    "            previous.setNext(tmp)\n"
   ]
  },
  {
   "cell_type": "markdown",
   "metadata": {},
   "source": [
    "# Recursion\n",
    "Recursion is a method of solving problems that involves breaking a problem down into smaller and smaller subproblems until you get to a small enough problem that it can be solved trivially.  \n",
    "\n",
    "Recursion is not always the answer.Sometimes a recursive solution may be more computationally expensive than an alternative algorithm."
   ]
  },
  {
   "cell_type": "code",
   "execution_count": 9,
   "metadata": {
    "collapsed": true
   },
   "outputs": [],
   "source": [
    "def listsum(numList):\n",
    "    if len(numList)==1:\n",
    "        return numList[0]\n",
    "    else:\n",
    "        return numList[0]+listsum(numList[1:])\n"
   ]
  },
  {
   "cell_type": "markdown",
   "metadata": {},
   "source": [
    "Like the robots of Asimov,all recursive algorithms must obey three important laws:   \n",
    "1. A recursive algorithm must have a base case.  \n",
    "2. A recursive algorithm must change its state and move toward the base case.  \n",
    "3. A recursive algorithm must call itself,recursively.  \n",
    "\n",
    "First,a base case is the condition that allows the algorithm to stop recursing.A base case is typically a problem that is small enough to solve directly.In the `listsum` algorithm the base case is a list of length 1.  \n",
    "\n",
    "To obey the second law,we must arrange for a change of state that moves the algorithm toward the base case.A change of state means that some data that the algorithm is using is modified.Usually the data that represents our problem gets smaller in some way.In the `listsum` algorithm our primary data structure is a lsit,so we focus on state-changing efforts on the list.Since the base case is a list of length 1,a natural progression toward the base case is to shorten the list.This is exactly what happens on line 5 of the function `listsum` when we call `listsum` with a shorter list.  \n"
   ]
  },
  {
   "cell_type": "markdown",
   "metadata": {},
   "source": [
    "## Converting an Integer to a String in Any Base"
   ]
  },
  {
   "cell_type": "code",
   "execution_count": 10,
   "metadata": {},
   "outputs": [
    {
     "name": "stdout",
     "output_type": "stream",
     "text": [
      "5AD\n"
     ]
    }
   ],
   "source": [
    "def toStr(n,base):\n",
    "    convertingString='0123456789ABCDEF'\n",
    "    if n<base:\n",
    "        return convertingString[n]\n",
    "    else:\n",
    "        return toStr(n//base,base)+convertingString[n%base]\n",
    "\n",
    "print (toStr(1453,16))"
   ]
  },
  {
   "cell_type": "code",
   "execution_count": 11,
   "metadata": {
    "collapsed": true
   },
   "outputs": [],
   "source": [
    "import turtle\n",
    "\n",
    "myTurtle=turtle.Turtle()\n",
    "myWin=turtle.Screen()\n",
    "\n",
    "def drawSpiral(myTurtle,lineLen):\n",
    "    if lineLen>0:\n",
    "        myTurtle.forward(lineLen)\n",
    "        myTurtle.right(90)\n",
    "        drawSpiral(myTurtle,lineLen-5)\n",
    "\n",
    "drawSpiral(myTurtle,100)\n",
    "myWin.exitonclick()        "
   ]
  },
  {
   "cell_type": "markdown",
   "metadata": {},
   "source": [
    "## Fractal tree"
   ]
  },
  {
   "cell_type": "code",
   "execution_count": 13,
   "metadata": {
    "collapsed": true
   },
   "outputs": [],
   "source": [
    "import turtle\n",
    "\n",
    "def tree(branchLen,t):\n",
    "    if branchLen > 5:\n",
    "        t.forward(branchLen)\n",
    "        t.right(20)\n",
    "        tree(branchLen-15,t)\n",
    "        t.left(40)\n",
    "        tree(branchLen-15,t)\n",
    "        t.right(20)\n",
    "        t.backward(branchLen)\n",
    "\n",
    "def main():\n",
    "    t = turtle.Turtle()\n",
    "    myWin = turtle.Screen()\n",
    "    t.left(90)\n",
    "    t.up()\n",
    "    t.backward(100)\n",
    "    t.down()\n",
    "    t.color(\"green\")\n",
    "    tree(75,t)\n",
    "    myWin.exitonclick()\n",
    "\n",
    "main()"
   ]
  },
  {
   "cell_type": "markdown",
   "metadata": {},
   "source": [
    "## Sierpinski Triangle"
   ]
  },
  {
   "cell_type": "code",
   "execution_count": 21,
   "metadata": {
    "collapsed": true
   },
   "outputs": [],
   "source": [
    "import turtle\n",
    "\n",
    "def drawTriangle(points,color,myTurtle):\n",
    "    myTurtle.fillcolor(color)\n",
    "    myTurtle.up()\n",
    "    myTurtle.goto(points[0][0],points[0][1])\n",
    "    myTurtle.down()\n",
    "    myTurtle.begin_fill()\n",
    "    myTurtle.goto(points[1][0],points[1][1])\n",
    "    myTurtle.goto(points[2][0],points[2][1])\n",
    "    myTurtle.goto(points[0][0],points[0][1])\n",
    "    myTurtle.end_fill()\n",
    "\n",
    "def getMid(p1,p2):\n",
    "    return ( (p1[0]+p2[0]) / 2, (p1[1] + p2[1]) / 2)\n",
    "\n",
    "def sierpinski(points,degree,myTurtle):\n",
    "    colormap = ['blue','red','green','white','yellow',\n",
    "                'violet','orange']\n",
    "    drawTriangle(points,colormap[degree],myTurtle)\n",
    "    if degree > 0:\n",
    "        sierpinski([points[0],\n",
    "                        getMid(points[0], points[1]),\n",
    "                        getMid(points[0], points[2])],\n",
    "                   degree-1, myTurtle)\n",
    "        sierpinski([points[1],\n",
    "                        getMid(points[0], points[1]),\n",
    "                        getMid(points[1], points[2])],\n",
    "                   degree-1, myTurtle)\n",
    "        sierpinski([points[2],\n",
    "                        getMid(points[2], points[1]),\n",
    "                        getMid(points[0], points[2])],\n",
    "                   degree-1, myTurtle)\n",
    "\n",
    "def main():\n",
    "   myTurtle = turtle.Turtle()\n",
    "   myWin = turtle.Screen()\n",
    "   myPoints = [[-100,-50],[0,100],[100,-50]]\n",
    "   sierpinski(myPoints,3,myTurtle)\n",
    "   myWin.exitonclick()\n",
    "\n",
    "main()\n"
   ]
  },
  {
   "cell_type": "markdown",
   "metadata": {},
   "source": [
    "Since we can continue to apply the algorithm indefinitely,what is the base case?We will see that the base case is set arbitrary as the number of times we want to divide the triangle into pieces.Sometimes we call this number the 'degree' of the fractal.Each time we make a recursive call,we subtract 1 from the degree until we reach 0.When we reach a degree of 0,we stop making recursive calls.  \n",
    "\n",
    "The first thing `sierpinski` does is draw the outer triangle.Next,there are three recursive calls,one for each of the new corner triangles we get when we connect the midpoints."
   ]
  },
  {
   "cell_type": "markdown",
   "metadata": {},
   "source": [
    "## Hanoi Tower"
   ]
  },
  {
   "cell_type": "code",
   "execution_count": 22,
   "metadata": {},
   "outputs": [
    {
     "name": "stdout",
     "output_type": "stream",
     "text": [
      "moving disk from A to B\n",
      "moving disk from A to C\n",
      "moving disk from B to C\n",
      "moving disk from A to B\n",
      "moving disk from C to A\n",
      "moving disk from C to B\n",
      "moving disk from A to B\n"
     ]
    }
   ],
   "source": [
    "def moveTower(height,fromPole, toPole, withPole):\n",
    "    if heigaht >= 1:\n",
    "        moveTower(height-1,fromPole,withPole,toPole)\n",
    "        moveDisk(fromPole,toPole)\n",
    "        moveTower(height-1,withPole,toPole,fromPole)\n",
    "\n",
    "def moveDisk(fp,tp):\n",
    "    print(\"moving disk from\",fp,\"to\",tp)\n",
    "\n",
    "moveTower(3,\"A\",\"B\",\"C\")\n"
   ]
  },
  {
   "cell_type": "markdown",
   "metadata": {},
   "source": [
    "## Vending Machine"
   ]
  },
  {
   "cell_type": "code",
   "execution_count": 27,
   "metadata": {
    "collapsed": true
   },
   "outputs": [],
   "source": [
    "def recDC(coinValueList,change,knownResults):\n",
    "    minCoins=change\n",
    "    if change in coinValueList:\n",
    "        knownResults[change]=1\n",
    "        return 1\n",
    "    elif knownResults[change]>0:\n",
    "        return knownResults[change]\n",
    "    else:\n",
    "        for i in [c for c in coinValueList if c<=change]:\n",
    "            numCoins=1+recDC(coinValueList,change-i,knownResults)\n",
    "            if numCoins<minCoins:\n",
    "                minCoins=numCoins\n",
    "                knownResults[change]=minCoins\n",
    "    return minCoins"
   ]
  },
  {
   "cell_type": "code",
   "execution_count": 28,
   "metadata": {},
   "outputs": [
    {
     "name": "stdout",
     "output_type": "stream",
     "text": [
      "6\n"
     ]
    }
   ],
   "source": [
    "print (recDC([1,5,10,25],63,[0]*64))"
   ]
  },
  {
   "cell_type": "markdown",
   "metadata": {},
   "source": [
    "## Problem:write a recursive function to reverse a list"
   ]
  },
  {
   "cell_type": "code",
   "execution_count": 32,
   "metadata": {},
   "outputs": [
    {
     "name": "stdout",
     "output_type": "stream",
     "text": [
      "['5', '4', '3', '2', '1']\n"
     ]
    }
   ],
   "source": [
    "def reverseList(myList):\n",
    "    if len(myList)==1:\n",
    "        return myList\n",
    "    else:\n",
    "        return [myList[-1]]+reverseList(myList[:-1])\n",
    "\n",
    "myList=list('12345')\n",
    "print (reverseList(myList))"
   ]
  },
  {
   "cell_type": "markdown",
   "metadata": {
    "collapsed": true
   },
   "source": [
    "# Searthing and Sorting\n",
    "## The Sequential Search"
   ]
  },
  {
   "cell_type": "code",
   "execution_count": 2,
   "metadata": {},
   "outputs": [
    {
     "name": "stdout",
     "output_type": "stream",
     "text": [
      "True\n"
     ]
    }
   ],
   "source": [
    "def sequentialSearch(alist,item):\n",
    "    pos=0\n",
    "    found=False\n",
    "    while pos<len(alist) and not found:\n",
    "        if alist[pos]==item:\n",
    "            found=True\n",
    "        else:\n",
    "            pos+=1\n",
    "    return found\n",
    "\n",
    "testlist=[1,3,5,9,21,4]\n",
    "print (sequentialSearch(testlist,3))"
   ]
  },
  {
   "cell_type": "code",
   "execution_count": 3,
   "metadata": {},
   "outputs": [
    {
     "name": "stdout",
     "output_type": "stream",
     "text": [
      "False\n"
     ]
    }
   ],
   "source": [
    "def orderedSequentialSearch(alist,item):\n",
    "    pos=0\n",
    "    stop=False\n",
    "    found=False\n",
    "    while pos<len(alist) and not stop and not found:\n",
    "        if alist[pos]==item:\n",
    "            found=True\n",
    "        elif alist[pos]>item:\n",
    "            stop=True\n",
    "        else:\n",
    "            pos+=1\n",
    "    return found\n",
    "\n",
    "\n",
    "testlist = [0, 1, 2, 8, 13, 17, 19, 32, 42,]\n",
    "print(orderedSequentialSearch(testlist, 3))\n"
   ]
  },
  {
   "cell_type": "markdown",
   "metadata": {},
   "source": [
    "## The Binary Search\n",
    "The binary search is used for ordered list.  \n",
    "\n",
    "Instead of searching the list in sequence,a **binary search** will start by examing the middle item.  \n",
    "\n",
    "The binary search is $O(logn)$"
   ]
  },
  {
   "cell_type": "code",
   "execution_count": 7,
   "metadata": {},
   "outputs": [
    {
     "name": "stdout",
     "output_type": "stream",
     "text": [
      "True\n",
      "True\n"
     ]
    }
   ],
   "source": [
    "def binarySearch1(alist,item):\n",
    "    '''for ascending list'''\n",
    "    first=0\n",
    "    last=len(alist)-1\n",
    "    found=False\n",
    "    while first<=last and not found:\n",
    "        mid=(first+last)//2#notice that for python2,\"/\" should be used rather than \"//\"\n",
    "        if alist[mid]==item:\n",
    "            found=True\n",
    "        elif alist[mid]<item:\n",
    "            first=mid+1\n",
    "        else:\n",
    "            last=mid-1\n",
    "    return found\n",
    "\n",
    "def binarySearch2(alist,item):\n",
    "    '''recursive method'''\n",
    "    if len(alist)==0:\n",
    "        return False\n",
    "    else:\n",
    "        mid=len(alist)//2\n",
    "        if alist[mid]==item:\n",
    "            return True\n",
    "        elif item<alist[mid]:\n",
    "            return binarySearch2(alist[:mid],item)\n",
    "        elif item>alist[mid]:\n",
    "            return binarySearch2(alist[mid+1:],item)\n",
    "\n",
    "testlist = [0, 1, 2, 8, 13, 17, 19, 32, 42,]\n",
    "print(binarySearch1(testlist, 2))\n",
    "print(binarySearch2(testlist, 2))\n",
    "    "
   ]
  },
  {
   "cell_type": "markdown",
   "metadata": {},
   "source": [
    "## Hashing\n",
    "A **hash table** is a collection of items which are stored in such a way as to find them later.Each position of the hash table,ofen called a **slot**,can hold an item and is named by an integer value starting at 0.The mapping between an item and the slot where that item belongs in the hash table is called the **hash function**.  \n",
    "\n",
    "Given a collection of items,a hash function that maps each item into a unique slot is referred to as a **perfect hash function**.Unfortunately,given an arbitray collection of items,there is no systematic way to construct a perfect hash function.  \n",
    "\n",
    "When two items hash to the same slot,we must have a systematic method for placing the second item in the hash table.This process is called **collision resolution**."
   ]
  },
  {
   "cell_type": "markdown",
   "metadata": {},
   "source": [
    "## Implementing the `Map` Abstract Data Type\n",
    "\n",
    "The map abstract data type is defined as follows.The structure is an unordered collection of associations between a key and a data value.The keys in a map are all unique so that there is a one-to-one relationship between a key and a value."
   ]
  },
  {
   "cell_type": "code",
   "execution_count": 16,
   "metadata": {},
   "outputs": [
    {
     "name": "stdout",
     "output_type": "stream",
     "text": [
      "[None, None, None, None, 26, 93, None, None, None, None, 54]\n",
      "[None, None, None, None, 'dog', 'lion', None, None, None, None, 'cat']\n"
     ]
    }
   ],
   "source": [
    "class HashTable:\n",
    "    def __init__(self):\n",
    "        self.size=11\n",
    "        self.slots=[None]*self.size\n",
    "        self.data=[None]*self.size\n",
    "    \n",
    "    def put(self,key,data):\n",
    "        hashvalue=self.hashfunction(key,len(self.slots))\n",
    "        \n",
    "        if self.slots[hashvalue]==None:\n",
    "            self.slots[hashvalue]=key\n",
    "            self.data[hashvalue]=data\n",
    "        else:\n",
    "            if self.slots[hashvalue]==key:\n",
    "                self.data[hashvalue]=data#replace\n",
    "            else:\n",
    "                nextslot=self.rehash(hashvalue,len(self.slots))\n",
    "                while self.slots[nextslot]!=None and self.slots[nextslot]!=key:\n",
    "                    nextslot=self.rehash(nextslot,len(self.slots))\n",
    "                \n",
    "                if self.slots[nextslot]==None:\n",
    "                    self.slots[nextslot]=key\n",
    "                    self.data[nextslot]=data\n",
    "                else:\n",
    "                    self.data[nextslot]=data#replace\n",
    "    \n",
    "    def hashfunction(self,key,size):\n",
    "        return key%size\n",
    "    \n",
    "    def rehash(self,oldhash,size):\n",
    "        return (olshash+1)%size\n",
    "    \n",
    "\n",
    "    def get(self,key):\n",
    "        startslot=self.hashfunction(key,len(self.slots))\n",
    "        \n",
    "        data=None\n",
    "        stop=False\n",
    "        found=False\n",
    "        position=startslot\n",
    "        while self.slots[position]!=None and not found and not stop:\n",
    "            if self.slots[position]==key:\n",
    "                found=key\n",
    "                data=self.data[position]\n",
    "            else:\n",
    "                position=self.rehash(position,len(self.slots))\n",
    "                if position==startslot:\n",
    "                    stop=True\n",
    "        return data\n",
    "    \n",
    "    def __getitem__(self,key):\n",
    "        return self.get(key)\n",
    "    \n",
    "    def __setitem__(self,key,data):\n",
    "        self.put(key,data)\n",
    "\n",
    "\n",
    "H=HashTable()\n",
    "H[54]='cat'\n",
    "H[26]='dog'\n",
    "H[93]='lion'\n",
    "print (H.slots)\n",
    "print (H.data)"
   ]
  },
  {
   "cell_type": "markdown",
   "metadata": {},
   "source": [
    "## The Bubble Sort\n",
    "The **bubble sort** makes multiple passes through a list.It compares adjacent items and exchanges those that are out of order.Each pass throgh the list places the next largest value in its proper place.In essence,each item \"bubbles\" up to the location where it belongs."
   ]
  },
  {
   "cell_type": "code",
   "execution_count": 20,
   "metadata": {},
   "outputs": [
    {
     "name": "stdout",
     "output_type": "stream",
     "text": [
      "[17, 20, 26, 31, 44, 54, 55, 77]\n"
     ]
    }
   ],
   "source": [
    "def bubbleSort(alist):\n",
    "    for passnum in range(len(alist)-1,0,-1):\n",
    "        for i in range(passnum):\n",
    "            if alist[i]>alist[i+1]:\n",
    "                alist[i],alist[i+1]=alist[i+1],alist[i]\n",
    "\n",
    "alist=[54,26,17,77,31,44,55,20]\n",
    "bubbleSort(alist)\n",
    "print (alist)"
   ]
  },
  {
   "cell_type": "markdown",
   "metadata": {},
   "source": [
    "A bubble sort is often considered the most inefficient forting method since it must exchange items before the final location is known.These 'wasted' exchange operations are very costly.A bubble sort can be modified to stop early if it finds that the list has become sorted."
   ]
  },
  {
   "cell_type": "code",
   "execution_count": 22,
   "metadata": {},
   "outputs": [
    {
     "name": "stdout",
     "output_type": "stream",
     "text": [
      "[17, 20, 26, 31, 44, 54, 55, 77]\n"
     ]
    }
   ],
   "source": [
    "def shortBubbleSort(alist):\n",
    "    exchanges=True\n",
    "    passnum=len(alist)-1\n",
    "    while passnum>0 and exchanges:\n",
    "        exchanges=False\n",
    "        for i in range(passnum):\n",
    "            if alist[i]>alist[i+1]:\n",
    "                exchanges=True\n",
    "                alist[i],alist[i+1]=alist[i+1],alist[i]\n",
    "        passnum-=1\n",
    "\n",
    "alist=[54,26,17,77,31,44,55,20]\n",
    "shortBubbleSort(alist)\n",
    "print (alist)"
   ]
  },
  {
   "cell_type": "markdown",
   "metadata": {},
   "source": [
    "## The Selection Sort\n",
    "The **selection sort** improves on the bubble sort by making only one exchange for every pass through the list.In order to do this,a selection sort looks for the largest value as it makes a pass and,after completing the pass,places it in the proper location.As with a bubble sort,after the first pass,the largest item is in the correct place.After the second pass,the next largest is in place."
   ]
  },
  {
   "cell_type": "code",
   "execution_count": 24,
   "metadata": {},
   "outputs": [
    {
     "name": "stdout",
     "output_type": "stream",
     "text": [
      "[17, 20, 26, 31, 44, 54, 55, 77]\n"
     ]
    }
   ],
   "source": [
    "def selectionSort(alist):\n",
    "    for fillslot in range(len(alist)-1,0,-1):\n",
    "        positionOfMax=0\n",
    "        for location in range(1,fillslot+1):\n",
    "            if alist[location]>alist[positionOfMax]:\n",
    "                positionOfMax=location\n",
    "        \n",
    "        alist[fillslot],alist[positionOfMax]=alist[positionOfMax],alist[fillslot]\n",
    "\n",
    "alist=[54,26,17,77,31,44,55,20]\n",
    "selectionSort(alist)\n",
    "print (alist)"
   ]
  },
  {
   "cell_type": "markdown",
   "metadata": {},
   "source": [
    "## The Insertion Sort\n",
    "The **insertion sort**,although still $O(n^2)$,works in a slightly different way.It always matains a sorted sublist in the lower positions of the list.Each new item is then 'inserted' back into the previous sublist such that teh sorted sublist is one item larger."
   ]
  },
  {
   "cell_type": "code",
   "execution_count": 26,
   "metadata": {},
   "outputs": [
    {
     "name": "stdout",
     "output_type": "stream",
     "text": [
      "[17, 20, 26, 31, 44, 54, 55, 77]\n"
     ]
    }
   ],
   "source": [
    "def insertionSort(alist):\n",
    "    for index in range(1,len(alist)):\n",
    "        currentvalue=alist[index]\n",
    "        position=index\n",
    "        \n",
    "        while position>0 and alist[position-1]>currentvalue:\n",
    "            alist[position]=alist[position-1]\n",
    "            position=position-1\n",
    "        \n",
    "        alist[position]=currentvalue\n",
    "\n",
    "alist=[54,26,17,77,31,44,55,20]\n",
    "insertionSort(alist)\n",
    "print (alist)\n"
   ]
  },
  {
   "cell_type": "markdown",
   "metadata": {},
   "source": [
    "## The Merge Sort\n",
    "Merge sort is a recursive algorithm that continually splits a list in half.If the list is empty or has one item,it is sorted by definition (the base case).If the list has more than one item,we split the list and recursively invoke a merge sort on both halves.Once the two halves are sorted,the fundamental operation,called a **merge**,is performed.Merging is the process of taking two smaller sorted lists and combining them into a single,sorted,new list.  \n",
    "\n",
    "A merge sort is an $O(nlogn)$ algorithm."
   ]
  },
  {
   "cell_type": "code",
   "execution_count": 28,
   "metadata": {},
   "outputs": [
    {
     "name": "stdout",
     "output_type": "stream",
     "text": [
      "Splitting [54, 26, 17, 77, 31, 44, 55, 20]\n",
      "Splitting [54, 26, 17, 77]\n",
      "Splitting [54, 26]\n",
      "Splitting [54]\n",
      "Merging [54]\n",
      "Splitting [26]\n",
      "Merging [26]\n",
      "Merging [26, 54]\n",
      "Splitting [17, 77]\n",
      "Splitting [17]\n",
      "Merging [17]\n",
      "Splitting [77]\n",
      "Merging [77]\n",
      "Merging [17, 77]\n",
      "Merging [17, 26, 54, 77]\n",
      "Splitting [31, 44, 55, 20]\n",
      "Splitting [31, 44]\n",
      "Splitting [31]\n",
      "Merging [31]\n",
      "Splitting [44]\n",
      "Merging [44]\n",
      "Merging [31, 44]\n",
      "Splitting [55, 20]\n",
      "Splitting [55]\n",
      "Merging [55]\n",
      "Splitting [20]\n",
      "Merging [20]\n",
      "Merging [20, 55]\n",
      "Merging [20, 31, 44, 55]\n",
      "Merging [17, 20, 26, 31, 44, 54, 55, 77]\n",
      "[17, 20, 26, 31, 44, 54, 55, 77]\n"
     ]
    }
   ],
   "source": [
    "def mergeSort(alist):\n",
    "    print ('Splitting',alist)\n",
    "    if len(alist)>1:\n",
    "        mid=len(alist)//2\n",
    "        lefthalf=alist[:mid]\n",
    "        righthalf=alist[mid:]\n",
    "        \n",
    "        mergeSort(lefthalf)\n",
    "        mergeSort(righthalf)\n",
    "        \n",
    "        i=0\n",
    "        j=0\n",
    "        k=0\n",
    "        while i<len(lefthalf) and j<len(righthalf):\n",
    "            if lefthalf[i]<righthalf[j]:\n",
    "                alist[k]=lefthalf[i]\n",
    "                i+=1\n",
    "            else:\n",
    "                alist[k]=righthalf[j]\n",
    "                j+=1\n",
    "            k+=1\n",
    "        \n",
    "        while i<len(lefthalf):\n",
    "            alist[k]=lefthalf[i]\n",
    "            i+=1\n",
    "            k+=1\n",
    "        \n",
    "        while j<len(righthalf):\n",
    "            alist[k]=righthalf[j]\n",
    "            j+=1\n",
    "            k+=1\n",
    "    \n",
    "    print ('Merging',alist)\n",
    "\n",
    "alist=[54,26,17,77,31,44,55,20]\n",
    "mergeSort(alist)\n",
    "print (alist)"
   ]
  },
  {
   "cell_type": "markdown",
   "metadata": {},
   "source": [
    "## The Shell Sort"
   ]
  },
  {
   "cell_type": "code",
   "execution_count": 30,
   "metadata": {},
   "outputs": [
    {
     "name": "stdout",
     "output_type": "stream",
     "text": [
      "After increments of size 4 The list is [20, 26, 44, 17, 54, 31, 93, 55, 77]\n",
      "After increments of size 2 The list is [20, 17, 44, 26, 54, 31, 77, 55, 93]\n",
      "After increments of size 1 The list is [17, 20, 26, 31, 44, 54, 55, 77, 93]\n",
      "[17, 20, 26, 31, 44, 54, 55, 77, 93]\n"
     ]
    }
   ],
   "source": [
    "def shellSort(alist):\n",
    "    sublistcount = len(alist)//2\n",
    "    while sublistcount > 0:\n",
    "\n",
    "      for startposition in range(sublistcount):\n",
    "        gapInsertionSort(alist,startposition,sublistcount)\n",
    "\n",
    "      print(\"After increments of size\",sublistcount,\n",
    "                                   \"The list is\",alist)\n",
    "\n",
    "      sublistcount = sublistcount // 2\n",
    "\n",
    "def gapInsertionSort(alist,start,gap):\n",
    "    for i in range(start+gap,len(alist),gap):\n",
    "\n",
    "        currentvalue = alist[i]\n",
    "        position = i\n",
    "\n",
    "        while position>=gap and alist[position-gap]>currentvalue:\n",
    "            alist[position]=alist[position-gap]\n",
    "            position = position-gap\n",
    "\n",
    "        alist[position]=currentvalue\n",
    "\n",
    "alist = [54,26,93,17,77,31,44,55,20]\n",
    "shellSort(alist)\n",
    "print(alist)"
   ]
  },
  {
   "cell_type": "markdown",
   "metadata": {},
   "source": [
    "## The Quick Sort"
   ]
  },
  {
   "cell_type": "code",
   "execution_count": 29,
   "metadata": {},
   "outputs": [
    {
     "name": "stdout",
     "output_type": "stream",
     "text": [
      "[17, 20, 26, 31, 44, 54, 55, 77, 93]\n"
     ]
    }
   ],
   "source": [
    "def quickSort(alist):\n",
    "   quickSortHelper(alist,0,len(alist)-1)\n",
    "\n",
    "def quickSortHelper(alist,first,last):\n",
    "   if first<last:\n",
    "\n",
    "       splitpoint = partition(alist,first,last)\n",
    "\n",
    "       quickSortHelper(alist,first,splitpoint-1)\n",
    "       quickSortHelper(alist,splitpoint+1,last)\n",
    "\n",
    "\n",
    "def partition(alist,first,last):\n",
    "   pivotvalue = alist[first]\n",
    "\n",
    "   leftmark = first+1\n",
    "   rightmark = last\n",
    "\n",
    "   done = False\n",
    "   while not done:\n",
    "\n",
    "       while leftmark <= rightmark and alist[leftmark] <= pivotvalue:\n",
    "           leftmark = leftmark + 1\n",
    "\n",
    "       while alist[rightmark] >= pivotvalue and rightmark >= leftmark:\n",
    "           rightmark = rightmark -1\n",
    "\n",
    "       if rightmark < leftmark:\n",
    "           done = True\n",
    "       else:\n",
    "           temp = alist[leftmark]\n",
    "           alist[leftmark] = alist[rightmark]\n",
    "           alist[rightmark] = temp\n",
    "\n",
    "   temp = alist[first]\n",
    "   alist[first] = alist[rightmark]\n",
    "   alist[rightmark] = temp\n",
    "\n",
    "\n",
    "   return rightmark\n",
    "\n",
    "alist = [54,26,93,17,77,31,44,55,20]\n",
    "quickSort(alist)\n",
    "print(alist)"
   ]
  },
  {
   "cell_type": "markdown",
   "metadata": {},
   "source": [
    "# Trees and Tree Algorithms"
   ]
  },
  {
   "cell_type": "markdown",
   "metadata": {},
   "source": [
    "## Binary Tree"
   ]
  },
  {
   "cell_type": "code",
   "execution_count": 33,
   "metadata": {
    "collapsed": true
   },
   "outputs": [],
   "source": [
    "class BinaryTree:\n",
    "    def __init__(self,rootObj):\n",
    "        self.key=rootObj\n",
    "        self.leftChild=None\n",
    "        self.rightChild=None\n",
    "    \n",
    "    def insertLeft(self,newNode):\n",
    "        '''\n",
    "        We must consider two cases for insertion.The first case is\n",
    "        characterized by a node with no existing left child.When there is\n",
    "        no left child,simply add a node to the tree.The second case\n",
    "        is characterized by a node with an existing left child.In the second\n",
    "        case,we insert a node and push the existing child down one level\n",
    "        in the tree.\n",
    "        '''\n",
    "        \n",
    "        if self.leftChild==None:\n",
    "            self.leftChild=BinaryTree(newNode)\n",
    "        else:\n",
    "            t=BinaryTree(newNode)\n",
    "            t.leftChild=self.leftChild\n",
    "            self.leftChild=t\n",
    "    \n",
    "    def insertRight(self,newNode):\n",
    "        if self.rightChild==None:\n",
    "            self.rightChild=BinaryTree(newNode)\n",
    "        else:\n",
    "            t=BinaryTree(newNode)\n",
    "            t.rightChild=self.rightChild\n",
    "            self.rightChild=t\n",
    "    \n",
    "    def getRightChild(self):\n",
    "        return self.rightChild\n",
    "    \n",
    "    def getLeftChild(self):\n",
    "        return self.leftChild\n",
    "\n",
    "    def setRootVal(self,obj):\n",
    "        self.key=obj\n",
    "    \n",
    "    def getRootVal(self):\n",
    "        return self.key\n"
   ]
  },
  {
   "cell_type": "code",
   "execution_count": 35,
   "metadata": {},
   "outputs": [
    {
     "name": "stdout",
     "output_type": "stream",
     "text": [
      "a\n",
      "None\n",
      "<__main__.BinaryTree object at 0x00000198532C5550>\n",
      "b\n",
      "<__main__.BinaryTree object at 0x00000198532C54A8>\n",
      "c\n",
      "hello\n"
     ]
    }
   ],
   "source": [
    "r = BinaryTree('a')\n",
    "print(r.getRootVal())\n",
    "print(r.getLeftChild())\n",
    "r.insertLeft('b')\n",
    "print(r.getLeftChild())\n",
    "print(r.getLeftChild().getRootVal())\n",
    "r.insertRight('c')\n",
    "print(r.getRightChild())\n",
    "print(r.getRightChild().getRootVal())\n",
    "r.getRightChild().setRootVal('hello')\n",
    "print(r.getRightChild().getRootVal())\n"
   ]
  },
  {
   "cell_type": "markdown",
   "metadata": {},
   "source": [
    "## Tree Traversals\n",
    "### preorder"
   ]
  },
  {
   "cell_type": "code",
   "execution_count": 36,
   "metadata": {
    "collapsed": true
   },
   "outputs": [],
   "source": [
    "def preorder(tree):\n",
    "    if tree:\n",
    "        print (tree.getRootval())\n",
    "        preorder(tree.getLeftChild())\n",
    "        preorder(tree.getRightChild())"
   ]
  },
  {
   "cell_type": "markdown",
   "metadata": {},
   "source": [
    "### postorder"
   ]
  },
  {
   "cell_type": "code",
   "execution_count": 37,
   "metadata": {
    "collapsed": true
   },
   "outputs": [],
   "source": [
    "def postorder(tree):\n",
    "    if tree!=None:\n",
    "        postorder(tree.getLeftChild())\n",
    "        postorder(tree.getRightChild())\n",
    "        print (tree.getRootVal())"
   ]
  },
  {
   "cell_type": "markdown",
   "metadata": {},
   "source": [
    "### inorder"
   ]
  },
  {
   "cell_type": "code",
   "execution_count": 38,
   "metadata": {
    "collapsed": true
   },
   "outputs": [],
   "source": [
    "def inorder(tree):\n",
    "    if tree!=None:\n",
    "        inorder(tree.getLeftChild())\n",
    "        print (tree.getRootVal())\n",
    "        inorder(tree.getRightChild())"
   ]
  },
  {
   "cell_type": "code",
   "execution_count": null,
   "metadata": {
    "collapsed": true
   },
   "outputs": [],
   "source": []
  }
 ],
 "metadata": {
  "kernelspec": {
   "display_name": "Python 3",
   "language": "python",
   "name": "python3"
  },
  "language_info": {
   "codemirror_mode": {
    "name": "ipython",
    "version": 3
   },
   "file_extension": ".py",
   "mimetype": "text/x-python",
   "name": "python",
   "nbconvert_exporter": "python",
   "pygments_lexer": "ipython3",
   "version": "3.5.2"
  },
  "toc": {
   "colors": {
    "hover_highlight": "#DAA520",
    "navigate_num": "#000000",
    "navigate_text": "#333333",
    "running_highlight": "#FF0000",
    "selected_highlight": "#FFD700",
    "sidebar_border": "#EEEEEE",
    "wrapper_background": "#FFFFFF"
   },
   "moveMenuLeft": true,
   "nav_menu": {
    "height": "49px",
    "width": "252px"
   },
   "navigate_menu": true,
   "number_sections": true,
   "sideBar": true,
   "threshold": 4,
   "toc_cell": false,
   "toc_position": {
    "height": "639px",
    "left": "0px",
    "right": "20px",
    "top": "111px",
    "width": "282px"
   },
   "toc_section_display": "block",
   "toc_window_display": true,
   "widenNotebook": false
  }
 },
 "nbformat": 4,
 "nbformat_minor": 2
}
