{
 "cells": [
  {
   "cell_type": "markdown",
   "metadata": {},
   "source": [
    "## linear search\n",
    "The linear search is used to find an item in a list.The items do not have to be in order.To search for an item,start at the beginning of the list and continue searching until either the end of the list is reached or the item is found."
   ]
  },
  {
   "cell_type": "code",
   "execution_count": 3,
   "metadata": {},
   "outputs": [],
   "source": [
    "def linearSearch(myItem,myList):\n",
    "    found=False\n",
    "    position=0\n",
    "    while position<len(myList) and not found:\n",
    "        if myList[position]==myItem:\n",
    "            found=True\n",
    "        position+=1\n",
    "    return found\n"
   ]
  },
  {
   "cell_type": "code",
   "execution_count": 4,
   "metadata": {},
   "outputs": [
    {
     "data": {
      "text/plain": [
       "True"
      ]
     },
     "execution_count": 4,
     "metadata": {},
     "output_type": "execute_result"
    }
   ],
   "source": [
    "myItem='test'\n",
    "myList=['test','a','b']\n",
    "linearSearch(myItem,myList)"
   ]
  },
  {
   "cell_type": "markdown",
   "metadata": {},
   "source": [
    "## binary search\n",
    "The binary search is used to find an item in an ORDERED list.To search for an item,look in the middle of the list and see if the number you want is in the middle,above the middle or below the middle.If it is in the middle,you have found the item.If it is higher than the middle value,then adjust the bottom of the list so that you search in a smaller lsit starting one above the middle of the list.If the number is lower than the middle value,then adjust the top of the list so that you search in a smaller list which has its highest position one less than the middle position."
   ]
  },
  {
   "cell_type": "code",
   "execution_count": 8,
   "metadata": {
    "collapsed": true
   },
   "outputs": [],
   "source": [
    "def binarySearch(myItem,myOrderedList):\n",
    "    found=False\n",
    "    startInd,endInd=0,len(myOrderedList)-1\n",
    "    while startInd<=endInd and not found:\n",
    "        midInd=(startInd+endInd)/2\n",
    "        if myOrderedList[midInd]==myItem:\n",
    "            found=True\n",
    "        elif myOrderedList[midInd]>myItem:\n",
    "            endInd=midInd-1\n",
    "        elif myOrderedList[midInd]<myItem:\n",
    "            startInd=midInd+1\n",
    "    \n",
    "    return found\n"
   ]
  },
  {
   "cell_type": "code",
   "execution_count": 10,
   "metadata": {},
   "outputs": [
    {
     "data": {
      "text/plain": [
       "True"
      ]
     },
     "execution_count": 10,
     "metadata": {},
     "output_type": "execute_result"
    }
   ],
   "source": [
    "myItem=4\n",
    "myList=[1,2,4,5,6,7]\n",
    "binarySearch(myItem,myList)"
   ]
  },
  {
   "cell_type": "markdown",
   "metadata": {},
   "source": [
    "## bubble sort"
   ]
  },
  {
   "cell_type": "code",
   "execution_count": null,
   "metadata": {
    "collapsed": true
   },
   "outputs": [],
   "source": []
  }
 ],
 "metadata": {
  "kernelspec": {
   "display_name": "Python 2",
   "language": "python",
   "name": "python2"
  },
  "language_info": {
   "codemirror_mode": {
    "name": "ipython",
    "version": 2
   },
   "file_extension": ".py",
   "mimetype": "text/x-python",
   "name": "python",
   "nbconvert_exporter": "python",
   "pygments_lexer": "ipython2",
   "version": "2.7.12"
  },
  "toc": {
   "colors": {
    "hover_highlight": "#DAA520",
    "navigate_num": "#000000",
    "navigate_text": "#333333",
    "running_highlight": "#FF0000",
    "selected_highlight": "#FFD700",
    "sidebar_border": "#EEEEEE",
    "wrapper_background": "#FFFFFF"
   },
   "moveMenuLeft": true,
   "nav_menu": {
    "height": "67px",
    "width": "252px"
   },
   "navigate_menu": true,
   "number_sections": true,
   "sideBar": true,
   "threshold": 4,
   "toc_cell": false,
   "toc_position": {
    "height": "596px",
    "left": "0px",
    "right": "652.8px",
    "top": "137px",
    "width": "119px"
   },
   "toc_section_display": "block",
   "toc_window_display": true,
   "widenNotebook": false
  }
 },
 "nbformat": 4,
 "nbformat_minor": 2
}
