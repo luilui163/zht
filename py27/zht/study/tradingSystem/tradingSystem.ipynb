{
 "cells": [
  {
   "cell_type": "markdown",
   "metadata": {},
   "source": [
    "# Securities master databases form algorithmic trading  \n",
    "\n",
    "\n",
    "\n",
    "\n",
    "A securities master is an organisation-wide database that stores **fundamental**,**pricing** and **transactional** data for a variaty of financial instruments across asset calsses.It provides access to this information in a consistant manner to be used by other departments such as risk management,clearing/settlement and proprietary trading. \n",
    "\n",
    "## Benefits of a securities master database  \n",
    "* **speed**-With the securities master on local hard disk,any data application can raplidly access the data without needing to perform slow input/output (I?O) across a latent network link.  \n",
    "* **Multiple sources**-We can add custom error correction code to correct data in our database.  \n",
    "* **Downtime**-A local database,with a replication system,is always available.  \n",
    "* **Meta-data**-A securities master allows us to store meta-data about our ticker information.We can include exchange,vendor and symbol matching tables,helping us to minimise data source errors.\n",
    "\n",
    "\n",
    "Here are some of the instruments that might be of interest to a firm: \n",
    "* Equities\n",
    "* Equity Options\n",
    "* Indices\n",
    "* Foreign Exchange\n",
    "* Future\n",
    "* Commodities\n",
    "* Bonds-Government and corporate\n",
    "* Derivative\n",
    "* News Data\n",
    "\n",
    "There are a number of services providing access for free via web-available APIs:\n",
    "* tushare (for A shares)\n",
    "* Yahoo Finance\n",
    "* Google Finance\n",
    "* QuantQuote\n",
    "* EODData\n",
    "\n",
    "An important componenty of our securities master will be automatically updating the data set.  \n",
    "\n",
    "Another issue is **look-back** period.How far in the past do we need to go with our data?This will be specific to the requirements of the trading strategy,but there are certain problems that span all strategies.The most common is **regime change**,wich is often characterised by a new regulatory environment,periods of higher/lower volatility or longer-term trending marktets.  \n",
    "\n",
    "## How is the data evaluated for accuracy?  \n",
    "* **Corporate Actions**-Incorrect handling of stock splits and dividend adjustments.\n",
    "* **Spikes**-Pricing points that greatly exceed certain historical volatility levels.Spikes do occur,but spikes can also be caused by not taking into account stock splits when they do occur.*Spike filter* scripts are used to nofity traders of such situations.  \n",
    ">  \n",
    "'A spike is a comparatively large upward or downward movement of a price in a short period of time.\n",
    "* **OHLC Aggregation** \n",
    "* **Missing data**  \n",
    "\n"
   ]
  },
  {
   "cell_type": "markdown",
   "metadata": {},
   "source": [
    "# Evaluating Trading Strategies  \n",
    "* **Methodology**-Is the strategy momentum based,mean-reverting,market-neutral,directional?Does the strategy rely on sophisticated  statistical or machine learning techniques that are hard to understand and require a PhD in statistics to grasp? Do these techniques introduce a significant quantity of parameters,which might lead to optimisation bias? Is the strategy likely to withstand a *regime change*?  \n",
    "* **Sharpe ratio**   \n",
    "\n",
    "* **Leverage**-Does teh strategy require significant leverage to be profitable?  \n",
    "\n",
    "* **Frequency**All other issues considered,higher frequency strategies require more capital,are more sophisticated and harder to implement.  \n",
    "\n",
    "* **Volatility**-Volatility is related strongly to the 'risk' of the strategy.  \n",
    "\n",
    "* **Win/Loss,Average Profit/Loss**  \n",
    "\n",
    "* **Maximum Drawdown**  \n",
    "\n",
    "* **Max drawdown duration**\n",
    "\n",
    "* **Capacity/Liquidity**-Capacity determines the strategy to further capital.  \n",
    "\n",
    "* **parameters**  \n",
    "\n",
    "* **Benchmark**-"
   ]
  },
  {
   "cell_type": "markdown",
   "metadata": {},
   "source": [
    "# Backtesting\n",
    "## key reasons for backtesting an algorithm strategy  \n",
    "* **Filtration**  \n",
    "* **Modelling**-Backtesting allows us to (safely!) test new models of certain market phenomena,such as transaction costs,order routing,latency,liquidity or other market microstructure issues.  \n",
    "* **Optimisation**  \n",
    "* **Verification**"
   ]
  },
  {
   "cell_type": "markdown",
   "metadata": {},
   "source": [
    "## Biases affecting strategy backtests  \n",
    "### Optimisation Bias  \n",
    "Another name for this is 'curve fitting' or 'data-snooping bias'  \n",
    "\n",
    "One method to help mitigate this bias is to perform a *sensitivity analysis*.This means varying the parameters incrementally and plotting a 'surface' of performance.Sound,fundamental reasoning for parameter choices should,with all other factors considered,lead to a smoother parameter surface.If you have a very jumpy performance surface,it often means that a parameter is not reflecting a phenomena and is an artefact of the test data.  \n",
    "### Look-Ahead Bias  \n",
    "#### Technical Bugs  \n",
    "Incorrect offsets,index error,and so on.  \n",
    "#### Parameter Calculation  \n",
    "Another commom example of look-ahead bias occurs when calculating optimal strategy parameters,such as with linear regressions between two time series.If the whole data set (including future data) is used to calculate the regression coefficients,and thus retroactively applied to a trading strategy for optimisation purposes,then future data is being corporated and a look-ahead bias exists.  \n",
    "#### Maxima/Minima  \n",
    "\n",
    "### Survivorship Bias  \n",
    "#### Survivorship Bias Free Datasets  \n",
    "such as including delisted entities.Yahoo Finance data is NOT survivorship bias free.\n",
    "#### Use More Recent Data\n",
    "\n",
    "### Psychological Tolerance Bias  \n",
    "As an example,the strategy might possess a maximum relative drawdown of 25% and a maximum drawdawn duration of 4 months.This would be atypical for a momentum strategy.It is straigtforward to convince oneself that it is easy to tolerate such periods of losses because the overall picture is rosy.However,in practice,it is far harder!"
   ]
  },
  {
   "cell_type": "markdown",
   "metadata": {},
   "source": [
    "## Backtester  \n",
    "For the initial backtester,the following components are required:  \n",
    "* **Strategy**-A strategy class receives a pandas dataframe of bars,i.e. a list of OHLCV data points at a particular frequency.The Strategy will produce a list of signals,which consist of a timestamp and an element from the set{1,0,-1} indicating a long,hold and short signal respectively.  \n",
    "* **Portfolio** -The majority of the backtesting work will occur in the Portfolio class.It will receive a set of signals and create a sereis of positions,allocated against a cash component.The job of the Portfolio objec t is to produce an equity curve,incorporate basic transaction costs and keep track of trades.  \n",
    "* **Performance** -The Performance object takes a portfolio and produces a set of statistics about its performance.In particular it will output risk/return cahracteristics (Sharpe,IR),trade/profit metrics and drawdown information.  \n"
   ]
  },
  {
   "cell_type": "code",
   "execution_count": null,
   "metadata": {
    "collapsed": true
   },
   "outputs": [],
   "source": []
  },
  {
   "cell_type": "code",
   "execution_count": null,
   "metadata": {
    "collapsed": true
   },
   "outputs": [],
   "source": []
  }
 ],
 "metadata": {
  "kernelspec": {
   "display_name": "Python 2",
   "language": "python",
   "name": "python2"
  },
  "language_info": {
   "codemirror_mode": {
    "name": "ipython",
    "version": 2
   },
   "file_extension": ".py",
   "mimetype": "text/x-python",
   "name": "python",
   "nbconvert_exporter": "python",
   "pygments_lexer": "ipython2",
   "version": "2.7.12"
  },
  "toc": {
   "colors": {
    "hover_highlight": "#DAA520",
    "navigate_num": "#000000",
    "navigate_text": "#333333",
    "running_highlight": "#FF0000",
    "selected_highlight": "#FFD700",
    "sidebar_border": "#EEEEEE",
    "wrapper_background": "#FFFFFF"
   },
   "moveMenuLeft": true,
   "nav_menu": {
    "height": "342px",
    "width": "252px"
   },
   "navigate_menu": true,
   "number_sections": true,
   "sideBar": false,
   "threshold": 4,
   "toc_cell": false,
   "toc_position": {
    "height": "321px",
    "left": "640px",
    "right": "1334px",
    "top": "108px",
    "width": "202px"
   },
   "toc_section_display": "block",
   "toc_window_display": true,
   "widenNotebook": false
  }
 },
 "nbformat": 4,
 "nbformat_minor": 2
}
