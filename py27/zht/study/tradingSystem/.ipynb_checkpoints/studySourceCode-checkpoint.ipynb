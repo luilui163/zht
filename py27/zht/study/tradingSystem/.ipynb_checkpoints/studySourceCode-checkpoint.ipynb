{
 "cells": [
  {
   "cell_type": "markdown",
   "metadata": {},
   "source": [
    "RQalpha 的API主要分为三类：约定函数、数据查询和交易接口\n",
    "\n",
    "\n",
    "## 基本方法  \n",
    "\n",
    "init(context)\n",
    "    初始化方法-在回测和时实模拟交易只会在启动的时候触发一次。context对象将会在算法的所有其他的方法之间进行传递以方便可以拿取到。\n",
    "\n",
    "\n",
    "handle_bar(context,bar_dict) \n",
    "    必须实现，bar数据的更新会自动触发该方法的调用。在实时模拟交易中，该函数在交易时间内会每分钟被触发一次。\n",
    "\n",
    "before_trading(context)\n",
    "    每天在策略开始交易前被调用。该函数的触发时间取决于用户当前所订阅合约的交易时间。\n",
    "\n",
    "\n",
    "after_trading(context)\n",
    "    每天收盘后被调用。在时实模拟交易中，该函数会在每天15:30触发。\n",
    "\n",
    "\n"
   ]
  },
  {
   "cell_type": "markdown",
   "metadata": {
    "collapsed": true
   },
   "source": [
    "## \\_\\_all\\_\\_  \n",
    "\\_\\_all\\_\\_属性由列表构成，它规定了模块的所有可见方法，会使属性列表之外的成员全部私有化，只有在执行语句 from module import * 时，\\_\\_all\\_\\_属性才会起作用。此时所有被枚举的成员被import，而其他成员被私有化。  \n",
    "\n",
    "\n",
    "\n",
    "\n"
   ]
  },
  {
   "cell_type": "markdown",
   "metadata": {},
   "source": [
    "## @property"
   ]
  },
  {
   "cell_type": "code",
   "execution_count": 1,
   "metadata": {
    "collapsed": true
   },
   "outputs": [],
   "source": [
    "#@property可以将方法转换为只读属性\n",
    "class Person(object):\n",
    "    def __init__(self,firstName,lastName):\n",
    "        self.firstName=firstName\n",
    "        self.lastName=lastName\n",
    "   \n",
    "    @property\n",
    "    def fullName(self):\n",
    "        return '%s %s'%(self.firstName,self.lastName)"
   ]
  },
  {
   "cell_type": "code",
   "execution_count": 2,
   "metadata": {},
   "outputs": [
    {
     "data": {
      "text/plain": [
       "'Zhang Tianya'"
      ]
     },
     "execution_count": 2,
     "metadata": {},
     "output_type": "execute_result"
    }
   ],
   "source": [
    "person=Person('Zhang','Tianya')\n",
    "person.fullName"
   ]
  },
  {
   "cell_type": "code",
   "execution_count": 3,
   "metadata": {
    "scrolled": false
   },
   "outputs": [
    {
     "ename": "TypeError",
     "evalue": "'str' object is not callable",
     "output_type": "error",
     "traceback": [
      "\u001b[1;31m---------------------------------------------------------------------------\u001b[0m",
      "\u001b[1;31mTypeError\u001b[0m                                 Traceback (most recent call last)",
      "\u001b[1;32m<ipython-input-3-87978e5286e5>\u001b[0m in \u001b[0;36m<module>\u001b[1;34m()\u001b[0m\n\u001b[1;32m----> 1\u001b[1;33m \u001b[0mperson\u001b[0m\u001b[1;33m.\u001b[0m\u001b[0mfullName\u001b[0m\u001b[1;33m(\u001b[0m\u001b[1;33m)\u001b[0m\u001b[1;33m\u001b[0m\u001b[0m\n\u001b[0m",
      "\u001b[1;31mTypeError\u001b[0m: 'str' object is not callable"
     ]
    }
   ],
   "source": [
    "person.fullName()"
   ]
  },
  {
   "cell_type": "markdown",
   "metadata": {},
   "source": [
    "##  \\_\\_repr\\_\\_ and \\_\\_str\\_\\_"
   ]
  },
  {
   "cell_type": "code",
   "execution_count": 7,
   "metadata": {},
   "outputs": [
    {
     "data": {
      "text/plain": [
       "<__main__.Test at 0x65c2a90>"
      ]
     },
     "execution_count": 7,
     "metadata": {},
     "output_type": "execute_result"
    }
   ],
   "source": [
    "class Test(object):\n",
    "    def __init__(self,value='hello,world'):\n",
    "        self.data=value\n",
    "t=Test()\n",
    "t"
   ]
  },
  {
   "cell_type": "code",
   "execution_count": 8,
   "metadata": {},
   "outputs": [
    {
     "name": "stdout",
     "output_type": "stream",
     "text": [
      "<__main__.Test object at 0x00000000065C2A90>\n"
     ]
    }
   ],
   "source": [
    "print t"
   ]
  },
  {
   "cell_type": "code",
   "execution_count": 9,
   "metadata": {},
   "outputs": [
    {
     "data": {
      "text/plain": [
       "TestRepr(hello,world)"
      ]
     },
     "execution_count": 9,
     "metadata": {},
     "output_type": "execute_result"
    }
   ],
   "source": [
    "#reconstruct __repr__\n",
    "class TestRepr(Test):\n",
    "    def __repr__(self):\n",
    "        return 'TestRepr(%s)'%self.data\n",
    "tr=TestRepr()\n",
    "tr"
   ]
  },
  {
   "cell_type": "code",
   "execution_count": 10,
   "metadata": {},
   "outputs": [
    {
     "name": "stdout",
     "output_type": "stream",
     "text": [
      "TestRepr(hello,world)\n"
     ]
    }
   ],
   "source": [
    "print tr"
   ]
  },
  {
   "cell_type": "code",
   "execution_count": 12,
   "metadata": {},
   "outputs": [
    {
     "data": {
      "text/plain": [
       "<__main__.TestStr at 0x65c2240>"
      ]
     },
     "execution_count": 12,
     "metadata": {},
     "output_type": "execute_result"
    }
   ],
   "source": [
    "#reconstruct  __str__\n",
    "class TestStr(Test):\n",
    "    def __str__(self):\n",
    "        return '[Value:%s]'%self.data\n",
    "ts=TestStr()\n",
    "ts"
   ]
  },
  {
   "cell_type": "code",
   "execution_count": 13,
   "metadata": {},
   "outputs": [
    {
     "name": "stdout",
     "output_type": "stream",
     "text": [
      "[Value:hello,world]\n"
     ]
    }
   ],
   "source": [
    "print ts"
   ]
  },
  {
   "cell_type": "markdown",
   "metadata": {
    "collapsed": true
   },
   "source": [
    "## pickle.dump()"
   ]
  },
  {
   "cell_type": "code",
   "execution_count": 2,
   "metadata": {
    "collapsed": true
   },
   "outputs": [],
   "source": [
    "import pickle\n",
    "name={'firstName':'Zhang','lastName':'Tianya'}\n",
    "pickle.dump(name,open('name.p','wb'))"
   ]
  },
  {
   "cell_type": "code",
   "execution_count": 5,
   "metadata": {
    "collapsed": true
   },
   "outputs": [],
   "source": [
    "import pickle\n",
    "name=pickle.load(open('name.p','rb'))"
   ]
  },
  {
   "cell_type": "code",
   "execution_count": 7,
   "metadata": {},
   "outputs": [
    {
     "data": {
      "text/plain": [
       "{'firstName': 'Zhang', 'lastName': 'Tianya'}"
      ]
     },
     "execution_count": 7,
     "metadata": {},
     "output_type": "execute_result"
    }
   ],
   "source": [
    "name"
   ]
  },
  {
   "cell_type": "markdown",
   "metadata": {},
   "source": [
    "cPickle包是pickle的1000倍，使用方法几乎完全相同\n",
    "import cPickle as pickle"
   ]
  },
  {
   "cell_type": "markdown",
   "metadata": {},
   "source": [
    "pickle.dump(obj,file[,protocol])  \n",
    "    write a pickled representation of obj to the open file object file.\n",
    "\n",
    "pickle.dumps(obj[,protocol])  \n",
    "    return the pickled representation of the object as a string.instead of writing to a file."
   ]
  },
  {
   "cell_type": "markdown",
   "metadata": {
    "collapsed": true
   },
   "source": [
    "## eval()和exec()  \n",
    "eval()只能计算当个表达式的值，exec()可以动态运行代码段。  \n",
    "eval()可以有返回值，exec()返回值永远为None"
   ]
  },
  {
   "cell_type": "markdown",
   "metadata": {
    "collapsed": true
   },
   "source": [
    "## cached_property  \n",
    "A decorator that converts a function into a lazy property.The function wrappid is called the first time to retrieve the result and then that calculated result is used the next time you access the value.  \n",
    "\n",
    "Advantages:makes caching of time or computational expensive properties quick and easy.   \n",
    "\n",
    "Let's define a class with an expensive property.Every time you stay there the price goes up by $50!  "
   ]
  },
  {
   "cell_type": "code",
   "execution_count": 7,
   "metadata": {
    "code_folding": [],
    "collapsed": true
   },
   "outputs": [],
   "source": [
    "class Monopoly(object):\n",
    "    def __init__(self):\n",
    "        self.boardwalkPrice=500\n",
    "    \n",
    "    @property\n",
    "    def boardwalk(self):\n",
    "        #In reality,this might represent a database call\n",
    "        # or time intensive task like calling a third-party\n",
    "        #API\n",
    "        self.boardwalkPrice+=50\n",
    "        return self.boardwalkPrice"
   ]
  },
  {
   "cell_type": "code",
   "execution_count": 8,
   "metadata": {},
   "outputs": [
    {
     "data": {
      "text/plain": [
       "550"
      ]
     },
     "execution_count": 8,
     "metadata": {},
     "output_type": "execute_result"
    }
   ],
   "source": [
    "monopoly=Monopoly()\n",
    "monopoly.boardwalk"
   ]
  },
  {
   "cell_type": "code",
   "execution_count": 9,
   "metadata": {},
   "outputs": [
    {
     "data": {
      "text/plain": [
       "600"
      ]
     },
     "execution_count": 9,
     "metadata": {},
     "output_type": "execute_result"
    }
   ],
   "source": [
    "monopoly.boardwalk"
   ]
  },
  {
   "cell_type": "markdown",
   "metadata": {},
   "source": [
    "Let's convert the boardwalk property into a `cached_property`"
   ]
  },
  {
   "cell_type": "code",
   "execution_count": 13,
   "metadata": {
    "collapsed": true
   },
   "outputs": [],
   "source": [
    "from cached_property import cached_property\n",
    "\n",
    "class Monopoly(object):\n",
    "    def __init__(self):\n",
    "        self.boardwalkPrice=500\n",
    "    \n",
    "    @cached_property\n",
    "    def boardwalk(self):\n",
    "        self.boardwalkPrice+=50\n",
    "        return self.boardwalkPrice"
   ]
  },
  {
   "cell_type": "code",
   "execution_count": 14,
   "metadata": {},
   "outputs": [
    {
     "data": {
      "text/plain": [
       "550"
      ]
     },
     "execution_count": 14,
     "metadata": {},
     "output_type": "execute_result"
    }
   ],
   "source": [
    "monopoly=Monopoly()\n",
    "monopoly.boardwalk"
   ]
  },
  {
   "cell_type": "code",
   "execution_count": 15,
   "metadata": {},
   "outputs": [
    {
     "data": {
      "text/plain": [
       "550"
      ]
     },
     "execution_count": 15,
     "metadata": {},
     "output_type": "execute_result"
    }
   ],
   "source": [
    "monopoly.boardwalk"
   ]
  },
  {
   "cell_type": "code",
   "execution_count": 16,
   "metadata": {},
   "outputs": [
    {
     "data": {
      "text/plain": [
       "550"
      ]
     },
     "execution_count": 16,
     "metadata": {},
     "output_type": "execute_result"
    }
   ],
   "source": [
    "monopoly.boardwalk"
   ]
  },
  {
   "cell_type": "markdown",
   "metadata": {
    "collapsed": true
   },
   "source": [
    "## pd.read_csv(path,parse_dates=True)"
   ]
  },
  {
   "cell_type": "markdown",
   "metadata": {
    "collapsed": true
   },
   "source": [
    "## pd.index.to_datetime()"
   ]
  },
  {
   "cell_type": "markdown",
   "metadata": {},
   "source": [
    "## yaml  \n",
    "[reference](http://www.ruanyifeng.com/blog/2016/07/yaml.html?f=tt)  \n",
    "yaml代码"
   ]
  },
  {
   "cell_type": "markdown",
   "metadata": {},
   "source": [
    "```\n",
    "backtest:  \n",
    "  days: '8906'  \n",
    "  from: '1992-12-16 00:00:00'  \n",
    "  to: '2017-05-05 00:00:00'  \n",
    "  trades: 33  \n",
    "performance:  \n",
    "  PF: 1.2489  \n",
    "  RF: 0.4035  \n",
    "  averages:  \n",
    "    gain: 1.4934  \n",
    "    loss: -0.6833  \n",
    "    trade: 0.1082  \n",
    "  payoff: 2.1856  \n",
    "  profit: 3.572  \n",
    "  winrate: 0.3636  \n",
    "risk/return profile:  \n",
    "  MPI: 0.0319  \n",
    "  UPI: 0.03  \n",
    "  WCDD (monte-carlo 0.99 quantile): 10.4115  \n",
    "  maxdd: 8.852  \n",
    "  sharpe: 1.1412  \n",
    "  sortino: 2.9684\n",
    " ```"
   ]
  },
  {
   "cell_type": "markdown",
   "metadata": {
    "collapsed": true
   },
   "source": [
    "## pandas resample  \n",
    "\n",
    "a convenience method for frequency conversion and resampling of time series.  \n",
    "```\n",
    "(price[ix] - price[ix][0]).resample('W').first().dropna().plot(color='black', alpha=0.5, label='underlying')\n",
    "```"
   ]
  },
  {
   "cell_type": "markdown",
   "metadata": {},
   "source": [
    "## plt  \n",
    "```\n",
    "fig=plt.figure(0) #new figure\n",
    "plt.savefig() #save figure\n",
    "plt.show() #show figure\n",
    "plt.close(0) #close figure\n",
    "```\n",
    "How to show figures separately in matplotlib?  \n",
    "\n",
    "**method1:**  \n",
    "Add an `Axes` using `add_subplot`\n",
    "```\n",
    "import matplotlib.pyplot as plt\n",
    "f1=plt.figure()\n",
    "ax1=f1.add_subplot(111)\n",
    "ax1.plot(range(0,10))\n",
    "f2=plt.figure()\n",
    "ax2=f2.add_subplot(111)\n",
    "ax2.plot(range(0,10))\n",
    "plt.show()\n",
    "```\n",
    "**method2:**  \n",
    "give a name to every figure  \n",
    "```\n",
    "f1=plt.figure()\n",
    "plt.plot(range(10))\n",
    "f1.show()\n",
    "\n",
    "f2=plt.figure()\n",
    "plt.plot(range(10))\n",
    "f2.show()\n",
    "```\n",
    "\n",
    "**for pandas**  \n",
    "```\n",
    "import matplotlib.pyplot as plt\n",
    "import pandas as pd\n",
    "import numpy as np\n",
    "\n",
    "for i in range(3):\n",
    "    s1=pd.Series(np.random.randn(10))\n",
    "    s2=s1+0.5\n",
    "    _=plt.figure()\n",
    "    s1.plot()\n",
    "    s2.plot()\n",
    "```"
   ]
  },
  {
   "cell_type": "markdown",
   "metadata": {
    "collapsed": true
   },
   "source": [
    "## python函数传参数4中方法  \n",
    "refer to [this blog](http://wuyanzan60688.blog.163.com/blog/static/127776163201110525041403/)\n",
    "### F(arg1，arg2)  \n",
    "形参和实参个数必须一一对应   \n",
    "### F(arg1,arg2=value2,...)  \n",
    "### F(*arg1)  \n",
    "不管有多少个参数，在函数内部被存放在以形参arg1名为标识符的tuple中。"
   ]
  },
  {
   "cell_type": "code",
   "execution_count": 1,
   "metadata": {},
   "outputs": [
    {
     "name": "stdout",
     "output_type": "stream",
     "text": [
      "(1,)\n"
     ]
    }
   ],
   "source": [
    "def a(*x):\n",
    "    if len(x)==0:\n",
    "        print 'None'\n",
    "    else:\n",
    "        print x\n",
    "a(1)"
   ]
  },
  {
   "cell_type": "code",
   "execution_count": 2,
   "metadata": {},
   "outputs": [
    {
     "name": "stdout",
     "output_type": "stream",
     "text": [
      "None\n"
     ]
    }
   ],
   "source": [
    "a()"
   ]
  },
  {
   "cell_type": "code",
   "execution_count": 3,
   "metadata": {},
   "outputs": [
    {
     "name": "stdout",
     "output_type": "stream",
     "text": [
      "(1, 2, 3)\n"
     ]
    }
   ],
   "source": [
    "a(1,2,3)"
   ]
  },
  {
   "cell_type": "markdown",
   "metadata": {},
   "source": [
    "### F(**arg1)  \n",
    "参数在函数内部将被存放在以形式名为标识符的dictionary中，这时调用函数的方法则要采用arg1=value1,arg2=value2这样的形式."
   ]
  },
  {
   "cell_type": "code",
   "execution_count": 4,
   "metadata": {
    "collapsed": true
   },
   "outputs": [],
   "source": [
    "def a(**x):\n",
    "    if len(x)==0:\n",
    "        print 'None'\n",
    "    else:\n",
    "        print x"
   ]
  },
  {
   "cell_type": "code",
   "execution_count": 5,
   "metadata": {},
   "outputs": [
    {
     "name": "stdout",
     "output_type": "stream",
     "text": [
      "None\n"
     ]
    }
   ],
   "source": [
    "a()"
   ]
  },
  {
   "cell_type": "code",
   "execution_count": 6,
   "metadata": {},
   "outputs": [
    {
     "name": "stdout",
     "output_type": "stream",
     "text": [
      "{'y': 2, 'x': 1}\n"
     ]
    }
   ],
   "source": [
    "a(x=1,y=2)"
   ]
  },
  {
   "cell_type": "markdown",
   "metadata": {},
   "source": [
    "函数解析过程，先1，后2，再3，最后4.也就是先把方式1中的arg解析，然后解析2中的arg=value，再机械方法3，即是吧多出来的arg这个种形式的实参组成个tuple传进去，最后把剩下的key=value这种形式的实参组成的一个dictionary传给带两个星号的形参，也就方式4."
   ]
  },
  {
   "cell_type": "code",
   "execution_count": 9,
   "metadata": {
    "collapsed": true
   },
   "outputs": [],
   "source": [
    "def test(x,y=1,*a,**b):\n",
    "    print x,y,a,b"
   ]
  },
  {
   "cell_type": "code",
   "execution_count": 10,
   "metadata": {},
   "outputs": [
    {
     "name": "stdout",
     "output_type": "stream",
     "text": [
      "1 1 () {}\n"
     ]
    }
   ],
   "source": [
    "test(1)"
   ]
  },
  {
   "cell_type": "code",
   "execution_count": 11,
   "metadata": {},
   "outputs": [
    {
     "name": "stdout",
     "output_type": "stream",
     "text": [
      "1 2 (3,) {'a': 4, 'b': 5}\n"
     ]
    }
   ],
   "source": [
    "test(1,2,3,a=4,b=5)"
   ]
  },
  {
   "cell_type": "code",
   "execution_count": 12,
   "metadata": {},
   "outputs": [
    {
     "name": "stdout",
     "output_type": "stream",
     "text": [
      "1 2 ([0, 1], 4) {'a': 6, 'v': 10}\n"
     ]
    }
   ],
   "source": [
    "test(1,2,range(2),4,a=6,v=10)"
   ]
  },
  {
   "cell_type": "code",
   "execution_count": null,
   "metadata": {
    "collapsed": true
   },
   "outputs": [],
   "source": []
  }
 ],
 "metadata": {
  "kernelspec": {
   "display_name": "Python 2",
   "language": "python",
   "name": "python2"
  },
  "language_info": {
   "codemirror_mode": {
    "name": "ipython",
    "version": 2
   },
   "file_extension": ".py",
   "mimetype": "text/x-python",
   "name": "python",
   "nbconvert_exporter": "python",
   "pygments_lexer": "ipython2",
   "version": "2.7.12"
  },
  "toc": {
   "colors": {
    "hover_highlight": "#DAA520",
    "navigate_num": "#000000",
    "navigate_text": "#333333",
    "running_highlight": "#FF0000",
    "selected_highlight": "#FFD700",
    "sidebar_border": "#EEEEEE",
    "wrapper_background": "#FFFFFF"
   },
   "moveMenuLeft": true,
   "nav_menu": {
    "height": "86px",
    "width": "252px"
   },
   "navigate_menu": true,
   "number_sections": true,
   "sideBar": true,
   "threshold": 4,
   "toc_cell": false,
   "toc_position": {
    "height": "642px",
    "left": "0px",
    "right": "20px",
    "top": "108px",
    "width": "166px"
   },
   "toc_section_display": "block",
   "toc_window_display": true,
   "widenNotebook": false
  }
 },
 "nbformat": 4,
 "nbformat_minor": 2
}
