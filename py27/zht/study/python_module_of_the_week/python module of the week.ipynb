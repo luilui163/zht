{
 "cells": [
  {
   "cell_type": "markdown",
   "metadata": {},
   "source": [
    "# String Services\n",
    "## string"
   ]
  },
  {
   "cell_type": "code",
   "execution_count": 6,
   "metadata": {
    "collapsed": true
   },
   "outputs": [],
   "source": [
    "import string\n",
    "import pdir"
   ]
  },
  {
   "cell_type": "code",
   "execution_count": 7,
   "metadata": {},
   "outputs": [
    {
     "data": {
      "text/plain": [
       "\u001b[0;33mmodule attribute:\u001b[0m\n",
       "    \u001b[0;36m__file__\u001b[0m\u001b[1;30m, \u001b[0m\u001b[0;36m__name__\u001b[0m\u001b[1;30m, \u001b[0m\u001b[0;36m__package__\u001b[0m\n",
       "\u001b[0;33mother:\u001b[0m\n",
       "    \u001b[0;36m__builtins__\u001b[0m\u001b[1;30m, \u001b[0m\u001b[0;36m_idmap\u001b[0m\u001b[1;30m, \u001b[0m\u001b[0;36m_idmapL\u001b[0m\u001b[1;30m, \u001b[0m\u001b[0;36m_re\u001b[0m\u001b[1;30m, \u001b[0m\u001b[0;36mascii_letters\u001b[0m\u001b[1;30m, \u001b[0m\u001b[0;36mascii_lowercase\u001b[0m\u001b[1;30m, \u001b[0m\u001b[0;36mascii_uppercase\u001b[0m\u001b[1;30m, \u001b[0m\u001b[0;36mdigits\u001b[0m\u001b[1;30m, \u001b[0m\u001b[0;36mhexdigits\u001b[0m\u001b[1;30m, \u001b[0m\u001b[0;36mletters\u001b[0m\u001b[1;30m, \u001b[0m\u001b[0;36mlowercase\u001b[0m\u001b[1;30m, \u001b[0m\u001b[0;36moctdigits\u001b[0m\u001b[1;30m, \u001b[0m\u001b[0;36mprintable\u001b[0m\u001b[1;30m, \u001b[0m\u001b[0;36mpunctuation\u001b[0m\u001b[1;30m, \u001b[0m\u001b[0;36muppercase\u001b[0m\u001b[1;30m, \u001b[0m\u001b[0;36mwhitespace\u001b[0m\n",
       "\u001b[0;33mspecial attribute:\u001b[0m\n",
       "    \u001b[0;36m__doc__\u001b[0m\n",
       "\u001b[0;33mclass:\u001b[0m\n",
       "    \u001b[0;36mFormatter:\u001b[0m \u001b[1;30m\u001b[0m\n",
       "    \u001b[0;36mTemplate:\u001b[0m \u001b[1;30mA string class for supporting $-substitutions.\u001b[0m\n",
       "    \u001b[0;36m_TemplateMetaclass:\u001b[0m \u001b[1;30m\u001b[0m\n",
       "    \u001b[0;36m_float:\u001b[0m \u001b[1;30mfloat(x) -> floating point number\u001b[0m\n",
       "    \u001b[0;36m_int:\u001b[0m \u001b[1;30mint(x=0) -> int or long\u001b[0m\n",
       "    \u001b[0;36m_long:\u001b[0m \u001b[1;30mlong(x=0) -> long\u001b[0m\n",
       "    \u001b[0;36m_multimap:\u001b[0m \u001b[1;30mHelper class for combining multiple mappings.\u001b[0m\n",
       "\u001b[0;33mexception:\u001b[0m\n",
       "    \u001b[0;36matof_error:\u001b[0m \u001b[1;30mInappropriate argument value (of correct type).\u001b[0m\n",
       "    \u001b[0;36matoi_error:\u001b[0m \u001b[1;30mInappropriate argument value (of correct type).\u001b[0m\n",
       "    \u001b[0;36matol_error:\u001b[0m \u001b[1;30mInappropriate argument value (of correct type).\u001b[0m\n",
       "    \u001b[0;36mindex_error:\u001b[0m \u001b[1;30mInappropriate argument value (of correct type).\u001b[0m\n",
       "\u001b[0;33mfunction:\u001b[0m\n",
       "    \u001b[0;36matof:\u001b[0m \u001b[1;30matof(s) -> float\u001b[0m\n",
       "    \u001b[0;36matoi:\u001b[0m \u001b[1;30matoi(s [,base]) -> int\u001b[0m\n",
       "    \u001b[0;36matol:\u001b[0m \u001b[1;30matol(s [,base]) -> long\u001b[0m\n",
       "    \u001b[0;36mcapitalize:\u001b[0m \u001b[1;30mcapitalize(s) -> string\u001b[0m\n",
       "    \u001b[0;36mcapwords:\u001b[0m \u001b[1;30mcapwords(s [,sep]) -> string\u001b[0m\n",
       "    \u001b[0;36mcenter:\u001b[0m \u001b[1;30mcenter(s, width[, fillchar]) -> string\u001b[0m\n",
       "    \u001b[0;36mcount:\u001b[0m \u001b[1;30mcount(s, sub[, start[,end]]) -> int\u001b[0m\n",
       "    \u001b[0;36mexpandtabs:\u001b[0m \u001b[1;30mexpandtabs(s [,tabsize]) -> string\u001b[0m\n",
       "    \u001b[0;36mfind:\u001b[0m \u001b[1;30mfind(s, sub [,start [,end]]) -> in\u001b[0m\n",
       "    \u001b[0;36mindex:\u001b[0m \u001b[1;30mindex(s, sub [,start [,end]]) -> int\u001b[0m\n",
       "    \u001b[0;36mjoin:\u001b[0m \u001b[1;30mjoin(list [,sep]) -> string\u001b[0m\n",
       "    \u001b[0;36mjoinfields:\u001b[0m \u001b[1;30mjoin(list [,sep]) -> string\u001b[0m\n",
       "    \u001b[0;36mljust:\u001b[0m \u001b[1;30mljust(s, width[, fillchar]) -> string\u001b[0m\n",
       "    \u001b[0;36mlower:\u001b[0m \u001b[1;30mlower(s) -> string\u001b[0m\n",
       "    \u001b[0;36mlstrip:\u001b[0m \u001b[1;30mlstrip(s [,chars]) -> string\u001b[0m\n",
       "    \u001b[0;36mmaketrans:\u001b[0m \u001b[1;30mmaketrans(frm, to) -> string\u001b[0m\n",
       "    \u001b[0;36mreplace:\u001b[0m \u001b[1;30mreplace (str, old, new[, maxreplace]) -> string\u001b[0m\n",
       "    \u001b[0;36mrfind:\u001b[0m \u001b[1;30mrfind(s, sub [,start [,end]]) -> int\u001b[0m\n",
       "    \u001b[0;36mrindex:\u001b[0m \u001b[1;30mrindex(s, sub [,start [,end]]) -> int\u001b[0m\n",
       "    \u001b[0;36mrjust:\u001b[0m \u001b[1;30mrjust(s, width[, fillchar]) -> string\u001b[0m\n",
       "    \u001b[0;36mrsplit:\u001b[0m \u001b[1;30mrsplit(s [,sep [,maxsplit]]) -> list of strings\u001b[0m\n",
       "    \u001b[0;36mrstrip:\u001b[0m \u001b[1;30mrstrip(s [,chars]) -> string\u001b[0m\n",
       "    \u001b[0;36msplit:\u001b[0m \u001b[1;30msplit(s [,sep [,maxsplit]]) -> list of strings\u001b[0m\n",
       "    \u001b[0;36msplitfields:\u001b[0m \u001b[1;30msplit(s [,sep [,maxsplit]]) -> list of strings\u001b[0m\n",
       "    \u001b[0;36mstrip:\u001b[0m \u001b[1;30mstrip(s [,chars]) -> string\u001b[0m\n",
       "    \u001b[0;36mswapcase:\u001b[0m \u001b[1;30mswapcase(s) -> string\u001b[0m\n",
       "    \u001b[0;36mtranslate:\u001b[0m \u001b[1;30mtranslate(s,table [,deletions]) -> string\u001b[0m\n",
       "    \u001b[0;36mupper:\u001b[0m \u001b[1;30mupper(s) -> string\u001b[0m\n",
       "    \u001b[0;36mzfill:\u001b[0m \u001b[1;30mzfill(x, width) -> string\u001b[0m"
      ]
     },
     "execution_count": 7,
     "metadata": {},
     "output_type": "execute_result"
    }
   ],
   "source": [
    "pdir(string)"
   ]
  },
  {
   "cell_type": "code",
   "execution_count": 16,
   "metadata": {},
   "outputs": [
    {
     "data": {
      "text/plain": [
       "'abcdefghijklmnopqrstuvwxyzABCDEFGHIJKLMNOPQRSTUVWXYZ'"
      ]
     },
     "execution_count": 16,
     "metadata": {},
     "output_type": "execute_result"
    }
   ],
   "source": [
    "string.ascii_letters"
   ]
  },
  {
   "cell_type": "code",
   "execution_count": 17,
   "metadata": {},
   "outputs": [
    {
     "data": {
      "text/plain": [
       "'abcdefghijklmnopqrstuvwxyz'"
      ]
     },
     "execution_count": 17,
     "metadata": {},
     "output_type": "execute_result"
    }
   ],
   "source": [
    "string.ascii_lowercase"
   ]
  },
  {
   "cell_type": "code",
   "execution_count": 18,
   "metadata": {},
   "outputs": [
    {
     "data": {
      "text/plain": [
       "'ABCDEFGHIJKLMNOPQRSTUVWXYZ'"
      ]
     },
     "execution_count": 18,
     "metadata": {},
     "output_type": "execute_result"
    }
   ],
   "source": [
    "string.ascii_uppercase"
   ]
  },
  {
   "cell_type": "code",
   "execution_count": 19,
   "metadata": {},
   "outputs": [
    {
     "data": {
      "text/plain": [
       "'0123456789'"
      ]
     },
     "execution_count": 19,
     "metadata": {},
     "output_type": "execute_result"
    }
   ],
   "source": [
    "string.digits"
   ]
  },
  {
   "cell_type": "code",
   "execution_count": 20,
   "metadata": {},
   "outputs": [
    {
     "data": {
      "text/plain": [
       "'0123456789abcdefghijklmnopqrstuvwxyzABCDEFGHIJKLMNOPQRSTUVWXYZ!\"#$%&\\'()*+,-./:;<=>?@[\\\\]^_`{|}~ \\t\\n\\r\\x0b\\x0c'"
      ]
     },
     "execution_count": 20,
     "metadata": {},
     "output_type": "execute_result"
    }
   ],
   "source": [
    "string.printable"
   ]
  },
  {
   "cell_type": "code",
   "execution_count": 14,
   "metadata": {},
   "outputs": [
    {
     "data": {
      "text/plain": [
       "'!\"#$%&\\'()*+,-./:;<=>?@[\\\\]^_`{|}~'"
      ]
     },
     "execution_count": 14,
     "metadata": {},
     "output_type": "execute_result"
    }
   ],
   "source": [
    "string.punctuation"
   ]
  },
  {
   "cell_type": "code",
   "execution_count": 15,
   "metadata": {},
   "outputs": [
    {
     "data": {
      "text/plain": [
       "'\\t\\n\\x0b\\x0c\\r '"
      ]
     },
     "execution_count": 15,
     "metadata": {},
     "output_type": "execute_result"
    }
   ],
   "source": [
    "string.whitespace"
   ]
  },
  {
   "cell_type": "code",
   "execution_count": 21,
   "metadata": {},
   "outputs": [
    {
     "name": "stdout",
     "output_type": "stream",
     "text": [
      "The quick brown fox jumped over the lazy dog.\n",
      "The Quick Brown Fox Jumped Over The Lazy Dog.\n"
     ]
    }
   ],
   "source": [
    "s='The quick brown fox jumped over the lazy dog.'\n",
    "print s\n",
    "print string.capwords(s)"
   ]
  },
  {
   "cell_type": "code",
   "execution_count": 22,
   "metadata": {},
   "outputs": [
    {
     "name": "stdout",
     "output_type": "stream",
     "text": [
      "The quick brown fox jumped over the lazy dog.\n",
      "Th3 qu1ck 620wn f0x jum93d 0v32 7h3 142y d06.\n"
     ]
    }
   ],
   "source": [
    "leet=string.maketrans('abegiloprstz','463611092572')\n",
    "s='The quick brown fox jumped over the lazy dog.'\n",
    "print s\n",
    "print s.translate(leet)"
   ]
  },
  {
   "cell_type": "code",
   "execution_count": 23,
   "metadata": {
    "collapsed": true
   },
   "outputs": [],
   "source": [
    "#TODO:https://pymotw.com/2/re/index.html"
   ]
  },
  {
   "cell_type": "code",
   "execution_count": null,
   "metadata": {
    "collapsed": true
   },
   "outputs": [],
   "source": []
  }
 ],
 "metadata": {
  "kernelspec": {
   "display_name": "Python 2",
   "language": "python",
   "name": "python2"
  },
  "language_info": {
   "codemirror_mode": {
    "name": "ipython",
    "version": 2
   },
   "file_extension": ".py",
   "mimetype": "text/x-python",
   "name": "python",
   "nbconvert_exporter": "python",
   "pygments_lexer": "ipython2",
   "version": "2.7.12"
  },
  "toc": {
   "colors": {
    "hover_highlight": "#DAA520",
    "navigate_num": "#000000",
    "navigate_text": "#333333",
    "running_highlight": "#FF0000",
    "selected_highlight": "#FFD700",
    "sidebar_border": "#EEEEEE",
    "wrapper_background": "#FFFFFF"
   },
   "moveMenuLeft": true,
   "nav_menu": {
    "height": "49px",
    "width": "252px"
   },
   "navigate_menu": true,
   "number_sections": true,
   "sideBar": false,
   "threshold": 4.0,
   "toc_cell": false,
   "toc_position": {
    "height": "306px",
    "left": "704px",
    "right": "20px",
    "top": "113px",
    "width": "160px"
   },
   "toc_section_display": "block",
   "toc_window_display": true,
   "widenNotebook": false
  }
 },
 "nbformat": 4,
 "nbformat_minor": 2
}
