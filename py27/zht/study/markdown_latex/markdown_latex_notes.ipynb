{
 "cells": [
  {
   "cell_type": "markdown",
   "metadata": {},
   "source": [
    "# <center>Markdown 笔记</center>"
   ]
  },
  {
   "cell_type": "markdown",
   "metadata": {},
   "source": [
    "## 1.Markdown中使用LaTex基础"
   ]
  },
  {
   "cell_type": "markdown",
   "metadata": {},
   "source": [
    "LaTex公式有两种，一种是在正文中的，一种是单独显示的。正文中的公司用：\n",
    ">\\$...\\$   \n",
    "\n",
    "来定义，单独显示的用\n",
    ">\\$\\$...\\$\\$"
   ]
  },
  {
   "cell_type": "markdown",
   "metadata": {
    "collapsed": true
   },
   "source": [
    "例如：  \n",
    ">我们定义$f(x)=\\sum_{i=0}^{N}\\int_{a}{b}g(t,i)\\text{d}$(行内公式)  \n",
    ">或则我们定义$f(x)$如下（行间公式）:\n",
    ">$$f(x)=\\sum_{i=0}^{N}\\int_{a}^{b}g(t,x)\\text{d}t\\tag{1}$$"
   ]
  },
  {
   "cell_type": "markdown",
   "metadata": {},
   "source": [
    "## 2.基本LaTex公式命令\n",
    "### 2.1常用希腊字母"
   ]
  },
  {
   "cell_type": "markdown",
   "metadata": {},
   "source": [
    "Tips:  \n",
    "如果用大写的希腊字母，把命令的首字母变成大写即可，如果使用斜体大写希腊字母，再在大写\n",
    "希腊字母的LaTex命令前加上var，例如\\varGamma生成$\\varGamma$\n",
    "$$\n",
    "\\alpha\\\\\n",
    "\\beta\\\\\n",
    "\\gamma    \\Gamma\\\\\n",
    "\\delta\\\\\n",
    "\\zeta\\\\\n",
    "\\eta\n",
    "\\lambda  \n",
    "\\mu  \n",
    "\\rho  \n",
    "\\sigma  \n",
    "\\tau  \n",
    "\\omega  \n",
    "$$"
   ]
  },
  {
   "cell_type": "markdown",
   "metadata": {},
   "source": [
    "举例：\n",
    "$$\\varGamma(x)=\\frac{\\int_{\\alpha}^{\\beta}g(t)(x-t)^2text{d}t}{\\phi(x)\\sum_{i=0}^{N-1}\\omega_i} \\tag{1}$$\n",
    "$$F=\\hat\\theta\\hat\\Omega^{-1}\\hat\\theta' \\tag{2}$$\n",
    "$$\\mathcal{L}(\\theta)=sum_{t=1}{T}-\\ln\\sqrt{2\\pi}-\\frac{x_t^2}{2\\sigma_t^2}-\\frac{1}{2}(\\ln(\\sigma_t^2)   \\tag{3}$$\n",
    "$$\\mu_4/\\hat\\sigma_t^4=(\\hat\\epsilon_t-E[\\hat\\epsilon_t])^4/\\hat\\sigma_t^4  \\tag{4}$$\n",
    "$$\\min_{\\theta\\in\\Theta}\\left(\\frac{1}{T}\\sum_{i=1}{T}g(x_t,\\hat\\theta)\\right)'W\\left(\\frac{1}{T}\\sum_{t=1}{T}g(x_t,\\hat\\theta)\\right)^{-1}   \\tag{5}$$\n",
    "\n",
    "$$\\hat\\sigma=\\sqrt{\\frac{1}{T}\\sum_{i=1}{T}(x_t-\\hat\\mu)^2} \\tag{6}   $$\n",
    "\n",
    "$$a^{2+2}    \\tag{7}$$\n",
    "$$a_{i,j}    \\tag{8}$$\n",
    "$${}_1^2X_3^4    \\tag{9}$$\n",
    "$$x'和x^\\prime    \\tag{10}$$\n",
    "$$\\dot{x}    \\tag{11}$$\n",
    "$$\\ddot{y}    \\tag{12}$$\n",
    "$$\\vec{c}    \\tag{13}$$\n",
    "$$\\overleftarrow{a b}    \\tag{14}$$\n",
    "$$\\overrightarrow{cd}    \\tag{15}$$\n",
    "$$\\prod_{i=1}^{N}x_i    \\tag{16}$$\n",
    "$$\\lim_{n \\to \\infty}x_n    \\tag{17}$$\n",
    "$$\\dbinom{n}{r}=\\binom{n}{n-r}=c^n_r=c^n_{n-r}    \\tag{18}$$\n",
    "\n",
    "$$\n",
    "\\begin{cases}\n",
    "    x+5y+z\\\\\n",
    "    7x-2y-4z\\\\\n",
    "    -6x+3y+2z\n",
    "\\end{cases}     \\tag{19}\n",
    "$$\n",
    "\n",
    "$$x_{\\color{Blue}{1,2}}=\\frac{-b\\pm\\sqrt{{\\color{Red}{b^2-4ac}}}}{2a}    \\tag{20}$$"
   ]
  },
  {
   "cell_type": "markdown",
   "metadata": {},
   "source": [
    "## 2.2常用求和符号和积分符号\n",
    "$$\n",
    "\\sum\\\\  \n",
    "\\int\\\\\n",
    "\\sum_{i=1}^{N}\\\\\n",
    "\\int_{a}^{b}\\\\\n",
    "\\prod\\\\\n",
    "\\iint\\\\\n",
    "\\iiint\\\\\n",
    "\\iint_{a}^{b}\\\\\n",
    "\\bigcup\\\\\n",
    "\\bigcap\\\\\n",
    "\\bigcap_{i=1}^{N}\\\\\n",
    "\\bigcap_{i=1}^{N}\n",
    "$$"
   ]
  },
  {
   "cell_type": "markdown",
   "metadata": {},
   "source": [
    "##  2.3其他常用符号\n",
    "$$\n",
    "\\sqrt[3]{2}\\\\\n",
    "\\sqrt{2}\\\\\n",
    "x_{3}\\\\\n",
    "\\lim_{x\\to0}\\\\\n",
    "\\frac{1}{2}\n",
    "$$"
   ]
  },
  {
   "cell_type": "markdown",
   "metadata": {},
   "source": [
    "## 3.简单矩阵表示\n",
    "$$\n",
    "\\begin{matrix}\n",
    "     1&2&3\\\\\n",
    "     4&5&6\\\\\n",
    "     7&8&9\\\\\n",
    "\\end{matrix}  \\tag{1}\n",
    "$$"
   ]
  },
  {
   "cell_type": "markdown",
   "metadata": {},
   "source": [
    "### 3.1带括号的矩阵\n",
    "分为两种：使用\\left...\\right 或者把公式命令中的matrix改成pmatrix，bmatrix，Bmatrix，vmatrix,Vmatrix等。\n",
    "\n",
    "\n",
    "$$\n",
    "\\left\\{\n",
    "    \\begin{matrix}\n",
    "        1&2&3\\\\\n",
    "        4&5&6\\\\\n",
    "        7&8&9\\\\\n",
    "    \\end{matrix}\n",
    "\\right\\} \\tag{1}\n",
    "$$"
   ]
  },
  {
   "cell_type": "markdown",
   "metadata": {},
   "source": [
    "或者使用\n",
    "$$\n",
    "\\left[\n",
    "    \\begin{matrix}\n",
    "        1&2&3\\\\\n",
    "        4&5&6\\\\\n",
    "        7&8&9\\\\\n",
    "    \\end{matrix}\n",
    "\\right]      \\tag{2}\n",
    "$$\n",
    "$$\n",
    "\\begin{bmatrix}\n",
    "        1&2&3\\\\\n",
    "        4&5&6\\\\\n",
    "        7&8&9\\\\\n",
    "\\end{bmatrix} \\tag{3}\n",
    "$$\n",
    "\n",
    "$$\n",
    "\\begin{Bmatrix}\n",
    "        1&2&3\\\\\n",
    "        4&5&6\\\\\n",
    "        7&8&9\\\\\n",
    "\\end{Bmatrix}    \\tag{4}\n",
    "$$\n",
    "\n",
    "$$\n",
    "\\begin{vmatrix}\n",
    "        1&2&3\\\\\n",
    "        4&5&6\\\\\n",
    "        7&8&9\\\\\n",
    "\\end{vmatrix}    \\tag{5}\n",
    "$$\n",
    "\n",
    "$$\n",
    "\\begin{Vmatrix}\n",
    "        1&2&3\\\\\n",
    "        4&5&6\\\\\n",
    "        7&8&9\\\\\n",
    "\\end{Vmatrix}    \\tag{6}\n",
    "$$"
   ]
  },
  {
   "cell_type": "markdown",
   "metadata": {},
   "source": [
    "### 3.4 带省略号的矩阵  \n",
    "如果矩阵元素太多，可以使用\\cdots $\\cdots$ \\ddots $\\ddots$ \\vdots $\\vdots$ 等省略符号来表示矩阵.\n",
    "$$\n",
    "\\begin{bmatrix}\n",
    "    1    & 2    & \\cdots  & 4 \\\\\n",
    "    7    & 6    & \\cdots  & 5 \\\\\n",
    "    \\vdots & \\vdots & \\ddots & \\vdots \\\\\n",
    "    8    & 9    & \\cdots    & 0  \\\\\n",
    "\\end{bmatrix}\n",
    "$$"
   ]
  },
  {
   "cell_type": "markdown",
   "metadata": {},
   "source": [
    "### 3.5带参数的矩阵   \n",
    "写增广矩阵，可能需要最右边一列单独考虑。可以用array命令来处理:\n",
    "$$\n",
    "\\left[\n",
    "    \\begin{array}{cc|c}\n",
    "            1&2&3\\\\\n",
    "            4&5&6\\\\\n",
    "            7&8&9\\\\\n",
    "    \\end{array}\n",
    "\\right]     \\tag{7}\n",
    "$$"
   ]
  },
  {
   "cell_type": "markdown",
   "metadata": {},
   "source": [
    "### 颜色\n",
    "default color  \n",
    "\n",
    "<font color='red'>red color</font>  \n",
    "<font color='green'>green color</font>"
   ]
  },
  {
   "cell_type": "markdown",
   "metadata": {},
   "source": [
    "### 字体\n",
    "<font size='-2'>Small size</font>  \n",
    "Normal size  \n",
    "<font size='+2'>Big size</font>\n"
   ]
  },
  {
   "cell_type": "markdown",
   "metadata": {},
   "source": [
    "## 引用\n",
    ">This module implements a number of iterator building blocks inspired by constructs from APL,Haskell,and SML.  \n",
    "Them module standardizes a core set of fast,menory efficient tools that are useful"
   ]
  },
  {
   "cell_type": "markdown",
   "metadata": {},
   "source": [
    "## 列表\n",
    "markdown中使用星号*加号+和减号-来表示无序列表:  \n",
    "* apple  \n",
    "* orange  \n",
    "* banana\n",
    "\n",
    "\n",
    "\n",
    "+ apple\n",
    "+ orange\n",
    "+ banana\n",
    "\n",
    "\n",
    "\n",
    "\n",
    "- apple\n",
    "- orange\n",
    "- banana\n"
   ]
  },
  {
   "cell_type": "markdown",
   "metadata": {},
   "source": [
    "有序裂变使用数字加一个英文句点作为项目标记：\n",
    "1. apple  \n",
    "2. orange\n",
    "3. peach"
   ]
  },
  {
   "cell_type": "markdown",
   "metadata": {},
   "source": [
    "同时列表也可以嵌套列表：\n",
    "1. Fruit\n",
    "    * apple\n",
    "    * orange\n",
    "    * banana\n",
    "2. Vegetable\n",
    "    + Potato\n",
    "    - Cabbage"
   ]
  },
  {
   "cell_type": "markdown",
   "metadata": {},
   "source": [
    "###链接\n",
    ">This is an [example link] (http://example.com/).  \n",
    "\n",
    "This is an [example link](http://www.hao123.com/)."
   ]
  },
  {
   "cell_type": "markdown",
   "metadata": {},
   "source": [
    "### 图片\n",
    "\n",
    "! [K线图](C:\\Python27\\zht\\study\\test.png 股票)"
   ]
  },
  {
   "cell_type": "markdown",
   "metadata": {},
   "source": [
    "### 代码\n",
    "代码块的首行用3个反引号\\```和编程语言名称(C,CS,python等）标记代码块。代码块的\n",
    "结尾用三个反引号\\```闭合代码块\n",
    "```Python\n",
    "import pandas as pd\n",
    "\n",
    "for i in range(10):\n",
    "    print i\n",
    "\n",
    "```"
   ]
  },
  {
   "cell_type": "code",
   "execution_count": null,
   "metadata": {
    "collapsed": true
   },
   "outputs": [],
   "source": []
  },
  {
   "cell_type": "code",
   "execution_count": null,
   "metadata": {
    "collapsed": true
   },
   "outputs": [],
   "source": []
  },
  {
   "cell_type": "markdown",
   "metadata": {},
   "source": [
    "$$r^e_{i,d+1,t}=\\theta_{i,t}+\\phi_{i,t}r_{i,d,t}+\\gamma_{i,t}sign(r^e_{i,d,t})\\cdot v_{i,d,t}+\\epsilon_{i,d+1,t} \\qquad d=1,\\cdots,D,$$  \n",
    "\n",
    "$r_{i,d,t}$ is the return on stock $i$ on day $d$ in month t;$r^e_{i,d,t}=r_{i,d,t}-r_{m,d,t}$,where $r_{m,d,t}$ is the return on the CRSP value-weighted market return on day $d$ in month t;and $v_{i,d,t}$ is the dollar volume for stock $i$ on day $d$ in month $t$.A stock's liquidity is computed in a given month only if there are more than 15 observations with which to estimate the regression (D>15),and we exclude a stock for the first and last partial month that it appears on the CRSP tape.The daily observations are not required to be consecutive (except that each observation requires dta for two successive days).Stocks with share prices less than \\$5 and greater than \\$1000 at the end of the previous month are excluded,and volume is measured in millions of dollars."
   ]
  },
  {
   "cell_type": "markdown",
   "metadata": {},
   "source": [
    "$$\\hat \\gamma_t=\\frac{1}{N}\\sum_{i=1}^N\\hat \\gamma_{i,t}$$\n",
    "We constuct the marketwide measure above for earch month."
   ]
  },
  {
   "cell_type": "markdown",
   "metadata": {},
   "source": [
    "innovations:  \n",
    "$$\\Delta\\hat\\gamma_t=\\left(\\frac{m_t}{m_1}\\right)\\frac{1}{N}\\sum_{i=1}^{N_t}(\\hat\\gamma_{i,t}-\\hat\\gamma_{i,t-1})$$"
   ]
  },
  {
   "cell_type": "markdown",
   "metadata": {},
   "source": [
    "We then regress $\\Delta \\hat\\gamma_t$ on its lag as well as the lagged value of the scaled level series:\n",
    "$$\\Delta\\hat\\gamma_t=a+b\\Delta\\hat\\gamma_{t-1}+c\\left(\\frac{m_{t-1}}{m_1}\\right)\\hat\\gamma_{t-1}+u_t$$"
   ]
  },
  {
   "cell_type": "markdown",
   "metadata": {},
   "source": [
    "The innovation in liquidity $L_p$ is taken as the fitted residual divided by 100:\n",
    "$$L_t=\\frac{1}{100}\\hat u_t$$"
   ]
  },
  {
   "cell_type": "markdown",
   "metadata": {},
   "source": [
    "$$r_{i,t}=\\beta_{i}^0+\\beta^L_{L_t}L_t+\\beta^M_iMKT_t+\\beta^S_iSMB_t+\\beta^H_iHML_t+\\epsilon_{i,t}$$"
   ]
  },
  {
   "cell_type": "markdown",
   "metadata": {
    "collapsed": true
   },
   "source": [
    "where$r_{i,t}$denotes asset $i$'s excess return.This definition of $\\beta_i^L$ captures the asset's comovement with aggregate liquidity.We allow $\\beta_i^L$ for any given stock to vary through time,and the predicted values of $\\beta_i^L$ used to sort stocks are obtained using two methods.The first allows the predicted $\\beta_i^L$ to depend on the stock's historical least-squares estimate as well as a number of additional stock chracteristics observable at the time of the sort.The second method uses only historical betas and is presented to confirm that the first set of results is not driven solely by sorting stocks on the factor characterristics that help predict liquidity betas."
   ]
  },
  {
   "cell_type": "markdown",
   "metadata": {},
   "source": [
    "For the details of the first method,refer to the paper.Here we present the second method.  \n",
    "\n",
    "\n",
    "Sorting by Historical liquidity Betas:\n",
    ">  \n",
    "At the end of each year between 1967 and 1998,we identify stocks with as least five years of monthly returns continuing through the current year end.For each stock,we estimate its historical liquidity beta by running the regression $$r_{i,t}=\\beta_{i}^0+\\beta^L_{L_t}L_t+\\beta^M_iMKT_t+\\beta^S_iSMB_t+\\beta^H_iHML_t+\\epsilon_{i,t}$$  \n",
    "using the most recent five years of monthly data."
   ]
  },
  {
   "cell_type": "code",
   "execution_count": null,
   "metadata": {
    "collapsed": true
   },
   "outputs": [],
   "source": []
  }
 ],
 "metadata": {
  "kernelspec": {
   "display_name": "Python 2",
   "language": "python",
   "name": "python2"
  },
  "language_info": {
   "codemirror_mode": {
    "name": "ipython",
    "version": 2
   },
   "file_extension": ".py",
   "mimetype": "text/x-python",
   "name": "python",
   "nbconvert_exporter": "python",
   "pygments_lexer": "ipython2",
   "version": "2.7.12"
  },
  "toc": {
   "colors": {
    "hover_highlight": "#DAA520",
    "navigate_num": "#000000",
    "navigate_text": "#333333",
    "running_highlight": "#FF0000",
    "selected_highlight": "#FFD700",
    "sidebar_border": "#EEEEEE",
    "wrapper_background": "#FFFFFF"
   },
   "moveMenuLeft": true,
   "nav_menu": {
    "height": "325px",
    "width": "252px"
   },
   "navigate_menu": true,
   "number_sections": true,
   "sideBar": true,
   "threshold": 4,
   "toc_cell": false,
   "toc_section_display": "block",
   "toc_window_display": false,
   "widenNotebook": false
  }
 },
 "nbformat": 4,
 "nbformat_minor": 2
}
