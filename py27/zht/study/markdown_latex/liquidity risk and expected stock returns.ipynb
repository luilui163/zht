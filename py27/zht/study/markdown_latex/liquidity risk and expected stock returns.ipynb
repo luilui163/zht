{
 "cells": [
  {
   "cell_type": "markdown",
   "metadata": {},
   "source": [
    "$$r^e_{i,d+1,t}=\\theta_{i,t}+\\phi_{i,t}r_{i,d,t}+\\gamma_{i,t}sign(r^e_{i,d,t})\\cdot v_{i,d,t}+\\epsilon_{i,d+1,t} \\qquad d=1,\\cdots,D,$$  \n",
    "\n",
    "$r_{i,d,t}$ is the return on stock $i$ on day $d$ in month t;$r^e_{i,d,t}=r_{i,d,t}-r_{m,d,t}$,where $r_{m,d,t}$ is the return on the CRSP value-weighted market return on day $d$ in month t;and $v_{i,d,t}$ is the dollar volume for stock $i$ on day $d$ in month $t$.A stock's liquidity is computed in a given month only if there are more than 15 observations with which to estimate the regression (D>15),and we exclude a stock for the first and last partial month that it appears on the CRSP tape.The daily observations are not required to be consecutive (except that each observation requires dta for two successive days).Stocks with share prices less than \\$5 and greater than \\$1000 at the end of the previous month are excluded,and volume is measured in millions of dollars.\n",
    "\n",
    "\n",
    "$$\\hat \\gamma_t=\\frac{1}{N}\\sum_{i=1}^N\\hat \\gamma_{i,t}$$\n",
    "We constuct the marketwide measure above for earch month.\n",
    "\n",
    "Obviously,a dollar trade size of \\$1 million was more substantial inrelative terms in teh 1960s than in the 1990s,so,not surprisingly,the raw values of $\\hat\\gamma$,tend to be smaller in magnitude later in the period.It seems reasonable to constract a liquidity measure that reflects the cost of a trade whose size is commensurate with the overall size of the stock market,so we construct teh scaled series $(m_t/m_1)\\hat\\gamma$,where $m_t$is the total dollar value at the end of month $t-1$ of the stocks included in the average in month $t$,and month $1$ corresponds to August 1962.  \n",
    "\n",
    "In constructing innovations,we do not work directly with that series,since to do so could introduce a return component through fluctuations in the scaling factor $(m_t/m_1)$. \n",
    "$$\\Delta\\hat\\gamma_t=\\left(\\frac{m_t}{m_1}\\right)\\frac{1}{N}\\sum_{i=1}^{N_t}(\\hat\\gamma_{i,t}-\\hat\\gamma_{i,t-1})$$\n",
    "\n",
    "We then regress $\\Delta \\hat\\gamma_t$ on its lag as well as the lagged value of the scaled level series:\n",
    "$$\\Delta\\hat\\gamma_t=a+b\\Delta\\hat\\gamma_{t-1}+c\\left(\\frac{m_{t-1}}{m_1}\\right)\\hat\\gamma_{t-1}+u_t$$\n",
    "\n",
    "The innovation in liquidity $L_p$ is taken as the fitted residual divided by 100:\n",
    "$$L_t=\\frac{1}{100}\\hat u_t$$\n",
    "\n",
    "$$r_{i,t}=\\beta_{i}^0+\\beta^L_{L_t}L_t+\\beta^M_iMKT_t+\\beta^S_iSMB_t+\\beta^H_iHML_t+\\epsilon_{i,t}$$\n",
    "\n",
    "where$r_{i,t}$denotes asset $i$'s excess return.This definition of $\\beta_i^L$ captures the asset's comovement with aggregate liquidity.We allow $\\beta_i^L$ for any given stock to vary through time,and the predicted values of $\\beta_i^L$ used to sort stocks are obtained using two methods.The first allows the predicted $\\beta_i^L$ to depend on the stock's historical least-squares estimate as well as a number of additional stock chracteristics observable at the time of the sort.The second method uses only historical betas and is presented to confirm that the first set of results is not driven solely by sorting stocks on the factor characterristics that help predict liquidity betas.\n",
    "\n",
    "For the details of the first method,refer to the paper.Here we present the second method.  \n",
    "\n",
    "\n",
    "Sorting by Historical liquidity Betas:\n",
    ">  \n",
    "At the end of each year between 1967 and 1998,we identify stocks with as least five years of monthly returns continuing through the current year end.For each stock,we estimate its historical liquidity beta by running the regression $$r_{i,t}=\\beta_{i}^0+\\beta^L_{L_t}L_t+\\beta^M_iMKT_t+\\beta^S_iSMB_t+\\beta^H_iHML_t+\\epsilon_{i,t}$$  \n",
    "using the most recent five years of monthly data.\n",
    "\n"
   ]
  }
 ],
 "metadata": {
  "kernelspec": {
   "display_name": "Python 2",
   "language": "python",
   "name": "python2"
  },
  "language_info": {
   "codemirror_mode": {
    "name": "ipython",
    "version": 2
   },
   "file_extension": ".py",
   "mimetype": "text/x-python",
   "name": "python",
   "nbconvert_exporter": "python",
   "pygments_lexer": "ipython2",
   "version": "2.7.12"
  },
  "toc": {
   "colors": {
    "hover_highlight": "#DAA520",
    "navigate_num": "#000000",
    "navigate_text": "#333333",
    "running_highlight": "#FF0000",
    "selected_highlight": "#FFD700",
    "sidebar_border": "#EEEEEE",
    "wrapper_background": "#FFFFFF"
   },
   "moveMenuLeft": true,
   "nav_menu": {
    "height": "12px",
    "width": "252px"
   },
   "navigate_menu": true,
   "number_sections": true,
   "sideBar": true,
   "threshold": 4.0,
   "toc_cell": false,
   "toc_section_display": "block",
   "toc_window_display": false,
   "widenNotebook": false
  }
 },
 "nbformat": 4,
 "nbformat_minor": 2
}
