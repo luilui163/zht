{
 "cells": [
  {
   "cell_type": "markdown",
   "metadata": {},
   "source": [
    "# ABU 量化系统  简介 （版本 0.1）\n",
    "\n",
    "* #### __author__ = 'BBFamily'\n",
    "* ####  __email__ = 'bbfamily@126.com'\n",
    "* ####  __weixin__ = 'aaaabbbuu'"
   ]
  },
  {
   "cell_type": "markdown",
   "metadata": {},
   "source": [
    "## 第一部分 数据获取"
   ]
  },
  {
   "cell_type": "code",
   "execution_count": 1,
   "metadata": {
    "scrolled": true
   },
   "outputs": [
    {
     "ename": "ImportError",
     "evalue": "No module named ZEnv",
     "output_type": "error",
     "traceback": [
      "\u001b[1;31m---------------------------------------------------------------------------\u001b[0m",
      "\u001b[1;31mImportError\u001b[0m                               Traceback (most recent call last)",
      "\u001b[1;32m<ipython-input-1-9febd1fc0ed0>\u001b[0m in \u001b[0;36m<module>\u001b[1;34m()\u001b[0m\n\u001b[1;32m----> 1\u001b[1;33m \u001b[1;32mimport\u001b[0m \u001b[0mZEnv\u001b[0m\u001b[1;33m\u001b[0m\u001b[0m\n\u001b[0m\u001b[0;32m      2\u001b[0m \u001b[1;32mimport\u001b[0m \u001b[0mZLog\u001b[0m\u001b[1;33m\u001b[0m\u001b[0m\n\u001b[0;32m      3\u001b[0m \u001b[1;32mimport\u001b[0m \u001b[0mZCommonUtil\u001b[0m\u001b[1;33m\u001b[0m\u001b[0m\n\u001b[0;32m      4\u001b[0m \u001b[0mget_ipython\u001b[0m\u001b[1;33m(\u001b[0m\u001b[1;33m)\u001b[0m\u001b[1;33m.\u001b[0m\u001b[0mmagic\u001b[0m\u001b[1;33m(\u001b[0m\u001b[1;34mu'matplotlib inline'\u001b[0m\u001b[1;33m)\u001b[0m\u001b[1;33m\u001b[0m\u001b[0m\n",
      "\u001b[1;31mImportError\u001b[0m: No module named ZEnv"
     ]
    }
   ],
   "source": [
    "import ZEnv\n",
    "import ZLog\n",
    "import ZCommonUtil\n",
    "%matplotlib inline"
   ]
  },
  {
   "cell_type": "code",
   "execution_count": 2,
   "metadata": {},
   "outputs": [
    {
     "name": "stdout",
     "output_type": "stream",
     "text": [
      "makedirs data/DayKLine/2016-09-19\n"
     ]
    }
   ],
   "source": [
    "import SymbolPd"
   ]
  },
  {
   "cell_type": "code",
   "execution_count": 3,
   "metadata": {
    "collapsed": true
   },
   "outputs": [],
   "source": [
    "kl_pd = SymbolPd.make_kfold_pd('usNOAH')"
   ]
  },
  {
   "cell_type": "code",
   "execution_count": 4,
   "metadata": {},
   "outputs": [
    {
     "name": "stderr",
     "output_type": "stream",
     "text": [
      "(504, 12)\n",
      "None\n",
      "            atr14       atr21       close          date   date_week  \\\n",
      "count  504.000000  504.000000  504.000000  5.040000e+02  504.000000   \n",
      "mean     1.459066    1.458645   24.391329  2.015252e+07    2.017857   \n",
      "std      0.468504    0.433271    5.141005  6.667360e+03    1.396416   \n",
      "min      0.622084    0.665682   12.950000  2.014091e+07    0.000000   \n",
      "25%      1.138517    1.167521   21.402500  2.015031e+07    1.000000   \n",
      "50%      1.505344    1.518778   24.380000  2.015091e+07    2.000000   \n",
      "75%      1.760947    1.740111   26.955000  2.016031e+07    3.000000   \n",
      "max      3.044239    2.715260   37.320000  2.016091e+07    4.000000   \n",
      "\n",
      "             high         key         low  netChangeRatio        open  \\\n",
      "count  504.000000  504.000000  504.000000      504.000000  504.000000   \n",
      "mean    24.936770  251.500000   23.820790        0.163690   24.376387   \n",
      "std      5.265632  145.636534    5.024205        3.598193    5.140118   \n",
      "min     13.420000    0.000000   12.890000      -10.860000   13.060000   \n",
      "25%     21.807500  125.750000   20.597500       -2.040000   21.200000   \n",
      "50%     25.115000  251.500000   23.960000        0.045000   24.525000   \n",
      "75%     27.455000  377.250000   26.490000        1.997500   26.962500   \n",
      "max     37.960000  503.000000   36.030000       18.450000   37.370000   \n",
      "\n",
      "         preClose        volume  \n",
      "count  504.000000  5.040000e+02  \n",
      "mean    24.371151  4.591360e+05  \n",
      "std      5.155777  3.924157e+05  \n",
      "min     12.950000  1.661000e+03  \n",
      "25%     21.312500  2.285695e+05  \n",
      "50%     24.380000  3.652830e+05  \n",
      "75%     26.955000  5.510848e+05  \n",
      "max     37.320000  4.043378e+06  \n"
     ]
    },
    {
     "name": "stdout",
     "output_type": "stream",
     "text": [
      "<class 'pandas.core.frame.DataFrame'>\n",
      "DatetimeIndex: 504 entries, 2014-09-09 to 2016-09-09\n",
      "Data columns (total 12 columns):\n",
      "atr14             504 non-null float64\n",
      "atr21             504 non-null float64\n",
      "close             504 non-null float64\n",
      "date              504 non-null int64\n",
      "date_week         504 non-null int64\n",
      "high              504 non-null float64\n",
      "key               504 non-null int64\n",
      "low               504 non-null float64\n",
      "netChangeRatio    504 non-null float64\n",
      "open              504 non-null float64\n",
      "preClose          504 non-null float64\n",
      "volume            504 non-null int64\n",
      "dtypes: float64(8), int64(4)\n",
      "memory usage: 51.2 KB\n"
     ]
    },
    {
     "data": {
      "text/html": [
       "<div>\n",
       "<table border=\"1\" class=\"dataframe\">\n",
       "  <thead>\n",
       "    <tr style=\"text-align: right;\">\n",
       "      <th></th>\n",
       "      <th>atr14</th>\n",
       "      <th>atr21</th>\n",
       "      <th>close</th>\n",
       "      <th>date</th>\n",
       "      <th>date_week</th>\n",
       "      <th>high</th>\n",
       "      <th>key</th>\n",
       "      <th>low</th>\n",
       "      <th>netChangeRatio</th>\n",
       "      <th>open</th>\n",
       "      <th>preClose</th>\n",
       "      <th>volume</th>\n",
       "    </tr>\n",
       "  </thead>\n",
       "  <tbody>\n",
       "    <tr>\n",
       "      <th>2014-09-09</th>\n",
       "      <td>0.883184</td>\n",
       "      <td>0.890822</td>\n",
       "      <td>15.11</td>\n",
       "      <td>20140909</td>\n",
       "      <td>1</td>\n",
       "      <td>15.645</td>\n",
       "      <td>0</td>\n",
       "      <td>15.07</td>\n",
       "      <td>-2.89</td>\n",
       "      <td>15.51</td>\n",
       "      <td>15.56</td>\n",
       "      <td>145848</td>\n",
       "    </tr>\n",
       "    <tr>\n",
       "      <th>2014-09-10</th>\n",
       "      <td>0.874386</td>\n",
       "      <td>0.884592</td>\n",
       "      <td>15.16</td>\n",
       "      <td>20140910</td>\n",
       "      <td>2</td>\n",
       "      <td>15.180</td>\n",
       "      <td>1</td>\n",
       "      <td>14.80</td>\n",
       "      <td>0.33</td>\n",
       "      <td>15.15</td>\n",
       "      <td>15.11</td>\n",
       "      <td>240016</td>\n",
       "    </tr>\n",
       "    <tr>\n",
       "      <th>2014-09-11</th>\n",
       "      <td>0.845501</td>\n",
       "      <td>0.864850</td>\n",
       "      <td>15.26</td>\n",
       "      <td>20140911</td>\n",
       "      <td>3</td>\n",
       "      <td>15.370</td>\n",
       "      <td>2</td>\n",
       "      <td>14.90</td>\n",
       "      <td>0.66</td>\n",
       "      <td>15.13</td>\n",
       "      <td>15.16</td>\n",
       "      <td>234947</td>\n",
       "    </tr>\n",
       "    <tr>\n",
       "      <th>2014-09-12</th>\n",
       "      <td>0.823679</td>\n",
       "      <td>0.849381</td>\n",
       "      <td>14.89</td>\n",
       "      <td>20140912</td>\n",
       "      <td>4</td>\n",
       "      <td>15.250</td>\n",
       "      <td>3</td>\n",
       "      <td>14.71</td>\n",
       "      <td>-2.42</td>\n",
       "      <td>15.25</td>\n",
       "      <td>15.26</td>\n",
       "      <td>439425</td>\n",
       "    </tr>\n",
       "    <tr>\n",
       "      <th>2014-09-15</th>\n",
       "      <td>0.825559</td>\n",
       "      <td>0.849410</td>\n",
       "      <td>14.63</td>\n",
       "      <td>20140915</td>\n",
       "      <td>0</td>\n",
       "      <td>14.870</td>\n",
       "      <td>4</td>\n",
       "      <td>14.41</td>\n",
       "      <td>-1.75</td>\n",
       "      <td>14.87</td>\n",
       "      <td>14.89</td>\n",
       "      <td>288421</td>\n",
       "    </tr>\n",
       "  </tbody>\n",
       "</table>\n",
       "</div>"
      ],
      "text/plain": [
       "               atr14     atr21  close      date  date_week    high  key  \\\n",
       "2014-09-09  0.883184  0.890822  15.11  20140909          1  15.645    0   \n",
       "2014-09-10  0.874386  0.884592  15.16  20140910          2  15.180    1   \n",
       "2014-09-11  0.845501  0.864850  15.26  20140911          3  15.370    2   \n",
       "2014-09-12  0.823679  0.849381  14.89  20140912          4  15.250    3   \n",
       "2014-09-15  0.825559  0.849410  14.63  20140915          0  14.870    4   \n",
       "\n",
       "              low  netChangeRatio   open  preClose  volume  \n",
       "2014-09-09  15.07           -2.89  15.51     15.56  145848  \n",
       "2014-09-10  14.80            0.33  15.15     15.11  240016  \n",
       "2014-09-11  14.90            0.66  15.13     15.16  234947  \n",
       "2014-09-12  14.71           -2.42  15.25     15.26  439425  \n",
       "2014-09-15  14.41           -1.75  14.87     14.89  288421  "
      ]
     },
     "execution_count": 4,
     "metadata": {},
     "output_type": "execute_result"
    }
   ],
   "source": [
    "ZLog.info(kl_pd.shape)\n",
    "ZLog.info(kl_pd.info())\n",
    "ZLog.info(kl_pd.describe())\n",
    "kl_pd.head()"
   ]
  },
  {
   "cell_type": "markdown",
   "metadata": {},
   "source": [
    "**默认获取最近两年数据，与大盘ixic做数据对齐操作， 多年数据修改参数，n_folds**"
   ]
  },
  {
   "cell_type": "code",
   "execution_count": 9,
   "metadata": {},
   "outputs": [
    {
     "data": {
      "text/plain": [
       "(1260, 12)"
      ]
     },
     "execution_count": 9,
     "metadata": {},
     "output_type": "execute_result"
    }
   ],
   "source": [
    "klpd_5y = SymbolPd.make_kfold_pd('usNOAH', n_folds=5)\n",
    "klpd_5y.shape"
   ]
  },
  {
   "cell_type": "markdown",
   "metadata": {},
   "source": [
    "**多个股票**"
   ]
  },
  {
   "cell_type": "code",
   "execution_count": 10,
   "metadata": {
    "collapsed": true
   },
   "outputs": [],
   "source": [
    "p_data = SymbolPd.make_kfold_mulpd(['usNOAH', 'usSFUN'])"
   ]
  },
  {
   "cell_type": "markdown",
   "metadata": {},
   "source": [
    "**得到三维面板数据，可灵活使用**"
   ]
  },
  {
   "cell_type": "code",
   "execution_count": 21,
   "metadata": {},
   "outputs": [
    {
     "name": "stderr",
     "output_type": "stream",
     "text": [
      "<class 'pandas.core.panel.Panel'>\n",
      "Dimensions: 2 (items) x 504 (major_axis) x 12 (minor_axis)\n",
      "Items axis: usNOAH to usSFUN\n",
      "Major_axis axis: 2014-07-25 00:00:00 to 2016-07-26 00:00:00\n",
      "Minor_axis axis: atr14 to volume\n"
     ]
    },
    {
     "data": {
      "text/html": [
       "<div>\n",
       "<table border=\"1\" class=\"dataframe\">\n",
       "  <thead>\n",
       "    <tr style=\"text-align: right;\">\n",
       "      <th></th>\n",
       "      <th>usNOAH</th>\n",
       "      <th>usSFUN</th>\n",
       "    </tr>\n",
       "  </thead>\n",
       "  <tbody>\n",
       "    <tr>\n",
       "      <th>2014-07-25</th>\n",
       "      <td>15.32</td>\n",
       "      <td>12.11</td>\n",
       "    </tr>\n",
       "    <tr>\n",
       "      <th>2014-07-28</th>\n",
       "      <td>16.13</td>\n",
       "      <td>12.45</td>\n",
       "    </tr>\n",
       "    <tr>\n",
       "      <th>2014-07-29</th>\n",
       "      <td>16.75</td>\n",
       "      <td>12.22</td>\n",
       "    </tr>\n",
       "    <tr>\n",
       "      <th>2014-07-30</th>\n",
       "      <td>16.83</td>\n",
       "      <td>11.78</td>\n",
       "    </tr>\n",
       "    <tr>\n",
       "      <th>2014-07-31</th>\n",
       "      <td>16.06</td>\n",
       "      <td>11.47</td>\n",
       "    </tr>\n",
       "  </tbody>\n",
       "</table>\n",
       "</div>"
      ],
      "text/plain": [
       "            usNOAH  usSFUN\n",
       "2014-07-25   15.32   12.11\n",
       "2014-07-28   16.13   12.45\n",
       "2014-07-29   16.75   12.22\n",
       "2014-07-30   16.83   11.78\n",
       "2014-07-31   16.06   11.47"
      ]
     },
     "execution_count": 21,
     "metadata": {},
     "output_type": "execute_result"
    }
   ],
   "source": [
    "ZLog.info(p_data)\n",
    "p_data_it = p_data.swapaxes('items', 'minor')\n",
    "data = p_data_it['close']\n",
    "data.head()"
   ]
  },
  {
   "cell_type": "markdown",
   "metadata": {},
   "source": [
    "**切割数据**"
   ]
  },
  {
   "cell_type": "code",
   "execution_count": 24,
   "metadata": {},
   "outputs": [
    {
     "name": "stdout",
     "output_type": "stream",
     "text": [
      "Help on function get_n_year in module SymbolPd:\n",
      "\n",
      "get_n_year(kl_pd, from_year, get_year=1, direction='bf')\n",
      "    获取pd中第n年切片数据\n",
      "    :param kl_pd:\n",
      "    :param from_year: form 1开始纠错0 to 1\n",
      "    :param get_year: 要几年的数据1就是1年，0.5半年 默认1 year支持0.1 to inf\n",
      "    :param direction:='bf' 从后向前切 ='ff' 从前向后切\n",
      "    :return:\n",
      "\n"
     ]
    }
   ],
   "source": [
    "help(SymbolPd.get_n_year)"
   ]
  },
  {
   "cell_type": "code",
   "execution_count": 28,
   "metadata": {},
   "outputs": [
    {
     "name": "stderr",
     "output_type": "stream",
     "text": [
      "(75, 12)\n"
     ]
    }
   ],
   "source": [
    "kl_pd = SymbolPd.get_n_year(klpd_5y, 3, 0.3)\n",
    "ZLog.info(kl_pd.shape)"
   ]
  },
  {
   "cell_type": "markdown",
   "metadata": {},
   "source": [
    "**分时数据**"
   ]
  },
  {
   "cell_type": "code",
   "execution_count": 9,
   "metadata": {
    "collapsed": true
   },
   "outputs": [],
   "source": [
    "\"\"\"\n",
    "make_kminute_foldpd\n",
    ":param target_symbol:\n",
    ":param n_folds: 获取几天的数据\n",
    ":param period: 获取时间间隔,单位分钟\n",
    ":return:\n",
    "\"\"\"\n",
    "kl_pd_min = SymbolPd.make_kminute_foldpd('usNOAH', n_folds=5, period=1)"
   ]
  },
  {
   "cell_type": "code",
   "execution_count": 10,
   "metadata": {},
   "outputs": [
    {
     "data": {
      "text/plain": [
       "(1955, 4)"
      ]
     },
     "execution_count": 10,
     "metadata": {},
     "output_type": "execute_result"
    }
   ],
   "source": [
    "kl_pd_min.shape"
   ]
  },
  {
   "cell_type": "code",
   "execution_count": 12,
   "metadata": {},
   "outputs": [
    {
     "data": {
      "text/html": [
       "<div>\n",
       "<table border=\"1\" class=\"dataframe\">\n",
       "  <thead>\n",
       "    <tr style=\"text-align: right;\">\n",
       "      <th></th>\n",
       "      <th>netChangeRatio</th>\n",
       "      <th>preClose</th>\n",
       "      <th>price</th>\n",
       "      <th>volume</th>\n",
       "    </tr>\n",
       "  </thead>\n",
       "  <tbody>\n",
       "    <tr>\n",
       "      <th>2016-09-02 15:56:00</th>\n",
       "      <td>0.458361</td>\n",
       "      <td>26.18</td>\n",
       "      <td>26.299999</td>\n",
       "      <td>100</td>\n",
       "    </tr>\n",
       "    <tr>\n",
       "      <th>2016-09-02 15:57:00</th>\n",
       "      <td>0.458361</td>\n",
       "      <td>26.18</td>\n",
       "      <td>26.299999</td>\n",
       "      <td>0</td>\n",
       "    </tr>\n",
       "    <tr>\n",
       "      <th>2016-09-02 15:58:00</th>\n",
       "      <td>0.458361</td>\n",
       "      <td>26.18</td>\n",
       "      <td>26.299999</td>\n",
       "      <td>0</td>\n",
       "    </tr>\n",
       "    <tr>\n",
       "      <th>2016-09-02 15:59:00</th>\n",
       "      <td>0.458361</td>\n",
       "      <td>26.18</td>\n",
       "      <td>26.299999</td>\n",
       "      <td>0</td>\n",
       "    </tr>\n",
       "    <tr>\n",
       "      <th>2016-09-02 16:00:00</th>\n",
       "      <td>0.458361</td>\n",
       "      <td>26.18</td>\n",
       "      <td>26.299999</td>\n",
       "      <td>0</td>\n",
       "    </tr>\n",
       "  </tbody>\n",
       "</table>\n",
       "</div>"
      ],
      "text/plain": [
       "                     netChangeRatio  preClose      price  volume\n",
       "2016-09-02 15:56:00        0.458361     26.18  26.299999     100\n",
       "2016-09-02 15:57:00        0.458361     26.18  26.299999       0\n",
       "2016-09-02 15:58:00        0.458361     26.18  26.299999       0\n",
       "2016-09-02 15:59:00        0.458361     26.18  26.299999       0\n",
       "2016-09-02 16:00:00        0.458361     26.18  26.299999       0"
      ]
     },
     "execution_count": 12,
     "metadata": {},
     "output_type": "execute_result"
    }
   ],
   "source": [
    "kl_pd_min.tail()"
   ]
  },
  {
   "cell_type": "markdown",
   "metadata": {},
   "source": [
    "**基本面数据**"
   ]
  },
  {
   "cell_type": "code",
   "execution_count": 30,
   "metadata": {},
   "outputs": [
    {
     "name": "stderr",
     "output_type": "stream",
     "text": [
      "NOAH info form local\n"
     ]
    },
    {
     "data": {
      "text/plain": [
       "Avg_Daily_Volume            349135\n",
       "EPS_Current_Year              1.74\n",
       "EPS_Next_Year                 1.96\n",
       "EPS_Next_Quarter                 0\n",
       "Dividend_Yield                   0\n",
       "Earnings_Share               1.478\n",
       "Dividend_Share                   0\n",
       "Dividend_Pay_Date         4/9/2013\n",
       "52_weekLow                   18.66\n",
       "52_weekHigh                  37.96\n",
       "50_mv                      25.3009\n",
       "200_mv                     26.6089\n",
       "PE_Ratio                   17.5914\n",
       "PEG_Ratio                     0.69\n",
       "PERatio_Real                   NaN\n",
       "Price_EPS_Current_Year     14.9426\n",
       "Price_EPS_Next_Year        13.2654\n",
       "1yr_Target_Price                28\n",
       "Name: NOAH, dtype: object"
      ]
     },
     "execution_count": 30,
     "metadata": {},
     "output_type": "execute_result"
    }
   ],
   "source": [
    "SymbolPd.make_pd_info('usNOAH')"
   ]
  },
  {
   "cell_type": "markdown",
   "metadata": {},
   "source": [
    "**当天实时数据**"
   ]
  },
  {
   "cell_type": "code",
   "execution_count": 43,
   "metadata": {},
   "outputs": [
    {
     "name": "stderr",
     "output_type": "stream",
     "text": [
      "['LYRPeratio', 'TTMPeratio', 'amount', 'amplitudeRatio', 'ask', 'bid', 'bvRatio', 'capitalization', 'ccl', 'circulatingCapital', 'close', 'count', 'currencyValue', 'date', 'dealCount', 'fairNum', 'fallNum', 'high', 'index', 'industryList', 'inside', 'limitDown', 'limitUp', 'low', 'netAssetsPerShare', 'netChange', 'netChangeRatio', 'netFundsFlow', 'nowVol', 'open', 'outside', 'perShareEarn', 'peratio', 'preClose', 'psRatio', 'riseNum', 'stockBasic', 'time', 'totalShareCapital', 'turnoverRatio', 'usestedt', 'volume', 'volumeRatio', 'weekHigh', 'weekLow', 'weibiRatio']\n",
      "0\n",
      "[StockBets(volume=2, price=26.329999923706)]\n",
      "[StockBets(volume=1, price=26.219999313354)]\n"
     ]
    }
   ],
   "source": [
    "bets = SymbolPd.make_pd_bets('usNOAH').snapShot\n",
    "ZLog.info(filter(lambda x: not x.startswith('_'), dir(bets)))\n",
    "ZLog.info(bets.amount)\n",
    "ZLog.info(bets.ask)\n",
    "ZLog.info(bets.bid)"
   ]
  },
  {
   "cell_type": "markdown",
   "metadata": {},
   "source": [
    "**绘制数据**"
   ]
  },
  {
   "cell_type": "code",
   "execution_count": 6,
   "metadata": {
    "collapsed": true
   },
   "outputs": [],
   "source": [
    "import MarketDrawer"
   ]
  },
  {
   "cell_type": "markdown",
   "metadata": {},
   "source": [
    "### 静态不可交互"
   ]
  },
  {
   "cell_type": "code",
   "execution_count": 7,
   "metadata": {},
   "outputs": [
    {
     "data": {
      "image/png": "[encoded data removed]",
      "text/plain": [
       "<matplotlib.figure.Figure at 0x117f16e50>"
      ]
     },
     "metadata": {},
     "output_type": "display_data"
    }
   ],
   "source": [
    "MarketDrawer.plot_candle_form_klpd(kl_pd)"
   ]
  },
  {
   "cell_type": "markdown",
   "metadata": {},
   "source": [
    "### 动态可交互"
   ]
  },
  {
   "cell_type": "code",
   "execution_count": 11,
   "metadata": {},
   "outputs": [],
   "source": [
    "MarketDrawer.plot_candle_form_klpd(klpd_5y, html_bk=True)"
   ]
  },
  {
   "cell_type": "markdown",
   "metadata": {},
   "source": [
    "![image](./Snip20160904_3.png) "
   ]
  },
  {
   "cell_type": "markdown",
   "metadata": {},
   "source": [
    "**MarketDrawer 支持从order中绘制，并可加入更多的标记点之后会有操作介绍，支持多个同时显示操作，save参数支持\n",
    "保存在本地**"
   ]
  },
  {
   "cell_type": "code",
   "execution_count": 14,
   "metadata": {},
   "outputs": [
    {
     "data": {
      "text/plain": [
       "['plot_candle_form_klpd',\n",
       " 'plot_candle_from_order',\n",
       " 'plot_candle_from_symbol',\n",
       " 'plot_candle_stick',\n",
       " 'plot_html_symbol',\n",
       " 'plot_minute_candle_from_klpd',\n",
       " 'plot_minute_candle_from_symbol',\n",
       " 'plot_simple_mul_stock',\n",
       " 'plot_symbol']"
      ]
     },
     "execution_count": 14,
     "metadata": {},
     "output_type": "execute_result"
    }
   ],
   "source": [
    "filter(lambda x: x.startswith('plot'), dir(MarketDrawer))"
   ]
  },
  {
   "cell_type": "markdown",
   "metadata": {},
   "source": [
    "![image](./Snip20160904_4.png)"
   ]
  },
  {
   "cell_type": "markdown",
   "metadata": {},
   "source": [
    "### 分时图型"
   ]
  },
  {
   "cell_type": "markdown",
   "metadata": {},
   "source": [
    "原始数据没有high，low， open， close等数据，所有绘制柱状图\n",
    "使用5m resample 高开低收"
   ]
  },
  {
   "cell_type": "code",
   "execution_count": 20,
   "metadata": {},
   "outputs": [
    {
     "data": {
      "image/png": "[encoded data removed]",
      "text/plain": [
       "<matplotlib.figure.Figure at 0x122e03710>"
      ]
     },
     "metadata": {},
     "output_type": "display_data"
    }
   ],
   "source": [
    "pd_minute = MarketDrawer.plot_minute_candle_from_symbol('usQIWI')"
   ]
  },
  {
   "cell_type": "markdown",
   "metadata": {},
   "source": [
    "### 获取相同分类的股票列表"
   ]
  },
  {
   "cell_type": "code",
   "execution_count": 23,
   "metadata": {},
   "outputs": [
    {
     "data": {
      "image/png": "[encoded data removed]",
      "text/plain": [
       "<matplotlib.figure.Figure at 0x11e3e4b10>"
      ]
     },
     "metadata": {},
     "output_type": "display_data"
    }
   ],
   "source": [
    "import IndustriesHelper\n",
    "r_symbol = 'usSFUN'\n",
    "pDate, pdata_it = IndustriesHelper.get_industries_panel_from_target(r_symbol, show=True)"
   ]
  },
  {
   "cell_type": "code",
   "execution_count": 25,
   "metadata": {},
   "outputs": [
    {
     "data": {
      "text/html": [
       "<div>\n",
       "<table border=\"1\" class=\"dataframe\">\n",
       "  <thead>\n",
       "    <tr style=\"text-align: right;\">\n",
       "      <th></th>\n",
       "      <th>2014-07-31 00:00:00</th>\n",
       "      <th>2014-08-31 00:00:00</th>\n",
       "      <th>2014-09-30 00:00:00</th>\n",
       "      <th>2014-10-31 00:00:00</th>\n",
       "      <th>2014-11-30 00:00:00</th>\n",
       "      <th>2014-12-31 00:00:00</th>\n",
       "      <th>2015-01-31 00:00:00</th>\n",
       "      <th>2015-02-28 00:00:00</th>\n",
       "      <th>2015-03-31 00:00:00</th>\n",
       "      <th>2015-04-30 00:00:00</th>\n",
       "      <th>...</th>\n",
       "      <th>2015-10-31 00:00:00</th>\n",
       "      <th>2015-11-30 00:00:00</th>\n",
       "      <th>2015-12-31 00:00:00</th>\n",
       "      <th>2016-01-31 00:00:00</th>\n",
       "      <th>2016-02-29 00:00:00</th>\n",
       "      <th>2016-03-31 00:00:00</th>\n",
       "      <th>2016-04-30 00:00:00</th>\n",
       "      <th>2016-05-31 00:00:00</th>\n",
       "      <th>2016-06-30 00:00:00</th>\n",
       "      <th>2016-07-31 00:00:00</th>\n",
       "    </tr>\n",
       "  </thead>\n",
       "  <tbody>\n",
       "    <tr>\n",
       "      <th>usATHM</th>\n",
       "      <td>1.802</td>\n",
       "      <td>1.428095</td>\n",
       "      <td>-0.523333</td>\n",
       "      <td>1.049565</td>\n",
       "      <td>-0.979474</td>\n",
       "      <td>-0.734545</td>\n",
       "      <td>-0.0340</td>\n",
       "      <td>0.397368</td>\n",
       "      <td>0.720455</td>\n",
       "      <td>0.753810</td>\n",
       "      <td>...</td>\n",
       "      <td>0.515909</td>\n",
       "      <td>-0.8040</td>\n",
       "      <td>0.672273</td>\n",
       "      <td>-1.775263</td>\n",
       "      <td>0.0170</td>\n",
       "      <td>0.650000</td>\n",
       "      <td>0.294286</td>\n",
       "      <td>-0.821429</td>\n",
       "      <td>-0.962381</td>\n",
       "      <td>0.297059</td>\n",
       "    </tr>\n",
       "    <tr>\n",
       "      <th>usBIDU</th>\n",
       "      <td>1.238</td>\n",
       "      <td>-0.028571</td>\n",
       "      <td>0.107143</td>\n",
       "      <td>0.420435</td>\n",
       "      <td>0.154211</td>\n",
       "      <td>-0.315000</td>\n",
       "      <td>-0.2105</td>\n",
       "      <td>-0.338421</td>\n",
       "      <td>0.115455</td>\n",
       "      <td>-0.158095</td>\n",
       "      <td>...</td>\n",
       "      <td>1.479091</td>\n",
       "      <td>0.7825</td>\n",
       "      <td>-0.632273</td>\n",
       "      <td>-0.726842</td>\n",
       "      <td>0.3725</td>\n",
       "      <td>0.450000</td>\n",
       "      <td>0.097143</td>\n",
       "      <td>-0.363810</td>\n",
       "      <td>-0.240476</td>\n",
       "      <td>-0.061765</td>\n",
       "    </tr>\n",
       "    <tr>\n",
       "      <th>usBITA</th>\n",
       "      <td>-0.704</td>\n",
       "      <td>2.402381</td>\n",
       "      <td>-0.498571</td>\n",
       "      <td>0.398696</td>\n",
       "      <td>0.618947</td>\n",
       "      <td>-1.159545</td>\n",
       "      <td>-0.6525</td>\n",
       "      <td>0.344211</td>\n",
       "      <td>-0.853182</td>\n",
       "      <td>0.803333</td>\n",
       "      <td>...</td>\n",
       "      <td>0.408182</td>\n",
       "      <td>-0.7630</td>\n",
       "      <td>0.286818</td>\n",
       "      <td>-2.127895</td>\n",
       "      <td>0.6550</td>\n",
       "      <td>0.890000</td>\n",
       "      <td>0.077619</td>\n",
       "      <td>-0.890952</td>\n",
       "      <td>1.760952</td>\n",
       "      <td>0.054118</td>\n",
       "    </tr>\n",
       "    <tr>\n",
       "      <th>usDATE</th>\n",
       "      <td>1.298</td>\n",
       "      <td>0.090476</td>\n",
       "      <td>0.660476</td>\n",
       "      <td>-0.759130</td>\n",
       "      <td>-0.566316</td>\n",
       "      <td>-0.020000</td>\n",
       "      <td>-0.2730</td>\n",
       "      <td>0.408947</td>\n",
       "      <td>0.305000</td>\n",
       "      <td>0.759048</td>\n",
       "      <td>...</td>\n",
       "      <td>0.335455</td>\n",
       "      <td>0.2275</td>\n",
       "      <td>0.356364</td>\n",
       "      <td>-0.148947</td>\n",
       "      <td>0.0145</td>\n",
       "      <td>0.117273</td>\n",
       "      <td>0.000476</td>\n",
       "      <td>0.520952</td>\n",
       "      <td>0.940000</td>\n",
       "      <td>0.940000</td>\n",
       "    </tr>\n",
       "    <tr>\n",
       "      <th>usFENG</th>\n",
       "      <td>-0.082</td>\n",
       "      <td>0.160000</td>\n",
       "      <td>-0.456667</td>\n",
       "      <td>0.447391</td>\n",
       "      <td>-0.738421</td>\n",
       "      <td>-0.270455</td>\n",
       "      <td>-0.3425</td>\n",
       "      <td>-0.222105</td>\n",
       "      <td>-1.112273</td>\n",
       "      <td>1.190952</td>\n",
       "      <td>...</td>\n",
       "      <td>0.480000</td>\n",
       "      <td>0.0800</td>\n",
       "      <td>0.993636</td>\n",
       "      <td>-1.473158</td>\n",
       "      <td>-0.7970</td>\n",
       "      <td>0.843636</td>\n",
       "      <td>-0.478571</td>\n",
       "      <td>0.013810</td>\n",
       "      <td>-0.395714</td>\n",
       "      <td>0.282941</td>\n",
       "    </tr>\n",
       "    <tr>\n",
       "      <th>usJOBS</th>\n",
       "      <td>0.638</td>\n",
       "      <td>-2.751429</td>\n",
       "      <td>-0.678571</td>\n",
       "      <td>0.118261</td>\n",
       "      <td>0.961053</td>\n",
       "      <td>-0.094545</td>\n",
       "      <td>-0.0745</td>\n",
       "      <td>0.070000</td>\n",
       "      <td>-0.410455</td>\n",
       "      <td>0.540476</td>\n",
       "      <td>...</td>\n",
       "      <td>0.977727</td>\n",
       "      <td>-0.2950</td>\n",
       "      <td>-0.329545</td>\n",
       "      <td>-0.264737</td>\n",
       "      <td>0.0235</td>\n",
       "      <td>0.560455</td>\n",
       "      <td>-0.180952</td>\n",
       "      <td>0.203333</td>\n",
       "      <td>-0.320952</td>\n",
       "      <td>0.395882</td>\n",
       "    </tr>\n",
       "    <tr>\n",
       "      <th>usJRJC</th>\n",
       "      <td>-0.934</td>\n",
       "      <td>4.904762</td>\n",
       "      <td>-1.108095</td>\n",
       "      <td>-0.689565</td>\n",
       "      <td>1.502105</td>\n",
       "      <td>-1.156818</td>\n",
       "      <td>-0.3010</td>\n",
       "      <td>0.755789</td>\n",
       "      <td>-0.993636</td>\n",
       "      <td>1.079524</td>\n",
       "      <td>...</td>\n",
       "      <td>0.775000</td>\n",
       "      <td>0.1725</td>\n",
       "      <td>2.122273</td>\n",
       "      <td>-0.763684</td>\n",
       "      <td>0.0205</td>\n",
       "      <td>-0.121818</td>\n",
       "      <td>0.523810</td>\n",
       "      <td>-0.833333</td>\n",
       "      <td>0.211429</td>\n",
       "      <td>-0.281176</td>\n",
       "    </tr>\n",
       "    <tr>\n",
       "      <th>usKUTV</th>\n",
       "      <td>-0.166</td>\n",
       "      <td>1.202381</td>\n",
       "      <td>-0.802857</td>\n",
       "      <td>-0.044783</td>\n",
       "      <td>-0.264211</td>\n",
       "      <td>-0.543182</td>\n",
       "      <td>0.9065</td>\n",
       "      <td>-0.356316</td>\n",
       "      <td>0.050909</td>\n",
       "      <td>-0.058571</td>\n",
       "      <td>...</td>\n",
       "      <td>0.646818</td>\n",
       "      <td>0.0685</td>\n",
       "      <td>1.391818</td>\n",
       "      <td>-0.880000</td>\n",
       "      <td>0.9205</td>\n",
       "      <td>0.231818</td>\n",
       "      <td>0.737143</td>\n",
       "      <td>-0.077619</td>\n",
       "      <td>0.240952</td>\n",
       "      <td>-0.102353</td>\n",
       "    </tr>\n",
       "    <tr>\n",
       "      <th>usKZ</th>\n",
       "      <td>-0.086</td>\n",
       "      <td>-0.080476</td>\n",
       "      <td>-0.934762</td>\n",
       "      <td>-0.368696</td>\n",
       "      <td>0.558947</td>\n",
       "      <td>-0.790000</td>\n",
       "      <td>-0.0435</td>\n",
       "      <td>-0.288421</td>\n",
       "      <td>0.439091</td>\n",
       "      <td>1.087619</td>\n",
       "      <td>...</td>\n",
       "      <td>0.256818</td>\n",
       "      <td>-0.0405</td>\n",
       "      <td>0.413636</td>\n",
       "      <td>-0.263158</td>\n",
       "      <td>0.2090</td>\n",
       "      <td>-0.140000</td>\n",
       "      <td>0.055238</td>\n",
       "      <td>-1.007619</td>\n",
       "      <td>-0.841905</td>\n",
       "      <td>0.888824</td>\n",
       "    </tr>\n",
       "    <tr>\n",
       "      <th>usLEJU</th>\n",
       "      <td>-0.608</td>\n",
       "      <td>1.221429</td>\n",
       "      <td>-1.082857</td>\n",
       "      <td>0.463478</td>\n",
       "      <td>-0.153158</td>\n",
       "      <td>-0.828636</td>\n",
       "      <td>-0.1965</td>\n",
       "      <td>-0.328947</td>\n",
       "      <td>-0.699091</td>\n",
       "      <td>1.435714</td>\n",
       "      <td>...</td>\n",
       "      <td>1.236818</td>\n",
       "      <td>-0.9935</td>\n",
       "      <td>-0.084091</td>\n",
       "      <td>-1.817895</td>\n",
       "      <td>-0.4105</td>\n",
       "      <td>1.727727</td>\n",
       "      <td>-0.469048</td>\n",
       "      <td>0.062381</td>\n",
       "      <td>-0.150476</td>\n",
       "      <td>0.514118</td>\n",
       "    </tr>\n",
       "    <tr>\n",
       "      <th>usNTES</th>\n",
       "      <td>-0.124</td>\n",
       "      <td>0.229524</td>\n",
       "      <td>-0.121905</td>\n",
       "      <td>0.450435</td>\n",
       "      <td>0.586316</td>\n",
       "      <td>-0.270909</td>\n",
       "      <td>0.4915</td>\n",
       "      <td>-0.408421</td>\n",
       "      <td>0.254091</td>\n",
       "      <td>0.960000</td>\n",
       "      <td>...</td>\n",
       "      <td>0.869545</td>\n",
       "      <td>0.7365</td>\n",
       "      <td>0.401364</td>\n",
       "      <td>-0.736842</td>\n",
       "      <td>-0.6265</td>\n",
       "      <td>0.315000</td>\n",
       "      <td>-0.079524</td>\n",
       "      <td>1.173810</td>\n",
       "      <td>0.529524</td>\n",
       "      <td>0.332941</td>\n",
       "    </tr>\n",
       "    <tr>\n",
       "      <th>usRENN</th>\n",
       "      <td>0.068</td>\n",
       "      <td>0.079048</td>\n",
       "      <td>0.165238</td>\n",
       "      <td>0.057391</td>\n",
       "      <td>-0.938947</td>\n",
       "      <td>-0.570000</td>\n",
       "      <td>0.1575</td>\n",
       "      <td>-0.011053</td>\n",
       "      <td>-0.266818</td>\n",
       "      <td>1.035238</td>\n",
       "      <td>...</td>\n",
       "      <td>0.718636</td>\n",
       "      <td>-0.2895</td>\n",
       "      <td>0.362273</td>\n",
       "      <td>-0.688947</td>\n",
       "      <td>-0.0755</td>\n",
       "      <td>0.213182</td>\n",
       "      <td>-0.160000</td>\n",
       "      <td>-1.414286</td>\n",
       "      <td>-1.039524</td>\n",
       "      <td>-0.067059</td>\n",
       "    </tr>\n",
       "    <tr>\n",
       "      <th>usSFUN</th>\n",
       "      <td>-1.218</td>\n",
       "      <td>0.123810</td>\n",
       "      <td>-0.660952</td>\n",
       "      <td>-0.059130</td>\n",
       "      <td>-0.432632</td>\n",
       "      <td>-0.690455</td>\n",
       "      <td>-0.8450</td>\n",
       "      <td>0.646316</td>\n",
       "      <td>-0.537273</td>\n",
       "      <td>1.622381</td>\n",
       "      <td>...</td>\n",
       "      <td>0.347727</td>\n",
       "      <td>-0.1975</td>\n",
       "      <td>0.483182</td>\n",
       "      <td>-1.040000</td>\n",
       "      <td>-0.2790</td>\n",
       "      <td>0.578182</td>\n",
       "      <td>-0.224286</td>\n",
       "      <td>-0.164762</td>\n",
       "      <td>-0.287143</td>\n",
       "      <td>-0.055882</td>\n",
       "    </tr>\n",
       "    <tr>\n",
       "      <th>usSINA</th>\n",
       "      <td>-0.412</td>\n",
       "      <td>-0.210476</td>\n",
       "      <td>-0.530000</td>\n",
       "      <td>0.000870</td>\n",
       "      <td>-0.387368</td>\n",
       "      <td>-0.052727</td>\n",
       "      <td>-0.1530</td>\n",
       "      <td>0.134737</td>\n",
       "      <td>-0.640909</td>\n",
       "      <td>1.554762</td>\n",
       "      <td>...</td>\n",
       "      <td>0.810909</td>\n",
       "      <td>0.3440</td>\n",
       "      <td>-0.086818</td>\n",
       "      <td>-0.340526</td>\n",
       "      <td>-0.3380</td>\n",
       "      <td>0.494091</td>\n",
       "      <td>0.284762</td>\n",
       "      <td>0.394762</td>\n",
       "      <td>-0.020476</td>\n",
       "      <td>0.374118</td>\n",
       "    </tr>\n",
       "    <tr>\n",
       "      <th>usSOHU</th>\n",
       "      <td>0.212</td>\n",
       "      <td>0.199524</td>\n",
       "      <td>-0.748571</td>\n",
       "      <td>-0.108261</td>\n",
       "      <td>0.230526</td>\n",
       "      <td>0.250455</td>\n",
       "      <td>0.3055</td>\n",
       "      <td>-0.309474</td>\n",
       "      <td>0.093636</td>\n",
       "      <td>1.075714</td>\n",
       "      <td>...</td>\n",
       "      <td>0.955455</td>\n",
       "      <td>-0.0095</td>\n",
       "      <td>0.622273</td>\n",
       "      <td>-0.628947</td>\n",
       "      <td>-0.6915</td>\n",
       "      <td>0.621818</td>\n",
       "      <td>-0.456667</td>\n",
       "      <td>-0.328571</td>\n",
       "      <td>-0.463810</td>\n",
       "      <td>0.178824</td>\n",
       "    </tr>\n",
       "    <tr>\n",
       "      <th>usWB</th>\n",
       "      <td>-0.028</td>\n",
       "      <td>0.115714</td>\n",
       "      <td>-0.193333</td>\n",
       "      <td>-0.015652</td>\n",
       "      <td>-0.139474</td>\n",
       "      <td>-1.010909</td>\n",
       "      <td>-0.6565</td>\n",
       "      <td>0.394737</td>\n",
       "      <td>-0.130909</td>\n",
       "      <td>1.323810</td>\n",
       "      <td>...</td>\n",
       "      <td>1.557273</td>\n",
       "      <td>0.7580</td>\n",
       "      <td>0.229091</td>\n",
       "      <td>-1.241579</td>\n",
       "      <td>-0.1955</td>\n",
       "      <td>1.061818</td>\n",
       "      <td>1.543333</td>\n",
       "      <td>0.460000</td>\n",
       "      <td>0.405714</td>\n",
       "      <td>0.930000</td>\n",
       "    </tr>\n",
       "    <tr>\n",
       "      <th>usWUBA</th>\n",
       "      <td>-0.972</td>\n",
       "      <td>-0.735714</td>\n",
       "      <td>-0.474286</td>\n",
       "      <td>0.292609</td>\n",
       "      <td>1.151579</td>\n",
       "      <td>-0.666364</td>\n",
       "      <td>-0.3590</td>\n",
       "      <td>0.462632</td>\n",
       "      <td>1.127727</td>\n",
       "      <td>2.020476</td>\n",
       "      <td>...</td>\n",
       "      <td>0.524091</td>\n",
       "      <td>0.7095</td>\n",
       "      <td>0.445000</td>\n",
       "      <td>-0.813158</td>\n",
       "      <td>-0.1910</td>\n",
       "      <td>0.258182</td>\n",
       "      <td>-0.048571</td>\n",
       "      <td>-0.036667</td>\n",
       "      <td>-0.761429</td>\n",
       "      <td>0.561765</td>\n",
       "    </tr>\n",
       "    <tr>\n",
       "      <th>usYOKU</th>\n",
       "      <td>-0.758</td>\n",
       "      <td>0.247143</td>\n",
       "      <td>-0.460952</td>\n",
       "      <td>0.423043</td>\n",
       "      <td>-0.253684</td>\n",
       "      <td>-0.153636</td>\n",
       "      <td>-0.2825</td>\n",
       "      <td>-0.107368</td>\n",
       "      <td>-1.178182</td>\n",
       "      <td>2.054762</td>\n",
       "      <td>...</td>\n",
       "      <td>1.599545</td>\n",
       "      <td>0.5075</td>\n",
       "      <td>0.044545</td>\n",
       "      <td>0.018421</td>\n",
       "      <td>0.0265</td>\n",
       "      <td>0.018182</td>\n",
       "      <td>0.008571</td>\n",
       "      <td>0.000000</td>\n",
       "      <td>0.000000</td>\n",
       "      <td>0.000000</td>\n",
       "    </tr>\n",
       "    <tr>\n",
       "      <th>usZPIN</th>\n",
       "      <td>1.338</td>\n",
       "      <td>0.334762</td>\n",
       "      <td>-0.789524</td>\n",
       "      <td>0.315652</td>\n",
       "      <td>0.563684</td>\n",
       "      <td>0.078182</td>\n",
       "      <td>-0.0230</td>\n",
       "      <td>0.648947</td>\n",
       "      <td>-0.312273</td>\n",
       "      <td>-0.111429</td>\n",
       "      <td>...</td>\n",
       "      <td>0.759545</td>\n",
       "      <td>0.1520</td>\n",
       "      <td>-0.060455</td>\n",
       "      <td>0.263158</td>\n",
       "      <td>-0.1340</td>\n",
       "      <td>0.113182</td>\n",
       "      <td>-0.132857</td>\n",
       "      <td>0.034286</td>\n",
       "      <td>-0.302381</td>\n",
       "      <td>0.210588</td>\n",
       "    </tr>\n",
       "  </tbody>\n",
       "</table>\n",
       "<p>19 rows × 25 columns</p>\n",
       "</div>"
      ],
      "text/plain": [
       "        2014-07-31  2014-08-31  2014-09-30  2014-10-31  2014-11-30  \\\n",
       "usATHM       1.802    1.428095   -0.523333    1.049565   -0.979474   \n",
       "usBIDU       1.238   -0.028571    0.107143    0.420435    0.154211   \n",
       "usBITA      -0.704    2.402381   -0.498571    0.398696    0.618947   \n",
       "usDATE       1.298    0.090476    0.660476   -0.759130   -0.566316   \n",
       "usFENG      -0.082    0.160000   -0.456667    0.447391   -0.738421   \n",
       "usJOBS       0.638   -2.751429   -0.678571    0.118261    0.961053   \n",
       "usJRJC      -0.934    4.904762   -1.108095   -0.689565    1.502105   \n",
       "usKUTV      -0.166    1.202381   -0.802857   -0.044783   -0.264211   \n",
       "usKZ        -0.086   -0.080476   -0.934762   -0.368696    0.558947   \n",
       "usLEJU      -0.608    1.221429   -1.082857    0.463478   -0.153158   \n",
       "usNTES      -0.124    0.229524   -0.121905    0.450435    0.586316   \n",
       "usRENN       0.068    0.079048    0.165238    0.057391   -0.938947   \n",
       "usSFUN      -1.218    0.123810   -0.660952   -0.059130   -0.432632   \n",
       "usSINA      -0.412   -0.210476   -0.530000    0.000870   -0.387368   \n",
       "usSOHU       0.212    0.199524   -0.748571   -0.108261    0.230526   \n",
       "usWB        -0.028    0.115714   -0.193333   -0.015652   -0.139474   \n",
       "usWUBA      -0.972   -0.735714   -0.474286    0.292609    1.151579   \n",
       "usYOKU      -0.758    0.247143   -0.460952    0.423043   -0.253684   \n",
       "usZPIN       1.338    0.334762   -0.789524    0.315652    0.563684   \n",
       "\n",
       "        2014-12-31  2015-01-31  2015-02-28  2015-03-31  2015-04-30  \\\n",
       "usATHM   -0.734545     -0.0340    0.397368    0.720455    0.753810   \n",
       "usBIDU   -0.315000     -0.2105   -0.338421    0.115455   -0.158095   \n",
       "usBITA   -1.159545     -0.6525    0.344211   -0.853182    0.803333   \n",
       "usDATE   -0.020000     -0.2730    0.408947    0.305000    0.759048   \n",
       "usFENG   -0.270455     -0.3425   -0.222105   -1.112273    1.190952   \n",
       "usJOBS   -0.094545     -0.0745    0.070000   -0.410455    0.540476   \n",
       "usJRJC   -1.156818     -0.3010    0.755789   -0.993636    1.079524   \n",
       "usKUTV   -0.543182      0.9065   -0.356316    0.050909   -0.058571   \n",
       "usKZ     -0.790000     -0.0435   -0.288421    0.439091    1.087619   \n",
       "usLEJU   -0.828636     -0.1965   -0.328947   -0.699091    1.435714   \n",
       "usNTES   -0.270909      0.4915   -0.408421    0.254091    0.960000   \n",
       "usRENN   -0.570000      0.1575   -0.011053   -0.266818    1.035238   \n",
       "usSFUN   -0.690455     -0.8450    0.646316   -0.537273    1.622381   \n",
       "usSINA   -0.052727     -0.1530    0.134737   -0.640909    1.554762   \n",
       "usSOHU    0.250455      0.3055   -0.309474    0.093636    1.075714   \n",
       "usWB     -1.010909     -0.6565    0.394737   -0.130909    1.323810   \n",
       "usWUBA   -0.666364     -0.3590    0.462632    1.127727    2.020476   \n",
       "usYOKU   -0.153636     -0.2825   -0.107368   -1.178182    2.054762   \n",
       "usZPIN    0.078182     -0.0230    0.648947   -0.312273   -0.111429   \n",
       "\n",
       "           ...      2015-10-31  2015-11-30  2015-12-31  2016-01-31  \\\n",
       "usATHM     ...        0.515909     -0.8040    0.672273   -1.775263   \n",
       "usBIDU     ...        1.479091      0.7825   -0.632273   -0.726842   \n",
       "usBITA     ...        0.408182     -0.7630    0.286818   -2.127895   \n",
       "usDATE     ...        0.335455      0.2275    0.356364   -0.148947   \n",
       "usFENG     ...        0.480000      0.0800    0.993636   -1.473158   \n",
       "usJOBS     ...        0.977727     -0.2950   -0.329545   -0.264737   \n",
       "usJRJC     ...        0.775000      0.1725    2.122273   -0.763684   \n",
       "usKUTV     ...        0.646818      0.0685    1.391818   -0.880000   \n",
       "usKZ       ...        0.256818     -0.0405    0.413636   -0.263158   \n",
       "usLEJU     ...        1.236818     -0.9935   -0.084091   -1.817895   \n",
       "usNTES     ...        0.869545      0.7365    0.401364   -0.736842   \n",
       "usRENN     ...        0.718636     -0.2895    0.362273   -0.688947   \n",
       "usSFUN     ...        0.347727     -0.1975    0.483182   -1.040000   \n",
       "usSINA     ...        0.810909      0.3440   -0.086818   -0.340526   \n",
       "usSOHU     ...        0.955455     -0.0095    0.622273   -0.628947   \n",
       "usWB       ...        1.557273      0.7580    0.229091   -1.241579   \n",
       "usWUBA     ...        0.524091      0.7095    0.445000   -0.813158   \n",
       "usYOKU     ...        1.599545      0.5075    0.044545    0.018421   \n",
       "usZPIN     ...        0.759545      0.1520   -0.060455    0.263158   \n",
       "\n",
       "        2016-02-29  2016-03-31  2016-04-30  2016-05-31  2016-06-30  2016-07-31  \n",
       "usATHM      0.0170    0.650000    0.294286   -0.821429   -0.962381    0.297059  \n",
       "usBIDU      0.3725    0.450000    0.097143   -0.363810   -0.240476   -0.061765  \n",
       "usBITA      0.6550    0.890000    0.077619   -0.890952    1.760952    0.054118  \n",
       "usDATE      0.0145    0.117273    0.000476    0.520952    0.940000    0.940000  \n",
       "usFENG     -0.7970    0.843636   -0.478571    0.013810   -0.395714    0.282941  \n",
       "usJOBS      0.0235    0.560455   -0.180952    0.203333   -0.320952    0.395882  \n",
       "usJRJC      0.0205   -0.121818    0.523810   -0.833333    0.211429   -0.281176  \n",
       "usKUTV      0.9205    0.231818    0.737143   -0.077619    0.240952   -0.102353  \n",
       "usKZ        0.2090   -0.140000    0.055238   -1.007619   -0.841905    0.888824  \n",
       "usLEJU     -0.4105    1.727727   -0.469048    0.062381   -0.150476    0.514118  \n",
       "usNTES     -0.6265    0.315000   -0.079524    1.173810    0.529524    0.332941  \n",
       "usRENN     -0.0755    0.213182   -0.160000   -1.414286   -1.039524   -0.067059  \n",
       "usSFUN     -0.2790    0.578182   -0.224286   -0.164762   -0.287143   -0.055882  \n",
       "usSINA     -0.3380    0.494091    0.284762    0.394762   -0.020476    0.374118  \n",
       "usSOHU     -0.6915    0.621818   -0.456667   -0.328571   -0.463810    0.178824  \n",
       "usWB       -0.1955    1.061818    1.543333    0.460000    0.405714    0.930000  \n",
       "usWUBA     -0.1910    0.258182   -0.048571   -0.036667   -0.761429    0.561765  \n",
       "usYOKU      0.0265    0.018182    0.008571    0.000000    0.000000    0.000000  \n",
       "usZPIN     -0.1340    0.113182   -0.132857    0.034286   -0.302381    0.210588  \n",
       "\n",
       "[19 rows x 25 columns]"
      ]
     },
     "execution_count": 25,
     "metadata": {},
     "output_type": "execute_result"
    }
   ],
   "source": [
    "change_m = pdata_it['netChangeRatio'].dropna(axis=1, how='all')\n",
    "change_m = change_m.resample('M').mean().T\n",
    "change_m"
   ]
  },
  {
   "cell_type": "markdown",
   "metadata": {},
   "source": [
    "### 获取股票代码表"
   ]
  },
  {
   "cell_type": "code",
   "execution_count": 35,
   "metadata": {},
   "outputs": [
    {
     "name": "stderr",
     "output_type": "stream",
     "text": [
      "7995\n",
      "['usSNE' 'usIDU' 'usUCC' 'usAAOI' 'usHXL']\n",
      "['usPFSI' 'usTXN' 'usPWB' 'usVMBS' 'usFAN']\n"
     ]
    },
    {
     "name": "stdout",
     "output_type": "stream",
     "text": [
      "Help on function market_train_test_split in module MarketSymbols:\n",
      "\n",
      "market_train_test_split(n_folds=10, shuffle=True)\n",
      "    分割市场训练机与测试机\n",
      "    :param n_folds:\n",
      "    :param shuffle:\n",
      "    :return:\n",
      "\n"
     ]
    }
   ],
   "source": [
    "import MarketSymbols\n",
    "symbols = MarketSymbols.get_market_symbols()\n",
    "ZLog.info(len(symbols))\n",
    "# 随机获取n个默认是不放回的\n",
    "ZLog.info(MarketSymbols.choice_symbols(5))\n",
    "# 随机获取n个放回的\n",
    "ZLog.info(MarketSymbols.choice_symbols_with_replace(5))\n",
    "\n",
    "# 把市场分成训练集合与测试集合的操作\n",
    "help(MarketSymbols.market_train_test_split)"
   ]
  },
  {
   "cell_type": "markdown",
   "metadata": {},
   "source": [
    "### 其它"
   ]
  },
  {
   "cell_type": "markdown",
   "metadata": {},
   "source": [
    "1. 数据底层源由百度，腾讯自选股，雪球财经，yhoo数据接口，先比较完善的是baidu接入的也是baidu接口，需要更换源可自行切换底层接口\n",
    "2. 底层数据接口存在源格式不统一问题，需要添加一个层级标准化数据接口与定义\n",
    "3. 类似代码表等接口同样存在不统一的问题，需要标准化\n",
    "4. 在多层数据统一的情况下可加入，多源数据校验机制，避免由于一个源的数据出现问题，发出错误的信号导致问题\n",
    "5. volume数据不可信的问题，验证了volume数据很不可靠，且很难校验准确性，导致策略中不敢使用volume，很严重"
   ]
  },
  {
   "cell_type": "markdown",
   "metadata": {
    "collapsed": true
   },
   "source": [
    "## 关于数据缓存"
   ]
  },
  {
   "cell_type": "markdown",
   "metadata": {},
   "source": [
    "所有数据支持优先使用缓存，强制使用缓存，强制使用网络等模式设置,\n",
    "    \n",
    "    ZEnv.set_symbolpd_force(net, local)\n",
    "    ZENV.g_use_test_cache_data\n",
    "如果每天定时任务可以使用预加载所有数据，针对因子全市场回测很重要：\n",
    "\n",
    "    NetStockHelper.net_day_mul_thread_history\n",
    "    NetStockHelper.net_info_mul_thread"
   ]
  },
  {
   "cell_type": "code",
   "execution_count": null,
   "metadata": {
    "collapsed": true
   },
   "outputs": [],
   "source": []
  }
 ],
 "metadata": {
  "anaconda-cloud": {},
  "kernelspec": {
   "display_name": "Python 2",
   "language": "python",
   "name": "python2"
  },
  "language_info": {
   "codemirror_mode": {
    "name": "ipython",
    "version": 2
   },
   "file_extension": ".py",
   "mimetype": "text/x-python",
   "name": "python",
   "nbconvert_exporter": "python",
   "pygments_lexer": "ipython2",
   "version": "2.7.12"
  },
  "toc": {
   "colors": {
    "hover_highlight": "#DAA520",
    "navigate_num": "#000000",
    "navigate_text": "#333333",
    "running_highlight": "#FF0000",
    "selected_highlight": "#FFD700",
    "sidebar_border": "#EEEEEE",
    "wrapper_background": "#FFFFFF"
   },
   "moveMenuLeft": true,
   "nav_menu": {
    "height": "250px",
    "width": "252px"
   },
   "navigate_menu": true,
   "number_sections": true,
   "sideBar": true,
   "threshold": 4,
   "toc_cell": false,
   "toc_section_display": "block",
   "toc_window_display": true,
   "widenNotebook": false
  }
 },
 "nbformat": 4,
 "nbformat_minor": 1
}
