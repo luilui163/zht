{
 "cells": [
  {
   "cell_type": "markdown",
   "metadata": {},
   "source": [
    "# ABU 量化系统  简介（版本 0.1）\n",
    "\n",
    "\n",
    "* #### __author__ = 'BBFamily'\n",
    "* ####  __email__ = 'bbfamily@126.com'\n",
    "* ####  __weixin__ = 'aaaabbbuu'"
   ]
  },
  {
   "cell_type": "markdown",
   "metadata": {},
   "source": [
    "## 第九部分 解决方案C"
   ]
  },
  {
   "cell_type": "markdown",
   "metadata": {},
   "source": [
    "## ‘非均衡胜负收益’带来的必然’非均衡胜负比例‘，目标由’因子‘的能力解决一部分，’模式识别‘提升关键的一部分"
   ]
  },
  {
   "cell_type": "code",
   "execution_count": 1,
   "metadata": {},
   "outputs": [],
   "source": [
    "import ZEnv\n",
    "import ZLog\n",
    "import ZCommonUtil\n",
    "import pandas as pd\n",
    "pd.options.display.max_columns = 100\n",
    "%matplotlib inline"
   ]
  },
  {
   "cell_type": "code",
   "execution_count": 2,
   "metadata": {
    "collapsed": true
   },
   "outputs": [],
   "source": [
    "fn = './data/cache/orders_pd_ump_hit_predict_abu'\n",
    "key = 'orders_pd_ump_hit_predict_abu'\n",
    "orders_pd_ump = ZCommonUtil.load_hdf5(fn, key)"
   ]
  },
  {
   "cell_type": "markdown",
   "metadata": {},
   "source": [
    "这里的orders_pd_ump数据由 Factor中的各个裁决组成pipeline具体请查询代码\n",
    "\n",
    "\n",
    "            g_pp_dict = {\n",
    "            UmpMainClass(None, MlFiterMainPdClass, predict=True): {'w_col': MlFiterMainPd.g_w_col, 'need_ind_cnt': 1},\n",
    "            UmpMainClass(None, MlFiterWavePdClass, predict=True): {'w_col': MlFiterWavePd.g_w_col, 'need_ind_cnt': 1},\n",
    "            UmpMainClass(None, MlFiterDegPdClass, predict=True): {'w_col': MlFiterDegPd.g_w_col, 'need_ind_cnt': 1},\n",
    "\n",
    "            UmpJumpClass(None, MlFiterJumpPdClass, predict=True): {'w_col': MlFiterJumpPd.g_w_col, 'need_ind_cnt': 1,\n",
    "                                                                   'cons': lambda order: order['diff_days'] < 21},\n",
    "\n",
    "            UmpEdgeClass(None, predict=True): {}\n",
    "            }\n",
    "            \n",
    "            g_pipe_line = UmpPipeLineClass(g_pp_dict)"
   ]
  },
  {
   "cell_type": "markdown",
   "metadata": {},
   "source": [
    "**UmpEdge 边裁**"
   ]
  },
  {
   "cell_type": "code",
   "execution_count": 12,
   "metadata": {},
   "outputs": [],
   "source": [
    "import UmpEdge"
   ]
  },
  {
   "cell_type": "code",
   "execution_count": 13,
   "metadata": {
    "collapsed": true
   },
   "outputs": [],
   "source": [
    "ump_edge = UmpEdge.UmpEdgeClass(orders_pd_ump)"
   ]
  },
  {
   "cell_type": "markdown",
   "metadata": {},
   "source": [
    "**边裁使用profit， profit_cg作为gmm分类数据生成ss分类序列，之后根据profit_cg进行rank数据生成p_rk_cg，在找到top winN，top loss\n",
    "N N现在的设置是25%且对外不暴露，分别给于1， -1, 其它的都是0生成rk列，将atr，deg，wave所有数据的mumpy矩阵保存起来，对输入的数据进行标准化后实行距离对比，找到最匹配的\n",
    "rk标签**\n",
    "\n",
    "\n",
    "1. 优化距离对比方法现在是pairwise_distances，相似度，协整等方式\n",
    "2. 类似knn，找k个相思点投票，不止先只有一个"
   ]
  },
  {
   "cell_type": "code",
   "execution_count": 14,
   "metadata": {},
   "outputs": [
    {
     "data": {
      "text/html": [
       "<div>\n",
       "<table border=\"1\" class=\"dataframe\">\n",
       "  <thead>\n",
       "    <tr style=\"text-align: right;\">\n",
       "      <th></th>\n",
       "      <th>profit</th>\n",
       "      <th>profit_cg</th>\n",
       "      <th>atr_std</th>\n",
       "      <th>deg_hisWindowPd</th>\n",
       "      <th>deg_windowPd</th>\n",
       "      <th>deg_60WindowPd</th>\n",
       "      <th>wave_score1</th>\n",
       "      <th>wave_score2</th>\n",
       "      <th>wave_score3</th>\n",
       "    </tr>\n",
       "  </thead>\n",
       "  <tbody>\n",
       "    <tr>\n",
       "      <th>2015-07-28</th>\n",
       "      <td>21051.90</td>\n",
       "      <td>0.105290</td>\n",
       "      <td>0.045208</td>\n",
       "      <td>-1.256691</td>\n",
       "      <td>3.895622</td>\n",
       "      <td>5.363046</td>\n",
       "      <td>0.116619</td>\n",
       "      <td>-0.122372</td>\n",
       "      <td>-0.222840</td>\n",
       "    </tr>\n",
       "    <tr>\n",
       "      <th>2015-07-28</th>\n",
       "      <td>-8411.46</td>\n",
       "      <td>-0.043313</td>\n",
       "      <td>0.234763</td>\n",
       "      <td>15.908454</td>\n",
       "      <td>4.108007</td>\n",
       "      <td>4.199374</td>\n",
       "      <td>0.646118</td>\n",
       "      <td>0.731843</td>\n",
       "      <td>0.662114</td>\n",
       "    </tr>\n",
       "    <tr>\n",
       "      <th>2015-07-28</th>\n",
       "      <td>-19158.06</td>\n",
       "      <td>-0.095806</td>\n",
       "      <td>-0.408504</td>\n",
       "      <td>21.175689</td>\n",
       "      <td>3.394158</td>\n",
       "      <td>7.384808</td>\n",
       "      <td>0.050669</td>\n",
       "      <td>-0.131306</td>\n",
       "      <td>-0.158877</td>\n",
       "    </tr>\n",
       "    <tr>\n",
       "      <th>2015-07-28</th>\n",
       "      <td>-5845.79</td>\n",
       "      <td>-0.074492</td>\n",
       "      <td>0.687850</td>\n",
       "      <td>-7.023154</td>\n",
       "      <td>-0.075254</td>\n",
       "      <td>5.413456</td>\n",
       "      <td>0.671606</td>\n",
       "      <td>0.799534</td>\n",
       "      <td>0.829494</td>\n",
       "    </tr>\n",
       "    <tr>\n",
       "      <th>2015-07-28</th>\n",
       "      <td>12345.00</td>\n",
       "      <td>0.061728</td>\n",
       "      <td>0.011969</td>\n",
       "      <td>11.519025</td>\n",
       "      <td>3.621430</td>\n",
       "      <td>5.765467</td>\n",
       "      <td>-0.149591</td>\n",
       "      <td>-0.227755</td>\n",
       "      <td>-0.259943</td>\n",
       "    </tr>\n",
       "  </tbody>\n",
       "</table>\n",
       "</div>"
      ],
      "text/plain": [
       "              profit  profit_cg   atr_std  deg_hisWindowPd  deg_windowPd  \\\n",
       "2015-07-28  21051.90   0.105290  0.045208        -1.256691      3.895622   \n",
       "2015-07-28  -8411.46  -0.043313  0.234763        15.908454      4.108007   \n",
       "2015-07-28 -19158.06  -0.095806 -0.408504        21.175689      3.394158   \n",
       "2015-07-28  -5845.79  -0.074492  0.687850        -7.023154     -0.075254   \n",
       "2015-07-28  12345.00   0.061728  0.011969        11.519025      3.621430   \n",
       "\n",
       "            deg_60WindowPd  wave_score1  wave_score2  wave_score3  \n",
       "2015-07-28        5.363046     0.116619    -0.122372    -0.222840  \n",
       "2015-07-28        4.199374     0.646118     0.731843     0.662114  \n",
       "2015-07-28        7.384808     0.050669    -0.131306    -0.158877  \n",
       "2015-07-28        5.413456     0.671606     0.799534     0.829494  \n",
       "2015-07-28        5.765467    -0.149591    -0.227755    -0.259943  "
      ]
     },
     "execution_count": 14,
     "metadata": {},
     "output_type": "execute_result"
    }
   ],
   "source": [
    "ump_edge.fiter.df.head()"
   ]
  },
  {
   "cell_type": "code",
   "execution_count": 15,
   "metadata": {},
   "outputs": [
    {
     "name": "stderr",
     "output_type": "stream",
     "text": [
      "rk        -1         0    1\n",
      "ss                         \n",
      "0   1.000000  0.000000  0.0\n",
      "6   1.000000  0.000000  0.0\n",
      "7   0.892651  0.107349  0.0\n",
      "9   1.000000  0.000000  0.0\n",
      "19  1.000000  0.000000  0.0\n",
      "rk   -1    0    1\n",
      "ss               \n",
      "2   0.0  0.0  1.0\n",
      "4   0.0  0.0  1.0\n",
      "5   0.0  0.0  1.0\n",
      "10  0.0  0.0  1.0\n",
      "11  0.0  0.0  1.0\n",
      "13  0.0  0.0  1.0\n",
      "16  0.0  0.0  1.0\n",
      "18  0.0  0.0  1.0\n"
     ]
    },
    {
     "data": {
      "image/png": "[encoded data removed]",
      "text/plain": [
       "<matplotlib.figure.Figure at 0x119d42b10>"
      ]
     },
     "metadata": {},
     "output_type": "display_data"
    }
   ],
   "source": [
    "xt, xt_pct = ump_edge.gmm_component_filter()"
   ]
  },
  {
   "cell_type": "code",
   "execution_count": 16,
   "metadata": {},
   "outputs": [
    {
     "data": {
      "text/html": [
       "<div>\n",
       "<table border=\"1\" class=\"dataframe\">\n",
       "  <thead>\n",
       "    <tr style=\"text-align: right;\">\n",
       "      <th>rk</th>\n",
       "      <th>-1</th>\n",
       "      <th>0</th>\n",
       "      <th>1</th>\n",
       "    </tr>\n",
       "    <tr>\n",
       "      <th>ss</th>\n",
       "      <th></th>\n",
       "      <th></th>\n",
       "      <th></th>\n",
       "    </tr>\n",
       "  </thead>\n",
       "  <tbody>\n",
       "    <tr>\n",
       "      <th>0</th>\n",
       "      <td>2465</td>\n",
       "      <td>0</td>\n",
       "      <td>0</td>\n",
       "    </tr>\n",
       "    <tr>\n",
       "      <th>1</th>\n",
       "      <td>0</td>\n",
       "      <td>4475</td>\n",
       "      <td>92</td>\n",
       "    </tr>\n",
       "    <tr>\n",
       "      <th>2</th>\n",
       "      <td>0</td>\n",
       "      <td>0</td>\n",
       "      <td>4</td>\n",
       "    </tr>\n",
       "    <tr>\n",
       "      <th>3</th>\n",
       "      <td>639</td>\n",
       "      <td>4472</td>\n",
       "      <td>0</td>\n",
       "    </tr>\n",
       "    <tr>\n",
       "      <th>4</th>\n",
       "      <td>0</td>\n",
       "      <td>0</td>\n",
       "      <td>3053</td>\n",
       "    </tr>\n",
       "    <tr>\n",
       "      <th>5</th>\n",
       "      <td>0</td>\n",
       "      <td>0</td>\n",
       "      <td>33</td>\n",
       "    </tr>\n",
       "    <tr>\n",
       "      <th>6</th>\n",
       "      <td>47</td>\n",
       "      <td>0</td>\n",
       "      <td>0</td>\n",
       "    </tr>\n",
       "    <tr>\n",
       "      <th>7</th>\n",
       "      <td>3243</td>\n",
       "      <td>390</td>\n",
       "      <td>0</td>\n",
       "    </tr>\n",
       "    <tr>\n",
       "      <th>8</th>\n",
       "      <td>37</td>\n",
       "      <td>4865</td>\n",
       "      <td>0</td>\n",
       "    </tr>\n",
       "    <tr>\n",
       "      <th>9</th>\n",
       "      <td>886</td>\n",
       "      <td>0</td>\n",
       "      <td>0</td>\n",
       "    </tr>\n",
       "    <tr>\n",
       "      <th>10</th>\n",
       "      <td>0</td>\n",
       "      <td>0</td>\n",
       "      <td>20</td>\n",
       "    </tr>\n",
       "    <tr>\n",
       "      <th>11</th>\n",
       "      <td>0</td>\n",
       "      <td>0</td>\n",
       "      <td>978</td>\n",
       "    </tr>\n",
       "    <tr>\n",
       "      <th>12</th>\n",
       "      <td>0</td>\n",
       "      <td>1775</td>\n",
       "      <td>2239</td>\n",
       "    </tr>\n",
       "    <tr>\n",
       "      <th>13</th>\n",
       "      <td>0</td>\n",
       "      <td>0</td>\n",
       "      <td>2</td>\n",
       "    </tr>\n",
       "    <tr>\n",
       "      <th>14</th>\n",
       "      <td>0</td>\n",
       "      <td>3679</td>\n",
       "      <td>606</td>\n",
       "    </tr>\n",
       "    <tr>\n",
       "      <th>15</th>\n",
       "      <td>0</td>\n",
       "      <td>4347</td>\n",
       "      <td>0</td>\n",
       "    </tr>\n",
       "    <tr>\n",
       "      <th>16</th>\n",
       "      <td>0</td>\n",
       "      <td>0</td>\n",
       "      <td>213</td>\n",
       "    </tr>\n",
       "    <tr>\n",
       "      <th>17</th>\n",
       "      <td>1541</td>\n",
       "      <td>2887</td>\n",
       "      <td>0</td>\n",
       "    </tr>\n",
       "    <tr>\n",
       "      <th>18</th>\n",
       "      <td>0</td>\n",
       "      <td>0</td>\n",
       "      <td>1723</td>\n",
       "    </tr>\n",
       "    <tr>\n",
       "      <th>19</th>\n",
       "      <td>104</td>\n",
       "      <td>0</td>\n",
       "      <td>0</td>\n",
       "    </tr>\n",
       "  </tbody>\n",
       "</table>\n",
       "</div>"
      ],
      "text/plain": [
       "rk    -1     0     1\n",
       "ss                  \n",
       "0   2465     0     0\n",
       "1      0  4475    92\n",
       "2      0     0     4\n",
       "3    639  4472     0\n",
       "4      0     0  3053\n",
       "5      0     0    33\n",
       "6     47     0     0\n",
       "7   3243   390     0\n",
       "8     37  4865     0\n",
       "9    886     0     0\n",
       "10     0     0    20\n",
       "11     0     0   978\n",
       "12     0  1775  2239\n",
       "13     0     0     2\n",
       "14     0  3679   606\n",
       "15     0  4347     0\n",
       "16     0     0   213\n",
       "17  1541  2887     0\n",
       "18     0     0  1723\n",
       "19   104     0     0"
      ]
     },
     "execution_count": 16,
     "metadata": {},
     "output_type": "execute_result"
    }
   ],
   "source": [
    "xt"
   ]
  },
  {
   "cell_type": "code",
   "execution_count": 17,
   "metadata": {},
   "outputs": [
    {
     "data": {
      "text/html": [
       "<div>\n",
       "<table border=\"1\" class=\"dataframe\">\n",
       "  <thead>\n",
       "    <tr style=\"text-align: right;\">\n",
       "      <th>rk</th>\n",
       "      <th>-1</th>\n",
       "      <th>0</th>\n",
       "      <th>1</th>\n",
       "    </tr>\n",
       "    <tr>\n",
       "      <th>ss</th>\n",
       "      <th></th>\n",
       "      <th></th>\n",
       "      <th></th>\n",
       "    </tr>\n",
       "  </thead>\n",
       "  <tbody>\n",
       "    <tr>\n",
       "      <th>0</th>\n",
       "      <td>1.000000</td>\n",
       "      <td>0.000000</td>\n",
       "      <td>0.000000</td>\n",
       "    </tr>\n",
       "    <tr>\n",
       "      <th>1</th>\n",
       "      <td>0.000000</td>\n",
       "      <td>0.979855</td>\n",
       "      <td>0.020145</td>\n",
       "    </tr>\n",
       "    <tr>\n",
       "      <th>2</th>\n",
       "      <td>0.000000</td>\n",
       "      <td>0.000000</td>\n",
       "      <td>1.000000</td>\n",
       "    </tr>\n",
       "    <tr>\n",
       "      <th>3</th>\n",
       "      <td>0.125024</td>\n",
       "      <td>0.874976</td>\n",
       "      <td>0.000000</td>\n",
       "    </tr>\n",
       "    <tr>\n",
       "      <th>4</th>\n",
       "      <td>0.000000</td>\n",
       "      <td>0.000000</td>\n",
       "      <td>1.000000</td>\n",
       "    </tr>\n",
       "    <tr>\n",
       "      <th>5</th>\n",
       "      <td>0.000000</td>\n",
       "      <td>0.000000</td>\n",
       "      <td>1.000000</td>\n",
       "    </tr>\n",
       "    <tr>\n",
       "      <th>6</th>\n",
       "      <td>1.000000</td>\n",
       "      <td>0.000000</td>\n",
       "      <td>0.000000</td>\n",
       "    </tr>\n",
       "    <tr>\n",
       "      <th>7</th>\n",
       "      <td>0.892651</td>\n",
       "      <td>0.107349</td>\n",
       "      <td>0.000000</td>\n",
       "    </tr>\n",
       "    <tr>\n",
       "      <th>8</th>\n",
       "      <td>0.007548</td>\n",
       "      <td>0.992452</td>\n",
       "      <td>0.000000</td>\n",
       "    </tr>\n",
       "    <tr>\n",
       "      <th>9</th>\n",
       "      <td>1.000000</td>\n",
       "      <td>0.000000</td>\n",
       "      <td>0.000000</td>\n",
       "    </tr>\n",
       "    <tr>\n",
       "      <th>10</th>\n",
       "      <td>0.000000</td>\n",
       "      <td>0.000000</td>\n",
       "      <td>1.000000</td>\n",
       "    </tr>\n",
       "    <tr>\n",
       "      <th>11</th>\n",
       "      <td>0.000000</td>\n",
       "      <td>0.000000</td>\n",
       "      <td>1.000000</td>\n",
       "    </tr>\n",
       "    <tr>\n",
       "      <th>12</th>\n",
       "      <td>0.000000</td>\n",
       "      <td>0.442202</td>\n",
       "      <td>0.557798</td>\n",
       "    </tr>\n",
       "    <tr>\n",
       "      <th>13</th>\n",
       "      <td>0.000000</td>\n",
       "      <td>0.000000</td>\n",
       "      <td>1.000000</td>\n",
       "    </tr>\n",
       "    <tr>\n",
       "      <th>14</th>\n",
       "      <td>0.000000</td>\n",
       "      <td>0.858576</td>\n",
       "      <td>0.141424</td>\n",
       "    </tr>\n",
       "    <tr>\n",
       "      <th>15</th>\n",
       "      <td>0.000000</td>\n",
       "      <td>1.000000</td>\n",
       "      <td>0.000000</td>\n",
       "    </tr>\n",
       "    <tr>\n",
       "      <th>16</th>\n",
       "      <td>0.000000</td>\n",
       "      <td>0.000000</td>\n",
       "      <td>1.000000</td>\n",
       "    </tr>\n",
       "    <tr>\n",
       "      <th>17</th>\n",
       "      <td>0.348013</td>\n",
       "      <td>0.651987</td>\n",
       "      <td>0.000000</td>\n",
       "    </tr>\n",
       "    <tr>\n",
       "      <th>18</th>\n",
       "      <td>0.000000</td>\n",
       "      <td>0.000000</td>\n",
       "      <td>1.000000</td>\n",
       "    </tr>\n",
       "    <tr>\n",
       "      <th>19</th>\n",
       "      <td>1.000000</td>\n",
       "      <td>0.000000</td>\n",
       "      <td>0.000000</td>\n",
       "    </tr>\n",
       "  </tbody>\n",
       "</table>\n",
       "</div>"
      ],
      "text/plain": [
       "rk        -1         0         1\n",
       "ss                              \n",
       "0   1.000000  0.000000  0.000000\n",
       "1   0.000000  0.979855  0.020145\n",
       "2   0.000000  0.000000  1.000000\n",
       "3   0.125024  0.874976  0.000000\n",
       "4   0.000000  0.000000  1.000000\n",
       "5   0.000000  0.000000  1.000000\n",
       "6   1.000000  0.000000  0.000000\n",
       "7   0.892651  0.107349  0.000000\n",
       "8   0.007548  0.992452  0.000000\n",
       "9   1.000000  0.000000  0.000000\n",
       "10  0.000000  0.000000  1.000000\n",
       "11  0.000000  0.000000  1.000000\n",
       "12  0.000000  0.442202  0.557798\n",
       "13  0.000000  0.000000  1.000000\n",
       "14  0.000000  0.858576  0.141424\n",
       "15  0.000000  1.000000  0.000000\n",
       "16  0.000000  0.000000  1.000000\n",
       "17  0.348013  0.651987  0.000000\n",
       "18  0.000000  0.000000  1.000000\n",
       "19  1.000000  0.000000  0.000000"
      ]
     },
     "execution_count": 17,
     "metadata": {},
     "output_type": "execute_result"
    }
   ],
   "source": [
    "xt_pct"
   ]
  },
  {
   "cell_type": "code",
   "execution_count": 18,
   "metadata": {},
   "outputs": [],
   "source": [
    "ump_edge.dump_clf()"
   ]
  },
  {
   "cell_type": "markdown",
   "metadata": {},
   "source": [
    "**利用测试裁决数据，寻找最优裁决参数**"
   ]
  },
  {
   "cell_type": "code",
   "execution_count": 106,
   "metadata": {
    "collapsed": true
   },
   "outputs": [],
   "source": [
    "import ast\n",
    "def map_str_dict(extra_info, key):\n",
    "    try:\n",
    "        map_ast = ast.literal_eval(extra_info)[key]\n",
    "    except Exception, e:\n",
    "        import pdb\n",
    "        pdb.set_trace()\n",
    "        raise e\n",
    "    return map_ast\n",
    "\n",
    "def extra_info_to_pd(orders_pd):\n",
    "    orders_pd['ump_main_mlfitermainpdclass_predict'] = orders_pd['ExtraInfo'].apply(map_str_dict, args=('./data/cache/ump_main_mlfitermainpdclass_predict',))\n",
    "    orders_pd['ump_main_mlfiterdegpdclass_predict'] = orders_pd['ExtraInfo'].apply(map_str_dict, args=('./data/cache/ump_main_mlfiterdegpdclass_predict',))\n",
    "    orders_pd['ump_main_mlfiterwavepdclass_predict'] = orders_pd['ExtraInfo'].apply(map_str_dict, args=('./data/cache/ump_main_mlfiterwavepdclass_predict',))\n",
    "    orders_pd['ump_jump_mlfiterjumppdclass_predict'] = orders_pd['ExtraInfo'].apply(map_str_dict, args=('./data/cache/ump_jump_mlfiterjumppdclass_predict',))\n",
    "\n",
    "    orders_pd['ump_main_mlfitermainpdclass_hit'] = orders_pd['ExtraInfo'].apply(map_str_dict, args=('./data/cache/ump_main_mlfitermainpdclass_hit',))\n",
    "    orders_pd['ump_main_mlfiterdegpdclass_hit'] = orders_pd['ExtraInfo'].apply(map_str_dict, args=('./data/cache/ump_main_mlfiterdegpdclass_hit',))\n",
    "    orders_pd['ump_main_mlfiterwavepdclass_hit'] = orders_pd['ExtraInfo'].apply(map_str_dict, args=('./data/cache/ump_main_mlfiterwavepdclass_hit',))\n",
    "    orders_pd['ump_jump_mlfiterjumppdclass_hit'] = orders_pd['ExtraInfo'].apply(map_str_dict, args=('./data/cache/ump_jump_mlfiterjumppdclass_hit',))\n",
    "\n",
    "# extra_info_to_pd(orders_pd_ump)"
   ]
  },
  {
   "cell_type": "code",
   "execution_count": 107,
   "metadata": {},
   "outputs": [
    {
     "name": "stderr",
     "output_type": "stream",
     "text": [
      "(47374, 40)\n"
     ]
    },
    {
     "data": {
      "text/html": [
       "<div>\n",
       "<table border=\"1\" class=\"dataframe\">\n",
       "  <thead>\n",
       "    <tr style=\"text-align: right;\">\n",
       "      <th></th>\n",
       "      <th>buy Date</th>\n",
       "      <th>buy Price</th>\n",
       "      <th>buy Cnt</th>\n",
       "      <th>buyFactor</th>\n",
       "      <th>Sell Date</th>\n",
       "      <th>Sell Price</th>\n",
       "      <th>Sell Type</th>\n",
       "      <th>Symbol</th>\n",
       "      <th>MaxLoss</th>\n",
       "      <th>ExtraInfo</th>\n",
       "      <th>key</th>\n",
       "      <th>profit</th>\n",
       "      <th>result</th>\n",
       "      <th>sell_type_extra</th>\n",
       "      <th>R</th>\n",
       "      <th>sharpe</th>\n",
       "      <th>profit_cg</th>\n",
       "      <th>profit_cg_hunder</th>\n",
       "      <th>keep_days</th>\n",
       "      <th>lowBkCnt</th>\n",
       "      <th>his_miss_days</th>\n",
       "      <th>atr_std</th>\n",
       "      <th>deg_hisWindowPd</th>\n",
       "      <th>deg_windowPd</th>\n",
       "      <th>deg_60WindowPd</th>\n",
       "      <th>jump_power</th>\n",
       "      <th>diff_days</th>\n",
       "      <th>wave_score1</th>\n",
       "      <th>wave_score2</th>\n",
       "      <th>wave_score3</th>\n",
       "      <th>symbol_index</th>\n",
       "      <th>ump_main_mlfitermainpdclass_predict</th>\n",
       "      <th>ump_main_mlfiterdegpdclass_predict</th>\n",
       "      <th>ump_main_mlfiterwavepdclass_predict</th>\n",
       "      <th>ump_jump_mlfiterjumppdclass_predict</th>\n",
       "      <th>ump_main_mlfitermainpdclass_hit</th>\n",
       "      <th>ump_main_mlfiterdegpdclass_hit</th>\n",
       "      <th>ump_main_mlfiterwavepdclass_hit</th>\n",
       "      <th>ump_jump_mlfiterjumppdclass_hit</th>\n",
       "      <th>ind_key</th>\n",
       "    </tr>\n",
       "  </thead>\n",
       "  <tbody>\n",
       "    <tr>\n",
       "      <th>2012-07-12</th>\n",
       "      <td>20120712</td>\n",
       "      <td>22.465</td>\n",
       "      <td>8902</td>\n",
       "      <td>BuyGoldenFactorClass:42</td>\n",
       "      <td>20120720</td>\n",
       "      <td>23.75</td>\n",
       "      <td>win</td>\n",
       "      <td>usPFE</td>\n",
       "      <td>20.90</td>\n",
       "      <td>{'./data/cache/ump_jump_mlfiterjumppdclass_pre...</td>\n",
       "      <td>497</td>\n",
       "      <td>11439.07</td>\n",
       "      <td>1</td>\n",
       "      <td>BuyGoldenFactorClass:42: winPrice :above950</td>\n",
       "      <td>0.821086</td>\n",
       "      <td>3.8237</td>\n",
       "      <td>0.05720</td>\n",
       "      <td>5.720009</td>\n",
       "      <td>8</td>\n",
       "      <td>1</td>\n",
       "      <td>0</td>\n",
       "      <td>0.373831</td>\n",
       "      <td>12.933343</td>\n",
       "      <td>1.104452</td>\n",
       "      <td>-0.163254</td>\n",
       "      <td>-1.096786</td>\n",
       "      <td>16</td>\n",
       "      <td>0.027985</td>\n",
       "      <td>-0.042228</td>\n",
       "      <td>-0.140315</td>\n",
       "      <td>6</td>\n",
       "      <td>True</td>\n",
       "      <td>True</td>\n",
       "      <td>True</td>\n",
       "      <td>True</td>\n",
       "      <td>0</td>\n",
       "      <td>0</td>\n",
       "      <td>0</td>\n",
       "      <td>0</td>\n",
       "      <td>47372</td>\n",
       "    </tr>\n",
       "    <tr>\n",
       "      <th>2012-07-16</th>\n",
       "      <td>20120716</td>\n",
       "      <td>3.155</td>\n",
       "      <td>63391</td>\n",
       "      <td>BuyGoldenFactorClass:42</td>\n",
       "      <td>20120719</td>\n",
       "      <td>2.58</td>\n",
       "      <td>loss</td>\n",
       "      <td>usBAMM</td>\n",
       "      <td>2.25</td>\n",
       "      <td>{'./data/cache/ump_jump_mlfiterjumppdclass_pre...</td>\n",
       "      <td>499</td>\n",
       "      <td>-36449.82</td>\n",
       "      <td>-1</td>\n",
       "      <td>mv_pre_atr preClose 2.0</td>\n",
       "      <td>-0.635359</td>\n",
       "      <td>-1.67571</td>\n",
       "      <td>-0.18225</td>\n",
       "      <td>-18.225037</td>\n",
       "      <td>3</td>\n",
       "      <td>1</td>\n",
       "      <td>0</td>\n",
       "      <td>0.025823</td>\n",
       "      <td>8.891965</td>\n",
       "      <td>0.686205</td>\n",
       "      <td>7.232708</td>\n",
       "      <td>-1.260642</td>\n",
       "      <td>73</td>\n",
       "      <td>-0.213653</td>\n",
       "      <td>-0.317415</td>\n",
       "      <td>-0.258648</td>\n",
       "      <td>6</td>\n",
       "      <td>True</td>\n",
       "      <td>True</td>\n",
       "      <td>True</td>\n",
       "      <td>True</td>\n",
       "      <td>0</td>\n",
       "      <td>0</td>\n",
       "      <td>0</td>\n",
       "      <td>0</td>\n",
       "      <td>47373</td>\n",
       "    </tr>\n",
       "  </tbody>\n",
       "</table>\n",
       "</div>"
      ],
      "text/plain": [
       "            buy Date  buy Price  buy Cnt                buyFactor Sell Date  \\\n",
       "2012-07-12  20120712     22.465     8902  BuyGoldenFactorClass:42  20120720   \n",
       "2012-07-16  20120716      3.155    63391  BuyGoldenFactorClass:42  20120719   \n",
       "\n",
       "            Sell Price Sell Type  Symbol  MaxLoss  \\\n",
       "2012-07-12       23.75       win   usPFE    20.90   \n",
       "2012-07-16        2.58      loss  usBAMM     2.25   \n",
       "\n",
       "                                                    ExtraInfo  key    profit  \\\n",
       "2012-07-12  {'./data/cache/ump_jump_mlfiterjumppdclass_pre...  497  11439.07   \n",
       "2012-07-16  {'./data/cache/ump_jump_mlfiterjumppdclass_pre...  499 -36449.82   \n",
       "\n",
       "            result                              sell_type_extra         R  \\\n",
       "2012-07-12       1  BuyGoldenFactorClass:42: winPrice :above950  0.821086   \n",
       "2012-07-16      -1                      mv_pre_atr preClose 2.0 -0.635359   \n",
       "\n",
       "             sharpe  profit_cg  profit_cg_hunder  keep_days  lowBkCnt  \\\n",
       "2012-07-12   3.8237    0.05720          5.720009          8         1   \n",
       "2012-07-16 -1.67571   -0.18225        -18.225037          3         1   \n",
       "\n",
       "            his_miss_days   atr_std  deg_hisWindowPd  deg_windowPd  \\\n",
       "2012-07-12              0  0.373831        12.933343      1.104452   \n",
       "2012-07-16              0  0.025823         8.891965      0.686205   \n",
       "\n",
       "            deg_60WindowPd  jump_power  diff_days  wave_score1  wave_score2  \\\n",
       "2012-07-12       -0.163254   -1.096786         16     0.027985    -0.042228   \n",
       "2012-07-16        7.232708   -1.260642         73    -0.213653    -0.317415   \n",
       "\n",
       "            wave_score3  symbol_index ump_main_mlfitermainpdclass_predict  \\\n",
       "2012-07-12    -0.140315             6                                True   \n",
       "2012-07-16    -0.258648             6                                True   \n",
       "\n",
       "           ump_main_mlfiterdegpdclass_predict  \\\n",
       "2012-07-12                               True   \n",
       "2012-07-16                               True   \n",
       "\n",
       "           ump_main_mlfiterwavepdclass_predict  \\\n",
       "2012-07-12                                True   \n",
       "2012-07-16                                True   \n",
       "\n",
       "           ump_jump_mlfiterjumppdclass_predict  \\\n",
       "2012-07-12                                True   \n",
       "2012-07-16                                True   \n",
       "\n",
       "            ump_main_mlfitermainpdclass_hit  ump_main_mlfiterdegpdclass_hit  \\\n",
       "2012-07-12                                0                               0   \n",
       "2012-07-16                                0                               0   \n",
       "\n",
       "            ump_main_mlfiterwavepdclass_hit  ump_jump_mlfiterjumppdclass_hit  \\\n",
       "2012-07-12                                0                                0   \n",
       "2012-07-16                                0                                0   \n",
       "\n",
       "            ind_key  \n",
       "2012-07-12    47372  \n",
       "2012-07-16    47373  "
      ]
     },
     "execution_count": 107,
     "metadata": {},
     "output_type": "execute_result"
    }
   ],
   "source": [
    "ZLog.info(orders_pd_ump.shape)\n",
    "orders_pd_ump.tail(2)"
   ]
  },
  {
   "cell_type": "code",
   "execution_count": 11,
   "metadata": {
    "collapsed": true
   },
   "outputs": [],
   "source": [
    "from MlFiter import MlFiterClass\n",
    "import numpy as np"
   ]
  },
  {
   "cell_type": "markdown",
   "metadata": {},
   "source": [
    "**寻找主裁最优参数**"
   ]
  },
  {
   "cell_type": "code",
   "execution_count": 12,
   "metadata": {},
   "outputs": [
    {
     "data": {
      "text/html": [
       "<div>\n",
       "<table border=\"1\" class=\"dataframe\">\n",
       "  <thead>\n",
       "    <tr style=\"text-align: right;\">\n",
       "      <th></th>\n",
       "      <th>result</th>\n",
       "      <th>ump_main_mlfitermainpdclass_predict</th>\n",
       "      <th>ump_main_mlfiterdegpdclass_predict</th>\n",
       "      <th>ump_main_mlfiterwavepdclass_predict</th>\n",
       "      <th>ump_main_mlfitermainpdclass_hit</th>\n",
       "      <th>ump_main_mlfiterdegpdclass_hit</th>\n",
       "      <th>ump_main_mlfiterwavepdclass_hit</th>\n",
       "      <th>ind_key</th>\n",
       "      <th>predict_sum</th>\n",
       "      <th>hit_sum</th>\n",
       "    </tr>\n",
       "  </thead>\n",
       "  <tbody>\n",
       "    <tr>\n",
       "      <th>2015-07-28</th>\n",
       "      <td>0</td>\n",
       "      <td>0</td>\n",
       "      <td>1</td>\n",
       "      <td>1</td>\n",
       "      <td>7</td>\n",
       "      <td>0</td>\n",
       "      <td>0</td>\n",
       "      <td>523</td>\n",
       "      <td>2</td>\n",
       "      <td>7</td>\n",
       "    </tr>\n",
       "    <tr>\n",
       "      <th>2015-07-28</th>\n",
       "      <td>0</td>\n",
       "      <td>1</td>\n",
       "      <td>0</td>\n",
       "      <td>1</td>\n",
       "      <td>0</td>\n",
       "      <td>25</td>\n",
       "      <td>0</td>\n",
       "      <td>524</td>\n",
       "      <td>2</td>\n",
       "      <td>50</td>\n",
       "    </tr>\n",
       "    <tr>\n",
       "      <th>2015-07-28</th>\n",
       "      <td>0</td>\n",
       "      <td>1</td>\n",
       "      <td>1</td>\n",
       "      <td>0</td>\n",
       "      <td>0</td>\n",
       "      <td>0</td>\n",
       "      <td>1</td>\n",
       "      <td>540</td>\n",
       "      <td>2</td>\n",
       "      <td>0</td>\n",
       "    </tr>\n",
       "    <tr>\n",
       "      <th>2015-07-28</th>\n",
       "      <td>0</td>\n",
       "      <td>0</td>\n",
       "      <td>1</td>\n",
       "      <td>1</td>\n",
       "      <td>3</td>\n",
       "      <td>0</td>\n",
       "      <td>0</td>\n",
       "      <td>547</td>\n",
       "      <td>2</td>\n",
       "      <td>3</td>\n",
       "    </tr>\n",
       "    <tr>\n",
       "      <th>2015-07-28</th>\n",
       "      <td>0</td>\n",
       "      <td>0</td>\n",
       "      <td>1</td>\n",
       "      <td>1</td>\n",
       "      <td>1</td>\n",
       "      <td>0</td>\n",
       "      <td>0</td>\n",
       "      <td>549</td>\n",
       "      <td>2</td>\n",
       "      <td>1</td>\n",
       "    </tr>\n",
       "  </tbody>\n",
       "</table>\n",
       "</div>"
      ],
      "text/plain": [
       "            result  ump_main_mlfitermainpdclass_predict  \\\n",
       "2015-07-28       0                                    0   \n",
       "2015-07-28       0                                    1   \n",
       "2015-07-28       0                                    1   \n",
       "2015-07-28       0                                    0   \n",
       "2015-07-28       0                                    0   \n",
       "\n",
       "            ump_main_mlfiterdegpdclass_predict  \\\n",
       "2015-07-28                                   1   \n",
       "2015-07-28                                   0   \n",
       "2015-07-28                                   1   \n",
       "2015-07-28                                   1   \n",
       "2015-07-28                                   1   \n",
       "\n",
       "            ump_main_mlfiterwavepdclass_predict  \\\n",
       "2015-07-28                                    1   \n",
       "2015-07-28                                    1   \n",
       "2015-07-28                                    0   \n",
       "2015-07-28                                    1   \n",
       "2015-07-28                                    1   \n",
       "\n",
       "            ump_main_mlfitermainpdclass_hit  ump_main_mlfiterdegpdclass_hit  \\\n",
       "2015-07-28                                7                               0   \n",
       "2015-07-28                                0                              25   \n",
       "2015-07-28                                0                               0   \n",
       "2015-07-28                                3                               0   \n",
       "2015-07-28                                1                               0   \n",
       "\n",
       "            ump_main_mlfiterwavepdclass_hit  ind_key  predict_sum  hit_sum  \n",
       "2015-07-28                                0      523            2        7  \n",
       "2015-07-28                                0      524            2       50  \n",
       "2015-07-28                                1      540            2        0  \n",
       "2015-07-28                                0      547            2        3  \n",
       "2015-07-28                                0      549            2        1  "
      ]
     },
     "execution_count": 12,
     "metadata": {},
     "output_type": "execute_result"
    }
   ],
   "source": [
    "orders_pd_ump['ind_key'] = np.arange(0, len(orders_pd_ump))\n",
    "orders_pd_tmp = orders_pd_ump.filter(regex='result|ump_main_mlfiter*|ind_key')\n",
    "order_has_ret = orders_pd_tmp[orders_pd_tmp['result'] <> 0]\n",
    "order_has_ret['result'] = np.where(order_has_ret['result'] == -1, 0, 1)\n",
    "\n",
    "order_has_ret['ump_main_mlfitermainpdclass_predict'] = np.where(order_has_ret['ump_main_mlfitermainpdclass_predict'] == True, 1, 0)\n",
    "order_has_ret['ump_main_mlfiterdegpdclass_predict'] = np.where(order_has_ret['ump_main_mlfiterdegpdclass_predict'] == True, 1, 0)\n",
    "order_has_ret['ump_main_mlfiterwavepdclass_predict'] = np.where(order_has_ret['ump_main_mlfiterwavepdclass_predict'] == True, 1, 0)\n",
    "# order_has_ret['ump_main_mlfiterjumppdclass_predict'] = np.where(order_has_ret['ump_main_mlfiterjumppdclass_predict'] == True, 1, 0)\n",
    "\n",
    "order_has_ret = order_has_ret[(order_has_ret['ump_main_mlfitermainpdclass_predict'] == 0) | \n",
    "                              (order_has_ret['ump_main_mlfiterdegpdclass_predict'] == 0) | \n",
    "                              (order_has_ret['ump_main_mlfiterwavepdclass_predict'] == 0)]\n",
    "\n",
    "order_has_ret['predict_sum'] = order_has_ret['ump_main_mlfitermainpdclass_predict'] + order_has_ret['ump_main_mlfiterdegpdclass_predict'] + \\\n",
    "            order_has_ret['ump_main_mlfiterwavepdclass_predict']\n",
    "\n",
    "order_has_ret['hit_sum'] = order_has_ret['ump_main_mlfiterdegpdclass_hit'] + order_has_ret['ump_main_mlfitermainpdclass_hit'] + \\\n",
    "            order_has_ret['ump_main_mlfiterdegpdclass_hit']\n",
    "    \n",
    "matrix = order_has_ret.as_matrix()\n",
    "y = matrix[:, 0]\n",
    "x = matrix[:, 1:]\n",
    "fiter = MlFiterClass(x, y, order_has_ret)\n",
    "fiter.df.head()\n",
    "order_has_ret.head()"
   ]
  },
  {
   "cell_type": "code",
   "execution_count": 111,
   "metadata": {},
   "outputs": [
    {
     "name": "stderr",
     "output_type": "stream",
     "text": [
      "accuracy mean: 0.636323529412\n"
     ]
    },
    {
     "data": {
      "text/plain": [
       "array([ 0.6375    ,  0.6375    ,  0.63865546,  0.63865546,  0.62605042,\n",
       "        0.63445378,  0.63445378,  0.63865546,  0.63865546,  0.63865546])"
      ]
     },
     "execution_count": 111,
     "metadata": {},
     "output_type": "execute_result"
    }
   ],
   "source": [
    "fiter.estimator.svc()\n",
    "# fiter.estimator.random_forest_classifier()\n",
    "# fiter.estimator.bagging_classifier()\n",
    "fiter.cross_val_accuracy_score()"
   ]
  },
  {
   "cell_type": "markdown",
   "metadata": {},
   "source": [
    "**1个hit以上就上0.65 20个hit 0.70以上，> 20个就可以直接使用裁决了，小于的等待，辅助裁判，边裁**"
   ]
  },
  {
   "cell_type": "code",
   "execution_count": 13,
   "metadata": {},
   "outputs": [
    {
     "data": {
      "text/plain": [
       "<matplotlib.colorbar.Colorbar at 0x10c910350>"
      ]
     },
     "execution_count": 13,
     "metadata": {},
     "output_type": "execute_result"
    },
    {
     "data": {
      "image/png": "[encoded data removed]",
      "text/plain": [
       "<matplotlib.figure.Figure at 0x11abc7c90>"
      ]
     },
     "metadata": {},
     "output_type": "display_data"
    }
   ],
   "source": [
    "from sklearn import metrics\n",
    "import matplotlib.pyplot as plt\n",
    "\n",
    "hd_range = np.arange(0, 50)\n",
    "hd_result = []\n",
    "hd_sum = []\n",
    "for hd in hd_range:\n",
    "    # xt = order_has_ret[(order_has_ret['hit_sum'] > hd) & (order_has_ret['predict_sum'] > 1)]['result'].value_counts()\n",
    "    xt = order_has_ret[(order_has_ret['hit_sum'] > hd)]['result'].value_counts()\n",
    "    hs = xt.sum()\n",
    "    hd_sum.append(hs)\n",
    "    hd_result.append(float(xt[0])/hs)\n",
    "    \n",
    "cmap = plt.get_cmap('jet', 20)\n",
    "cmap.set_under('gray')\n",
    "fig, ax = plt.subplots()\n",
    "ax.plot(hd_range, hd_result)\n",
    "cax = ax.scatter(hd_range, hd_result, c=hd_sum, cmap=cmap, vmin=np.min(hd_sum),\n",
    "                 vmax=np.max(hd_sum))\n",
    "ax.grid(True)\n",
    "fig.colorbar(cax, label='hd_sum', extend='min')"
   ]
  },
  {
   "cell_type": "markdown",
   "metadata": {},
   "source": [
    "**本身数据就少，辅助裁判尽量裁决 jump ump可以使用hit 5作为阀值，大于5个hit直接裁决，否则等待边裁**"
   ]
  },
  {
   "cell_type": "code",
   "execution_count": 119,
   "metadata": {},
   "outputs": [
    {
     "name": "stdout",
     "output_type": "stream",
     "text": [
      "[ 0  1  2  3  4  7  8 15 18]\n"
     ]
    },
    {
     "data": {
      "text/plain": [
       "<matplotlib.colorbar.Colorbar at 0x11bf25510>"
      ]
     },
     "execution_count": 119,
     "metadata": {},
     "output_type": "execute_result"
    },
    {
     "data": {
      "image/png": "[encoded data removed]",
      "text/plain": [
       "<matplotlib.figure.Figure at 0x11b9f7c50>"
      ]
     },
     "metadata": {},
     "output_type": "display_data"
    }
   ],
   "source": [
    "orders_pd_tmp = orders_pd_ump.filter(regex='result|ump_jump_mlfiter|ind_key*')\n",
    "order_has_ret = orders_pd_tmp[orders_pd_tmp['result'] <> 0]\n",
    "order_has_ret['result'] = np.where(order_has_ret['result'] == -1, 0, 1)\n",
    "order_has_ret['ump_jump_mlfiterjumppdclass_predict'] = np.where(order_has_ret['ump_jump_mlfiterjumppdclass_predict'] == True, 1, 0)\n",
    "\n",
    "order_has_ret = order_has_ret[(order_has_ret['ump_jump_mlfiterjumppdclass_predict'] == 0)]\n",
    "\n",
    "hd_range = np.unique(order_has_ret['ump_jump_mlfiterjumppdclass_hit'])[:-1]\n",
    "# -1 要使用0开始的范围\n",
    "hd_range = np.array(hd_range) - 1\n",
    "print hd_range\n",
    "hd_result = []\n",
    "hd_sum = []\n",
    "for hd in hd_range:\n",
    "    xt = order_has_ret[order_has_ret['ump_jump_mlfiterjumppdclass_hit'] > hd]['result'].value_counts()\n",
    "    hs = xt.sum()\n",
    "    hd_sum.append(hs)\n",
    "    hd_result.append(float(xt[0])/hs)\n",
    "    \n",
    "cmap = plt.get_cmap('jet', 20)\n",
    "cmap.set_under('gray')\n",
    "fig, ax = plt.subplots()\n",
    "ax.plot(hd_range, hd_result)\n",
    "cax = ax.scatter(hd_range, hd_result, c=hd_sum, cmap=cmap, vmin=np.min(hd_sum),\n",
    "                 vmax=np.max(hd_sum))\n",
    "ax.grid(True)\n",
    "fig.colorbar(cax, label='hd_sum', extend='min')"
   ]
  },
  {
   "cell_type": "code",
   "execution_count": 120,
   "metadata": {},
   "outputs": [],
   "source": [
    "jump_hit_pd = order_has_ret[order_has_ret['ump_jump_mlfiterjumppdclass_hit'] < 3]\n",
    "jump_hit_pd_org = orders_pd_ump.iloc[jump_hit_pd['ind_key']]"
   ]
  },
  {
   "cell_type": "code",
   "execution_count": null,
   "metadata": {
    "collapsed": true
   },
   "outputs": [],
   "source": [
    "def apply_judge(order):\n",
    "    return ump_edge.predict(atr_std=order.atr_std, deg_hisWindowPd=order.deg_hisWindowPd, deg_windowPd=order.deg_windowPd,\n",
    "                 deg_60WindowPd=order.deg_60WindowPd, wave_score1=order.wave_score1, wave_score2=order.wave_score2,\n",
    "                 wave_score3=order.wave_score3)\n",
    "jump_hit_pd['edge'] = jump_hit_pd_org.apply(apply_judge, axis=1)"
   ]
  },
  {
   "cell_type": "code",
   "execution_count": 122,
   "metadata": {},
   "outputs": [
    {
     "data": {
      "text/plain": [
       " 0    175\n",
       "-1     12\n",
       " 1      7\n",
       "Name: edge, dtype: int64"
      ]
     },
     "execution_count": 122,
     "metadata": {},
     "output_type": "execute_result"
    }
   ],
   "source": [
    "jump_hit_pd['edge'].value_counts()"
   ]
  },
  {
   "cell_type": "markdown",
   "metadata": {},
   "source": [
    "**这里边裁的裁决只是为了验证正确性，由于边裁predict使用的是输入于原始数据矩阵的度量判断， 如果对裁决范围数量不满意，可以修改\n",
    "edge top loss，top win范围**\n",
    "\n",
    "        con_x = np.concatenate((x, dump_clf['fiter_x']), axis=0)\n",
    "        x_scale_param = self.scaler.fit(con_x)\n",
    "        con_x = self.scaler.fit_transform(con_x, x_scale_param)\n",
    "        distance_min_ind = pairwise_distances(con_x[0].reshape(1, -1), con_x[1:],\n",
    "                                              metric='euclidean').argmin()"
   ]
  },
  {
   "cell_type": "code",
   "execution_count": 123,
   "metadata": {},
   "outputs": [
    {
     "data": {
      "text/plain": [
       "1.0"
      ]
     },
     "execution_count": 123,
     "metadata": {},
     "output_type": "execute_result"
    }
   ],
   "source": [
    "from sklearn import metrics\n",
    "jump_hit_pd['result2'] = np.where(jump_hit_pd['result'] == 0, -1, 1)\n",
    "metrics.accuracy_score(jump_hit_pd[jump_hit_pd['edge'] == -1]['result2'],\n",
    "                                           jump_hit_pd[jump_hit_pd['edge'] == -1]['edge'])"
   ]
  },
  {
   "cell_type": "code",
   "execution_count": 124,
   "metadata": {},
   "outputs": [
    {
     "data": {
      "text/plain": [
       "1.0"
      ]
     },
     "execution_count": 124,
     "metadata": {},
     "output_type": "execute_result"
    }
   ],
   "source": [
    "metrics.accuracy_score(jump_hit_pd[jump_hit_pd['edge'] == 1]['result2'],\n",
    "                                           jump_hit_pd[jump_hit_pd['edge'] == 1]['edge'])"
   ]
  },
  {
   "cell_type": "code",
   "execution_count": 18,
   "metadata": {},
   "outputs": [
    {
     "data": {
      "text/plain": [
       "(2166, 40)"
      ]
     },
     "execution_count": 18,
     "metadata": {},
     "output_type": "execute_result"
    }
   ],
   "source": [
    "main_hit_pd = order_has_ret[order_has_ret['hit_sum'] < 20]\n",
    "main_hit_pd_org = orders_pd_ump.iloc[main_hit_pd['ind_key']]\n",
    "main_hit_pd_org.shape"
   ]
  },
  {
   "cell_type": "code",
   "execution_count": 19,
   "metadata": {},
   "outputs": [],
   "source": [
    "main_hit_pd['edge'] = main_hit_pd_org.apply(apply_judge, axis=1)"
   ]
  },
  {
   "cell_type": "code",
   "execution_count": 20,
   "metadata": {},
   "outputs": [
    {
     "data": {
      "text/plain": [
       " 0    1298\n",
       "-1     557\n",
       " 1     311\n",
       "Name: edge, dtype: int64"
      ]
     },
     "execution_count": 20,
     "metadata": {},
     "output_type": "execute_result"
    }
   ],
   "source": [
    "main_hit_pd['edge'].value_counts()"
   ]
  },
  {
   "cell_type": "code",
   "execution_count": 132,
   "metadata": {},
   "outputs": [
    {
     "data": {
      "text/plain": [
       "1.0"
      ]
     },
     "execution_count": 132,
     "metadata": {},
     "output_type": "execute_result"
    }
   ],
   "source": [
    "main_hit_pd['result2'] = np.where(main_hit_pd['result'] == 0, -1, 1)\n",
    "metrics.accuracy_score(main_hit_pd[main_hit_pd['edge'] == -1]['result2'],\n",
    "                                           main_hit_pd[main_hit_pd['edge'] == -1]['edge'])"
   ]
  },
  {
   "cell_type": "code",
   "execution_count": 24,
   "metadata": {},
   "outputs": [
    {
     "name": "stderr",
     "output_type": "stream",
     "text": [
      "all fit order = (44906, 40)\n",
      "win rate = 0.500757137131\n",
      "profit_cg.sum() = 272.117613217\n",
      "win mean = 0.0743788075658 loss_mean = -0.0626291433739 \n"
     ]
    },
    {
     "data": {
      "image/png": "[encoded data removed]",
      "text/plain": [
       "<matplotlib.figure.Figure at 0x11a86dfd0>"
      ]
     },
     "metadata": {},
     "output_type": "display_data"
    }
   ],
   "source": [
    "from UmpMain import UmpMainClass\n",
    "from MlFiterGoldenPd import MlFiterGoldenPdClass\n",
    "UmpMainClass(orders_pd_ump, MlFiterGoldenPdClass).show_general()"
   ]
  },
  {
   "cell_type": "code",
   "execution_count": null,
   "metadata": {
    "collapsed": true
   },
   "outputs": [],
   "source": []
  }
 ],
 "metadata": {
  "anaconda-cloud": {},
  "kernelspec": {
   "display_name": "Python 2",
   "language": "python",
   "name": "python2"
  },
  "language_info": {
   "codemirror_mode": {
    "name": "ipython",
    "version": 2
   },
   "file_extension": ".py",
   "mimetype": "text/x-python",
   "name": "python",
   "nbconvert_exporter": "python",
   "pygments_lexer": "ipython2",
   "version": "2.7.12"
  },
  "toc": {
   "colors": {
    "hover_highlight": "#DAA520",
    "navigate_num": "#000000",
    "navigate_text": "#333333",
    "running_highlight": "#FF0000",
    "selected_highlight": "#FFD700",
    "sidebar_border": "#EEEEEE",
    "wrapper_background": "#FFFFFF"
   },
   "moveMenuLeft": true,
   "nav_menu": {
    "height": "139px",
    "width": "252px"
   },
   "navigate_menu": true,
   "number_sections": true,
   "sideBar": true,
   "threshold": 4,
   "toc_cell": false,
   "toc_section_display": "block",
   "toc_window_display": false,
   "widenNotebook": false
  }
 },
 "nbformat": 4,
 "nbformat_minor": 1
}
