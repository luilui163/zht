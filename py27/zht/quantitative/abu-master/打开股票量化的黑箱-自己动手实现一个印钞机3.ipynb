{
 "cells": [
  {
   "cell_type": "markdown",
   "metadata": {},
   "source": [
    "# 打开股票量化的黑箱(自己动手实现一个‘印钞机’) 第三章\n",
    "\n",
    "### 作者：阿布🐶\n",
    "\n",
    "### 未经本人允许禁止转载"
   ]
  },
  {
   "cell_type": "markdown",
   "metadata": {},
   "source": [
    "##  ‘非均衡胜负收益’带来的必然’非均衡胜负比例‘，目标由’因子‘的能力解决一部分，’模式识别‘提升关键的一部分"
   ]
  },
  {
   "cell_type": "markdown",
   "metadata": {},
   "source": [
    "本章开始说文章的核心了，**模式识别提升关键的一部分** 本章的内容主要是通过机器学习如svm，随机森林等对股票模式识别的初步探索，俗称罪恶的第一步，但还是要坚定的卖出，毕竟目标是印钞机"
   ]
  },
  {
   "cell_type": "markdown",
   "metadata": {},
   "source": [
    "### 下面的工作运行因子对多年数据进行回测，模式识别中基本的需求就是生成训练集数据与测试集数据，对训练集的数据抽取特质，总结规律，在测试集上指导交易，与没有指导交易的测试集进行比对，查看效果"
   ]
  },
  {
   "cell_type": "code",
   "execution_count": 1,
   "metadata": {
    "collapsed": true
   },
   "outputs": [],
   "source": [
    "import ZEnv\n",
    "import ZLog\n",
    "import ZCommonUtil\n",
    "import pandas as pd\n",
    "import numpy as np\n",
    "import seaborn as sns\n",
    "import matplotlib.pyplot as plt\n",
    "\n",
    "%matplotlib inline\n",
    "import BuyGoldenFactor"
   ]
  },
  {
   "cell_type": "code",
   "execution_count": null,
   "metadata": {
    "collapsed": false
   },
   "outputs": [],
   "source": [
    "BuyGoldenFactor.g_enable_filter_ml = True # 回测因子的历史且结果集加入机器学习需要的数据\n",
    "BuyGoldenFactor.g_enable_snap = True # 生成交易这一时刻60日图像，为深度学习准备, 详情见第四章\n",
    "buy_factors = [{'XD': 42, 'class': BuyGoldenFactorClass, 'draw': True}]\n",
    "\n",
    "# n_folds： 6年数据回测生成五年单子\n",
    "# train_test_split：回测时预留一份股票代码表作为测试集，生成9份训练集，当use_last_test为True 时只用一份测试股票代码表进行因子回测\n",
    "# ret_cnt_need ＝ 0：回测所有股票\n",
    "out, orders_pd_train_snap = MetricsManger.make_metrics_rsc_mul_symbol_grid(buy_factors, n_folds=6, \n",
    "    score_type=METRICSTYPE.SYSMBOL_R_SCORES_GOLDEN.value, ret_cnt_need=0, train_test_split=True, \n",
    "    use_last_test=False, force_one_process=False)"
   ]
  },
  {
   "cell_type": "code",
   "execution_count": 16,
   "metadata": {
    "collapsed": true
   },
   "outputs": [],
   "source": [
    "# 使用hdf5将这些返回数据缓存，可以只从缓存加载，节约时间\n",
    "orders_pd_train_snap = ZCommonUtil.load_hdf5('orders_pd_train_snap', 'orders_pd_train_snap')"
   ]
  },
  {
   "cell_type": "code",
   "execution_count": 91,
   "metadata": {
    "collapsed": false
   },
   "outputs": [
    {
     "data": {
      "text/html": [
       "<div>\n",
       "<table border=\"1\" class=\"dataframe\">\n",
       "  <thead>\n",
       "    <tr style=\"text-align: right;\">\n",
       "      <th></th>\n",
       "      <th>buy Date</th>\n",
       "      <th>buy Price</th>\n",
       "      <th>buy Cnt</th>\n",
       "      <th>buyFactor</th>\n",
       "      <th>Sell Date</th>\n",
       "      <th>Sell Price</th>\n",
       "      <th>Sell Type</th>\n",
       "      <th>Symbol</th>\n",
       "      <th>MaxLoss</th>\n",
       "      <th>ExtraInfo</th>\n",
       "      <th>key</th>\n",
       "      <th>profit</th>\n",
       "      <th>result</th>\n",
       "      <th>sell_type_extra</th>\n",
       "      <th>R</th>\n",
       "      <th>sharpe</th>\n",
       "      <th>profit_cg</th>\n",
       "      <th>profit_cg_hunder</th>\n",
       "      <th>keep_days</th>\n",
       "      <th>lowBkCnt</th>\n",
       "      <th>his_miss_days</th>\n",
       "      <th>atr_std</th>\n",
       "      <th>deg_hisWindowPd</th>\n",
       "      <th>deg_windowPd</th>\n",
       "      <th>deg_60WindowPd</th>\n",
       "      <th>jump_power</th>\n",
       "      <th>diff_days</th>\n",
       "      <th>wave_score1</th>\n",
       "      <th>wave_score2</th>\n",
       "      <th>wave_score3</th>\n",
       "      <th>snap</th>\n",
       "      <th>symbol_index</th>\n",
       "    </tr>\n",
       "  </thead>\n",
       "  <tbody>\n",
       "    <tr>\n",
       "      <th>2012-08-28</th>\n",
       "      <td>20120828</td>\n",
       "      <td>26.79</td>\n",
       "      <td>7465</td>\n",
       "      <td>BuyGoldenFactorClass:42</td>\n",
       "      <td>20120905</td>\n",
       "      <td>24.460</td>\n",
       "      <td>loss</td>\n",
       "      <td>usMSB</td>\n",
       "      <td>19.17</td>\n",
       "      <td>{'wave_score3': -0.44112256310114328, 'wave_sc...</td>\n",
       "      <td>498</td>\n",
       "      <td>-17393.45</td>\n",
       "      <td>-1</td>\n",
       "      <td>BuyGoldenFactorClass:42: lossPrice :below200</td>\n",
       "      <td>-0.305774</td>\n",
       "      <td>-4.42247</td>\n",
       "      <td>-0.086973</td>\n",
       "      <td>-8.697275</td>\n",
       "      <td>8</td>\n",
       "      <td>1</td>\n",
       "      <td>0</td>\n",
       "      <td>0.985224</td>\n",
       "      <td>3.939047</td>\n",
       "      <td>-1.154262</td>\n",
       "      <td>3.300417</td>\n",
       "      <td>-1.111737</td>\n",
       "      <td>35</td>\n",
       "      <td>-0.121029</td>\n",
       "      <td>-0.200734</td>\n",
       "      <td>-0.441123</td>\n",
       "      <td>/Users/Bailey/Desktop/my_work/abu/data/save_pn...</td>\n",
       "      <td>6</td>\n",
       "    </tr>\n",
       "    <tr>\n",
       "      <th>2012-08-30</th>\n",
       "      <td>20120830</td>\n",
       "      <td>21.74</td>\n",
       "      <td>9199</td>\n",
       "      <td>BuyGoldenFactorClass:42</td>\n",
       "      <td>20120905</td>\n",
       "      <td>21.365</td>\n",
       "      <td>loss</td>\n",
       "      <td>usINDY</td>\n",
       "      <td>19.16</td>\n",
       "      <td>{'wave_score3': -0.89585840169126973, 'wave_sc...</td>\n",
       "      <td>500</td>\n",
       "      <td>-3449.62</td>\n",
       "      <td>-1</td>\n",
       "      <td>mv_pre_atr preClose 2.0</td>\n",
       "      <td>-0.145349</td>\n",
       "      <td>0.329131</td>\n",
       "      <td>-0.017249</td>\n",
       "      <td>-1.724929</td>\n",
       "      <td>6</td>\n",
       "      <td>1</td>\n",
       "      <td>0</td>\n",
       "      <td>0.089305</td>\n",
       "      <td>-5.110612</td>\n",
       "      <td>1.030533</td>\n",
       "      <td>3.618710</td>\n",
       "      <td>-4.396298</td>\n",
       "      <td>37</td>\n",
       "      <td>-0.552357</td>\n",
       "      <td>-0.595897</td>\n",
       "      <td>-0.895858</td>\n",
       "      <td>/Users/Bailey/Desktop/my_work/abu/data/save_pn...</td>\n",
       "      <td>6</td>\n",
       "    </tr>\n",
       "  </tbody>\n",
       "</table>\n",
       "</div>"
      ],
      "text/plain": [
       "            buy Date  buy Price  buy Cnt                buyFactor Sell Date  \\\n",
       "2012-08-28  20120828      26.79     7465  BuyGoldenFactorClass:42  20120905   \n",
       "2012-08-30  20120830      21.74     9199  BuyGoldenFactorClass:42  20120905   \n",
       "\n",
       "            Sell Price Sell Type  Symbol  MaxLoss  \\\n",
       "2012-08-28      24.460      loss   usMSB    19.17   \n",
       "2012-08-30      21.365      loss  usINDY    19.16   \n",
       "\n",
       "                                                    ExtraInfo  key    profit  \\\n",
       "2012-08-28  {'wave_score3': -0.44112256310114328, 'wave_sc...  498 -17393.45   \n",
       "2012-08-30  {'wave_score3': -0.89585840169126973, 'wave_sc...  500  -3449.62   \n",
       "\n",
       "            result                               sell_type_extra         R  \\\n",
       "2012-08-28      -1  BuyGoldenFactorClass:42: lossPrice :below200 -0.305774   \n",
       "2012-08-30      -1                       mv_pre_atr preClose 2.0 -0.145349   \n",
       "\n",
       "              sharpe  profit_cg  profit_cg_hunder  keep_days  lowBkCnt  \\\n",
       "2012-08-28  -4.42247  -0.086973         -8.697275          8         1   \n",
       "2012-08-30  0.329131  -0.017249         -1.724929          6         1   \n",
       "\n",
       "            his_miss_days   atr_std  deg_hisWindowPd  deg_windowPd  \\\n",
       "2012-08-28              0  0.985224         3.939047     -1.154262   \n",
       "2012-08-30              0  0.089305        -5.110612      1.030533   \n",
       "\n",
       "            deg_60WindowPd  jump_power  diff_days  wave_score1  wave_score2  \\\n",
       "2012-08-28        3.300417   -1.111737         35    -0.121029    -0.200734   \n",
       "2012-08-30        3.618710   -4.396298         37    -0.552357    -0.595897   \n",
       "\n",
       "            wave_score3                                               snap  \\\n",
       "2012-08-28    -0.441123  /Users/Bailey/Desktop/my_work/abu/data/save_pn...   \n",
       "2012-08-30    -0.895858  /Users/Bailey/Desktop/my_work/abu/data/save_pn...   \n",
       "\n",
       "            symbol_index  \n",
       "2012-08-28             6  \n",
       "2012-08-30             6  "
      ]
     },
     "execution_count": 91,
     "metadata": {},
     "output_type": "execute_result"
    }
   ],
   "source": [
    "pd.options.display.max_columns = 40\n",
    "orders_pd_train_snap.tail(2) # 看看添加了提供机器学习数据的pandas"
   ]
  },
  {
   "cell_type": "markdown",
   "metadata": {},
   "source": [
    "\n",
    "## 下面生成测试集数据\n",
    "\n",
    "        BuyGoldenFactor.g_enable_fiter = False\n",
    "        use_last_test=True"
   ]
  },
  {
   "cell_type": "code",
   "execution_count": null,
   "metadata": {
    "collapsed": true
   },
   "outputs": [],
   "source": [
    "BuyGoldenFactor.g_enable_fiter = False\n",
    "BuyGoldenFactor.g_enable_snap = True\n",
    "buy_factors = [{'XD': 42, 'class': BuyGoldenFactorClass, 'draw': True}]\n",
    "out, orders_pd_test = MetricsManger.make_metrics_rsc_mul_symbol_grid(buy_factors, n_folds=6, \n",
    "    score_type=METRICSTYPE.SYSMBOL_R_SCORES_GOLDEN.value, ret_cnt_need=0, train_test_split=False, \n",
    "    use_last_test=True, force_one_process=False)"
   ]
  },
  {
   "cell_type": "code",
   "execution_count": 20,
   "metadata": {
    "collapsed": false
   },
   "outputs": [
    {
     "data": {
      "text/plain": [
       "(4956, 32)"
      ]
     },
     "execution_count": 20,
     "metadata": {},
     "output_type": "execute_result"
    }
   ],
   "source": [
    "orders_pd_test_snap = ZCommonUtil.load_hdf5('orders_pd_test_snap', 'orders_pd_test_snap')"
   ]
  },
  {
   "cell_type": "code",
   "execution_count": 21,
   "metadata": {
    "collapsed": false
   },
   "outputs": [
    {
     "data": {
      "text/plain": [
       "((44412, 32), (4956, 32))"
      ]
     },
     "execution_count": 21,
     "metadata": {},
     "output_type": "execute_result"
    }
   ],
   "source": [
    "orders_pd_train_snap.shape, orders_pd_test_snap.shape"
   ]
  },
  {
   "cell_type": "markdown",
   "metadata": {},
   "source": [
    "### 对训练集及测试集的结果进行大体的度量：主要就是看看**‘非均衡胜负收益’带来的必然’非均衡胜负比例‘，目标由’因子‘的能力解决一部分**效果怎么样"
   ]
  },
  {
   "cell_type": "code",
   "execution_count": 69,
   "metadata": {
    "collapsed": true
   },
   "outputs": [],
   "source": [
    "from UmpMain import UmpMainClass\n",
    "from MlFiterGoldenPd import MlFiterGoldenPdClass"
   ]
  },
  {
   "cell_type": "code",
   "execution_count": 71,
   "metadata": {
    "collapsed": false
   },
   "outputs": [
    {
     "name": "stderr",
     "output_type": "stream",
     "text": [
      "all fit order = (41225, 32)\n",
      "win rate = 0.493559733172\n",
      "profit_cg.sum() = 281.687935222\n",
      "win mean = 0.0770327160087 loss_mean = -0.061738192442 \n"
     ]
    },
    {
     "data": {
      "image/png": "[encoded data removed]",
      "text/plain": [
       "<matplotlib.figure.Figure at 0x1315d30d0>"
      ]
     },
     "metadata": {},
     "output_type": "display_data"
    }
   ],
   "source": [
    "train_ump = UmpMainClass(orders_pd_train_snap, MlFiterGoldenPdClass)\n",
    "train_ump.show_general()"
   ]
  },
  {
   "cell_type": "code",
   "execution_count": 74,
   "metadata": {
    "collapsed": false
   },
   "outputs": [
    {
     "name": "stderr",
     "output_type": "stream",
     "text": [
      "all fit order = (4612, 32)\n",
      "win rate = 0.5\n",
      "profit_cg.sum() = 37.4002795407\n",
      "win mean = 0.076550446692 loss_mean = -0.0605681543452 \n"
     ]
    },
    {
     "data": {
      "image/png": "[encoded data removed]",
      "text/plain": [
       "<matplotlib.figure.Figure at 0x131d65850>"
      ]
     },
     "metadata": {},
     "output_type": "display_data"
    }
   ],
   "source": [
    "test_ump = UmpMainClass(orders_pd_test_snap, MlFiterGoldenPdClass)\n",
    "test_ump.show_general()"
   ]
  },
  {
   "cell_type": "markdown",
   "metadata": {},
   "source": [
    "显示在所有有结果的单子中胜率可以接近一半，且每次赢的0.07比没次输的0.06多，\n",
    "但是贪婪的我仍然认为有优化空间，这个空间就是利用这个因子产生的输出数据\n",
    "作为特征识别基础，提炼特征，指导交易，\n",
    "\n",
    "**’模式识别‘提升关键的一部分**\n",
    "\n",
    "下面我们看看如何做到的呢"
   ]
  },
  {
   "cell_type": "markdown",
   "metadata": {},
   "source": [
    "首先确认ml封装库是否能正常运行"
   ]
  },
  {
   "cell_type": "code",
   "execution_count": 34,
   "metadata": {
    "collapsed": true
   },
   "outputs": [],
   "source": [
    "from MlFiter import MlFiterClass\n",
    "test_fiter = MlFiterClass.create_test_fiter()\n",
    "test_fiter_more = MlFiterClass.create_test_more_fiter()"
   ]
  },
  {
   "cell_type": "markdown",
   "metadata": {},
   "source": [
    "**学习曲线**"
   ]
  },
  {
   "cell_type": "code",
   "execution_count": 35,
   "metadata": {
    "collapsed": false
   },
   "outputs": [
    {
     "data": {
      "image/png": "[encoded data removed]",
      "text/plain": [
       "<matplotlib.figure.Figure at 0x10bef0410>"
      ]
     },
     "metadata": {},
     "output_type": "display_data"
    },
    {
     "data": {
      "text/plain": [
       "(0.80412095046015697, 0.028989030232112856)"
      ]
     },
     "execution_count": 35,
     "metadata": {},
     "output_type": "execute_result"
    }
   ],
   "source": [
    "test_fiter_more.estimator.logistic_regression()\n",
    "test_fiter_more.plot_learning_curve()"
   ]
  },
  {
   "cell_type": "markdown",
   "metadata": {},
   "source": [
    "**特征权重**"
   ]
  },
  {
   "cell_type": "code",
   "execution_count": 36,
   "metadata": {
    "collapsed": false
   },
   "outputs": [
    {
     "name": "stderr",
     "output_type": "stream",
     "text": [
      "******************DecisionTreeClassifier******************\n"
     ]
    },
    {
     "data": {
      "text/html": [
       "<div>\n",
       "<table border=\"1\" class=\"dataframe\">\n",
       "  <thead>\n",
       "    <tr style=\"text-align: right;\">\n",
       "      <th></th>\n",
       "      <th>feature</th>\n",
       "      <th>importance</th>\n",
       "    </tr>\n",
       "  </thead>\n",
       "  <tbody>\n",
       "    <tr>\n",
       "      <th>0</th>\n",
       "      <td>x0</td>\n",
       "      <td>0.013333</td>\n",
       "    </tr>\n",
       "    <tr>\n",
       "      <th>1</th>\n",
       "      <td>x1</td>\n",
       "      <td>0.013333</td>\n",
       "    </tr>\n",
       "    <tr>\n",
       "      <th>3</th>\n",
       "      <td>x3</td>\n",
       "      <td>0.422611</td>\n",
       "    </tr>\n",
       "    <tr>\n",
       "      <th>2</th>\n",
       "      <td>x2</td>\n",
       "      <td>0.550723</td>\n",
       "    </tr>\n",
       "  </tbody>\n",
       "</table>\n",
       "</div>"
      ],
      "text/plain": [
       "  feature  importance\n",
       "0      x0    0.013333\n",
       "1      x1    0.013333\n",
       "3      x3    0.422611\n",
       "2      x2    0.550723"
      ]
     },
     "execution_count": 36,
     "metadata": {},
     "output_type": "execute_result"
    }
   ],
   "source": [
    "test_fiter.importances_coef_pd()"
   ]
  },
  {
   "cell_type": "markdown",
   "metadata": {},
   "source": [
    "**树逻辑图**"
   ]
  },
  {
   "cell_type": "code",
   "execution_count": 38,
   "metadata": {
    "collapsed": false
   },
   "outputs": [
    {
     "data": {
      "image/png": "[encoded data removed]",
      "text/plain": [
       "<matplotlib.figure.Figure at 0x12613ec10>"
      ]
     },
     "metadata": {},
     "output_type": "display_data"
    }
   ],
   "source": [
    "test_fiter.plot_graphviz_tree()\n",
    "path = ZEnv.shell_cmd_result('pwd') + '/graphviz.png'\n",
    "!open $path"
   ]
  },
  {
   "cell_type": "markdown",
   "metadata": {},
   "source": [
    "**混淆矩阵**"
   ]
  },
  {
   "cell_type": "code",
   "execution_count": 39,
   "metadata": {
    "collapsed": false
   },
   "outputs": [
    {
     "name": "stderr",
     "output_type": "stream",
     "text": [
      "[[453  96]\n",
      " [100 242]]\n"
     ]
    },
    {
     "data": {
      "image/png": "[encoded data removed]",
      "text/plain": [
       "<matplotlib.figure.Figure at 0x126607c10>"
      ]
     },
     "metadata": {},
     "output_type": "display_data"
    }
   ],
   "source": [
    "test_fiter_more.plot_confusion_matrices()"
   ]
  },
  {
   "cell_type": "markdown",
   "metadata": {},
   "source": [
    "**roc**"
   ]
  },
  {
   "cell_type": "code",
   "execution_count": 41,
   "metadata": {
    "collapsed": false
   },
   "outputs": [
    {
     "name": "stderr",
     "output_type": "stream",
     "text": [
      "DecisionTreeClassifier :roc\n"
     ]
    },
    {
     "data": {
      "image/png": "[encoded data removed]",
      "text/plain": [
       "<matplotlib.figure.Figure at 0x1266f4390>"
      ]
     },
     "metadata": {},
     "output_type": "display_data"
    }
   ],
   "source": [
    "test_fiter_more.plot_roc_estimator()"
   ]
  },
  {
   "cell_type": "markdown",
   "metadata": {},
   "source": [
    "**特征选择**"
   ]
  },
  {
   "cell_type": "code",
   "execution_count": 42,
   "metadata": {
    "collapsed": false
   },
   "outputs": [
    {
     "name": "stderr",
     "output_type": "stream",
     "text": [
      "RFE selection\n",
      "             ranking support\n",
      "SibSp              1    True\n",
      "Parch              1    True\n",
      "Cabin_No           1    True\n",
      "Cabin_Yes          6   False\n",
      "Embarked_C         2   False\n",
      "Embarked_Q         5   False\n",
      "Embarked_S         3   False\n",
      "Sex_female         8   False\n",
      "Sex_male           1    True\n",
      "Pclass_1           4   False\n",
      "Pclass_2           7   False\n",
      "Pclass_3           1    True\n",
      "Age_scaled         1    True\n",
      "Fare_scaled        1    True\n",
      "\n",
      "RFECV selection\n",
      "             ranking support\n",
      "SibSp              1    True\n",
      "Parch              2   False\n",
      "Cabin_No           1    True\n",
      "Cabin_Yes          7   False\n",
      "Embarked_C         3   False\n",
      "Embarked_Q         8   False\n",
      "Embarked_S         4   False\n",
      "Sex_female         1    True\n",
      "Sex_male           9   False\n",
      "Pclass_1           5   False\n",
      "Pclass_2           6   False\n",
      "Pclass_3           1    True\n",
      "Age_scaled         1    True\n",
      "Fare_scaled        1    True\n"
     ]
    }
   ],
   "source": [
    "test_fiter_more.feature_selection()"
   ]
  },
  {
   "cell_type": "markdown",
   "metadata": {},
   "source": [
    "**决策边界**"
   ]
  },
  {
   "cell_type": "code",
   "execution_count": 44,
   "metadata": {
    "collapsed": false
   },
   "outputs": [
    {
     "data": {
      "image/png": "[encoded data removed]",
      "text/plain": [
       "<matplotlib.figure.Figure at 0x1260ed090>"
      ]
     },
     "metadata": {},
     "output_type": "display_data"
    },
    {
     "data": {
      "image/png": "[encoded data removed]",
      "text/plain": [
       "<matplotlib.figure.Figure at 0x1266e94d0>"
      ]
     },
     "metadata": {},
     "output_type": "display_data"
    }
   ],
   "source": [
    "test_fiter.plot_decision_function()"
   ]
  },
  {
   "cell_type": "markdown",
   "metadata": {},
   "source": [
    "**train test score**"
   ]
  },
  {
   "cell_type": "code",
   "execution_count": 45,
   "metadata": {
    "collapsed": false
   },
   "outputs": [
    {
     "name": "stderr",
     "output_type": "stream",
     "text": [
      "accuracy mean: 0.776812507093\n"
     ]
    },
    {
     "data": {
      "text/plain": [
       "array([ 0.75555556,  0.72222222,  0.73033708,  0.75280899,  0.83146067,\n",
       "        0.78651685,  0.80898876,  0.71910112,  0.82022472,  0.84090909])"
      ]
     },
     "execution_count": 45,
     "metadata": {},
     "output_type": "execute_result"
    }
   ],
   "source": [
    "test_fiter_more.cross_val_accuracy_score()"
   ]
  },
  {
   "cell_type": "markdown",
   "metadata": {},
   "source": [
    "**切换使用其它学习方法**"
   ]
  },
  {
   "cell_type": "code",
   "execution_count": 46,
   "metadata": {
    "collapsed": false
   },
   "outputs": [
    {
     "name": "stderr",
     "output_type": "stream",
     "text": [
      "accuracy mean: 0.810433548973\n"
     ]
    },
    {
     "data": {
      "text/plain": [
       "array([ 0.78888889,  0.78888889,  0.78651685,  0.80898876,  0.84269663,\n",
       "        0.78651685,  0.82022472,  0.82022472,  0.79775281,  0.86363636])"
      ]
     },
     "execution_count": 46,
     "metadata": {},
     "output_type": "execute_result"
    }
   ],
   "source": [
    "test_fiter_more.estimator.adaboost_classifier()\n",
    "test_fiter_more.cross_val_accuracy_score()"
   ]
  },
  {
   "cell_type": "markdown",
   "metadata": {},
   "source": [
    "### 可以证明封装库没有问题，可以放心使用，下一步上真正的股票数据"
   ]
  },
  {
   "cell_type": "code",
   "execution_count": 49,
   "metadata": {
    "collapsed": true
   },
   "outputs": [],
   "source": [
    "from MlFiterDegPd import MlFiterDegPdClass"
   ]
  },
  {
   "cell_type": "markdown",
   "metadata": {},
   "source": [
    "由252，60， 42天组成的走势数剧作为特质开始"
   ]
  },
  {
   "cell_type": "code",
   "execution_count": 76,
   "metadata": {
    "collapsed": false
   },
   "outputs": [
    {
     "data": {
      "text/html": [
       "<div>\n",
       "<table border=\"1\" class=\"dataframe\">\n",
       "  <thead>\n",
       "    <tr style=\"text-align: right;\">\n",
       "      <th></th>\n",
       "      <th>result</th>\n",
       "      <th>deg_hisWindowPd</th>\n",
       "      <th>deg_windowPd</th>\n",
       "      <th>deg_60WindowPd</th>\n",
       "    </tr>\n",
       "  </thead>\n",
       "  <tbody>\n",
       "    <tr>\n",
       "      <th>2015-09-11</th>\n",
       "      <td>0</td>\n",
       "      <td>0.139976</td>\n",
       "      <td>0.070454</td>\n",
       "      <td>0.068291</td>\n",
       "    </tr>\n",
       "    <tr>\n",
       "      <th>2015-09-11</th>\n",
       "      <td>0</td>\n",
       "      <td>-0.409467</td>\n",
       "      <td>-0.388299</td>\n",
       "      <td>0.750276</td>\n",
       "    </tr>\n",
       "    <tr>\n",
       "      <th>2015-09-11</th>\n",
       "      <td>0</td>\n",
       "      <td>11.841444</td>\n",
       "      <td>-0.846906</td>\n",
       "      <td>2.738821</td>\n",
       "    </tr>\n",
       "    <tr>\n",
       "      <th>2015-09-11</th>\n",
       "      <td>0</td>\n",
       "      <td>-17.266100</td>\n",
       "      <td>-3.578966</td>\n",
       "      <td>-3.861270</td>\n",
       "    </tr>\n",
       "    <tr>\n",
       "      <th>2015-09-11</th>\n",
       "      <td>1</td>\n",
       "      <td>-9.146706</td>\n",
       "      <td>4.145140</td>\n",
       "      <td>2.854837</td>\n",
       "    </tr>\n",
       "  </tbody>\n",
       "</table>\n",
       "</div>"
      ],
      "text/plain": [
       "            result  deg_hisWindowPd  deg_windowPd  deg_60WindowPd\n",
       "2015-09-11       0         0.139976      0.070454        0.068291\n",
       "2015-09-11       0        -0.409467     -0.388299        0.750276\n",
       "2015-09-11       0        11.841444     -0.846906        2.738821\n",
       "2015-09-11       0       -17.266100     -3.578966       -3.861270\n",
       "2015-09-11       1        -9.146706      4.145140        2.854837"
      ]
     },
     "execution_count": 76,
     "metadata": {},
     "output_type": "execute_result"
    }
   ],
   "source": [
    "deg = MlFiterDegPdClass(orderPd=orders_pd_train_snap)\n",
    "deg.df.head()"
   ]
  },
  {
   "cell_type": "code",
   "execution_count": 52,
   "metadata": {
    "collapsed": false
   },
   "outputs": [
    {
     "data": {
      "text/plain": [
       "SVC(C=1.0, cache_size=200, class_weight=None, coef0=0.0,\n",
       "  decision_function_shape=None, degree=3, gamma='auto', kernel='rbf',\n",
       "  max_iter=-1, probability=False, random_state=None, shrinking=True,\n",
       "  tol=0.001, verbose=False)"
      ]
     },
     "execution_count": 52,
     "metadata": {},
     "output_type": "execute_result"
    }
   ],
   "source": [
    "# 上来就来个强模型，svm\n",
    "deg().estimator.svc()"
   ]
  },
  {
   "cell_type": "code",
   "execution_count": 53,
   "metadata": {
    "collapsed": false
   },
   "outputs": [
    {
     "name": "stderr",
     "output_type": "stream",
     "text": [
      "accuracy mean: 0.491279520472\n"
     ]
    },
    {
     "data": {
      "text/plain": [
       "array([ 0.48920689,  0.51758428,  0.49987873,  0.49551298,  0.48168809,\n",
       "        0.4887218 ,  0.47610963,  0.47355653,  0.4853191 ,  0.50521718])"
      ]
     },
     "execution_count": 53,
     "metadata": {},
     "output_type": "execute_result"
    }
   ],
   "source": [
    "deg().cross_val_accuracy_score()"
   ]
  },
  {
   "cell_type": "markdown",
   "metadata": {},
   "source": [
    "**0.49的准确率，相当于是乱猜** 是不是特征选择的不好呢，换一些特征试试"
   ]
  },
  {
   "cell_type": "code",
   "execution_count": 77,
   "metadata": {
    "collapsed": true
   },
   "outputs": [],
   "source": [
    "from MlFiterMainPd import MlFiterMainPdClass"
   ]
  },
  {
   "cell_type": "code",
   "execution_count": 78,
   "metadata": {
    "collapsed": false
   },
   "outputs": [
    {
     "data": {
      "text/html": [
       "<div>\n",
       "<table border=\"1\" class=\"dataframe\">\n",
       "  <thead>\n",
       "    <tr style=\"text-align: right;\">\n",
       "      <th></th>\n",
       "      <th>result</th>\n",
       "      <th>atr_std</th>\n",
       "      <th>deg_60WindowPd</th>\n",
       "      <th>wave_score1</th>\n",
       "    </tr>\n",
       "  </thead>\n",
       "  <tbody>\n",
       "    <tr>\n",
       "      <th>2015-09-11</th>\n",
       "      <td>0</td>\n",
       "      <td>0.176934</td>\n",
       "      <td>0.068291</td>\n",
       "      <td>0.338000</td>\n",
       "    </tr>\n",
       "    <tr>\n",
       "      <th>2015-09-11</th>\n",
       "      <td>0</td>\n",
       "      <td>0.580693</td>\n",
       "      <td>0.750276</td>\n",
       "      <td>0.769249</td>\n",
       "    </tr>\n",
       "    <tr>\n",
       "      <th>2015-09-11</th>\n",
       "      <td>0</td>\n",
       "      <td>1.438411</td>\n",
       "      <td>2.738821</td>\n",
       "      <td>0.242423</td>\n",
       "    </tr>\n",
       "    <tr>\n",
       "      <th>2015-09-11</th>\n",
       "      <td>0</td>\n",
       "      <td>2.061893</td>\n",
       "      <td>-3.861270</td>\n",
       "      <td>0.930900</td>\n",
       "    </tr>\n",
       "    <tr>\n",
       "      <th>2015-09-11</th>\n",
       "      <td>1</td>\n",
       "      <td>1.022388</td>\n",
       "      <td>2.854837</td>\n",
       "      <td>1.650291</td>\n",
       "    </tr>\n",
       "  </tbody>\n",
       "</table>\n",
       "</div>"
      ],
      "text/plain": [
       "            result   atr_std  deg_60WindowPd  wave_score1\n",
       "2015-09-11       0  0.176934        0.068291     0.338000\n",
       "2015-09-11       0  0.580693        0.750276     0.769249\n",
       "2015-09-11       0  1.438411        2.738821     0.242423\n",
       "2015-09-11       0  2.061893       -3.861270     0.930900\n",
       "2015-09-11       1  1.022388        2.854837     1.650291"
      ]
     },
     "execution_count": 78,
     "metadata": {},
     "output_type": "execute_result"
    }
   ],
   "source": [
    "from MlFiterMainPd import MlFiterMainPdClass\n",
    "main = MlFiterMainPdClass(orderPd=orders_pd_train_snap)\n",
    "main.df.head()"
   ]
  },
  {
   "cell_type": "code",
   "execution_count": 80,
   "metadata": {
    "collapsed": false
   },
   "outputs": [
    {
     "name": "stderr",
     "output_type": "stream",
     "text": [
      "accuracy mean: 0.493608245706\n"
     ]
    },
    {
     "data": {
      "text/plain": [
       "array([ 0.5008489 ,  0.49890856,  0.49793839,  0.48678147,  0.50303177,\n",
       "        0.47125879,  0.49648314,  0.49369238,  0.49332686,  0.49381218])"
      ]
     },
     "execution_count": 80,
     "metadata": {},
     "output_type": "execute_result"
    }
   ],
   "source": [
    "main().cross_val_accuracy_score()"
   ]
  },
  {
   "cell_type": "markdown",
   "metadata": {},
   "source": [
    "**0.49的准确率，还是乱猜** 是不是特征太少了，构建一个特征多的试试"
   ]
  },
  {
   "cell_type": "code",
   "execution_count": 85,
   "metadata": {
    "collapsed": false
   },
   "outputs": [
    {
     "data": {
      "text/html": [
       "<div>\n",
       "<table border=\"1\" class=\"dataframe\">\n",
       "  <thead>\n",
       "    <tr style=\"text-align: right;\">\n",
       "      <th></th>\n",
       "      <th>result</th>\n",
       "      <th>deg_hisWindowPd</th>\n",
       "      <th>deg_windowPd</th>\n",
       "      <th>deg_60WindowPd</th>\n",
       "      <th>atr_std</th>\n",
       "      <th>jump_power</th>\n",
       "      <th>diff_days</th>\n",
       "      <th>wave_score1</th>\n",
       "      <th>wave_score2</th>\n",
       "    </tr>\n",
       "  </thead>\n",
       "  <tbody>\n",
       "    <tr>\n",
       "      <th>2015-09-11</th>\n",
       "      <td>-1</td>\n",
       "      <td>0.139976</td>\n",
       "      <td>0.070454</td>\n",
       "      <td>0.068291</td>\n",
       "      <td>0.176934</td>\n",
       "      <td>-1.390000</td>\n",
       "      <td>48</td>\n",
       "      <td>0.338000</td>\n",
       "      <td>0.376933</td>\n",
       "    </tr>\n",
       "    <tr>\n",
       "      <th>2015-09-11</th>\n",
       "      <td>-1</td>\n",
       "      <td>-0.409467</td>\n",
       "      <td>-0.388299</td>\n",
       "      <td>0.750276</td>\n",
       "      <td>0.580693</td>\n",
       "      <td>-2.144082</td>\n",
       "      <td>106</td>\n",
       "      <td>0.769249</td>\n",
       "      <td>0.844728</td>\n",
       "    </tr>\n",
       "    <tr>\n",
       "      <th>2015-09-11</th>\n",
       "      <td>-1</td>\n",
       "      <td>11.841444</td>\n",
       "      <td>-0.846906</td>\n",
       "      <td>2.738821</td>\n",
       "      <td>1.438411</td>\n",
       "      <td>0.000000</td>\n",
       "      <td>0</td>\n",
       "      <td>0.242423</td>\n",
       "      <td>0.074236</td>\n",
       "    </tr>\n",
       "    <tr>\n",
       "      <th>2015-09-11</th>\n",
       "      <td>-1</td>\n",
       "      <td>-17.266100</td>\n",
       "      <td>-3.578966</td>\n",
       "      <td>-3.861270</td>\n",
       "      <td>2.061893</td>\n",
       "      <td>-2.621604</td>\n",
       "      <td>100</td>\n",
       "      <td>0.930900</td>\n",
       "      <td>0.966207</td>\n",
       "    </tr>\n",
       "    <tr>\n",
       "      <th>2015-09-11</th>\n",
       "      <td>1</td>\n",
       "      <td>-9.146706</td>\n",
       "      <td>4.145140</td>\n",
       "      <td>2.854837</td>\n",
       "      <td>1.022388</td>\n",
       "      <td>-1.081679</td>\n",
       "      <td>353</td>\n",
       "      <td>1.650291</td>\n",
       "      <td>1.655261</td>\n",
       "    </tr>\n",
       "  </tbody>\n",
       "</table>\n",
       "</div>"
      ],
      "text/plain": [
       "            result  deg_hisWindowPd  deg_windowPd  deg_60WindowPd   atr_std  \\\n",
       "2015-09-11      -1         0.139976      0.070454        0.068291  0.176934   \n",
       "2015-09-11      -1        -0.409467     -0.388299        0.750276  0.580693   \n",
       "2015-09-11      -1        11.841444     -0.846906        2.738821  1.438411   \n",
       "2015-09-11      -1       -17.266100     -3.578966       -3.861270  2.061893   \n",
       "2015-09-11       1        -9.146706      4.145140        2.854837  1.022388   \n",
       "\n",
       "            jump_power  diff_days  wave_score1  wave_score2  \n",
       "2015-09-11   -1.390000         48     0.338000     0.376933  \n",
       "2015-09-11   -2.144082        106     0.769249     0.844728  \n",
       "2015-09-11    0.000000          0     0.242423     0.074236  \n",
       "2015-09-11   -2.621604        100     0.930900     0.966207  \n",
       "2015-09-11   -1.081679        353     1.650291     1.655261  "
      ]
     },
     "execution_count": 85,
     "metadata": {},
     "output_type": "execute_result"
    }
   ],
   "source": [
    "from MlFiter import MlFiterClass\n",
    "order_has_ret = orders_pd_train_snap[(orders_pd_train_snap.result <> 0)]\n",
    "\n",
    "all_pd = order_has_ret.filter(['result', 'deg_hisWindowPd', 'deg_windowPd', 'deg_60WindowPd', 'atr_std', 'jump_power', \n",
    "                               'diff_days', 'wave_score1', 'wave_score2', 'wave_score23'])\n",
    "train_np = all_pd.as_matrix()\n",
    "y = train_np[:, 0]\n",
    "x = train_np[:, 1:]\n",
    "all_filter = MlFiterClass(x, y, all_pd)\n",
    "all_pd.head()"
   ]
  },
  {
   "cell_type": "code",
   "execution_count": 88,
   "metadata": {
    "collapsed": false
   },
   "outputs": [
    {
     "data": {
      "text/plain": [
       "RandomForestClassifier(bootstrap=True, class_weight=None, criterion='gini',\n",
       "            max_depth=None, max_features='auto', max_leaf_nodes=None,\n",
       "            min_samples_leaf=1, min_samples_split=2,\n",
       "            min_weight_fraction_leaf=0.0, n_estimators=100, n_jobs=1,\n",
       "            oob_score=False, random_state=None, verbose=0,\n",
       "            warm_start=False)"
      ]
     },
     "execution_count": 88,
     "metadata": {},
     "output_type": "execute_result"
    }
   ],
   "source": [
    "# 这回使用随机森林\n",
    "all_filter.estimator.random_forest_classifier()"
   ]
  },
  {
   "cell_type": "code",
   "execution_count": 90,
   "metadata": {
    "collapsed": false
   },
   "outputs": [
    {
     "name": "stderr",
     "output_type": "stream",
     "text": [
      "accuracy mean: 0.505349477658\n"
     ]
    },
    {
     "data": {
      "text/plain": [
       "array([ 0.48678147,  0.50788261,  0.53019646,  0.50497211,  0.51297599,\n",
       "        0.46058695,  0.51564395,  0.50994663,  0.4942975 ,  0.53021111])"
      ]
     },
     "execution_count": 90,
     "metadata": {},
     "output_type": "execute_result"
    }
   ],
   "source": [
    "all_filter.cross_val_accuracy_score()"
   ]
  },
  {
   "cell_type": "markdown",
   "metadata": {},
   "source": [
    "**0.50的准确率，这算是有所提升吗？😥**\n",
    "\n",
    "### 下面使用把数据离散化后，换种分类器测试"
   ]
  },
  {
   "cell_type": "code",
   "execution_count": 55,
   "metadata": {
    "collapsed": false
   },
   "outputs": [
    {
     "data": {
      "text/html": [
       "<div>\n",
       "<table border=\"1\" class=\"dataframe\">\n",
       "  <thead>\n",
       "    <tr style=\"text-align: right;\">\n",
       "      <th></th>\n",
       "      <th>result</th>\n",
       "      <th>dh_dummies_(-inf, -20]</th>\n",
       "      <th>dh_dummies_(-20, -12]</th>\n",
       "      <th>dh_dummies_(-12, -7]</th>\n",
       "      <th>dh_dummies_(-7, -3]</th>\n",
       "      <th>dh_dummies_(-3, 0]</th>\n",
       "      <th>dh_dummies_(0, 3]</th>\n",
       "      <th>dh_dummies_(3, 7]</th>\n",
       "      <th>dh_dummies_(7, 12]</th>\n",
       "      <th>dh_dummies_(12, 20]</th>\n",
       "      <th>dh_dummies_(20, inf]</th>\n",
       "      <th>dw_dummies_(-inf, -20]</th>\n",
       "      <th>dw_dummies_(-20, -12]</th>\n",
       "      <th>dw_dummies_(-12, -7]</th>\n",
       "      <th>dw_dummies_(-7, -3]</th>\n",
       "      <th>dw_dummies_(-3, 0]</th>\n",
       "      <th>dw_dummies_(0, 3]</th>\n",
       "      <th>dw_dummies_(3, 7]</th>\n",
       "      <th>dw_dummies_(7, 12]</th>\n",
       "      <th>dw_dummies_(12, 20]</th>\n",
       "      <th>dw_dummies_(20, inf]</th>\n",
       "      <th>d60_dummies_(-inf, -20]</th>\n",
       "      <th>d60_dummies_(-20, -12]</th>\n",
       "      <th>d60_dummies_(-12, -7]</th>\n",
       "      <th>d60_dummies_(-7, -3]</th>\n",
       "      <th>d60_dummies_(-3, 0]</th>\n",
       "      <th>d60_dummies_(0, 3]</th>\n",
       "      <th>d60_dummies_(3, 7]</th>\n",
       "      <th>d60_dummies_(7, 12]</th>\n",
       "      <th>d60_dummies_(12, 20]</th>\n",
       "      <th>d60_dummies_(20, inf]</th>\n",
       "    </tr>\n",
       "  </thead>\n",
       "  <tbody>\n",
       "    <tr>\n",
       "      <th>2015-09-11</th>\n",
       "      <td>0</td>\n",
       "      <td>0.0</td>\n",
       "      <td>0.0</td>\n",
       "      <td>0.0</td>\n",
       "      <td>0.0</td>\n",
       "      <td>0.0</td>\n",
       "      <td>1.0</td>\n",
       "      <td>0.0</td>\n",
       "      <td>0.0</td>\n",
       "      <td>0.0</td>\n",
       "      <td>0.0</td>\n",
       "      <td>0.0</td>\n",
       "      <td>0.0</td>\n",
       "      <td>0.0</td>\n",
       "      <td>0.0</td>\n",
       "      <td>0.0</td>\n",
       "      <td>1.0</td>\n",
       "      <td>0.0</td>\n",
       "      <td>0.0</td>\n",
       "      <td>0.0</td>\n",
       "      <td>0.0</td>\n",
       "      <td>0.0</td>\n",
       "      <td>0.0</td>\n",
       "      <td>0.0</td>\n",
       "      <td>0.0</td>\n",
       "      <td>0.0</td>\n",
       "      <td>1.0</td>\n",
       "      <td>0.0</td>\n",
       "      <td>0.0</td>\n",
       "      <td>0.0</td>\n",
       "      <td>0.0</td>\n",
       "    </tr>\n",
       "    <tr>\n",
       "      <th>2015-09-11</th>\n",
       "      <td>0</td>\n",
       "      <td>0.0</td>\n",
       "      <td>0.0</td>\n",
       "      <td>0.0</td>\n",
       "      <td>0.0</td>\n",
       "      <td>1.0</td>\n",
       "      <td>0.0</td>\n",
       "      <td>0.0</td>\n",
       "      <td>0.0</td>\n",
       "      <td>0.0</td>\n",
       "      <td>0.0</td>\n",
       "      <td>0.0</td>\n",
       "      <td>0.0</td>\n",
       "      <td>0.0</td>\n",
       "      <td>0.0</td>\n",
       "      <td>1.0</td>\n",
       "      <td>0.0</td>\n",
       "      <td>0.0</td>\n",
       "      <td>0.0</td>\n",
       "      <td>0.0</td>\n",
       "      <td>0.0</td>\n",
       "      <td>0.0</td>\n",
       "      <td>0.0</td>\n",
       "      <td>0.0</td>\n",
       "      <td>0.0</td>\n",
       "      <td>0.0</td>\n",
       "      <td>1.0</td>\n",
       "      <td>0.0</td>\n",
       "      <td>0.0</td>\n",
       "      <td>0.0</td>\n",
       "      <td>0.0</td>\n",
       "    </tr>\n",
       "    <tr>\n",
       "      <th>2015-09-11</th>\n",
       "      <td>0</td>\n",
       "      <td>0.0</td>\n",
       "      <td>0.0</td>\n",
       "      <td>0.0</td>\n",
       "      <td>0.0</td>\n",
       "      <td>0.0</td>\n",
       "      <td>0.0</td>\n",
       "      <td>0.0</td>\n",
       "      <td>1.0</td>\n",
       "      <td>0.0</td>\n",
       "      <td>0.0</td>\n",
       "      <td>0.0</td>\n",
       "      <td>0.0</td>\n",
       "      <td>0.0</td>\n",
       "      <td>0.0</td>\n",
       "      <td>1.0</td>\n",
       "      <td>0.0</td>\n",
       "      <td>0.0</td>\n",
       "      <td>0.0</td>\n",
       "      <td>0.0</td>\n",
       "      <td>0.0</td>\n",
       "      <td>0.0</td>\n",
       "      <td>0.0</td>\n",
       "      <td>0.0</td>\n",
       "      <td>0.0</td>\n",
       "      <td>0.0</td>\n",
       "      <td>1.0</td>\n",
       "      <td>0.0</td>\n",
       "      <td>0.0</td>\n",
       "      <td>0.0</td>\n",
       "      <td>0.0</td>\n",
       "    </tr>\n",
       "    <tr>\n",
       "      <th>2015-09-11</th>\n",
       "      <td>0</td>\n",
       "      <td>0.0</td>\n",
       "      <td>1.0</td>\n",
       "      <td>0.0</td>\n",
       "      <td>0.0</td>\n",
       "      <td>0.0</td>\n",
       "      <td>0.0</td>\n",
       "      <td>0.0</td>\n",
       "      <td>0.0</td>\n",
       "      <td>0.0</td>\n",
       "      <td>0.0</td>\n",
       "      <td>0.0</td>\n",
       "      <td>0.0</td>\n",
       "      <td>0.0</td>\n",
       "      <td>1.0</td>\n",
       "      <td>0.0</td>\n",
       "      <td>0.0</td>\n",
       "      <td>0.0</td>\n",
       "      <td>0.0</td>\n",
       "      <td>0.0</td>\n",
       "      <td>0.0</td>\n",
       "      <td>0.0</td>\n",
       "      <td>0.0</td>\n",
       "      <td>0.0</td>\n",
       "      <td>1.0</td>\n",
       "      <td>0.0</td>\n",
       "      <td>0.0</td>\n",
       "      <td>0.0</td>\n",
       "      <td>0.0</td>\n",
       "      <td>0.0</td>\n",
       "      <td>0.0</td>\n",
       "    </tr>\n",
       "    <tr>\n",
       "      <th>2015-09-11</th>\n",
       "      <td>1</td>\n",
       "      <td>0.0</td>\n",
       "      <td>0.0</td>\n",
       "      <td>1.0</td>\n",
       "      <td>0.0</td>\n",
       "      <td>0.0</td>\n",
       "      <td>0.0</td>\n",
       "      <td>0.0</td>\n",
       "      <td>0.0</td>\n",
       "      <td>0.0</td>\n",
       "      <td>0.0</td>\n",
       "      <td>0.0</td>\n",
       "      <td>0.0</td>\n",
       "      <td>0.0</td>\n",
       "      <td>0.0</td>\n",
       "      <td>0.0</td>\n",
       "      <td>0.0</td>\n",
       "      <td>1.0</td>\n",
       "      <td>0.0</td>\n",
       "      <td>0.0</td>\n",
       "      <td>0.0</td>\n",
       "      <td>0.0</td>\n",
       "      <td>0.0</td>\n",
       "      <td>0.0</td>\n",
       "      <td>0.0</td>\n",
       "      <td>0.0</td>\n",
       "      <td>1.0</td>\n",
       "      <td>0.0</td>\n",
       "      <td>0.0</td>\n",
       "      <td>0.0</td>\n",
       "      <td>0.0</td>\n",
       "    </tr>\n",
       "  </tbody>\n",
       "</table>\n",
       "</div>"
      ],
      "text/plain": [
       "            result  dh_dummies_(-inf, -20]  dh_dummies_(-20, -12]  \\\n",
       "2015-09-11       0                     0.0                    0.0   \n",
       "2015-09-11       0                     0.0                    0.0   \n",
       "2015-09-11       0                     0.0                    0.0   \n",
       "2015-09-11       0                     0.0                    1.0   \n",
       "2015-09-11       1                     0.0                    0.0   \n",
       "\n",
       "            dh_dummies_(-12, -7]  dh_dummies_(-7, -3]  dh_dummies_(-3, 0]  \\\n",
       "2015-09-11                   0.0                  0.0                 0.0   \n",
       "2015-09-11                   0.0                  0.0                 1.0   \n",
       "2015-09-11                   0.0                  0.0                 0.0   \n",
       "2015-09-11                   0.0                  0.0                 0.0   \n",
       "2015-09-11                   1.0                  0.0                 0.0   \n",
       "\n",
       "            dh_dummies_(0, 3]  dh_dummies_(3, 7]  dh_dummies_(7, 12]  \\\n",
       "2015-09-11                1.0                0.0                 0.0   \n",
       "2015-09-11                0.0                0.0                 0.0   \n",
       "2015-09-11                0.0                0.0                 1.0   \n",
       "2015-09-11                0.0                0.0                 0.0   \n",
       "2015-09-11                0.0                0.0                 0.0   \n",
       "\n",
       "            dh_dummies_(12, 20]  dh_dummies_(20, inf]  dw_dummies_(-inf, -20]  \\\n",
       "2015-09-11                  0.0                   0.0                     0.0   \n",
       "2015-09-11                  0.0                   0.0                     0.0   \n",
       "2015-09-11                  0.0                   0.0                     0.0   \n",
       "2015-09-11                  0.0                   0.0                     0.0   \n",
       "2015-09-11                  0.0                   0.0                     0.0   \n",
       "\n",
       "            dw_dummies_(-20, -12]  dw_dummies_(-12, -7]  dw_dummies_(-7, -3]  \\\n",
       "2015-09-11                    0.0                   0.0                  0.0   \n",
       "2015-09-11                    0.0                   0.0                  0.0   \n",
       "2015-09-11                    0.0                   0.0                  0.0   \n",
       "2015-09-11                    0.0                   0.0                  1.0   \n",
       "2015-09-11                    0.0                   0.0                  0.0   \n",
       "\n",
       "            dw_dummies_(-3, 0]  dw_dummies_(0, 3]  dw_dummies_(3, 7]  \\\n",
       "2015-09-11                 0.0                1.0                0.0   \n",
       "2015-09-11                 1.0                0.0                0.0   \n",
       "2015-09-11                 1.0                0.0                0.0   \n",
       "2015-09-11                 0.0                0.0                0.0   \n",
       "2015-09-11                 0.0                0.0                1.0   \n",
       "\n",
       "            dw_dummies_(7, 12]  dw_dummies_(12, 20]  dw_dummies_(20, inf]  \\\n",
       "2015-09-11                 0.0                  0.0                   0.0   \n",
       "2015-09-11                 0.0                  0.0                   0.0   \n",
       "2015-09-11                 0.0                  0.0                   0.0   \n",
       "2015-09-11                 0.0                  0.0                   0.0   \n",
       "2015-09-11                 0.0                  0.0                   0.0   \n",
       "\n",
       "            d60_dummies_(-inf, -20]  d60_dummies_(-20, -12]  \\\n",
       "2015-09-11                      0.0                     0.0   \n",
       "2015-09-11                      0.0                     0.0   \n",
       "2015-09-11                      0.0                     0.0   \n",
       "2015-09-11                      0.0                     0.0   \n",
       "2015-09-11                      0.0                     0.0   \n",
       "\n",
       "            d60_dummies_(-12, -7]  d60_dummies_(-7, -3]  d60_dummies_(-3, 0]  \\\n",
       "2015-09-11                    0.0                   0.0                  0.0   \n",
       "2015-09-11                    0.0                   0.0                  0.0   \n",
       "2015-09-11                    0.0                   0.0                  0.0   \n",
       "2015-09-11                    0.0                   1.0                  0.0   \n",
       "2015-09-11                    0.0                   0.0                  0.0   \n",
       "\n",
       "            d60_dummies_(0, 3]  d60_dummies_(3, 7]  d60_dummies_(7, 12]  \\\n",
       "2015-09-11                 1.0                 0.0                  0.0   \n",
       "2015-09-11                 1.0                 0.0                  0.0   \n",
       "2015-09-11                 1.0                 0.0                  0.0   \n",
       "2015-09-11                 0.0                 0.0                  0.0   \n",
       "2015-09-11                 1.0                 0.0                  0.0   \n",
       "\n",
       "            d60_dummies_(12, 20]  d60_dummies_(20, inf]  \n",
       "2015-09-11                   0.0                    0.0  \n",
       "2015-09-11                   0.0                    0.0  \n",
       "2015-09-11                   0.0                    0.0  \n",
       "2015-09-11                   0.0                    0.0  \n",
       "2015-09-11                   0.0                    0.0  "
      ]
     },
     "execution_count": 55,
     "metadata": {},
     "output_type": "execute_result"
    }
   ],
   "source": [
    "deg = MlFiterDegPdClass(orderPd=orders_pd_train_snap, dummies=True, invoke_hmm=False,\n",
    "                       invoke_pca=False)\n",
    "deg.df.head()"
   ]
  },
  {
   "cell_type": "markdown",
   "metadata": {},
   "source": [
    "**离散值的选择通过统计挖掘**\n",
    "\n",
    "上边封住好了的，在离散值的选择上不是瞎来的，会通过可视化来选择离散值bins，如下所示，这里的核心思想就是不要拍脑袋使用自己觉的对的任何常数值，**通过数据来指导数据最终指导交易**"
   ]
  },
  {
   "cell_type": "code",
   "execution_count": 58,
   "metadata": {
    "collapsed": false,
    "scrolled": false
   },
   "outputs": [
    {
     "data": {
      "image/png": "[encoded data removed]",
      "text/plain": [
       "<matplotlib.figure.Figure at 0x12623e550>"
      ]
     },
     "metadata": {},
     "output_type": "display_data"
    },
    {
     "name": "stderr",
     "output_type": "stream",
     "text": [
      "lowBkCnt show hist and qcuts\n",
      "[1, 3.3]        43098\n",
      "(3.3, 5.6]        743\n",
      "(5.6, 7.9]        243\n",
      "(7.9, 10.2]       175\n",
      "(10.2, 12.5]       42\n",
      "(12.5, 14.8]       41\n",
      "(14.8, 17.1]       40\n",
      "(17.1, 19.4]       13\n",
      "(19.4, 21.7]        9\n",
      "(21.7, 25]          8\n",
      "Name: lowBkCnt, dtype: int64\n"
     ]
    },
    {
     "data": {
      "image/png": "[encoded data removed]",
      "text/plain": [
       "<matplotlib.figure.Figure at 0x131c33810>"
      ]
     },
     "metadata": {},
     "output_type": "display_data"
    },
    {
     "name": "stderr",
     "output_type": "stream",
     "text": [
      "atr_std show hist and qcuts\n",
      "(1.116, 7.141]       4442\n",
      "[-0.999, -0.0925]    4442\n",
      "(0.826, 1.116]       4441\n",
      "(0.633, 0.826]       4441\n",
      "(0.483, 0.633]       4441\n",
      "(0.36, 0.483]        4441\n",
      "(0.249, 0.36]        4441\n",
      "(0.152, 0.249]       4441\n",
      "(0.0476, 0.152]      4441\n",
      "(-0.0925, 0.0476]    4441\n",
      "Name: atr_std, dtype: int64\n"
     ]
    },
    {
     "data": {
      "image/png": "[encoded data removed]",
      "text/plain": [
       "<matplotlib.figure.Figure at 0x125905c10>"
      ]
     },
     "metadata": {},
     "output_type": "display_data"
    },
    {
     "name": "stderr",
     "output_type": "stream",
     "text": [
      "jump_power show hist and qcuts\n",
      "(-1.0792, 0]          10760\n",
      "(-1.42, -1.282]        3754\n",
      "[-151.515, -4.253]     3754\n",
      "(-1.824, -1.589]       3746\n",
      "(-2.785, -2.176]       3744\n",
      "(-1.282, -1.173]       3741\n",
      "(-1.173, -1.0792]      3738\n",
      "(-2.176, -1.824]       3734\n",
      "(-4.253, -2.785]       3725\n",
      "(-1.589, -1.42]        3716\n",
      "Name: jump_power, dtype: int64\n"
     ]
    },
    {
     "data": {
      "image/png": "[encoded data removed]",
      "text/plain": [
       "<matplotlib.figure.Figure at 0x1296ee810>"
      ]
     },
     "metadata": {},
     "output_type": "display_data"
    },
    {
     "name": "stderr",
     "output_type": "stream",
     "text": [
      "diff_days show hist and qcuts\n",
      "[0, 36.8]         17330\n",
      "(36.8, 73.6]       6851\n",
      "(73.6, 110.4]      4890\n",
      "(110.4, 147.2]     3937\n",
      "(147.2, 184]       3093\n",
      "(184, 220.8]       2256\n",
      "(220.8, 257.6]     2082\n",
      "(257.6, 294.4]     1630\n",
      "(294.4, 331.2]     1319\n",
      "(331.2, 368]       1024\n",
      "Name: diff_days, dtype: int64\n"
     ]
    },
    {
     "data": {
      "image/png": "[encoded data removed]",
      "text/plain": [
       "<matplotlib.figure.Figure at 0x1296ee6d0>"
      ]
     },
     "metadata": {},
     "output_type": "display_data"
    },
    {
     "name": "stderr",
     "output_type": "stream",
     "text": [
      "wave_score1 show hist and qcuts\n",
      "(1.199, 6.0266]      4442\n",
      "[-1.0169, -0.184]    4442\n",
      "(0.899, 1.199]       4441\n",
      "(0.689, 0.899]       4441\n",
      "(0.506, 0.689]       4441\n",
      "(0.353, 0.506]       4441\n",
      "(0.219, 0.353]       4441\n",
      "(0.0986, 0.219]      4441\n",
      "(-0.0262, 0.0986]    4441\n",
      "(-0.184, -0.0262]    4441\n",
      "Name: wave_score1, dtype: int64\n"
     ]
    },
    {
     "data": {
      "image/png": "[encoded data removed]",
      "text/plain": [
       "<matplotlib.figure.Figure at 0x1258aa310>"
      ]
     },
     "metadata": {},
     "output_type": "display_data"
    },
    {
     "name": "stderr",
     "output_type": "stream",
     "text": [
      "wave_score2 show hist and qcuts\n",
      "(1.271, 5.558]       4442\n",
      "[-1.122, -0.308]     4442\n",
      "(0.994, 1.271]       4441\n",
      "(0.768, 0.994]       4441\n",
      "(0.557, 0.768]       4441\n",
      "(0.361, 0.557]       4441\n",
      "(0.172, 0.361]       4441\n",
      "(0.00248, 0.172]     4441\n",
      "(-0.138, 0.00248]    4441\n",
      "(-0.308, -0.138]     4441\n",
      "Name: wave_score2, dtype: int64\n"
     ]
    },
    {
     "data": {
      "image/png": "[encoded data removed]",
      "text/plain": [
       "<matplotlib.figure.Figure at 0x1266ed9d0>"
      ]
     },
     "metadata": {},
     "output_type": "display_data"
    },
    {
     "name": "stderr",
     "output_type": "stream",
     "text": [
      "wave_score3 show hist and qcuts\n",
      "(1.26, 4.992]       4442\n",
      "[-1.126, -0.394]    4442\n",
      "(1.0024, 1.26]      4441\n",
      "(0.786, 1.0024]     4441\n",
      "(0.556, 0.786]      4441\n",
      "(0.322, 0.556]      4441\n",
      "(0.0828, 0.322]     4441\n",
      "(-0.107, 0.0828]    4441\n",
      "(-0.24, -0.107]     4441\n",
      "(-0.394, -0.24]     4441\n",
      "Name: wave_score3, dtype: int64\n"
     ]
    },
    {
     "data": {
      "image/png": "[encoded data removed]",
      "text/plain": [
       "<matplotlib.figure.Figure at 0x1261a3490>"
      ]
     },
     "metadata": {},
     "output_type": "display_data"
    },
    {
     "name": "stderr",
     "output_type": "stream",
     "text": [
      "deg_60WindowPd show hist and qcuts\n",
      "(13.0319, 70.936]     4442\n",
      "[-57.515, -6.0276]    4442\n",
      "(9.102, 13.0319]      4441\n",
      "(6.817, 9.102]        4441\n",
      "(4.999, 6.817]        4441\n",
      "(3.406, 4.999]        4441\n",
      "(1.735, 3.406]        4441\n",
      "(0.1, 1.735]          4441\n",
      "(-1.955, 0.1]         4441\n",
      "(-6.0276, -1.955]     4441\n",
      "Name: deg_60WindowPd, dtype: int64\n"
     ]
    },
    {
     "data": {
      "image/png": "[encoded data removed]",
      "text/plain": [
       "<matplotlib.figure.Figure at 0x1323c0c50>"
      ]
     },
     "metadata": {},
     "output_type": "display_data"
    },
    {
     "name": "stderr",
     "output_type": "stream",
     "text": [
      "deg_hisWindowPd show hist and qcuts\n",
      "(19.339, 66.766]       4442\n",
      "[-62.804, -19.0819]    4442\n",
      "(13.183, 19.339]       4441\n",
      "(9.0385, 13.183]       4441\n",
      "(5.578, 9.0385]        4441\n",
      "(2.382, 5.578]         4441\n",
      "(-0.625, 2.382]        4441\n",
      "(-4.6, -0.625]         4441\n",
      "(-10.187, -4.6]        4441\n",
      "(-19.0819, -10.187]    4441\n",
      "Name: deg_hisWindowPd, dtype: int64\n"
     ]
    },
    {
     "data": {
      "image/png": "[encoded data removed]",
      "text/plain": [
       "<matplotlib.figure.Figure at 0x1259b2690>"
      ]
     },
     "metadata": {},
     "output_type": "display_data"
    },
    {
     "name": "stderr",
     "output_type": "stream",
     "text": [
      "deg_windowPd show hist and qcuts\n",
      "(8.921, 59.0546]     4442\n",
      "[-34.752, -3.519]    4442\n",
      "(6.363, 8.921]       4441\n",
      "(4.863, 6.363]       4441\n",
      "(3.776, 4.863]       4441\n",
      "(2.826, 3.776]       4441\n",
      "(1.876, 2.826]       4441\n",
      "(0.763, 1.876]       4441\n",
      "(-0.802, 0.763]      4441\n",
      "(-3.519, -0.802]     4441\n",
      "Name: deg_windowPd, dtype: int64\n"
     ]
    }
   ],
   "source": [
    "import MlFiterBinsCs\n",
    "MlFiterBinsCs.show_orders_hist(orders_pd_train_snap)"
   ]
  },
  {
   "cell_type": "code",
   "execution_count": 59,
   "metadata": {
    "collapsed": false
   },
   "outputs": [
    {
     "data": {
      "text/plain": [
       "RandomForestClassifier(bootstrap=True, class_weight=None, criterion='gini',\n",
       "            max_depth=None, max_features='auto', max_leaf_nodes=None,\n",
       "            min_samples_leaf=1, min_samples_split=2,\n",
       "            min_weight_fraction_leaf=0.0, n_estimators=100, n_jobs=1,\n",
       "            oob_score=False, random_state=None, verbose=0,\n",
       "            warm_start=False)"
      ]
     },
     "execution_count": 59,
     "metadata": {},
     "output_type": "execute_result"
    }
   ],
   "source": [
    "deg().estimator.random_forest_classifier()"
   ]
  },
  {
   "cell_type": "code",
   "execution_count": 60,
   "metadata": {
    "collapsed": false
   },
   "outputs": [
    {
     "name": "stderr",
     "output_type": "stream",
     "text": [
      "accuracy mean: 0.487590577522\n"
     ]
    },
    {
     "data": {
      "text/plain": [
       "array([ 0.48217317,  0.51564395,  0.4962406 ,  0.49890856,  0.49745331,\n",
       "        0.48338588,  0.49527043,  0.45414847,  0.44479495,  0.50788644])"
      ]
     },
     "execution_count": 60,
     "metadata": {},
     "output_type": "execute_result"
    }
   ],
   "source": [
    "deg().cross_val_accuracy_score()"
   ]
  },
  {
   "cell_type": "markdown",
   "metadata": {},
   "source": [
    "**结果还是乱猜**\n",
    "\n",
    "用其它等等方式仍然是胡猜，自己写的类似adaboost依然效果很差\n",
    "通过非均衡概率降低假阳，提高假阴的方式，最后统计所有测试集样本的判别\n",
    "概率发现其实还瞎猜"
   ]
  },
  {
   "cell_type": "markdown",
   "metadata": {},
   "source": [
    "### 提高分类数量，设置阀值，提高准确率的方案\n",
    "\n",
    "\n",
    "**通过将profit cg qcut 100份分类**"
   ]
  },
  {
   "cell_type": "code",
   "execution_count": 63,
   "metadata": {
    "collapsed": false
   },
   "outputs": [
    {
     "name": "stderr",
     "output_type": "stream",
     "text": [
      "[ 0  1  2  3  4  5  6  7  8  9 10 11 12 13 14 15 16 17 18 19 20 21 22 23 24\n",
      " 25 26 27 28 29 30 31 32 33 34 35 36 37 38 39 40 41 42 43 44 45 46 47 48 49\n",
      " 50 51 52 53 54 55 56 57 58 59 60 61 62 63 64 65 66 67 68 69 70 71 72 73 74\n",
      " 75 76 77 78 79 80 81 82 83 84 85 86 87 88 89 90 91 92 93 94 95 96 97 98 99]\n"
     ]
    },
    {
     "data": {
      "text/html": [
       "<div>\n",
       "<table border=\"1\" class=\"dataframe\">\n",
       "  <thead>\n",
       "    <tr style=\"text-align: right;\">\n",
       "      <th></th>\n",
       "      <th>class</th>\n",
       "      <th>result</th>\n",
       "      <th>deg_hisWindowPd</th>\n",
       "      <th>deg_windowPd</th>\n",
       "      <th>deg_60WindowPd</th>\n",
       "    </tr>\n",
       "  </thead>\n",
       "  <tbody>\n",
       "    <tr>\n",
       "      <th>2015-09-11</th>\n",
       "      <td>49</td>\n",
       "      <td>-1</td>\n",
       "      <td>0.139976</td>\n",
       "      <td>0.070454</td>\n",
       "      <td>0.068291</td>\n",
       "    </tr>\n",
       "    <tr>\n",
       "      <th>2015-09-11</th>\n",
       "      <td>48</td>\n",
       "      <td>-1</td>\n",
       "      <td>-0.409467</td>\n",
       "      <td>-0.388299</td>\n",
       "      <td>0.750276</td>\n",
       "    </tr>\n",
       "    <tr>\n",
       "      <th>2015-09-11</th>\n",
       "      <td>48</td>\n",
       "      <td>-1</td>\n",
       "      <td>11.841444</td>\n",
       "      <td>-0.846906</td>\n",
       "      <td>2.738821</td>\n",
       "    </tr>\n",
       "    <tr>\n",
       "      <th>2015-09-11</th>\n",
       "      <td>19</td>\n",
       "      <td>-1</td>\n",
       "      <td>-17.266100</td>\n",
       "      <td>-3.578966</td>\n",
       "      <td>-3.861270</td>\n",
       "    </tr>\n",
       "    <tr>\n",
       "      <th>2015-09-11</th>\n",
       "      <td>82</td>\n",
       "      <td>1</td>\n",
       "      <td>-9.146706</td>\n",
       "      <td>4.145140</td>\n",
       "      <td>2.854837</td>\n",
       "    </tr>\n",
       "  </tbody>\n",
       "</table>\n",
       "</div>"
      ],
      "text/plain": [
       "            class  result  deg_hisWindowPd  deg_windowPd  deg_60WindowPd\n",
       "2015-09-11     49      -1         0.139976      0.070454        0.068291\n",
       "2015-09-11     48      -1        -0.409467     -0.388299        0.750276\n",
       "2015-09-11     48      -1        11.841444     -0.846906        2.738821\n",
       "2015-09-11     19      -1       -17.266100     -3.578966       -3.861270\n",
       "2015-09-11     82       1        -9.146706      4.145140        2.854837"
      ]
     },
     "execution_count": 63,
     "metadata": {},
     "output_type": "execute_result"
    }
   ],
   "source": [
    "orders_pd_train_snap.profit_cg.fillna(0, inplace=True)\n",
    "order_has_ret = orders_pd_train_snap[(orders_pd_train_snap.result <> 0)]\n",
    "n_class = 100\n",
    "order_has_ret['class'] = pd.qcut(order_has_ret.profit_cg, n_class, labels=range(0, n_class))\n",
    "order_has_ret['class'] = order_has_ret['class'].astype(int)\n",
    "ZLog.info(np.unique(order_has_ret['class']))\n",
    "\n",
    "deg_pd = order_has_ret.filter(['class', 'result', 'deg_hisWindowPd', 'deg_windowPd', 'deg_60WindowPd'])\n",
    "train_np = deg_pd.as_matrix()\n",
    "y = train_np[:, 0]\n",
    "x = train_np[:, 1:]\n",
    "deg = MlFiterClass(x, y, deg_pd, force_clf=True)\n",
    "deg_pd.head()"
   ]
  },
  {
   "cell_type": "markdown",
   "metadata": {},
   "source": [
    "* y为class train_test_split进行分类\n",
    "* 使用cv数据集的 predict < class阀值 使用result==0的情况查看概率"
   ]
  },
  {
   "cell_type": "code",
   "execution_count": 64,
   "metadata": {
    "collapsed": false
   },
   "outputs": [
    {
     "data": {
      "text/html": [
       "<div>\n",
       "<table border=\"1\" class=\"dataframe\">\n",
       "  <thead>\n",
       "    <tr style=\"text-align: right;\">\n",
       "      <th></th>\n",
       "      <th>class</th>\n",
       "      <th>result</th>\n",
       "      <th>deg_hisWindowPd</th>\n",
       "      <th>deg_windowPd</th>\n",
       "      <th>deg_60WindowPd</th>\n",
       "      <th>predict</th>\n",
       "    </tr>\n",
       "  </thead>\n",
       "  <tbody>\n",
       "    <tr>\n",
       "      <th>2011-09-14</th>\n",
       "      <td>18</td>\n",
       "      <td>-1</td>\n",
       "      <td>5.985684</td>\n",
       "      <td>-6.237572</td>\n",
       "      <td>-6.587850</td>\n",
       "      <td>18.0</td>\n",
       "    </tr>\n",
       "    <tr>\n",
       "      <th>2011-12-01</th>\n",
       "      <td>50</td>\n",
       "      <td>1</td>\n",
       "      <td>-2.001929</td>\n",
       "      <td>3.420615</td>\n",
       "      <td>5.567589</td>\n",
       "      <td>70.0</td>\n",
       "    </tr>\n",
       "    <tr>\n",
       "      <th>2014-01-30</th>\n",
       "      <td>82</td>\n",
       "      <td>1</td>\n",
       "      <td>22.816944</td>\n",
       "      <td>4.173005</td>\n",
       "      <td>6.782197</td>\n",
       "      <td>87.0</td>\n",
       "    </tr>\n",
       "    <tr>\n",
       "      <th>2015-11-16</th>\n",
       "      <td>3</td>\n",
       "      <td>-1</td>\n",
       "      <td>12.867986</td>\n",
       "      <td>-3.698409</td>\n",
       "      <td>-12.211724</td>\n",
       "      <td>21.0</td>\n",
       "    </tr>\n",
       "    <tr>\n",
       "      <th>2015-12-18</th>\n",
       "      <td>40</td>\n",
       "      <td>-1</td>\n",
       "      <td>-12.460329</td>\n",
       "      <td>5.803071</td>\n",
       "      <td>11.280990</td>\n",
       "      <td>23.0</td>\n",
       "    </tr>\n",
       "  </tbody>\n",
       "</table>\n",
       "</div>"
      ],
      "text/plain": [
       "            class  result  deg_hisWindowPd  deg_windowPd  deg_60WindowPd  \\\n",
       "2011-09-14     18      -1         5.985684     -6.237572       -6.587850   \n",
       "2011-12-01     50       1        -2.001929      3.420615        5.567589   \n",
       "2014-01-30     82       1        22.816944      4.173005        6.782197   \n",
       "2015-11-16      3      -1        12.867986     -3.698409      -12.211724   \n",
       "2015-12-18     40      -1       -12.460329      5.803071       11.280990   \n",
       "\n",
       "            predict  \n",
       "2011-09-14     18.0  \n",
       "2011-12-01     70.0  \n",
       "2014-01-30     87.0  \n",
       "2015-11-16     21.0  \n",
       "2015-12-18     23.0  "
      ]
     },
     "execution_count": 64,
     "metadata": {},
     "output_type": "execute_result"
    }
   ],
   "source": [
    "from sklearn.cross_validation import train_test_split\n",
    "from sklearn.metrics import accuracy_score\n",
    "from sklearn.metrics import classification_report\n",
    "\n",
    "deg.estimator.random_forest_classifier()\n",
    "\n",
    "train_df, cv_df = train_test_split(deg.df, test_size=0.1, random_state=0)\n",
    "\n",
    "fiter = deg.get_fiter()\n",
    "fiter.fit(train_df.as_matrix()[:, 2:], train_df.as_matrix()[:, 0])\n",
    "\n",
    "predictions = fiter.predict(cv_df.as_matrix()[:, 2:])\n",
    "\n",
    "cv_df['predict'] = predictions\n",
    "cv_df.head()"
   ]
  },
  {
   "cell_type": "code",
   "execution_count": 65,
   "metadata": {
    "collapsed": false
   },
   "outputs": [
    {
     "data": {
      "text/plain": [
       "0.0    56\n",
       "1.0    50\n",
       "2.0    43\n",
       "3.0    47\n",
       "4.0    44\n",
       "5.0    45\n",
       "6.0    47\n",
       "7.0    30\n",
       "8.0    46\n",
       "9.0    39\n",
       "Name: predict, dtype: int64"
      ]
     },
     "execution_count": 65,
     "metadata": {},
     "output_type": "execute_result"
    }
   ],
   "source": [
    "cv_df['predict'].value_counts().sort_index().head(10)"
   ]
  },
  {
   "cell_type": "code",
   "execution_count": 66,
   "metadata": {
    "collapsed": false
   },
   "outputs": [
    {
     "name": "stderr",
     "output_type": "stream",
     "text": [
      "threshold: 0, ppv: 0.607142857143\n",
      "threshold: 1, ppv: 0.632075471698\n",
      "threshold: 2, ppv: 0.58389261745\n",
      "threshold: 3, ppv: 0.586734693878\n",
      "threshold: 4, ppv: 0.579166666667\n",
      "threshold: 5, ppv: 0.571929824561\n",
      "threshold: 6, ppv: 0.551204819277\n",
      "threshold: 7, ppv: 0.541436464088\n",
      "threshold: 8, ppv: 0.526960784314\n",
      "threshold: 9, ppv: 0.523489932886\n"
     ]
    }
   ],
   "source": [
    "for threshold in np.arange(0, 10):\n",
    "    ppv = cv_df[cv_df['predict'] <= threshold].result.value_counts()\n",
    "    ZLog.info('threshold: {}, ppv: {}'.format(threshold, float(ppv[-1])/ppv.sum()))"
   ]
  },
  {
   "cell_type": "markdown",
   "metadata": {},
   "source": [
    "### threshold: 0，1，达到0.6了 但是数量上只有100多个，之后会有使用gmm－hmm的方式继续扩展这种思路，提高收益\n",
    "\n",
    "### 只能说最后一种的这个思想可以作为扩展使用，实际中由于 '非均衡胜负收益' 很难带来质的好转，突然想到阿西莫夫的小说基地，对心理史学的最开始的评估，‘可能但是不可行’，我们的印钞机之路是否也是这样呢，下一章开始就是真正的印钞机之路了，一个即可能又可行之路！！！ 下一章开始将使用深度学习方法来训练数据，提高胜率主要是卷机神经网络的使用"
   ]
  },
  {
   "cell_type": "markdown",
   "metadata": {},
   "source": [
    "## 感谢🙏您能有耐心看到这里\n",
    "## 如果有什么问题可以加阿布的微信 \n",
    "## 微信号：aaaabbbuu｀"
   ]
  },
  {
   "cell_type": "markdown",
   "metadata": {},
   "source": [
    "![image](./mmexport1475383814280.jpg)"
   ]
  },
  {
   "cell_type": "code",
   "execution_count": null,
   "metadata": {
    "collapsed": true
   },
   "outputs": [],
   "source": []
  }
 ],
 "metadata": {
  "kernelspec": {
   "display_name": "Python [Root]",
   "language": "python",
   "name": "Python [Root]"
  },
  "language_info": {
   "codemirror_mode": {
    "name": "ipython",
    "version": 2
   },
   "file_extension": ".py",
   "mimetype": "text/x-python",
   "name": "python",
   "nbconvert_exporter": "python",
   "pygments_lexer": "ipython2",
   "version": "2.7.12"
  }
 },
 "nbformat": 4,
 "nbformat_minor": 0
}
