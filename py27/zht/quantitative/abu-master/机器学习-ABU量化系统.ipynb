{
 "cells": [
  {
   "cell_type": "markdown",
   "metadata": {},
   "source": [
    "# ABU 量化系统  简介（版本 0.1）\n",
    "\n",
    "* #### __author__ = 'BBFamily'\n",
    "* ####  __email__ = 'bbfamily@126.com'\n",
    "* ####  __weixin__ = 'aaaabbbuu'"
   ]
  },
  {
   "cell_type": "markdown",
   "metadata": {},
   "source": [
    "## 第六部分 机器学习"
   ]
  },
  {
   "cell_type": "code",
   "execution_count": 1,
   "metadata": {
    "collapsed": false
   },
   "outputs": [],
   "source": [
    "import ZEnv\n",
    "import ZLog\n",
    "import ZCommonUtil\n",
    "\n",
    "import numpy as np \n",
    "import pandas as pd\n",
    "pd.options.display.max_columns = 100\n",
    "%matplotlib inline"
   ]
  },
  {
   "cell_type": "markdown",
   "metadata": {},
   "source": [
    "## 基本封装库的使用\n",
    "        \n",
    "        初始生成一个树回归，一个树分类，\n",
    "        自动根据y的classes确定使用分离还是回归\n",
    "        可以生成非监督学习分类器及hmm等\n",
    "        两个的数据直接生成测试数据，一个比较多，一个少"
   ]
  },
  {
   "cell_type": "code",
   "execution_count": 2,
   "metadata": {
    "collapsed": false
   },
   "outputs": [],
   "source": [
    "from MlFiter import MlFiterClass\n",
    "test_fiter = MlFiterClass.create_test_fiter()\n",
    "test_fiter_more = MlFiterClass.create_test_more_fiter()"
   ]
  },
  {
   "cell_type": "markdown",
   "metadata": {},
   "source": [
    "**学习曲线**"
   ]
  },
  {
   "cell_type": "code",
   "execution_count": 12,
   "metadata": {
    "collapsed": false
   },
   "outputs": [
    {
     "data": {
      "image/png": "[encoded data removed]",
      "text/plain": [
       "<matplotlib.figure.Figure at 0x1174c2ad0>"
      ]
     },
     "metadata": {},
     "output_type": "display_data"
    },
    {
     "data": {
      "text/plain": [
       "(0.80412095046015697, 0.028989030232112856)"
      ]
     },
     "execution_count": 12,
     "metadata": {},
     "output_type": "execute_result"
    }
   ],
   "source": [
    "test_fiter_more.estimator.logistic_regression()\n",
    "test_fiter_more.plot_learning_curve()"
   ]
  },
  {
   "cell_type": "markdown",
   "metadata": {},
   "source": [
    "**特征权重**"
   ]
  },
  {
   "cell_type": "code",
   "execution_count": 5,
   "metadata": {
    "collapsed": false
   },
   "outputs": [
    {
     "name": "stderr",
     "output_type": "stream",
     "text": [
      "******************DecisionTreeClassifier******************\n"
     ]
    },
    {
     "data": {
      "text/html": [
       "<div>\n",
       "<table border=\"1\" class=\"dataframe\">\n",
       "  <thead>\n",
       "    <tr style=\"text-align: right;\">\n",
       "      <th></th>\n",
       "      <th>feature</th>\n",
       "      <th>importance</th>\n",
       "    </tr>\n",
       "  </thead>\n",
       "  <tbody>\n",
       "    <tr>\n",
       "      <th>0</th>\n",
       "      <td>x0</td>\n",
       "      <td>0.013333</td>\n",
       "    </tr>\n",
       "    <tr>\n",
       "      <th>1</th>\n",
       "      <td>x1</td>\n",
       "      <td>0.013333</td>\n",
       "    </tr>\n",
       "    <tr>\n",
       "      <th>2</th>\n",
       "      <td>x2</td>\n",
       "      <td>0.050723</td>\n",
       "    </tr>\n",
       "    <tr>\n",
       "      <th>3</th>\n",
       "      <td>x3</td>\n",
       "      <td>0.922611</td>\n",
       "    </tr>\n",
       "  </tbody>\n",
       "</table>\n",
       "</div>"
      ],
      "text/plain": [
       "  feature  importance\n",
       "0      x0    0.013333\n",
       "1      x1    0.013333\n",
       "2      x2    0.050723\n",
       "3      x3    0.922611"
      ]
     },
     "execution_count": 5,
     "metadata": {},
     "output_type": "execute_result"
    }
   ],
   "source": [
    "test_fiter.importances_coef_pd()"
   ]
  },
  {
   "cell_type": "markdown",
   "metadata": {},
   "source": [
    "**树逻辑图**"
   ]
  },
  {
   "cell_type": "code",
   "execution_count": 9,
   "metadata": {
    "collapsed": false
   },
   "outputs": [
    {
     "data": {
      "image/png": "[encoded data removed]",
      "text/plain": [
       "<matplotlib.figure.Figure at 0x116c5e650>"
      ]
     },
     "metadata": {},
     "output_type": "display_data"
    }
   ],
   "source": [
    "test_fiter.plot_graphviz_tree()\n",
    "path = ZEnv.shell_cmd_result('pwd') + '/graphviz.png'\n",
    "!open $path"
   ]
  },
  {
   "cell_type": "markdown",
   "metadata": {},
   "source": [
    "**混淆矩阵**"
   ]
  },
  {
   "cell_type": "code",
   "execution_count": 11,
   "metadata": {
    "collapsed": false
   },
   "outputs": [
    {
     "name": "stderr",
     "output_type": "stream",
     "text": [
      "[[455  94]\n",
      " [ 96 246]]\n"
     ]
    },
    {
     "data": {
      "image/png": "[encoded data removed]",
      "text/plain": [
       "<matplotlib.figure.Figure at 0x117079490>"
      ]
     },
     "metadata": {},
     "output_type": "display_data"
    }
   ],
   "source": [
    "test_fiter_more.plot_confusion_matrices()"
   ]
  },
  {
   "cell_type": "markdown",
   "metadata": {},
   "source": [
    "**非均衡选择**"
   ]
  },
  {
   "cell_type": "code",
   "execution_count": 13,
   "metadata": {
    "collapsed": false
   },
   "outputs": [
    {
     "name": "stderr",
     "output_type": "stream",
     "text": [
      "scores(self, y_pre, y=None)\n",
      "accuracy = 0.79\n",
      "precision_score = 0.71\n",
      "recall_score = 0.74\n",
      "             precision    recall  f1-score   support\n",
      "\n",
      "       loss       0.83      0.82      0.82       549\n",
      "        win       0.71      0.74      0.73       342\n",
      "\n",
      "avg / total       0.79      0.79      0.79       891\n",
      "\n"
     ]
    },
    {
     "name": "stdout",
     "output_type": "stream",
     "text": [
      "Confusion Matrix  [[448 101]\n",
      " [ 90 252]]\n",
      "          Predicted\n",
      "         |  0  |  1  |\n",
      "         |-----|-----|\n",
      "       0 | 448 | 101 |\n",
      "Actual   |-----|-----|\n",
      "       1 |  90 | 252 |\n",
      "         |-----|-----|\n"
     ]
    },
    {
     "data": {
      "text/plain": [
       "((0.78477792995499907, 448), 0.32857142857142863)"
      ]
     },
     "execution_count": 13,
     "metadata": {},
     "output_type": "execute_result"
    },
    {
     "data": {
      "image/png": "[encoded data removed]",
      "text/plain": [
       "<matplotlib.figure.Figure at 0x1061e0c10>"
      ]
     },
     "metadata": {},
     "output_type": "display_data"
    }
   ],
   "source": [
    "test_fiter_more.prob_maximum_recall_score()"
   ]
  },
  {
   "cell_type": "markdown",
   "metadata": {},
   "source": [
    "**roc**"
   ]
  },
  {
   "cell_type": "code",
   "execution_count": 8,
   "metadata": {
    "collapsed": false
   },
   "outputs": [
    {
     "name": "stderr",
     "output_type": "stream",
     "text": [
      "DecisionTreeClassifier :roc\n"
     ]
    },
    {
     "data": {
      "image/png": "[encoded data removed]",
      "text/plain": [
       "<matplotlib.figure.Figure at 0x116f4c890>"
      ]
     },
     "metadata": {},
     "output_type": "display_data"
    }
   ],
   "source": [
    "test_fiter_more.plot_roc_estimator()"
   ]
  },
  {
   "cell_type": "markdown",
   "metadata": {},
   "source": [
    "**特征选择**"
   ]
  },
  {
   "cell_type": "code",
   "execution_count": 10,
   "metadata": {
    "collapsed": false
   },
   "outputs": [
    {
     "name": "stderr",
     "output_type": "stream",
     "text": [
      "RFE selection\n",
      "             ranking support\n",
      "SibSp              1    True\n",
      "Parch              1    True\n",
      "Cabin_No           1    True\n",
      "Cabin_Yes          8   False\n",
      "Embarked_C         2   False\n",
      "Embarked_Q         7   False\n",
      "Embarked_S         4   False\n",
      "Sex_female         1    True\n",
      "Sex_male           6   False\n",
      "Pclass_1           5   False\n",
      "Pclass_2           3   False\n",
      "Pclass_3           1    True\n",
      "Age_scaled         1    True\n",
      "Fare_scaled        1    True\n",
      "\n",
      "RFECV selection\n",
      "             ranking support\n",
      "SibSp              1    True\n",
      "Parch              1    True\n",
      "Cabin_No           4   False\n",
      "Cabin_Yes          1    True\n",
      "Embarked_C         1    True\n",
      "Embarked_Q         5   False\n",
      "Embarked_S         2   False\n",
      "Sex_female         6   False\n",
      "Sex_male           1    True\n",
      "Pclass_1           3   False\n",
      "Pclass_2           1    True\n",
      "Pclass_3           1    True\n",
      "Age_scaled         1    True\n",
      "Fare_scaled        1    True\n"
     ]
    }
   ],
   "source": [
    "test_fiter_more.feature_selection()"
   ]
  },
  {
   "cell_type": "markdown",
   "metadata": {},
   "source": [
    "**决策边界**"
   ]
  },
  {
   "cell_type": "code",
   "execution_count": 11,
   "metadata": {
    "collapsed": false
   },
   "outputs": [
    {
     "data": {
      "image/png": "[encoded data removed]",
      "text/plain": [
       "<matplotlib.figure.Figure at 0x116d9ecd0>"
      ]
     },
     "metadata": {},
     "output_type": "display_data"
    },
    {
     "data": {
      "image/png": "[encoded data removed]",
      "text/plain": [
       "<matplotlib.figure.Figure at 0x116e292d0>"
      ]
     },
     "metadata": {},
     "output_type": "display_data"
    }
   ],
   "source": [
    "test_fiter.plot_decision_function()"
   ]
  },
  {
   "cell_type": "markdown",
   "metadata": {},
   "source": [
    "#### 所有接口支持参数直接设置x, y 默认不设置使用内部x， y"
   ]
  },
  {
   "cell_type": "code",
   "execution_count": 26,
   "metadata": {
    "collapsed": false
   },
   "outputs": [
    {
     "name": "stderr",
     "output_type": "stream",
     "text": [
      "mean_squared_error mean: 0.0774596669241\n"
     ]
    },
    {
     "data": {
      "text/plain": [
       "array([-0.        , -0.06666667, -0.        , -0.        , -0.        ,\n",
       "       -0.06666667, -0.06666667, -0.        , -0.        , -0.        ])"
      ]
     },
     "execution_count": 26,
     "metadata": {},
     "output_type": "execute_result"
    }
   ],
   "source": [
    "test_fiter_more.cross_val_mean_squared_score(x=test_fiter.x, y=test_fiter.y)"
   ]
  },
  {
   "cell_type": "markdown",
   "metadata": {},
   "source": [
    "**train test score**"
   ]
  },
  {
   "cell_type": "code",
   "execution_count": 19,
   "metadata": {
    "collapsed": false
   },
   "outputs": [
    {
     "name": "stderr",
     "output_type": "stream",
     "text": [
      "accuracy mean: 0.783592384519\n"
     ]
    },
    {
     "data": {
      "text/plain": [
       "array([ 0.75555556,  0.72222222,  0.73033708,  0.7752809 ,  0.82022472,\n",
       "        0.7752809 ,  0.83146067,  0.69662921,  0.85393258,  0.875     ])"
      ]
     },
     "execution_count": 19,
     "metadata": {},
     "output_type": "execute_result"
    }
   ],
   "source": [
    "test_fiter_more.cross_val_accuracy_score()"
   ]
  },
  {
   "cell_type": "markdown",
   "metadata": {},
   "source": [
    "**切换使用其它学习方法**"
   ]
  },
  {
   "cell_type": "code",
   "execution_count": 21,
   "metadata": {
    "collapsed": false
   },
   "outputs": [
    {
     "name": "stderr",
     "output_type": "stream",
     "text": [
      "accuracy mean: 0.810433548973\n"
     ]
    },
    {
     "data": {
      "text/plain": [
       "array([ 0.78888889,  0.78888889,  0.78651685,  0.80898876,  0.84269663,\n",
       "        0.78651685,  0.82022472,  0.82022472,  0.79775281,  0.86363636])"
      ]
     },
     "execution_count": 21,
     "metadata": {},
     "output_type": "execute_result"
    }
   ],
   "source": [
    "test_fiter_more.estimator.adaboost_classifier()\n",
    "test_fiter_more.cross_val_accuracy_score()"
   ]
  },
  {
   "cell_type": "code",
   "execution_count": 22,
   "metadata": {
    "collapsed": false
   },
   "outputs": [
    {
     "name": "stderr",
     "output_type": "stream",
     "text": [
      "accuracy mean: 0.816000737714\n"
     ]
    },
    {
     "data": {
      "text/plain": [
       "array([ 0.8       ,  0.78888889,  0.7752809 ,  0.85393258,  0.87640449,\n",
       "        0.82022472,  0.80898876,  0.76404494,  0.84269663,  0.82954545])"
      ]
     },
     "execution_count": 22,
     "metadata": {},
     "output_type": "execute_result"
    }
   ],
   "source": [
    "test_fiter_more.estimator.random_forest_classifier(n_estimators=200)\n",
    "test_fiter_more.cross_val_accuracy_score()"
   ]
  },
  {
   "cell_type": "code",
   "execution_count": 23,
   "metadata": {
    "collapsed": false
   },
   "outputs": [
    {
     "name": "stderr",
     "output_type": "stream",
     "text": [
      "accuracy mean: 0.824927079787\n"
     ]
    },
    {
     "data": {
      "text/plain": [
       "array([ 0.81111111,  0.83333333,  0.78651685,  0.86516854,  0.84269663,\n",
       "        0.79775281,  0.82022472,  0.79775281,  0.86516854,  0.82954545])"
      ]
     },
     "execution_count": 23,
     "metadata": {},
     "output_type": "execute_result"
    }
   ],
   "source": [
    "test_fiter_more.estimator.svc()\n",
    "test_fiter_more.cross_val_accuracy_score()"
   ]
  },
  {
   "cell_type": "markdown",
   "metadata": {},
   "source": [
    "**神经网络相关**\n",
    "\n",
    "        封装类似sckit风格的接口fit，predict\n",
    "        普通多层神经网络：\n",
    "        \n",
    "        MlFiterTensorFlow:\n",
    "            基于TensorFlow实现的功能封装：\n",
    "                    MnnTF：多层神经网络\n",
    "                    CnnTF: 卷积神经网路\n",
    "                    KnnTF: TensorFlow实现knn\n",
    "                    ........"
   ]
  },
  {
   "cell_type": "code",
   "execution_count": 56,
   "metadata": {
    "collapsed": false
   },
   "outputs": [
    {
     "name": "stderr",
     "output_type": "stream",
     "text": [
      "Optimization Finished!\n"
     ]
    },
    {
     "data": {
      "text/plain": [
       "(array([0]), 0.0)"
      ]
     },
     "execution_count": 56,
     "metadata": {},
     "output_type": "execute_result"
    }
   ],
   "source": [
    "import MlFiterTensorFlow\n",
    "reload(MlFiterTensorFlow)\n",
    "from MlFiterTensorFlow import MnnTF\n",
    "mnn_tf = MlFiterTensorFlow.MnnTF(test_fiter_more.x, test_fiter_more.y)\n",
    "mnn_tf.fit()\n",
    "mnn_tf.predict(test_fiter_more.x[100].reshape(1, -1)), test_fiter_more.y[100]"
   ]
  },
  {
   "cell_type": "code",
   "execution_count": 55,
   "metadata": {
    "collapsed": false
   },
   "outputs": [
    {
     "name": "stderr",
     "output_type": "stream",
     "text": [
      "Optimization Finished!\n",
      "Accuracy:0.722222\n",
      "Optimization Finished!\n",
      "Accuracy:0.730337\n",
      "Optimization Finished!\n",
      "Accuracy:0.786517\n",
      "Optimization Finished!\n",
      "Accuracy:0.786517\n",
      "Optimization Finished!\n",
      "Accuracy:0.775281\n",
      "Optimization Finished!\n",
      "Accuracy:0.719101\n",
      "Optimization Finished!\n",
      "Accuracy:0.696629\n",
      "Optimization Finished!\n",
      "Accuracy:0.775281\n",
      "Optimization Finished!\n",
      "Accuracy:0.696629\n",
      "Optimization Finished!\n",
      "Accuracy:0.786517\n",
      "acs mean = 0.747503101826\n"
     ]
    }
   ],
   "source": [
    "MlFiterTensorFlow.MnnTF.do_tf_tt(test_fiter_more.x, test_fiter_more.y, n_folds=10)"
   ]
  },
  {
   "cell_type": "markdown",
   "metadata": {},
   "source": [
    "**TensorFlow可视化窗口**"
   ]
  },
  {
   "cell_type": "code",
   "execution_count": 120,
   "metadata": {
    "collapsed": false
   },
   "outputs": [],
   "source": [
    "log_proess = MlFiterTensorFlow.show_log_board()"
   ]
  },
  {
   "cell_type": "code",
   "execution_count": 119,
   "metadata": {
    "collapsed": true
   },
   "outputs": [],
   "source": [
    "log_proess.kill()"
   ]
  },
  {
   "cell_type": "code",
   "execution_count": 117,
   "metadata": {
    "collapsed": false
   },
   "outputs": [
    {
     "name": "stdout",
     "output_type": "stream",
     "text": [
      "Done!\n",
      "Accuracy: 0.744444444444\n",
      "Done!\n",
      "Accuracy: 0.797752808989\n",
      "Done!\n",
      "Accuracy: 0.752808988764\n",
      "Done!\n",
      "Accuracy: 0.786516853933\n",
      "Done!\n",
      "Accuracy: 0.820224719101\n",
      "Done!\n",
      "Accuracy: 0.741573033708\n",
      "Done!\n",
      "Accuracy: 0.707865168539\n",
      "Done!\n",
      "Accuracy: 0.786516853933\n",
      "Done!\n",
      "Accuracy: 0.752808988764\n",
      "Done!\n",
      "Accuracy: 0.674157303371\n"
     ]
    },
    {
     "name": "stderr",
     "output_type": "stream",
     "text": [
      "acs mean = 0.756466916355\n"
     ]
    }
   ],
   "source": [
    "MlFiterTensorFlow.KnnTF.do_tf_tt(test_fiter_more.x, test_fiter_more.y, n_folds=10)"
   ]
  },
  {
   "cell_type": "code",
   "execution_count": null,
   "metadata": {
    "collapsed": false
   },
   "outputs": [],
   "source": [
    "import MlFiterSnn"
   ]
  },
  {
   "cell_type": "markdown",
   "metadata": {},
   "source": [
    "MlFiterSnn        \n",
    "       非高效多层神经网络实现，便于修改隐含层等参数，做初步测试使用"
   ]
  },
  {
   "cell_type": "code",
   "execution_count": 24,
   "metadata": {
    "collapsed": false,
    "scrolled": true
   },
   "outputs": [
    {
     "name": "stdout",
     "output_type": "stream",
     "text": [
      "Done!\n",
      "Accuracy: 0.777777777778\n",
      "Done!\n",
      "Accuracy: 0.797752808989\n",
      "Done!\n",
      "Accuracy: 0.797752808989\n",
      "Done!\n",
      "Accuracy: 0.775280898876\n",
      "Done!\n",
      "Accuracy: 0.707865168539\n",
      "Done!\n",
      "Accuracy: 0.76404494382\n",
      "Done!\n",
      "Accuracy: 0.831460674157\n",
      "Done!\n",
      "Accuracy: 0.85393258427\n",
      "Done!\n",
      "Accuracy: 0.786516853933\n"
     ]
    },
    {
     "name": "stderr",
     "output_type": "stream",
     "text": [
      "accuracys mean = 0.79013732834\n"
     ]
    },
    {
     "name": "stdout",
     "output_type": "stream",
     "text": [
      "Done!\n",
      "Accuracy: 0.808988764045\n"
     ]
    }
   ],
   "source": [
    "MlFiterSnn.SnnClass.do_snn_tt(test_fiter_more.x, test_fiter_more.y, n_folds=10, nn_hdim=3)"
   ]
  },
  {
   "cell_type": "markdown",
   "metadata": {},
   "source": [
    "## 量化结合解决由：\n",
    "\n",
    "\n",
    "**‘非均衡胜负收益’带来的必然’非均衡胜负比例‘，目标由’因子‘的能力解决一部分，’模式识别‘提升关键的一部分**"
   ]
  },
  {
   "cell_type": "code",
   "execution_count": 4,
   "metadata": {
    "collapsed": false
   },
   "outputs": [],
   "source": [
    "from MlFiterDegPd import MlFiterDegPdClass"
   ]
  },
  {
   "cell_type": "code",
   "execution_count": 2,
   "metadata": {
    "collapsed": true
   },
   "outputs": [],
   "source": [
    "fn = './data/cache/golden_n6_abu'\n",
    "key = 'golden_n6_abu'\n",
    "\n",
    "orders_pd = ZCommonUtil.load_hdf5(fn, key)"
   ]
  },
  {
   "cell_type": "code",
   "execution_count": 94,
   "metadata": {
    "collapsed": false
   },
   "outputs": [
    {
     "data": {
      "text/html": [
       "<div>\n",
       "<table border=\"1\" class=\"dataframe\">\n",
       "  <thead>\n",
       "    <tr style=\"text-align: right;\">\n",
       "      <th></th>\n",
       "      <th>result</th>\n",
       "      <th>deg_hisWindowPd</th>\n",
       "      <th>deg_windowPd</th>\n",
       "      <th>deg_60WindowPd</th>\n",
       "    </tr>\n",
       "  </thead>\n",
       "  <tbody>\n",
       "    <tr>\n",
       "      <th>2015-07-28</th>\n",
       "      <td>1</td>\n",
       "      <td>-1.256691</td>\n",
       "      <td>3.895622</td>\n",
       "      <td>5.363046</td>\n",
       "    </tr>\n",
       "    <tr>\n",
       "      <th>2015-07-28</th>\n",
       "      <td>0</td>\n",
       "      <td>15.908454</td>\n",
       "      <td>4.108007</td>\n",
       "      <td>4.199374</td>\n",
       "    </tr>\n",
       "    <tr>\n",
       "      <th>2015-07-28</th>\n",
       "      <td>0</td>\n",
       "      <td>21.175689</td>\n",
       "      <td>3.394158</td>\n",
       "      <td>7.384808</td>\n",
       "    </tr>\n",
       "    <tr>\n",
       "      <th>2015-07-28</th>\n",
       "      <td>0</td>\n",
       "      <td>-7.023154</td>\n",
       "      <td>-0.075254</td>\n",
       "      <td>5.413456</td>\n",
       "    </tr>\n",
       "    <tr>\n",
       "      <th>2015-07-28</th>\n",
       "      <td>1</td>\n",
       "      <td>11.519025</td>\n",
       "      <td>3.621430</td>\n",
       "      <td>5.765467</td>\n",
       "    </tr>\n",
       "  </tbody>\n",
       "</table>\n",
       "</div>"
      ],
      "text/plain": [
       "            result  deg_hisWindowPd  deg_windowPd  deg_60WindowPd\n",
       "2015-07-28       1        -1.256691      3.895622        5.363046\n",
       "2015-07-28       0        15.908454      4.108007        4.199374\n",
       "2015-07-28       0        21.175689      3.394158        7.384808\n",
       "2015-07-28       0        -7.023154     -0.075254        5.413456\n",
       "2015-07-28       1        11.519025      3.621430        5.765467"
      ]
     },
     "execution_count": 94,
     "metadata": {},
     "output_type": "execute_result"
    }
   ],
   "source": [
    "import pandas as pd\n",
    "pd.options.display.max_columns = 100\n",
    "deg.df.head()"
   ]
  },
  {
   "cell_type": "code",
   "execution_count": 77,
   "metadata": {
    "collapsed": false
   },
   "outputs": [
    {
     "data": {
      "text/plain": [
       "(array([[ -1.25669051,   3.89562167,   5.36304612],\n",
       "        [ 15.90845415,   4.10800674,   4.19937422],\n",
       "        [ 21.17568858,   3.39415774,   7.38480771],\n",
       "        [ -7.02315417,  -0.07525363,   5.41345634],\n",
       "        [ 11.51902529,   3.62143029,   5.76546733]]),\n",
       " array([ 1.,  0.,  0.,  0.,  1.]))"
      ]
     },
     "execution_count": 77,
     "metadata": {},
     "output_type": "execute_result"
    }
   ],
   "source": [
    "deg.x[:5], deg.y[:5]"
   ]
  },
  {
   "cell_type": "code",
   "execution_count": 89,
   "metadata": {
    "collapsed": false
   },
   "outputs": [
    {
     "data": {
      "text/plain": [
       "SVC(C=1.0, cache_size=200, class_weight=None, coef0=0.0,\n",
       "  decision_function_shape=None, degree=3, gamma='auto', kernel='rbf',\n",
       "  max_iter=-1, probability=False, random_state=None, shrinking=True,\n",
       "  tol=0.001, verbose=False)"
      ]
     },
     "execution_count": 89,
     "metadata": {},
     "output_type": "execute_result"
    }
   ],
   "source": [
    "deg().estimator.svc()"
   ]
  },
  {
   "cell_type": "code",
   "execution_count": 91,
   "metadata": {
    "collapsed": false
   },
   "outputs": [
    {
     "name": "stderr",
     "output_type": "stream",
     "text": [
      "accuracy mean: 0.489222622644\n"
     ]
    },
    {
     "data": {
      "text/plain": [
       "array([ 0.43464707,  0.54241817,  0.51057671,  0.5154754 ,  0.4907593 ,\n",
       "        0.49988867,  0.43219773,  0.50089087,  0.44365256,  0.52171976])"
      ]
     },
     "execution_count": 91,
     "metadata": {},
     "output_type": "execute_result"
    }
   ],
   "source": [
    "deg().cross_val_accuracy_score()"
   ]
  },
  {
   "cell_type": "markdown",
   "metadata": {},
   "source": [
    "**0.48的准确率，相当于是乱猜**\n",
    "\n",
    "        下面使用把数据离散化后，换种分类器测试"
   ]
  },
  {
   "cell_type": "code",
   "execution_count": 95,
   "metadata": {
    "collapsed": true
   },
   "outputs": [],
   "source": [
    "deg = MlFiterDegPdClass(orderPd=orders_pd, dummies=True, invoke_hmm=False,\n",
    "                       invoke_pca=False)"
   ]
  },
  {
   "cell_type": "code",
   "execution_count": 96,
   "metadata": {
    "collapsed": false
   },
   "outputs": [
    {
     "data": {
      "text/html": [
       "<div>\n",
       "<table border=\"1\" class=\"dataframe\">\n",
       "  <thead>\n",
       "    <tr style=\"text-align: right;\">\n",
       "      <th></th>\n",
       "      <th>result</th>\n",
       "      <th>dh_dummies_(-inf, -20]</th>\n",
       "      <th>dh_dummies_(-20, -12]</th>\n",
       "      <th>dh_dummies_(-12, -7]</th>\n",
       "      <th>dh_dummies_(-7, -3]</th>\n",
       "      <th>dh_dummies_(-3, 0]</th>\n",
       "      <th>dh_dummies_(0, 3]</th>\n",
       "      <th>dh_dummies_(3, 7]</th>\n",
       "      <th>dh_dummies_(7, 12]</th>\n",
       "      <th>dh_dummies_(12, 20]</th>\n",
       "      <th>dh_dummies_(20, inf]</th>\n",
       "      <th>dw_dummies_(-inf, -20]</th>\n",
       "      <th>dw_dummies_(-20, -12]</th>\n",
       "      <th>dw_dummies_(-12, -7]</th>\n",
       "      <th>dw_dummies_(-7, -3]</th>\n",
       "      <th>dw_dummies_(-3, 0]</th>\n",
       "      <th>dw_dummies_(0, 3]</th>\n",
       "      <th>dw_dummies_(3, 7]</th>\n",
       "      <th>dw_dummies_(7, 12]</th>\n",
       "      <th>dw_dummies_(12, 20]</th>\n",
       "      <th>dw_dummies_(20, inf]</th>\n",
       "      <th>d60_dummies_(-inf, -20]</th>\n",
       "      <th>d60_dummies_(-20, -12]</th>\n",
       "      <th>d60_dummies_(-12, -7]</th>\n",
       "      <th>d60_dummies_(-7, -3]</th>\n",
       "      <th>d60_dummies_(-3, 0]</th>\n",
       "      <th>d60_dummies_(0, 3]</th>\n",
       "      <th>d60_dummies_(3, 7]</th>\n",
       "      <th>d60_dummies_(7, 12]</th>\n",
       "      <th>d60_dummies_(12, 20]</th>\n",
       "      <th>d60_dummies_(20, inf]</th>\n",
       "    </tr>\n",
       "  </thead>\n",
       "  <tbody>\n",
       "    <tr>\n",
       "      <th>2015-07-28</th>\n",
       "      <td>1</td>\n",
       "      <td>0.0</td>\n",
       "      <td>0.0</td>\n",
       "      <td>0.0</td>\n",
       "      <td>0.0</td>\n",
       "      <td>1.0</td>\n",
       "      <td>0.0</td>\n",
       "      <td>0.0</td>\n",
       "      <td>0.0</td>\n",
       "      <td>0.0</td>\n",
       "      <td>0.0</td>\n",
       "      <td>0.0</td>\n",
       "      <td>0.0</td>\n",
       "      <td>0.0</td>\n",
       "      <td>0.0</td>\n",
       "      <td>0.0</td>\n",
       "      <td>0.0</td>\n",
       "      <td>1.0</td>\n",
       "      <td>0.0</td>\n",
       "      <td>0.0</td>\n",
       "      <td>0.0</td>\n",
       "      <td>0.0</td>\n",
       "      <td>0.0</td>\n",
       "      <td>0.0</td>\n",
       "      <td>0.0</td>\n",
       "      <td>0.0</td>\n",
       "      <td>0.0</td>\n",
       "      <td>1.0</td>\n",
       "      <td>0.0</td>\n",
       "      <td>0.0</td>\n",
       "      <td>0.0</td>\n",
       "    </tr>\n",
       "    <tr>\n",
       "      <th>2015-07-28</th>\n",
       "      <td>0</td>\n",
       "      <td>0.0</td>\n",
       "      <td>0.0</td>\n",
       "      <td>0.0</td>\n",
       "      <td>0.0</td>\n",
       "      <td>0.0</td>\n",
       "      <td>0.0</td>\n",
       "      <td>0.0</td>\n",
       "      <td>0.0</td>\n",
       "      <td>1.0</td>\n",
       "      <td>0.0</td>\n",
       "      <td>0.0</td>\n",
       "      <td>0.0</td>\n",
       "      <td>0.0</td>\n",
       "      <td>0.0</td>\n",
       "      <td>0.0</td>\n",
       "      <td>0.0</td>\n",
       "      <td>1.0</td>\n",
       "      <td>0.0</td>\n",
       "      <td>0.0</td>\n",
       "      <td>0.0</td>\n",
       "      <td>0.0</td>\n",
       "      <td>0.0</td>\n",
       "      <td>0.0</td>\n",
       "      <td>0.0</td>\n",
       "      <td>0.0</td>\n",
       "      <td>0.0</td>\n",
       "      <td>1.0</td>\n",
       "      <td>0.0</td>\n",
       "      <td>0.0</td>\n",
       "      <td>0.0</td>\n",
       "    </tr>\n",
       "    <tr>\n",
       "      <th>2015-07-28</th>\n",
       "      <td>0</td>\n",
       "      <td>0.0</td>\n",
       "      <td>0.0</td>\n",
       "      <td>0.0</td>\n",
       "      <td>0.0</td>\n",
       "      <td>0.0</td>\n",
       "      <td>0.0</td>\n",
       "      <td>0.0</td>\n",
       "      <td>0.0</td>\n",
       "      <td>0.0</td>\n",
       "      <td>1.0</td>\n",
       "      <td>0.0</td>\n",
       "      <td>0.0</td>\n",
       "      <td>0.0</td>\n",
       "      <td>0.0</td>\n",
       "      <td>0.0</td>\n",
       "      <td>0.0</td>\n",
       "      <td>1.0</td>\n",
       "      <td>0.0</td>\n",
       "      <td>0.0</td>\n",
       "      <td>0.0</td>\n",
       "      <td>0.0</td>\n",
       "      <td>0.0</td>\n",
       "      <td>0.0</td>\n",
       "      <td>0.0</td>\n",
       "      <td>0.0</td>\n",
       "      <td>0.0</td>\n",
       "      <td>0.0</td>\n",
       "      <td>1.0</td>\n",
       "      <td>0.0</td>\n",
       "      <td>0.0</td>\n",
       "    </tr>\n",
       "    <tr>\n",
       "      <th>2015-07-28</th>\n",
       "      <td>0</td>\n",
       "      <td>0.0</td>\n",
       "      <td>0.0</td>\n",
       "      <td>1.0</td>\n",
       "      <td>0.0</td>\n",
       "      <td>0.0</td>\n",
       "      <td>0.0</td>\n",
       "      <td>0.0</td>\n",
       "      <td>0.0</td>\n",
       "      <td>0.0</td>\n",
       "      <td>0.0</td>\n",
       "      <td>0.0</td>\n",
       "      <td>0.0</td>\n",
       "      <td>0.0</td>\n",
       "      <td>0.0</td>\n",
       "      <td>1.0</td>\n",
       "      <td>0.0</td>\n",
       "      <td>0.0</td>\n",
       "      <td>0.0</td>\n",
       "      <td>0.0</td>\n",
       "      <td>0.0</td>\n",
       "      <td>0.0</td>\n",
       "      <td>0.0</td>\n",
       "      <td>0.0</td>\n",
       "      <td>0.0</td>\n",
       "      <td>0.0</td>\n",
       "      <td>0.0</td>\n",
       "      <td>1.0</td>\n",
       "      <td>0.0</td>\n",
       "      <td>0.0</td>\n",
       "      <td>0.0</td>\n",
       "    </tr>\n",
       "    <tr>\n",
       "      <th>2015-07-28</th>\n",
       "      <td>1</td>\n",
       "      <td>0.0</td>\n",
       "      <td>0.0</td>\n",
       "      <td>0.0</td>\n",
       "      <td>0.0</td>\n",
       "      <td>0.0</td>\n",
       "      <td>0.0</td>\n",
       "      <td>0.0</td>\n",
       "      <td>1.0</td>\n",
       "      <td>0.0</td>\n",
       "      <td>0.0</td>\n",
       "      <td>0.0</td>\n",
       "      <td>0.0</td>\n",
       "      <td>0.0</td>\n",
       "      <td>0.0</td>\n",
       "      <td>0.0</td>\n",
       "      <td>0.0</td>\n",
       "      <td>1.0</td>\n",
       "      <td>0.0</td>\n",
       "      <td>0.0</td>\n",
       "      <td>0.0</td>\n",
       "      <td>0.0</td>\n",
       "      <td>0.0</td>\n",
       "      <td>0.0</td>\n",
       "      <td>0.0</td>\n",
       "      <td>0.0</td>\n",
       "      <td>0.0</td>\n",
       "      <td>1.0</td>\n",
       "      <td>0.0</td>\n",
       "      <td>0.0</td>\n",
       "      <td>0.0</td>\n",
       "    </tr>\n",
       "  </tbody>\n",
       "</table>\n",
       "</div>"
      ],
      "text/plain": [
       "            result  dh_dummies_(-inf, -20]  dh_dummies_(-20, -12]  \\\n",
       "2015-07-28       1                     0.0                    0.0   \n",
       "2015-07-28       0                     0.0                    0.0   \n",
       "2015-07-28       0                     0.0                    0.0   \n",
       "2015-07-28       0                     0.0                    0.0   \n",
       "2015-07-28       1                     0.0                    0.0   \n",
       "\n",
       "            dh_dummies_(-12, -7]  dh_dummies_(-7, -3]  dh_dummies_(-3, 0]  \\\n",
       "2015-07-28                   0.0                  0.0                 1.0   \n",
       "2015-07-28                   0.0                  0.0                 0.0   \n",
       "2015-07-28                   0.0                  0.0                 0.0   \n",
       "2015-07-28                   1.0                  0.0                 0.0   \n",
       "2015-07-28                   0.0                  0.0                 0.0   \n",
       "\n",
       "            dh_dummies_(0, 3]  dh_dummies_(3, 7]  dh_dummies_(7, 12]  \\\n",
       "2015-07-28                0.0                0.0                 0.0   \n",
       "2015-07-28                0.0                0.0                 0.0   \n",
       "2015-07-28                0.0                0.0                 0.0   \n",
       "2015-07-28                0.0                0.0                 0.0   \n",
       "2015-07-28                0.0                0.0                 1.0   \n",
       "\n",
       "            dh_dummies_(12, 20]  dh_dummies_(20, inf]  dw_dummies_(-inf, -20]  \\\n",
       "2015-07-28                  0.0                   0.0                     0.0   \n",
       "2015-07-28                  1.0                   0.0                     0.0   \n",
       "2015-07-28                  0.0                   1.0                     0.0   \n",
       "2015-07-28                  0.0                   0.0                     0.0   \n",
       "2015-07-28                  0.0                   0.0                     0.0   \n",
       "\n",
       "            dw_dummies_(-20, -12]  dw_dummies_(-12, -7]  dw_dummies_(-7, -3]  \\\n",
       "2015-07-28                    0.0                   0.0                  0.0   \n",
       "2015-07-28                    0.0                   0.0                  0.0   \n",
       "2015-07-28                    0.0                   0.0                  0.0   \n",
       "2015-07-28                    0.0                   0.0                  0.0   \n",
       "2015-07-28                    0.0                   0.0                  0.0   \n",
       "\n",
       "            dw_dummies_(-3, 0]  dw_dummies_(0, 3]  dw_dummies_(3, 7]  \\\n",
       "2015-07-28                 0.0                0.0                1.0   \n",
       "2015-07-28                 0.0                0.0                1.0   \n",
       "2015-07-28                 0.0                0.0                1.0   \n",
       "2015-07-28                 1.0                0.0                0.0   \n",
       "2015-07-28                 0.0                0.0                1.0   \n",
       "\n",
       "            dw_dummies_(7, 12]  dw_dummies_(12, 20]  dw_dummies_(20, inf]  \\\n",
       "2015-07-28                 0.0                  0.0                   0.0   \n",
       "2015-07-28                 0.0                  0.0                   0.0   \n",
       "2015-07-28                 0.0                  0.0                   0.0   \n",
       "2015-07-28                 0.0                  0.0                   0.0   \n",
       "2015-07-28                 0.0                  0.0                   0.0   \n",
       "\n",
       "            d60_dummies_(-inf, -20]  d60_dummies_(-20, -12]  \\\n",
       "2015-07-28                      0.0                     0.0   \n",
       "2015-07-28                      0.0                     0.0   \n",
       "2015-07-28                      0.0                     0.0   \n",
       "2015-07-28                      0.0                     0.0   \n",
       "2015-07-28                      0.0                     0.0   \n",
       "\n",
       "            d60_dummies_(-12, -7]  d60_dummies_(-7, -3]  d60_dummies_(-3, 0]  \\\n",
       "2015-07-28                    0.0                   0.0                  0.0   \n",
       "2015-07-28                    0.0                   0.0                  0.0   \n",
       "2015-07-28                    0.0                   0.0                  0.0   \n",
       "2015-07-28                    0.0                   0.0                  0.0   \n",
       "2015-07-28                    0.0                   0.0                  0.0   \n",
       "\n",
       "            d60_dummies_(0, 3]  d60_dummies_(3, 7]  d60_dummies_(7, 12]  \\\n",
       "2015-07-28                 0.0                 1.0                  0.0   \n",
       "2015-07-28                 0.0                 1.0                  0.0   \n",
       "2015-07-28                 0.0                 0.0                  1.0   \n",
       "2015-07-28                 0.0                 1.0                  0.0   \n",
       "2015-07-28                 0.0                 1.0                  0.0   \n",
       "\n",
       "            d60_dummies_(12, 20]  d60_dummies_(20, inf]  \n",
       "2015-07-28                   0.0                    0.0  \n",
       "2015-07-28                   0.0                    0.0  \n",
       "2015-07-28                   0.0                    0.0  \n",
       "2015-07-28                   0.0                    0.0  \n",
       "2015-07-28                   0.0                    0.0  "
      ]
     },
     "execution_count": 96,
     "metadata": {},
     "output_type": "execute_result"
    }
   ],
   "source": [
    "deg.df.head()"
   ]
  },
  {
   "cell_type": "markdown",
   "metadata": {},
   "source": [
    "**离散值的选择通过统计挖掘**\n",
    "\n",
    "        MlFiterBinsCs 可视化离散值选择"
   ]
  },
  {
   "cell_type": "code",
   "execution_count": 103,
   "metadata": {
    "collapsed": true
   },
   "outputs": [],
   "source": [
    "import MlFiterBinsCs"
   ]
  },
  {
   "cell_type": "code",
   "execution_count": 104,
   "metadata": {
    "collapsed": false,
    "scrolled": false
   },
   "outputs": [
    {
     "data": {
      "image/png": "[encoded data removed]",
      "text/plain": [
       "<matplotlib.figure.Figure at 0x138fd3cd0>"
      ]
     },
     "metadata": {},
     "output_type": "display_data"
    },
    {
     "name": "stderr",
     "output_type": "stream",
     "text": [
      "lowBkCnt show hist and qcuts\n",
      "[1, 3.4]        46126\n",
      "(3.4, 5.8]        659\n",
      "(5.8, 8.2]        323\n",
      "(8.2, 10.6]       101\n",
      "(10.6, 13]         68\n",
      "(13, 15.4]         39\n",
      "(15.4, 17.8]       33\n",
      "(17.8, 20.2]       18\n",
      "(20.2, 22.6]        4\n",
      "(22.6, 33]          3\n",
      "Name: lowBkCnt, dtype: int64\n"
     ]
    },
    {
     "data": {
      "image/png": "[encoded data removed]",
      "text/plain": [
       "<matplotlib.figure.Figure at 0x1188f24d0>"
      ]
     },
     "metadata": {},
     "output_type": "display_data"
    },
    {
     "name": "stderr",
     "output_type": "stream",
     "text": [
      "atr_std show hist and qcuts\n",
      "(1.126, 7.425]          4738\n",
      "(0.48, 0.63]            4738\n",
      "(0.151, 0.246]          4738\n",
      "[-1.000781, -0.0941]    4738\n",
      "(0.827, 1.126]          4737\n",
      "(0.63, 0.827]           4737\n",
      "(0.356, 0.48]           4737\n",
      "(0.246, 0.356]          4737\n",
      "(0.0463, 0.151]         4737\n",
      "(-0.0941, 0.0463]       4737\n",
      "Name: atr_std, dtype: int64\n"
     ]
    },
    {
     "data": {
      "image/png": "[encoded data removed]",
      "text/plain": [
       "<matplotlib.figure.Figure at 0x1188f2b50>"
      ]
     },
     "metadata": {},
     "output_type": "display_data"
    },
    {
     "name": "stderr",
     "output_type": "stream",
     "text": [
      "jump_power show hist and qcuts\n",
      "[0, 1.0776]         11606\n",
      "(4.343, 151.515]     3995\n",
      "(1.279, 1.414]       3990\n",
      "(1.17, 1.279]        3978\n",
      "(1.585, 1.825]       3975\n",
      "(1.0776, 1.17]       3974\n",
      "(1.825, 2.184]       3973\n",
      "(2.184, 2.814]       3967\n",
      "(2.814, 4.343]       3966\n",
      "(1.414, 1.585]       3950\n",
      "Name: jump_power, dtype: int64\n"
     ]
    },
    {
     "data": {
      "image/png": "[encoded data removed]",
      "text/plain": [
       "<matplotlib.figure.Figure at 0x13820af50>"
      ]
     },
     "metadata": {},
     "output_type": "display_data"
    },
    {
     "name": "stderr",
     "output_type": "stream",
     "text": [
      "diff_days show hist and qcuts\n",
      "[0, 36.8]         18297\n",
      "(36.8, 73.6]       7002\n",
      "(73.6, 110.4]      5402\n",
      "(110.4, 147.2]     4358\n",
      "(147.2, 184]       3373\n",
      "(184, 220.8]       2397\n",
      "(220.8, 257.6]     2247\n",
      "(257.6, 294.4]     1784\n",
      "(294.4, 331.2]     1439\n",
      "(331.2, 368]       1075\n",
      "Name: diff_days, dtype: int64\n"
     ]
    },
    {
     "data": {
      "image/png": "[encoded data removed]",
      "text/plain": [
       "<matplotlib.figure.Figure at 0x149433210>"
      ]
     },
     "metadata": {},
     "output_type": "display_data"
    },
    {
     "name": "stderr",
     "output_type": "stream",
     "text": [
      "wave_score1 show hist and qcuts\n",
      "(1.201, 6.0266]      4738\n",
      "(0.513, 0.693]       4738\n",
      "(0.108, 0.227]       4738\n",
      "[-1.0169, -0.174]    4738\n",
      "(0.901, 1.201]       4737\n",
      "(0.693, 0.901]       4737\n",
      "(0.361, 0.513]       4737\n",
      "(0.227, 0.361]       4737\n",
      "(-0.0149, 0.108]     4737\n",
      "(-0.174, -0.0149]    4737\n",
      "Name: wave_score1, dtype: int64\n"
     ]
    },
    {
     "data": {
      "image/png": "[encoded data removed]",
      "text/plain": [
       "<matplotlib.figure.Figure at 0x1493bc750>"
      ]
     },
     "metadata": {},
     "output_type": "display_data"
    },
    {
     "name": "stderr",
     "output_type": "stream",
     "text": [
      "wave_score2 show hist and qcuts\n",
      "(1.274, 5.558]      4738\n",
      "(0.564, 0.773]      4738\n",
      "(0.0137, 0.182]     4738\n",
      "[-1.122, -0.3]      4738\n",
      "(0.995, 1.274]      4737\n",
      "(0.773, 0.995]      4737\n",
      "(0.367, 0.564]      4737\n",
      "(0.182, 0.367]      4737\n",
      "(-0.129, 0.0137]    4737\n",
      "(-0.3, -0.129]      4737\n",
      "Name: wave_score2, dtype: int64\n"
     ]
    },
    {
     "data": {
      "image/png": "[encoded data removed]",
      "text/plain": [
       "<matplotlib.figure.Figure at 0x14e677850>"
      ]
     },
     "metadata": {},
     "output_type": "display_data"
    },
    {
     "name": "stderr",
     "output_type": "stream",
     "text": [
      "wave_score3 show hist and qcuts\n",
      "(1.263, 4.992]       4738\n",
      "(0.56, 0.788]        4738\n",
      "(-0.0956, 0.0955]    4738\n",
      "[-1.126, -0.389]     4738\n",
      "(1.0024, 1.263]      4737\n",
      "(0.788, 1.0024]      4737\n",
      "(0.327, 0.56]        4737\n",
      "(0.0955, 0.327]      4737\n",
      "(-0.233, -0.0956]    4737\n",
      "(-0.389, -0.233]     4737\n",
      "Name: wave_score3, dtype: int64\n"
     ]
    },
    {
     "data": {
      "image/png": "[encoded data removed]",
      "text/plain": [
       "<matplotlib.figure.Figure at 0x150e46e10>"
      ]
     },
     "metadata": {},
     "output_type": "display_data"
    },
    {
     "name": "stderr",
     "output_type": "stream",
     "text": [
      "deg_60WindowPd show hist and qcuts\n",
      "(13.139, 70.936]     4738\n",
      "(5.101, 6.94]        4738\n",
      "(0.166, 1.805]       4738\n",
      "[-57.515, -5.654]    4738\n",
      "(9.261, 13.139]      4737\n",
      "(6.94, 9.261]        4737\n",
      "(3.503, 5.101]       4737\n",
      "(1.805, 3.503]       4737\n",
      "(-1.813, 0.166]      4737\n",
      "(-5.654, -1.813]     4737\n",
      "Name: deg_60WindowPd, dtype: int64\n"
     ]
    },
    {
     "data": {
      "image/png": "[encoded data removed]",
      "text/plain": [
       "<matplotlib.figure.Figure at 0x155c63d90>"
      ]
     },
     "metadata": {},
     "output_type": "display_data"
    },
    {
     "name": "stderr",
     "output_type": "stream",
     "text": [
      "deg_hisWindowPd show hist and qcuts\n",
      "(19.737, 69.234]      4738\n",
      "(5.731, 9.188]        4738\n",
      "(-4.407, -0.456]      4738\n",
      "[-65.56, -19.177]     4738\n",
      "(13.376, 19.737]      4737\n",
      "(9.188, 13.376]       4737\n",
      "(2.534, 5.731]        4737\n",
      "(-0.456, 2.534]       4737\n",
      "(-10.134, -4.407]     4737\n",
      "(-19.177, -10.134]    4737\n",
      "Name: deg_hisWindowPd, dtype: int64\n"
     ]
    },
    {
     "data": {
      "image/png": "[encoded data removed]",
      "text/plain": [
       "<matplotlib.figure.Figure at 0x1542f1f10>"
      ]
     },
     "metadata": {},
     "output_type": "display_data"
    },
    {
     "name": "stderr",
     "output_type": "stream",
     "text": [
      "deg_windowPd show hist and qcuts\n",
      "(9.0906, 60.638]     4738\n",
      "(3.844, 4.962]       4738\n",
      "(0.87, 1.938]        4738\n",
      "[-32.109, -3.288]    4738\n",
      "(6.486, 9.0906]      4737\n",
      "(4.962, 6.486]       4737\n",
      "(2.878, 3.844]       4737\n",
      "(1.938, 2.878]       4737\n",
      "(-0.628, 0.87]       4737\n",
      "(-3.288, -0.628]     4737\n",
      "Name: deg_windowPd, dtype: int64\n"
     ]
    }
   ],
   "source": [
    "MlFiterBinsCs.show_orders_hist(orders_pd)"
   ]
  },
  {
   "cell_type": "code",
   "execution_count": 99,
   "metadata": {
    "collapsed": false
   },
   "outputs": [
    {
     "data": {
      "text/plain": [
       "RandomForestClassifier(bootstrap=True, class_weight=None, criterion='gini',\n",
       "            max_depth=None, max_features='auto', max_leaf_nodes=None,\n",
       "            min_samples_leaf=1, min_samples_split=2,\n",
       "            min_weight_fraction_leaf=0.0, n_estimators=100, n_jobs=1,\n",
       "            oob_score=False, random_state=None, verbose=0,\n",
       "            warm_start=False)"
      ]
     },
     "execution_count": 99,
     "metadata": {},
     "output_type": "execute_result"
    }
   ],
   "source": [
    "deg().estimator.random_forest_classifier()"
   ]
  },
  {
   "cell_type": "code",
   "execution_count": 100,
   "metadata": {
    "collapsed": false
   },
   "outputs": [
    {
     "name": "stderr",
     "output_type": "stream",
     "text": [
      "accuracy mean: 0.496905590646\n"
     ]
    },
    {
     "data": {
      "text/plain": [
       "array([ 0.45134714,  0.51458473,  0.50879537,  0.51324872,  0.5092407 ,\n",
       "        0.5092407 ,  0.45290581,  0.5091314 ,  0.48017817,  0.52038316])"
      ]
     },
     "execution_count": 100,
     "metadata": {},
     "output_type": "execute_result"
    }
   ],
   "source": [
    "deg().cross_val_accuracy_score()"
   ]
  },
  {
   "cell_type": "markdown",
   "metadata": {},
   "source": [
    "**结果还是乱猜**"
   ]
  },
  {
   "cell_type": "markdown",
   "metadata": {},
   "source": [
    "用hmm等方式仍然是胡猜，详情见MlFiterDhpPd\n",
    "\n",
    "自己写的类似adaboost依然效果很差 详情见MlFiterBoost及子类实现代码\n",
    "\n",
    "通过非均衡概率降低假阳，提高假阴的方式，最后统计所有测试集样本的判别\n",
    "概率发现其实还瞎猜"
   ]
  },
  {
   "cell_type": "code",
   "execution_count": 106,
   "metadata": {
    "collapsed": false
   },
   "outputs": [
    {
     "name": "stderr",
     "output_type": "stream",
     "text": [
      "Optimization Finished!\n",
      "Accuracy:0.512358\n",
      "Optimization Finished!\n",
      "Accuracy:0.515475\n",
      "Optimization Finished!\n",
      "Accuracy:0.508573\n",
      "Optimization Finished!\n",
      "Accuracy:0.522601\n",
      "Optimization Finished!\n",
      "Accuracy:0.511022\n",
      "Optimization Finished!\n",
      "Accuracy:0.497885\n",
      "Optimization Finished!\n",
      "Accuracy:0.508463\n",
      "Optimization Finished!\n",
      "Accuracy:0.501782\n",
      "Optimization Finished!\n",
      "Accuracy:0.51314\n",
      "Optimization Finished!\n",
      "Accuracy:0.518708\n",
      "acs mean = 0.511000692844\n"
     ]
    }
   ],
   "source": [
    "MlFiterTensorFlow.MnnTF.do_tf_tt(deg.x, deg.y, n_folds=10)"
   ]
  },
  {
   "cell_type": "markdown",
   "metadata": {},
   "source": [
    "**神经网络除了慢之外一个德行**"
   ]
  },
  {
   "cell_type": "markdown",
   "metadata": {},
   "source": [
    "_______"
   ]
  },
  {
   "cell_type": "markdown",
   "metadata": {},
   "source": [
    "**通过将profit cg qcut 10份分类**"
   ]
  },
  {
   "cell_type": "code",
   "execution_count": 18,
   "metadata": {
    "collapsed": false
   },
   "outputs": [
    {
     "name": "stderr",
     "output_type": "stream",
     "text": [
      "[ 0  1  2  3  4  5  6  7  8  9 10 11 12 13 14 15 16 17 18 19 20 21 22 23 24\n",
      " 25 26 27 28 29 30 31 32 33 34 35 36 37 38 39 40 41 42 43 44 45 46 47 48 49\n",
      " 50 51 52 53 54 55 56 57 58 59 60 61 62 63 64 65 66 67 68 69 70 71 72 73 74\n",
      " 75 76 77 78 79 80 81 82 83 84 85 86 87 88 89 90 91 92 93 94 95 96 97 98 99]\n"
     ]
    },
    {
     "data": {
      "text/html": [
       "<div>\n",
       "<table border=\"1\" class=\"dataframe\">\n",
       "  <thead>\n",
       "    <tr style=\"text-align: right;\">\n",
       "      <th></th>\n",
       "      <th>class</th>\n",
       "      <th>result</th>\n",
       "      <th>deg_hisWindowPd</th>\n",
       "      <th>deg_windowPd</th>\n",
       "      <th>deg_60WindowPd</th>\n",
       "    </tr>\n",
       "  </thead>\n",
       "  <tbody>\n",
       "    <tr>\n",
       "      <th>2015-07-28</th>\n",
       "      <td>90</td>\n",
       "      <td>1</td>\n",
       "      <td>-1.256691</td>\n",
       "      <td>3.895622</td>\n",
       "      <td>5.363046</td>\n",
       "    </tr>\n",
       "    <tr>\n",
       "      <th>2015-07-28</th>\n",
       "      <td>26</td>\n",
       "      <td>-1</td>\n",
       "      <td>15.908454</td>\n",
       "      <td>4.108007</td>\n",
       "      <td>4.199374</td>\n",
       "    </tr>\n",
       "    <tr>\n",
       "      <th>2015-07-28</th>\n",
       "      <td>9</td>\n",
       "      <td>-1</td>\n",
       "      <td>21.175689</td>\n",
       "      <td>3.394158</td>\n",
       "      <td>7.384808</td>\n",
       "    </tr>\n",
       "    <tr>\n",
       "      <th>2015-07-28</th>\n",
       "      <td>14</td>\n",
       "      <td>-1</td>\n",
       "      <td>-7.023154</td>\n",
       "      <td>-0.075254</td>\n",
       "      <td>5.413456</td>\n",
       "    </tr>\n",
       "    <tr>\n",
       "      <th>2015-07-28</th>\n",
       "      <td>78</td>\n",
       "      <td>1</td>\n",
       "      <td>11.519025</td>\n",
       "      <td>3.621430</td>\n",
       "      <td>5.765467</td>\n",
       "    </tr>\n",
       "  </tbody>\n",
       "</table>\n",
       "</div>"
      ],
      "text/plain": [
       "            class  result  deg_hisWindowPd  deg_windowPd  deg_60WindowPd\n",
       "2015-07-28     90       1        -1.256691      3.895622        5.363046\n",
       "2015-07-28     26      -1        15.908454      4.108007        4.199374\n",
       "2015-07-28      9      -1        21.175689      3.394158        7.384808\n",
       "2015-07-28     14      -1        -7.023154     -0.075254        5.413456\n",
       "2015-07-28     78       1        11.519025      3.621430        5.765467"
      ]
     },
     "execution_count": 18,
     "metadata": {},
     "output_type": "execute_result"
    }
   ],
   "source": [
    "from MlFiter import MlFiterClass\n",
    "orders_pd.profit_cg.fillna(0, inplace=True)\n",
    "# order_has_ret = orders_pd[(orders_pd.result <> 0) & (np.isnan(orders_pd.profit_cg))]\n",
    "order_has_ret = orders_pd[(orders_pd.result <> 0)]\n",
    "n_class = 100\n",
    "order_has_ret['class'] = pd.qcut(order_has_ret.profit_cg, n_class, labels=range(0, n_class))\n",
    "order_has_ret['class'] = order_has_ret['class'].astype(int)\n",
    "ZLog.info(np.unique(order_has_ret['class']))\n",
    "\n",
    "deg_pd = order_has_ret.filter(['class', 'result', 'deg_hisWindowPd', 'deg_windowPd', 'deg_60WindowPd'])\n",
    "train_np = deg_pd.as_matrix()\n",
    "y = train_np[:, 0]\n",
    "x = train_np[:, 1:]\n",
    "deg = MlFiterClass(x, y, deg_pd, force_clf=True)\n",
    "deg_pd.head()"
   ]
  },
  {
   "cell_type": "markdown",
   "metadata": {},
   "source": [
    "* y为class train_test_split进行分类\n",
    "* 使用cv数据集的 predict < class阀值 使用result==0的情况查看概率"
   ]
  },
  {
   "cell_type": "code",
   "execution_count": 22,
   "metadata": {
    "collapsed": false
   },
   "outputs": [
    {
     "data": {
      "text/html": [
       "<div>\n",
       "<table border=\"1\" class=\"dataframe\">\n",
       "  <thead>\n",
       "    <tr style=\"text-align: right;\">\n",
       "      <th></th>\n",
       "      <th>class</th>\n",
       "      <th>result</th>\n",
       "      <th>deg_hisWindowPd</th>\n",
       "      <th>deg_windowPd</th>\n",
       "      <th>deg_60WindowPd</th>\n",
       "      <th>predict</th>\n",
       "    </tr>\n",
       "  </thead>\n",
       "  <tbody>\n",
       "    <tr>\n",
       "      <th>2011-10-14</th>\n",
       "      <td>54</td>\n",
       "      <td>1</td>\n",
       "      <td>7.296329</td>\n",
       "      <td>3.278012</td>\n",
       "      <td>4.534220</td>\n",
       "      <td>76.0</td>\n",
       "    </tr>\n",
       "    <tr>\n",
       "      <th>2014-01-06</th>\n",
       "      <td>86</td>\n",
       "      <td>1</td>\n",
       "      <td>19.433193</td>\n",
       "      <td>-3.640280</td>\n",
       "      <td>-1.462732</td>\n",
       "      <td>90.0</td>\n",
       "    </tr>\n",
       "    <tr>\n",
       "      <th>2015-03-26</th>\n",
       "      <td>15</td>\n",
       "      <td>-1</td>\n",
       "      <td>15.139860</td>\n",
       "      <td>4.874754</td>\n",
       "      <td>4.723976</td>\n",
       "      <td>9.0</td>\n",
       "    </tr>\n",
       "    <tr>\n",
       "      <th>2012-04-05</th>\n",
       "      <td>40</td>\n",
       "      <td>-1</td>\n",
       "      <td>-13.382448</td>\n",
       "      <td>0.568413</td>\n",
       "      <td>2.621964</td>\n",
       "      <td>22.0</td>\n",
       "    </tr>\n",
       "    <tr>\n",
       "      <th>2016-03-24</th>\n",
       "      <td>66</td>\n",
       "      <td>1</td>\n",
       "      <td>13.809379</td>\n",
       "      <td>2.636750</td>\n",
       "      <td>-5.007059</td>\n",
       "      <td>4.0</td>\n",
       "    </tr>\n",
       "  </tbody>\n",
       "</table>\n",
       "</div>"
      ],
      "text/plain": [
       "            class  result  deg_hisWindowPd  deg_windowPd  deg_60WindowPd  \\\n",
       "2011-10-14     54       1         7.296329      3.278012        4.534220   \n",
       "2014-01-06     86       1        19.433193     -3.640280       -1.462732   \n",
       "2015-03-26     15      -1        15.139860      4.874754        4.723976   \n",
       "2012-04-05     40      -1       -13.382448      0.568413        2.621964   \n",
       "2016-03-24     66       1        13.809379      2.636750       -5.007059   \n",
       "\n",
       "            predict  \n",
       "2011-10-14     76.0  \n",
       "2014-01-06     90.0  \n",
       "2015-03-26      9.0  \n",
       "2012-04-05     22.0  \n",
       "2016-03-24      4.0  "
      ]
     },
     "execution_count": 22,
     "metadata": {},
     "output_type": "execute_result"
    }
   ],
   "source": [
    "from sklearn.cross_validation import train_test_split\n",
    "from sklearn.metrics import accuracy_score\n",
    "from sklearn.metrics import classification_report\n",
    "\n",
    "deg.estimator.random_forest_classifier()\n",
    "\n",
    "train_df, cv_df = train_test_split(deg.df, test_size=0.1, random_state=0)\n",
    "\n",
    "fiter = deg.get_fiter()\n",
    "fiter.fit(train_df.as_matrix()[:, 2:], train_df.as_matrix()[:, 0])\n",
    "\n",
    "predictions = fiter.predict(cv_df.as_matrix()[:, 2:])\n",
    "\n",
    "cv_df['predict'] = predictions\n",
    "cv_df.head()"
   ]
  },
  {
   "cell_type": "code",
   "execution_count": 24,
   "metadata": {
    "collapsed": false
   },
   "outputs": [
    {
     "data": {
      "text/plain": [
       "0.0    74\n",
       "1.0    51\n",
       "2.0    65\n",
       "3.0    46\n",
       "4.0    64\n",
       "5.0    47\n",
       "6.0    54\n",
       "7.0    40\n",
       "8.0    52\n",
       "9.0    43\n",
       "Name: predict, dtype: int64"
      ]
     },
     "execution_count": 24,
     "metadata": {},
     "output_type": "execute_result"
    }
   ],
   "source": [
    "cv_df['predict'].value_counts().sort_index().head(10)"
   ]
  },
  {
   "cell_type": "code",
   "execution_count": 26,
   "metadata": {
    "collapsed": false
   },
   "outputs": [
    {
     "name": "stderr",
     "output_type": "stream",
     "text": [
      "threshold: 0, ppv: 0.608108108108\n",
      "threshold: 1, ppv: 0.568\n",
      "threshold: 2, ppv: 0.552631578947\n",
      "threshold: 3, ppv: 0.555084745763\n",
      "threshold: 4, ppv: 0.57\n",
      "threshold: 5, ppv: 0.576368876081\n",
      "threshold: 6, ppv: 0.576059850374\n",
      "threshold: 7, ppv: 0.555555555556\n",
      "threshold: 8, ppv: 0.539553752535\n",
      "threshold: 9, ppv: 0.548507462687\n"
     ]
    }
   ],
   "source": [
    "for threshold in np.arange(0, 10):\n",
    "    ppv = cv_df[cv_df['predict'] <= threshold].result.value_counts()\n",
    "    ZLog.info('threshold: {}, ppv: {}'.format(threshold, float(ppv[-1])/ppv.sum()))"
   ]
  },
  {
   "cell_type": "markdown",
   "metadata": {},
   "source": [
    "### 稍微有一点提高，但是没有达到0.6，这样的话在trade win high profit & loss low profit的情况下不一定能有所提高"
   ]
  },
  {
   "cell_type": "markdown",
   "metadata": {},
   "source": [
    "_____________"
   ]
  },
  {
   "cell_type": "markdown",
   "metadata": {},
   "source": [
    "## 要放弃还是继续寻找解决方案，印钞机怎么会那么容易实现呢，所以一切正常，最后请看\n",
    "## 解决方案部分"
   ]
  },
  {
   "cell_type": "code",
   "execution_count": null,
   "metadata": {
    "collapsed": true
   },
   "outputs": [],
   "source": []
  },
  {
   "cell_type": "code",
   "execution_count": null,
   "metadata": {
    "collapsed": true
   },
   "outputs": [],
   "source": []
  }
 ],
 "metadata": {
  "anaconda-cloud": {},
  "kernelspec": {
   "display_name": "Python [Root]",
   "language": "python",
   "name": "Python [Root]"
  },
  "language_info": {
   "codemirror_mode": {
    "name": "ipython",
    "version": 2
   },
   "file_extension": ".py",
   "mimetype": "text/x-python",
   "name": "python",
   "nbconvert_exporter": "python",
   "pygments_lexer": "ipython2",
   "version": "2.7.12"
  }
 },
 "nbformat": 4,
 "nbformat_minor": 0
}
