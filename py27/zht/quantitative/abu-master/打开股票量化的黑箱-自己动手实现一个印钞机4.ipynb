{
 "cells": [
  {
   "cell_type": "markdown",
   "metadata": {},
   "source": [
    "# 打开股票量化的黑箱(自己动手实现一个‘印钞机’) 第四章\n",
    "\n",
    "### 作者：阿布🐶\n",
    "\n",
    "### 未经本人允许禁止转载"
   ]
  },
  {
   "cell_type": "markdown",
   "metadata": {},
   "source": [
    "##  ‘非均衡胜负收益’带来的必然’非均衡胜负比例‘，目标由’因子‘的能力解决一部分，’模式识别‘提升关键的一部分"
   ]
  },
  {
   "cell_type": "markdown",
   "metadata": {},
   "source": [
    "上一章使用机器学习的方法，想要提取特征，指导交易，提高胜率，但是发现，除了最后那种把交易结果分成100份的方式外，其它\n",
    "机器学习方法基本都是瞎猜，是不是使用深度学习就能解决问题呢？\n",
    "\n",
    "本章主要通过使用卷积神经网络模型alex_net,  与google_lenet对股票\n",
    "进行模式识别"
   ]
  },
  {
   "cell_type": "code",
   "execution_count": 2,
   "metadata": {
    "collapsed": true
   },
   "outputs": [],
   "source": [
    "import ZEnv\n",
    "import ZLog\n",
    "import ZCommonUtil\n",
    "import pandas as pd\n",
    "import numpy as np\n",
    "import seaborn as sns\n",
    "import matplotlib.pyplot as plt\n",
    "pd.options.display.max_columns = 100\n",
    "%matplotlib inline"
   ]
  },
  {
   "cell_type": "markdown",
   "metadata": {},
   "source": [
    "### 加载缓存交易数据"
   ]
  },
  {
   "cell_type": "code",
   "execution_count": 3,
   "metadata": {
    "collapsed": false
   },
   "outputs": [
    {
     "data": {
      "text/plain": [
       "(array([[  0.13997608,   0.07045403,   0.06829068],\n",
       "        [ -0.40946745,  -0.38829941,   0.75027609],\n",
       "        [ 11.84144398,  -0.84690618,   2.73882144],\n",
       "        [-17.26610011,  -3.57896598,  -3.86127002],\n",
       "        [ -9.14670563,   4.14514014,   2.85483688]]),\n",
       " array([ 0.,  0.,  0.,  0.,  1.]))"
      ]
     },
     "execution_count": 3,
     "metadata": {},
     "output_type": "execute_result"
    }
   ],
   "source": [
    "# 从之前跑的结果hdf5中加载缓存\n",
    "from MlFiterDegPd import MlFiterDegPdClass\n",
    "orders_pd_train_snap = ZCommonUtil.load_hdf5('orders_pd_train_snap', 'orders_pd_train_snap')\n",
    "orders_pd_test_snap = ZCommonUtil.load_hdf5('orders_pd_test_snap', 'orders_pd_test_snap')\n",
    "orders_pd_test_snap.shape\n",
    "deg = MlFiterDegPdClass(orderPd=orders_pd_train_snap)\n",
    "deg.x[:5], deg.y[:5]"
   ]
  },
  {
   "cell_type": "markdown",
   "metadata": {},
   "source": [
    "## 首先使用多层神经网络，明显也是不行"
   ]
  },
  {
   "cell_type": "code",
   "execution_count": null,
   "metadata": {
    "collapsed": false
   },
   "outputs": [
    {
     "name": "stdout",
     "output_type": "stream",
     "text": [
      "Epoch: 0001 cost= 13.496154785\n"
     ]
    }
   ],
   "source": [
    "from MlFiterTensorFlow import MnnTF\n",
    "from sklearn.cross_validation import KFold\n",
    "\n",
    "kf = KFold(len(deg.y), n_folds=10, shuffle=True)\n",
    "for i, (train_index, test_index) in enumerate(kf):\n",
    "    x_train, x_test = deg.x[train_index], deg.x[test_index]\n",
    "    y_train, y_test = deg.y[train_index], deg.y[test_index]\n",
    "    mnn = MnnTF(x_train, y_train, x_test, y_test, n_hidden_1=10, n_hidden_2=10, batch_size=len(deg.x)/2,\n",
    "                 learning_rate=0.01, training_epochs=10000, display_step=1000)\n",
    "    ac = mnn.fit()\n",
    "    break # only once"
   ]
  },
  {
   "cell_type": "code",
   "execution_count": 5,
   "metadata": {
    "collapsed": false
   },
   "outputs": [
    {
     "data": {
      "text/plain": [
       "'/Users/Bailey/Desktop/my_work/abu/data/save_png/2016-10-09/2016_10_09_12_06_59_042764_4241_lyQvysYoAwVoFylreOwxNXNXvvncdyyjDEjSORFMEUAfJBpLBHjXFbwQBUoZRtkO.png'"
      ]
     },
     "execution_count": 5,
     "metadata": {},
     "output_type": "execute_result"
    }
   ],
   "source": [
    "orders_pd_train_snap.ix[0].snap"
   ]
  },
  {
   "cell_type": "markdown",
   "metadata": {},
   "source": [
    "之前把所有交易前的snap都保留了(snap为交易前60日的k图)，这回不自己传入特征，直接使用卷积神经网络，自己学习特征\n",
    "![img](./Snip20161014_5.png)"
   ]
  },
  {
   "cell_type": "markdown",
   "metadata": {},
   "source": [
    "## 首先使用TensorFlow的高级api tflearn来实现alex_net的卷积神经网络"
   ]
  },
  {
   "cell_type": "code",
   "execution_count": 22,
   "metadata": {
    "collapsed": true
   },
   "outputs": [],
   "source": [
    "# 准备工作\n",
    "import TrainValSplit\n",
    "import os\n",
    "import shutil\n",
    "\n",
    "# 把结果cut 10份\n",
    "def cut_order_profit_classes(orders_pd, test=False, n_classes=10):\n",
    "    orders_pd.profit_cg.fillna(0, inplace=True)\n",
    "    order_has_ret = orders_pd[(orders_pd.result <> 0)]\n",
    "    order_has_ret['class'] = pd.qcut(order_has_ret.profit_cg, n_classes, labels=range(0, n_classes))\n",
    "    order_has_ret['class'] = order_has_ret['class'].astype(int)\n",
    "    snap_pd = order_has_ret.filter(['snap', 'class'])\n",
    "    img_root_folder = os.path.dirname(snap_pd.ix[0].snap)\n",
    "    img_root_folder = img_root_folder + '/'\n",
    "    if test:\n",
    "        img_root_folder += 'test/'  \n",
    "    return snap_pd, img_root_folder"
   ]
  },
  {
   "cell_type": "code",
   "execution_count": 83,
   "metadata": {
    "collapsed": false
   },
   "outputs": [
    {
     "data": {
      "text/plain": [
       "'/Users/Bailey/Desktop/my_work/abu/data/save_png/2016-10-09/'"
      ]
     },
     "execution_count": 83,
     "metadata": {},
     "output_type": "execute_result"
    }
   ],
   "source": [
    "snap_pd, img_root_train_folder = cut_order_profit_classes(orders_pd_train_snap, test=False)\n",
    "img_root_train_folder"
   ]
  },
  {
   "cell_type": "code",
   "execution_count": 84,
   "metadata": {
    "collapsed": false
   },
   "outputs": [
    {
     "data": {
      "text/plain": [
       "'/Users/Bailey/Desktop/my_work/abu/data/save_png/2016-10-09/test/'"
      ]
     },
     "execution_count": 84,
     "metadata": {},
     "output_type": "execute_result"
    }
   ],
   "source": [
    "snap_pd_test, img_root_test_folder = cut_order_profit_classes(orders_pd_test_snap, test=True)\n",
    "img_root_test_folder"
   ]
  },
  {
   "cell_type": "code",
   "execution_count": 23,
   "metadata": {
    "collapsed": true
   },
   "outputs": [],
   "source": [
    "# 做子文件夹放分类图只是为了使用tflearn的build_image_dataset_from_dir方便\n",
    "def make_sub_dir_mv(snap_pd, img_root_folder):\n",
    "    target_dir = img_root_folder \n",
    "    map(lambda cls: os.makedirs(target_dir + str(cls) + '/') \n",
    "        if not os.path.exists(target_dir + str(cls) + '/') else 1, np.arange(0, 10))\n",
    "    \n",
    "    for ind in np.arange(0, len(snap_pd)):\n",
    "        path = snap_pd.ix[ind]['snap']\n",
    "        cls  = snap_pd.ix[ind]['class']\n",
    "        \n",
    "        target_path = target_dir + str(cls) + '/' + os.path.basename(path)\n",
    "        if os.path.exists(target_path):\n",
    "            continue\n",
    "        \n",
    "        shutil.move(path, target_path)\n",
    "    snap_pd['snap'] = snap_pd.apply(lambda snap: str(snap['class']) + '/' + os.path.basename(snap.snap), axis=1)"
   ]
  },
  {
   "cell_type": "code",
   "execution_count": 65,
   "metadata": {
    "collapsed": false
   },
   "outputs": [
    {
     "data": {
      "text/html": [
       "<div>\n",
       "<table border=\"1\" class=\"dataframe\">\n",
       "  <thead>\n",
       "    <tr style=\"text-align: right;\">\n",
       "      <th></th>\n",
       "      <th>snap</th>\n",
       "      <th>class</th>\n",
       "    </tr>\n",
       "  </thead>\n",
       "  <tbody>\n",
       "    <tr>\n",
       "      <th>2015-09-11</th>\n",
       "      <td>1/2016_10_09_18_15_39_583096_6110_JSNTMWgcqKcT...</td>\n",
       "      <td>1</td>\n",
       "    </tr>\n",
       "    <tr>\n",
       "      <th>2015-09-11</th>\n",
       "      <td>5/2016_10_09_18_06_02_707471_6110_oBSQVzUkhtPd...</td>\n",
       "      <td>5</td>\n",
       "    </tr>\n",
       "    <tr>\n",
       "      <th>2015-09-11</th>\n",
       "      <td>5/2016_10_09_18_12_20_586317_6110_JLshhttghRuO...</td>\n",
       "      <td>5</td>\n",
       "    </tr>\n",
       "    <tr>\n",
       "      <th>2015-09-11</th>\n",
       "      <td>0/2016_10_09_17_59_44_188534_6110_IcMNqzQqybsW...</td>\n",
       "      <td>0</td>\n",
       "    </tr>\n",
       "    <tr>\n",
       "      <th>2015-09-11</th>\n",
       "      <td>0/2016_10_09_18_18_28_393821_6110_wqmNPNBFlTmU...</td>\n",
       "      <td>0</td>\n",
       "    </tr>\n",
       "  </tbody>\n",
       "</table>\n",
       "</div>"
      ],
      "text/plain": [
       "                                                         snap  class\n",
       "2015-09-11  1/2016_10_09_18_15_39_583096_6110_JSNTMWgcqKcT...      1\n",
       "2015-09-11  5/2016_10_09_18_06_02_707471_6110_oBSQVzUkhtPd...      5\n",
       "2015-09-11  5/2016_10_09_18_12_20_586317_6110_JLshhttghRuO...      5\n",
       "2015-09-11  0/2016_10_09_17_59_44_188534_6110_IcMNqzQqybsW...      0\n",
       "2015-09-11  0/2016_10_09_18_18_28_393821_6110_wqmNPNBFlTmU...      0"
      ]
     },
     "execution_count": 65,
     "metadata": {},
     "output_type": "execute_result"
    }
   ],
   "source": [
    "# 移动训练集snap\n",
    "make_sub_dir_mv(snap_pd, img_root_train_folder)\n",
    "# 移动测试集snap\n",
    "make_sub_dir_mv(snap_pd_test, img_root_test_folder)\n",
    "snap_pd.head()"
   ]
  },
  {
   "cell_type": "code",
   "execution_count": 44,
   "metadata": {
    "collapsed": true
   },
   "outputs": [],
   "source": [
    "# 将训练集和测试集的png都转换为rgb的jpeg\n",
    "import ImgStdHelper\n",
    "to = img_root_train_folder\n",
    "for ind in np.arange(0, 10):\n",
    "    std_dir = to + str(ind) + \"/\"\n",
    "    ImgStdHelper.std_img_from_root_dir(std_dir, 'png')\n",
    "to = img_root_test_folder\n",
    "for ind in np.arange(0, 10):\n",
    "    std_dir = to + str(ind) + \"/\"\n",
    "    ImgStdHelper.std_img_from_root_dir(std_dir, 'png')"
   ]
  },
  {
   "cell_type": "code",
   "execution_count": 85,
   "metadata": {
    "collapsed": false
   },
   "outputs": [],
   "source": [
    "snap_pd.snap = snap_pd.snap.apply(lambda snap: snap[:-4] + '.jpeg')\n",
    "snap_pd_test.snap = snap_pd_test.snap.apply(lambda snap: snap[:-4] + '.jpeg')"
   ]
  },
  {
   "cell_type": "markdown",
   "metadata": {},
   "source": [
    "### 获取训练数据"
   ]
  },
  {
   "cell_type": "code",
   "execution_count": null,
   "metadata": {
    "collapsed": false
   },
   "outputs": [],
   "source": [
    "from tflearn.data_utils import build_image_dataset_from_dir\n",
    "\n",
    "dataset_file = ZEnv.g_project_root + '/Caffe/gen/stock_tensor.pkl'\n",
    "one_hot=True, \n",
    "resize_pics=(227, 227)\n",
    "x, y = build_image_dataset_from_dir(img_root_train_folder,\n",
    "                             dataset_file=dataset_file,\n",
    "                             resize=resize_pics,\n",
    "                             filetypes=['.jpg', '.jpeg'],\n",
    "                             convert_gray=False,\n",
    "                             shuffle_data=True,\n",
    "                             categorical_Y=one_hot)"
   ]
  },
  {
   "cell_type": "markdown",
   "metadata": {},
   "source": [
    "### 使用tflear开始训练"
   ]
  },
  {
   "cell_type": "code",
   "execution_count": 35,
   "metadata": {
    "collapsed": false
   },
   "outputs": [],
   "source": [
    "import tflearn\n",
    "from tflearn.layers.core import input_data, dropout, fully_connected\n",
    "from tflearn.layers.conv import conv_2d, max_pool_2d\n",
    "from tflearn.layers.normalization import local_response_normalization\n",
    "from tflearn.layers.estimator import regression\n",
    "network = input_data(shape=[None, 227, 227, 3])\n",
    "network = conv_2d(network, 96, 11, strides=4, activation='relu')\n",
    "network = max_pool_2d(network, 3, strides=2)\n",
    "network = local_response_normalization(network)\n",
    "network = conv_2d(network, 256, 5, activation='relu')\n",
    "network = max_pool_2d(network, 3, strides=2)\n",
    "network = local_response_normalization(network)\n",
    "network = conv_2d(network, 384, 3, activation='relu')\n",
    "network = conv_2d(network, 384, 3, activation='relu')\n",
    "network = conv_2d(network, 256, 3, activation='relu')\n",
    "network = max_pool_2d(network, 3, strides=2)\n",
    "network = local_response_normalization(network)\n",
    "network = fully_connected(network, 4096, activation='tanh')\n",
    "network = dropout(network, 0.5)\n",
    "network = fully_connected(network, 4096, activation='tanh')\n",
    "network = dropout(network, 0.5)\n",
    "network = fully_connected(network, 10, activation='softmax')\n",
    "network = regression(network, optimizer='momentum',\n",
    "                     loss='categorical_crossentropy',\n",
    "                     learning_rate=0.001)\n",
    "model = tflearn.DNN(network, checkpoint_path='model_alexnet',\n",
    "                    max_checkpoints=1, tensorboard_verbose=2)\n",
    "model.fit(x, y, n_epoch=1000, validation_set=0.1, shuffle=True,\n",
    "          show_metric=True, batch_size=64, snapshot_step=200,\n",
    "          snapshot_epoch=False, run_id='alexnet_stock')"
   ]
  },
  {
   "cell_type": "code",
   "execution_count": 29,
   "metadata": {
    "collapsed": false
   },
   "outputs": [
    {
     "name": "stdout",
     "output_type": "stream",
     "text": [
      "/Users/Bailey/Desktop/my_work/abu/Caffe/gen/stock_tensor_test.pkl\n"
     ]
    }
   ],
   "source": [
    "# 抽取100张作为测试，每个class抽取10张\n",
    "fr = img_root_test_folder\n",
    "to = img_root_test_folder + 'choice_test/'\n",
    "\n",
    "for ind in np.arange(0, 10):\n",
    "    ff = fr + str(ind) + \"/*.jpeg\"\n",
    "    imglist = glob.glob(ff) \n",
    "    imglist = np.random.choice(imglist, 10, replace=False)\n",
    "    for img in imglist:\n",
    "        img_to = to + str(ind) + \"/\" + os.path.basename(img)\n",
    "        ZCommonUtil.ensure_dir(img_to)\n",
    "        shutil.copy(img, img_to)\n",
    "        \n",
    "# 加载测试数据        \n",
    "dataset_file_test = ZEnv.g_project_root + '/Caffe/gen/stock_tensor_test.pkl'\n",
    "print(dataset_file_test)\n",
    "one_hot=True, \n",
    "resize_pics=(227, 227)\n",
    "test_folder = to\n",
    "x_test, y_test = build_image_dataset_from_dir(test_folder,\n",
    "                             dataset_file=dataset_file_test,\n",
    "                             resize=resize_pics,\n",
    "                             filetypes=['.jpg', '.jpeg', '.png'],\n",
    "                             convert_gray=False,\n",
    "                             shuffle_data=True,\n",
    "                             categorical_Y=one_hot)"
   ]
  },
  {
   "cell_type": "code",
   "execution_count": 33,
   "metadata": {
    "collapsed": false
   },
   "outputs": [
    {
     "data": {
      "text/plain": [
       "((100, 227, 227, 3), (100, 10))"
      ]
     },
     "execution_count": 33,
     "metadata": {},
     "output_type": "execute_result"
    }
   ],
   "source": [
    "x_test.shape, y_test.shape"
   ]
  },
  {
   "cell_type": "code",
   "execution_count": 41,
   "metadata": {
    "collapsed": false
   },
   "outputs": [
    {
     "data": {
      "text/plain": [
       "(58, 100)"
      ]
     },
     "execution_count": 41,
     "metadata": {},
     "output_type": "execute_result"
    }
   ],
   "source": [
    "test_ret = model.predict(x_test)\n",
    "test_cnt = len(test_ret)\n",
    "rt_cnt = 0\n",
    "for pred_y, real_y in zip(test_ret, y_test):\n",
    "    real_y = np.argmax(real_y)\n",
    "    f = np.argmax(pred_y)\n",
    "    if f == real_y:\n",
    "        rt_cnt += 1\n",
    "        continue\n",
    "        \n",
    "    pred_y[f] = 0\n",
    "    t = np.argmax(pred_y)\n",
    "    if t == real_y:\n",
    "        rt_cnt += 1\n",
    "        continue\n",
    "        \n",
    "    pred_y[t] = 0\n",
    "    ttt = np.argmax(pred_y)\n",
    "    if ttt == real_y:\n",
    "        rt_cnt += 1\n",
    "        continue\n",
    "rt_cnt, test_cnt"
   ]
  },
  {
   "cell_type": "markdown",
   "metadata": {},
   "source": [
    "## top3的准确率达到 58%，稍为加工一下就可以放到程序里作为优化器了，使用方式类似:单子买入之前对below 3和top3进行判断，如果在below3中且不top3在中进行拦截，当然也可以有更多变种，关于这方面的实例将会在后续章节hmm-gmm中演示，更会延伸到裁判机制"
   ]
  },
  {
   "cell_type": "markdown",
   "metadata": {},
   "source": [
    "______\n",
    "\n",
    "## 接下来使用caffe进行训练，优化\n",
    "## 使用google_lenet看看能不能有再次提升"
   ]
  },
  {
   "cell_type": "code",
   "execution_count": 75,
   "metadata": {
    "collapsed": false
   },
   "outputs": [
    {
     "data": {
      "text/plain": [
       "(4612, 2)"
      ]
     },
     "execution_count": 75,
     "metadata": {},
     "output_type": "execute_result"
    }
   ],
   "source": [
    "snap_pd.shape"
   ]
  },
  {
   "cell_type": "code",
   "execution_count": 95,
   "metadata": {
    "collapsed": true
   },
   "outputs": [],
   "source": [
    "def caffe_train_sh(snap_pd, img_root_folder):\n",
    "    train_path = ZEnv.g_project_root + '/caffe/gen/train.txt'\n",
    "    ZCommonUtil.ensure_dir(train_path)\n",
    "    snap_pd.to_csv(train_path, sep=' ', header=None, index=False)\n",
    "    TrainValSplit.train_val_split(train_path, n_folds=10)\n",
    "    lmdb = ZEnv.g_project_root + '/Caffe/sh/Lmdb.sh'\n",
    "    out_put_dir = ZEnv.g_project_root + '/Caffe/gen'\n",
    "    sh_cmd = '{} ${} ${}'.format(lmdb, img_root_folder, out_put_dir) \n",
    "    print(sh_cmd)\n",
    "    os.system(sh_cmd)\n",
    "    return sh_cmd"
   ]
  },
  {
   "cell_type": "markdown",
   "metadata": {},
   "source": [
    "### 生成训练测试集，之后生成lmdb 及 mean pb"
   ]
  },
  {
   "cell_type": "code",
   "execution_count": 96,
   "metadata": {
    "collapsed": false
   },
   "outputs": [
    {
     "name": "stdout",
     "output_type": "stream",
     "text": [
      "/Users/Bailey/Desktop/my_work/abu/Caffe/sh/Lmdb.sh $/Users/Bailey/Desktop/my_work/abu/data/save_png/2016-10-09/ $/Users/Bailey/Desktop/my_work/abu/Caffe/gen\n"
     ]
    }
   ],
   "source": [
    "sh_cmd = caffe_train_sh(snap_pd, img_root_train_folder)"
   ]
  },
  {
   "cell_type": "markdown",
   "metadata": {},
   "source": [
    "### 关于其它配置，请自己查看代码pb文件，训练完模型之后先拿一个测试看看效果"
   ]
  },
  {
   "cell_type": "code",
   "execution_count": 152,
   "metadata": {
    "collapsed": false
   },
   "outputs": [
    {
     "data": {
      "text/plain": [
       "('/Users/Bailey/Desktop/my_work/abu/data/save_png/2016-10-09/test/1/2016_10_09_18_15_39_583096_6110_JSNTMWgcqKcTwDJeRrHlYvCsqSlRjeLwZdJpJvVzsATDYMLKkUFOhqraqoZGHqkm.jpeg',\n",
       " 1)"
      ]
     },
     "execution_count": 152,
     "metadata": {},
     "output_type": "execute_result"
    }
   ],
   "source": [
    "path = img_root_test_folder + snap_pd_test.ix[0].snap\n",
    "classes = snap_pd_test.ix[0]['class']\n",
    "path, classes"
   ]
  },
  {
   "cell_type": "markdown",
   "metadata": {},
   "source": [
    "### 加载训练好了的模型"
   ]
  },
  {
   "cell_type": "code",
   "execution_count": 153,
   "metadata": {
    "collapsed": false
   },
   "outputs": [
    {
     "name": "stdout",
     "output_type": "stream",
     "text": [
      "mu = [ 243.24985442  238.91917917  239.75766282]\n"
     ]
    }
   ],
   "source": [
    "import caffe\n",
    "caffe.set_mode_cpu()\n",
    "\n",
    "image = caffe.io.load_image(path)\n",
    "model_def = ZEnv.g_project_root + '/Caffe/pb/deploy.prototxt' \n",
    "model_weights = ZEnv.g_project_root + '/Caffe/gen/stock_judge_train_iter_6000.caffemodel'\n",
    "model_mean_file = ZEnv.g_project_root + '/Caffe/gen/mean.binaryproto'\n",
    "\n",
    "net = caffe.Net(model_def, model_weights, caffe.TEST)  \n",
    "\n",
    "mean_blob = caffe.proto.caffe_pb2.BlobProto()\n",
    "mean_blob.ParseFromString(open(model_mean_file, 'rb').read())\n",
    "mean_npy = caffe.io.blobproto_to_array(mean_blob)\n",
    "mu = mean_npy.mean(2).mean(2)[0]\n",
    "print('mu = {}'.format(mu))\n",
    "transformer = caffe.io.Transformer({'data': net.blobs['data'].data.shape})\n",
    "transformer.set_transpose('data', (2,0,1))  \n",
    "transformer.set_mean('data', mu)           \n",
    "transformer.set_raw_scale('data', 255)     \n",
    "transformer.set_channel_swap('data', (2,1,0))  "
   ]
  },
  {
   "cell_type": "code",
   "execution_count": 154,
   "metadata": {
    "collapsed": false
   },
   "outputs": [
    {
     "data": {
      "image/png": "[encoded data removed]",
      "text/plain": [
       "<matplotlib.figure.Figure at 0x12d64c510>"
      ]
     },
     "metadata": {},
     "output_type": "display_data"
    }
   ],
   "source": [
    "transformed_image = transformer.preprocess('data', image)\n",
    "plt.imshow(image)\n",
    "plt.show()"
   ]
  },
  {
   "cell_type": "code",
   "execution_count": 155,
   "metadata": {
    "collapsed": false
   },
   "outputs": [
    {
     "name": "stdout",
     "output_type": "stream",
     "text": [
      "demo classes is 1\n",
      "('predicted class is:', 7)\n",
      "('Top3 is:', array([7, 3, 1]))\n"
     ]
    }
   ],
   "source": [
    "net.blobs['data'].data[...] = transformed_image\n",
    "output = net.forward()\n",
    "output_prob = output['prob'][0]\n",
    "print('demo classes is {}'.format(classes))\n",
    "print('predicted class is:', output_prob.argmax())\n",
    "print('Top3 is:', output_prob.argsort()[::-1][:3])"
   ]
  },
  {
   "cell_type": "markdown",
   "metadata": {},
   "source": [
    "如下， 测试数据集的头100个作为测试\n",
    "计算top3与top5的准确率\n",
    "top3: 54%\n",
    "top5: 63%"
   ]
  },
  {
   "cell_type": "code",
   "execution_count": 157,
   "metadata": {
    "collapsed": false
   },
   "outputs": [
    {
     "data": {
      "text/plain": [
       "(54, 63)"
      ]
     },
     "execution_count": 157,
     "metadata": {},
     "output_type": "execute_result"
    }
   ],
   "source": [
    "top3 = 0\n",
    "top5 = 0\n",
    "for ind in np.arange(0, 100):\n",
    "    path = img_root_test_folder + snap_pd_test.ix[ind].snap\n",
    "    classes = snap_pd_test.ix[ind]['class']\n",
    "    \n",
    "    image = caffe.io.load_image(path)\n",
    "    net.blobs['data'].data[...] = transformed_image\n",
    "    output = net.forward()\n",
    "    output_prob = output['prob'][0]\n",
    "    if classes in output_prob.argsort()[::-1][:3]:\n",
    "        top3 += 1\n",
    "        top5 += 1\n",
    "    elif classes in output_prob.argsort()[::-1][:5]:\n",
    "        top5 += 1\n",
    "top3, top5"
   ]
  },
  {
   "cell_type": "markdown",
   "metadata": {},
   "source": [
    "\n",
    "\n",
    "### 使用深度学习确实对整个模式识别相比其它机器学习方法有了很大的飞跃，有了这个特征识别能力，就可以总结出新的交易拦截能力，进一步提升胜率，假想一下你的整个模型能力能有60的胜率而且每次赢的还比输的多，那它是不是就可以称为印钞机呢，当然了还有很多其它因素影响了印钞机的具体工作，这里无法一一阐述，有兴趣的可以加我的微信一起讨论！"
   ]
  },
  {
   "cell_type": "markdown",
   "metadata": {},
   "source": [
    "## 感谢🙏您能有耐心看到这里\n",
    "## 如果有什么问题可以加阿布的微信 \n",
    "## 微信号：aaaabbbuu"
   ]
  },
  {
   "cell_type": "markdown",
   "metadata": {},
   "source": [
    "![image](./mmexport1475383814280.jpg)"
   ]
  },
  {
   "cell_type": "code",
   "execution_count": null,
   "metadata": {
    "collapsed": true
   },
   "outputs": [],
   "source": []
  }
 ],
 "metadata": {
  "anaconda-cloud": {},
  "kernelspec": {
   "display_name": "Python [Root]",
   "language": "python",
   "name": "Python [Root]"
  },
  "language_info": {
   "codemirror_mode": {
    "name": "ipython",
    "version": 2
   },
   "file_extension": ".py",
   "mimetype": "text/x-python",
   "name": "python",
   "nbconvert_exporter": "python",
   "pygments_lexer": "ipython2",
   "version": "2.7.12"
  }
 },
 "nbformat": 4,
 "nbformat_minor": 0
}
