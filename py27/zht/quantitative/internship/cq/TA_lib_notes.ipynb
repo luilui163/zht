{
 "cells": [
  {
   "cell_type": "code",
   "execution_count": 9,
   "metadata": {
    "collapsed": true
   },
   "outputs": [],
   "source": [
    "import talib\n",
    "import numpy as np"
   ]
  },
  {
   "cell_type": "code",
   "execution_count": 10,
   "metadata": {
    "collapsed": false
   },
   "outputs": [
    {
     "data": {
      "text/plain": [
       "<function talib.func.OBV>"
      ]
     },
     "execution_count": 10,
     "metadata": {},
     "output_type": "execute_result"
    }
   ],
   "source": [
    "talib.OBV"
   ]
  },
  {
   "cell_type": "code",
   "execution_count": 11,
   "metadata": {
    "collapsed": false
   },
   "outputs": [],
   "source": [
    "close=np.random.random(100)"
   ]
  },
  {
   "cell_type": "code",
   "execution_count": 16,
   "metadata": {
    "collapsed": false
   },
   "outputs": [
    {
     "data": {
      "text/plain": [
       "array([ 0.55876013,  0.00126832,  0.4978494 ,  0.59439308,  0.10154177,\n",
       "        0.92626303,  0.18744635,  0.69078236,  0.85722855,  0.68208829,\n",
       "        0.16941176,  0.51965683,  0.28186486,  0.12505891,  0.68827631,\n",
       "        0.6011077 ,  0.07025765,  0.9795006 ,  0.23340434,  0.2831496 ,\n",
       "        0.07777555,  0.23110861,  0.22327155,  0.80705431,  0.05762355,\n",
       "        0.11650554,  0.59458492,  0.32165983,  0.75139654,  0.64530582,\n",
       "        0.91129207,  0.99953491,  0.59598953,  0.68280366,  0.02106399,\n",
       "        0.49099918,  0.18729131,  0.64459888,  0.12666675,  0.32793221,\n",
       "        0.00824002,  0.40551213,  0.44943169,  0.88149749,  0.8589328 ,\n",
       "        0.85180998,  0.25440023,  0.43801388,  0.45492225,  0.24773724,\n",
       "        0.70038193,  0.47191953,  0.06258052,  0.39235998,  0.29113374,\n",
       "        0.96126428,  0.52083275,  0.78361163,  0.81361593,  0.77408728,\n",
       "        0.98937566,  0.82875323,  0.70302996,  0.21958733,  0.18293047,\n",
       "        0.72063311,  0.51466132,  0.82942816,  0.96181386,  0.58118806,\n",
       "        0.21210789,  0.40119449,  0.77984827,  0.03053014,  0.78381836,\n",
       "        0.85693771,  0.9050819 ,  0.31956631,  0.86792517,  0.04481257,\n",
       "        0.27006538,  0.4450835 ,  0.02539741,  0.71331475,  0.16873482,\n",
       "        0.34777328,  0.48855567,  0.10413583,  0.10010838,  0.20016265,\n",
       "        0.19196282,  0.77052115,  0.4963776 ,  0.03910852,  0.2106406 ,\n",
       "        0.60931806,  0.1002577 ,  0.08597324,  0.94894476,  0.77293897])"
      ]
     },
     "execution_count": 16,
     "metadata": {},
     "output_type": "execute_result"
    }
   ],
   "source": [
    "close"
   ]
  },
  {
   "cell_type": "code",
   "execution_count": 14,
   "metadata": {
    "collapsed": true
   },
   "outputs": [],
   "source": [
    "output=talib.SMA(close)"
   ]
  },
  {
   "cell_type": "code",
   "execution_count": 15,
   "metadata": {
    "collapsed": false
   },
   "outputs": [
    {
     "data": {
      "text/plain": [
       "array([        nan,         nan,         nan,         nan,         nan,\n",
       "               nan,         nan,         nan,         nan,         nan,\n",
       "               nan,         nan,         nan,         nan,         nan,\n",
       "               nan,         nan,         nan,         nan,         nan,\n",
       "               nan,         nan,         nan,         nan,         nan,\n",
       "               nan,         nan,         nan,         nan,  0.42918654,\n",
       "        0.4409376 ,  0.47421315,  0.47748449,  0.48043151,  0.47774892,\n",
       "        0.46324012,  0.46323495,  0.46169551,  0.43734344,  0.42553824,\n",
       "        0.42016585,  0.41636103,  0.42194659,  0.44716121,  0.45284976,\n",
       "        0.4612065 ,  0.46734459,  0.44929503,  0.45667896,  0.45549855,\n",
       "        0.47625209,  0.48427912,  0.47892276,  0.46509961,  0.47288328,\n",
       "        0.50104191,  0.4985835 ,  0.5139819 ,  0.51605588,  0.52034859,\n",
       "        0.52295138,  0.51725866,  0.52082667,  0.50538613,  0.51078167,\n",
       "        0.51843614,  0.52934847,  0.53550945,  0.56334769,  0.57178955,\n",
       "        0.57858514,  0.57844122,  0.58945511,  0.56108953,  0.55858571,\n",
       "        0.55875664,  0.58044603,  0.57649778,  0.59026454,  0.58350038,\n",
       "        0.5691565 ,  0.56826196,  0.56702253,  0.57772102,  0.57364106,\n",
       "        0.55319136,  0.55211545,  0.52946626,  0.50568267,  0.48655185,\n",
       "        0.45997143,  0.45803036,  0.45114194,  0.44512598,  0.44604966,\n",
       "        0.44233915,  0.4285257 ,  0.40374387,  0.4033149 ,  0.4097066 ])"
      ]
     },
     "execution_count": 15,
     "metadata": {},
     "output_type": "execute_result"
    }
   ],
   "source": [
    "output"
   ]
  },
  {
   "cell_type": "code",
   "execution_count": null,
   "metadata": {
    "collapsed": true
   },
   "outputs": [],
   "source": [
    "from talib import MA_Type\n",
    "upper,middle,lower=talib.BBANDS(close,matype=)"
   ]
  }
 ],
 "metadata": {
  "kernelspec": {
   "display_name": "Python 2",
   "language": "python",
   "name": "python2"
  },
  "language_info": {
   "codemirror_mode": {
    "name": "ipython",
    "version": 2
   },
   "file_extension": ".py",
   "mimetype": "text/x-python",
   "name": "python",
   "nbconvert_exporter": "python",
   "pygments_lexer": "ipython2",
   "version": "2.7.10"
  }
 },
 "nbformat": 4,
 "nbformat_minor": 0
}
