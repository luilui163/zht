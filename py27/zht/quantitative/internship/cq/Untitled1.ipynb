{
 "cells": [
  {
   "cell_type": "code",
   "execution_count": 14,
   "metadata": {
    "collapsed": true
   },
   "outputs": [],
   "source": [
    "import re\n",
    "from BeautifulSoup import BeautifulSoup\n",
    "import urllib\n",
    "import urllib2\n",
    "import requests\n",
    "import os\n",
    "import json"
   ]
  },
  {
   "cell_type": "code",
   "execution_count": 2,
   "metadata": {
    "collapsed": false
   },
   "outputs": [
    {
     "name": "stdout",
     "output_type": "stream",
     "text": [
      "3D打印概念股 http://stock.jrj.com.cn/concept/conceptdetail/conceptDetail_3ddy.shtml\n",
      "3D眼镜概念股 http://stock.jrj.com.cn/concept/conceptdetail/conceptDetail_3dyj.shtml\n",
      "3G概念股 http://stock.jrj.com.cn/concept/conceptdetail/conceptDetail_3g.shtml\n",
      "4G概念股 http://stock.jrj.com.cn/concept/conceptdetail/conceptDetail_4gtxjs.shtml\n",
      "5G概念股 http://stock.jrj.com.cn/concept/conceptdetail/conceptDetail_5g.shtml\n",
      "安防概念股 http://stock.jrj.com.cn/concept/conceptdetail/conceptDetail_af.shtml\n",
      "AMC概念股 http://stock.jrj.com.cn/concept/conceptdetail/conceptDetail_amc.shtml\n",
      "百草枯概念股 http://stock.jrj.com.cn/concept/conceptdetail/conceptDetail_bck.shtml\n",
      "北斗导航概念股 http://stock.jrj.com.cn/concept/conceptdetail/conceptDetail_bddh.shtml\n",
      "白酒概念股 http://stock.jrj.com.cn/concept/conceptdetail/conceptDetail_bj.shtml\n",
      "保险概念股 http://stock.jrj.com.cn/concept/conceptdetail/conceptDetail_bx.shtml\n",
      "白银概念股 http://stock.jrj.com.cn/concept/conceptdetail/conceptDetail_by.shtml\n",
      "超导概念股 http://stock.jrj.com.cn/concept/conceptdetail/conceptDetail_cdcl.shtml\n",
      "充电桩概念股 http://stock.jrj.com.cn/concept/conceptdetail/conceptDetail_cdz.shtml\n",
      "参股保险概念股 http://stock.jrj.com.cn/concept/conceptdetail/conceptDetail_cgbx.shtml\n",
      "参股基金概念股 http://stock.jrj.com.cn/concept/conceptdetail/conceptDetail_cgjj.shtml\n",
      "参股期货概念股 http://stock.jrj.com.cn/concept/conceptdetail/conceptDetail_cgqh.shtml\n",
      "参股券商概念股 http://stock.jrj.com.cn/concept/conceptdetail/conceptDetail_cgqs.shtml\n",
      "参股银行概念股 http://stock.jrj.com.cn/concept/conceptdetail/conceptDetail_cgyh.shtml\n",
      "草甘膦概念股 http://stock.jrj.com.cn/concept/conceptdetail/conceptDetail_cgz.shtml\n",
      "车联网概念股 http://stock.jrj.com.cn/concept/conceptdetail/conceptDetail_clw.shtml\n",
      "彩票概念股 http://stock.jrj.com.cn/concept/conceptdetail/conceptDetail_cp.shtml\n",
      "创投概念股 http://stock.jrj.com.cn/concept/conceptdetail/conceptDetail_ct.shtml\n",
      "成渝特区概念股 http://stock.jrj.com.cn/concept/conceptdetail/conceptDetail_cytq.shtml\n",
      "冬奥会概念股 http://stock.jrj.com.cn/concept/conceptdetail/conceptDetail_dah.shtml\n",
      "大数据概念股 http://stock.jrj.com.cn/concept/conceptdetail/conceptDetail_ddsj.shtml\n",
      "大飞机概念股 http://stock.jrj.com.cn/concept/conceptdetail/conceptDetail_dfj.shtml\n",
      "低空飞行概念股 http://stock.jrj.com.cn/concept/conceptdetail/conceptDetail_dkfx.shtml\n",
      "电力行业概念股 http://stock.jrj.com.cn/concept/conceptdetail/conceptDetail_dlxy.shtml\n",
      "地热能概念股 http://stock.jrj.com.cn/concept/conceptdetail/conceptDetail_drn.shtml\n",
      "电商概念股 http://stock.jrj.com.cn/concept/conceptdetail/conceptDetail_ds7.shtml\n",
      "迪士尼概念股 http://stock.jrj.com.cn/concept/conceptdetail/conceptDetail_dsn.shtml\n",
      "电子烟概念股 http://stock.jrj.com.cn/concept/conceptdetail/conceptDetail_dzy.shtml\n",
      "二胎概念股 http://stock.jrj.com.cn/concept/conceptdetail/conceptDetail_et.shtml\n",
      "钒电池概念股 http://stock.jrj.com.cn/concept/conceptdetail/conceptDetail_fdc.shtml\n",
      "氟化工概念股 http://stock.jrj.com.cn/concept/conceptdetail/conceptDetail_fhg.shtml\n",
      "福建自贸区概念股 http://stock.jrj.com.cn/concept/conceptdetail/conceptDetail_fjzmq.shtml\n",
      "风能概念股 http://stock.jrj.com.cn/concept/conceptdetail/conceptDetail_fn.shtml\n",
      "废气治理概念股 http://stock.jrj.com.cn/concept/conceptdetail/conceptDetail_fqzl.shtml\n",
      "分散染料概念股 http://stock.jrj.com.cn/concept/conceptdetail/conceptDetail_fsrl.shtml\n",
      "广东国资改革概念股 http://stock.jrj.com.cn/concept/conceptdetail/conceptDetail_gdgzgg.shtml\n",
      "光伏概念股 http://stock.jrj.com.cn/concept/conceptdetail/conceptDetail_gf.shtml\n",
      "固废处理概念股 http://stock.jrj.com.cn/concept/conceptdetail/conceptDetail_gfcl2.shtml\n",
      "港口水运概念股 http://stock.jrj.com.cn/concept/conceptdetail/conceptDetail_gksy.shtml\n",
      "钢铁概念股 http://stock.jrj.com.cn/concept/conceptdetail/conceptDetail_gt.shtml\n",
      "工业4.0概念股 http://stock.jrj.com.cn/concept/conceptdetail/conceptDetail_gy400.shtml\n",
      "核电概念股 http://stock.jrj.com.cn/concept/conceptdetail/conceptDetail_hd.shtml\n",
      "黄金概念股 http://stock.jrj.com.cn/concept/conceptdetail/conceptDetail_hj5.shtml\n",
      "航空概念股 http://stock.jrj.com.cn/concept/conceptdetail/conceptDetail_hk.shtml\n",
      "互联网金融概念股 http://stock.jrj.com.cn/concept/conceptdetail/conceptDetail_hlwjr.shtml\n",
      "航运概念股 http://stock.jrj.com.cn/concept/conceptdetail/conceptDetail_hy.shtml\n",
      "IP概念股 http://stock.jrj.com.cn/concept/conceptdetail/conceptDetail_ip.shtml\n",
      "集成电路概念股 http://stock.jrj.com.cn/concept/conceptdetail/conceptDetail_jcdl.shtml\n",
      "军工概念股 http://stock.jrj.com.cn/concept/conceptdetail/conceptDetail_jg.shtml\n",
      "金改概念股 http://stock.jrj.com.cn/concept/conceptdetail/conceptDetail_jgg.shtml\n",
      "京津冀一体化概念股 http://stock.jrj.com.cn/concept/conceptdetail/conceptDetail_jjjyth.shtml\n",
      "健康中国概念股 http://stock.jrj.com.cn/concept/conceptdetail/conceptDetail_jkzg.shtml\n",
      "节能环保概念股 http://stock.jrj.com.cn/concept/conceptdetail/conceptDetail_jnhb.shtml\n",
      "举牌概念股 http://stock.jrj.com.cn/concept/conceptdetail/conceptDetail_jp.shtml\n",
      "金融IC卡概念股 http://stock.jrj.com.cn/concept/conceptdetail/conceptDetail_jric.shtml\n",
      "金融软件概念股 http://stock.jrj.com.cn/concept/conceptdetail/conceptDetail_jrrj.shtml\n",
      "基因测序概念股 http://stock.jrj.com.cn/concept/conceptdetail/conceptDetail_jycx.shtml\n",
      "抗癌概念股 http://stock.jrj.com.cn/concept/conceptdetail/conceptDetail_ka.shtml\n",
      "跨境电商概念股 http://stock.jrj.com.cn/concept/conceptdetail/conceptDetail_kjds.shtml\n",
      "壳资源概念股 http://stock.jrj.com.cn/concept/conceptdetail/conceptDetail_kzy.shtml\n",
      "铝概念股 http://stock.jrj.com.cn/concept/conceptdetail/conceptDetail_l.shtml\n",
      "蓝宝石概念股 http://stock.jrj.com.cn/concept/conceptdetail/conceptDetail_lbs.shtml\n",
      "锂电池概念股 http://stock.jrj.com.cn/concept/conceptdetail/conceptDetail_ldc.shtml\n",
      "LED照明概念股 http://stock.jrj.com.cn/concept/conceptdetail/conceptDetail_ledzm.shtml\n",
      "磷化工概念股 http://stock.jrj.com.cn/concept/conceptdetail/conceptDetail_lhg.shtml\n",
      "冷链概念股 http://stock.jrj.com.cn/concept/conceptdetail/conceptDetail_ll.shtml\n",
      "林权流转概念股 http://stock.jrj.com.cn/concept/conceptdetail/conceptDetail_lqlz.shtml\n",
      "铝塑膜概念股 http://stock.jrj.com.cn/concept/conceptdetail/conceptDetail_lsm.shtml\n",
      "旅游概念股 http://stock.jrj.com.cn/concept/conceptdetail/conceptDetail_ly.shtml\n",
      "裸眼3D概念股 http://stock.jrj.com.cn/concept/conceptdetail/conceptDetail_ly3d.shtml\n",
      "量子信息概念股 http://stock.jrj.com.cn/concept/conceptdetail/conceptDetail_lzxx.shtml\n",
      "美丽中国概念股 http://stock.jrj.com.cn/concept/conceptdetail/conceptDetail_mlzg.shtml\n",
      "煤炭概念股 http://stock.jrj.com.cn/concept/conceptdetail/conceptDetail_mt.shtml\n",
      "民营银行概念股 http://stock.jrj.com.cn/concept/conceptdetail/conceptDetail_myyh.shtml\n",
      "民营医院概念股 http://stock.jrj.com.cn/concept/conceptdetail/conceptDetail_myyl.shtml\n",
      "镍概念股 http://stock.jrj.com.cn/concept/conceptdetail/conceptDetail_n.shtml\n",
      "农垦改革概念股 http://stock.jrj.com.cn/concept/conceptdetail/conceptDetail_nkgg.shtml\n",
      "能源互联网概念股 http://stock.jrj.com.cn/concept/conceptdetail/conceptDetail_nyhlw.shtml\n",
      "农资电商概念股 http://stock.jrj.com.cn/concept/conceptdetail/conceptDetail_nzds.shtml\n",
      "P2P概念股 http://stock.jrj.com.cn/concept/conceptdetail/conceptDetail_p2p.shtml\n",
      "浦东国资改革概念股 http://stock.jrj.com.cn/concept/conceptdetail/conceptDetail_pdgzgg.shtml\n",
      "啤酒概念股 http://stock.jrj.com.cn/concept/conceptdetail/conceptDetail_pj.shtml\n",
      "PTA概念股 http://stock.jrj.com.cn/concept/conceptdetail/conceptDetail_pta.shtml\n",
      "区块链概念股 http://stock.jrj.com.cn/concept/conceptdetail/conceptDetail_qkl.shtml\n",
      "券商概念股 http://stock.jrj.com.cn/concept/conceptdetail/conceptDetail_qs.shtml\n",
      "全息手机概念股 http://stock.jrj.com.cn/concept/conceptdetail/conceptDetail_qxsj.shtml\n",
      "人工智能概念股 http://stock.jrj.com.cn/concept/conceptdetail/conceptDetail_rgzn.shtml\n",
      "燃料电池概念股 http://stock.jrj.com.cn/concept/conceptdetail/conceptDetail_rldc.shtml\n",
      "人脸识别概念股 http://stock.jrj.com.cn/concept/conceptdetail/conceptDetail_rlsb.shtml\n",
      "人脑工程概念股 http://stock.jrj.com.cn/concept/conceptdetail/conceptDetail_rngc.shtml\n",
      "柔性电路概念股 http://stock.jrj.com.cn/concept/conceptdetail/conceptDetail_rxdl.shtml\n",
      "乳制品概念股 http://stock.jrj.com.cn/concept/conceptdetail/conceptDetail_rzp2.shtml\n",
      "深圳国资改革概念股 http://stock.jrj.com.cn/concept/conceptdetail/conceptDetail_s0gzgg.shtml\n",
      "上海国资改革概念股 http://stock.jrj.com.cn/concept/conceptdetail/conceptDetail_shgzgg.shtml\n",
      "上海自贸区概念股 http://stock.jrj.com.cn/concept/conceptdetail/conceptDetail_shzmq.shtml\n",
      "水利工程概念股 http://stock.jrj.com.cn/concept/conceptdetail/conceptDetail_slgc.shtml\n",
      "石墨烯概念股 http://stock.jrj.com.cn/concept/conceptdetail/conceptDetail_smx.shtml\n",
      "食品安全检测概念股 http://stock.jrj.com.cn/concept/conceptdetail/conceptDetail_spaqjc.shtml\n",
      "三沙概念股 http://stock.jrj.com.cn/concept/conceptdetail/conceptDetail_ss.shtml\n",
      "十三五规划概念股 http://stock.jrj.com.cn/concept/conceptdetail/conceptDetail_sswgh.shtml\n",
      "三网融合概念股 http://stock.jrj.com.cn/concept/conceptdetail/conceptDetail_swrh.shtml\n",
      "手游概念股 http://stock.jrj.com.cn/concept/conceptdetail/conceptDetail_sy.shtml\n",
      "商业百货概念股 http://stock.jrj.com.cn/concept/conceptdetail/conceptDetail_sybh.shtml\n",
      "水域改革概念股 http://stock.jrj.com.cn/concept/conceptdetail/conceptDetail_sygg.shtml\n",
      "数字营销概念股 http://stock.jrj.com.cn/concept/conceptdetail/conceptDetail_szyx.shtml\n",
      "铜概念股 http://stock.jrj.com.cn/concept/conceptdetail/conceptDetail_t.shtml\n",
      "钛白粉概念股 http://stock.jrj.com.cn/concept/conceptdetail/conceptDetail_tbf.shtml\n",
      "土地流转概念股 http://stock.jrj.com.cn/concept/conceptdetail/conceptDetail_tdlz.shtml\n",
      "特高压概念股 http://stock.jrj.com.cn/concept/conceptdetail/conceptDetail_tgy.shtml\n",
      "天津自贸区概念股 http://stock.jrj.com.cn/concept/conceptdetail/conceptDetail_tjzmq.shtml\n",
      "糖类概念股 http://stock.jrj.com.cn/concept/conceptdetail/conceptDetail_tl.shtml\n",
      "铁路基建概念股 http://stock.jrj.com.cn/concept/conceptdetail/conceptDetail_tljj.shtml\n",
      "天然气概念股 http://stock.jrj.com.cn/concept/conceptdetail/conceptDetail_trq.shtml\n",
      "土壤治理概念股 http://stock.jrj.com.cn/concept/conceptdetail/conceptDetail_trzl.shtml\n",
      "特斯拉概念股 http://stock.jrj.com.cn/concept/conceptdetail/conceptDetail_tsl.shtml\n",
      "体育概念股 http://stock.jrj.com.cn/concept/conceptdetail/conceptDetail_ty.shtml\n",
      "网红概念股 http://stock.jrj.com.cn/concept/conceptdetail/conceptDetail_wh.shtml\n",
      "文化传媒概念股 http://stock.jrj.com.cn/concept/conceptdetail/conceptDetail_whcm.shtml\n",
      "玩具制造概念股 http://stock.jrj.com.cn/concept/conceptdetail/conceptDetail_wjzz.shtml\n",
      "网络安全概念股 http://stock.jrj.com.cn/concept/conceptdetail/conceptDetail_wlaq2.shtml\n",
      "物联网概念股 http://stock.jrj.com.cn/concept/conceptdetail/conceptDetail_wlw.shtml\n",
      "网络游戏概念股 http://stock.jrj.com.cn/concept/conceptdetail/conceptDetail_wlyx.shtml\n",
      "无人机概念股 http://stock.jrj.com.cn/concept/conceptdetail/conceptDetail_wrj.shtml\n",
      "无人驾驶概念股 http://stock.jrj.com.cn/concept/conceptdetail/conceptDetail_wrjs.shtml\n",
      "污水处理概念股 http://stock.jrj.com.cn/concept/conceptdetail/conceptDetail_wscl2.shtml\n",
      "维生素概念股 http://stock.jrj.com.cn/concept/conceptdetail/conceptDetail_wss.shtml\n",
      "梧桐树概念股 http://stock.jrj.com.cn/concept/conceptdetail/conceptDetail_wts.shtml\n",
      "细胞免疫概念股 http://stock.jrj.com.cn/concept/conceptdetail/conceptDetail_xbmy.shtml\n",
      "西藏概念股 http://stock.jrj.com.cn/concept/conceptdetail/conceptDetail_xc.shtml\n",
      "现代农机概念股 http://stock.jrj.com.cn/concept/conceptdetail/conceptDetail_xdnj.shtml\n",
      "消费金融概念股 http://stock.jrj.com.cn/concept/conceptdetail/conceptDetail_xfjr.shtml\n",
      "新疆概念股 http://stock.jrj.com.cn/concept/conceptdetail/conceptDetail_xj2.shtml\n",
      "虚拟现实概念股 http://stock.jrj.com.cn/concept/conceptdetail/conceptDetail_xnxs.shtml\n",
      "新能源汽车概念股 http://stock.jrj.com.cn/concept/conceptdetail/conceptDetail_xnyqc.shtml\n",
      "新三板概念股 http://stock.jrj.com.cn/concept/conceptdetail/conceptDetail_xsb.shtml\n",
      "稀土永磁概念股 http://stock.jrj.com.cn/concept/conceptdetail/conceptDetail_xtyc.shtml\n",
      "移动医疗概念股 http://stock.jrj.com.cn/concept/conceptdetail/conceptDetail_ydyl.shtml\n",
      "一带一路概念股 http://stock.jrj.com.cn/concept/conceptdetail/conceptDetail_ydyl2.shtml\n",
      "移动支付概念股 http://stock.jrj.com.cn/concept/conceptdetail/conceptDetail_ydzf.shtml\n",
      "移动转售概念股 http://stock.jrj.com.cn/concept/conceptdetail/conceptDetail_ydzs.shtml\n",
      "依法治国概念股 http://stock.jrj.com.cn/concept/conceptdetail/conceptDetail_yfzg.shtml\n",
      "乙肝疫苗概念股 http://stock.jrj.com.cn/concept/conceptdetail/conceptDetail_ygym.shtml\n",
      "云计算概念股 http://stock.jrj.com.cn/concept/conceptdetail/conceptDetail_yjs.shtml\n",
      "养老概念股 http://stock.jrj.com.cn/concept/conceptdetail/conceptDetail_ylcy.shtml\n",
      "油气改革概念股 http://stock.jrj.com.cn/concept/conceptdetail/conceptDetail_yqgg.shtml\n",
      "央企四项改革概念股 http://stock.jrj.com.cn/concept/conceptdetail/conceptDetail_yqsxgg.shtml\n",
      "有色金属概念股 http://stock.jrj.com.cn/concept/conceptdetail/conceptDetail_ysjs.shtml\n",
      "液态金属概念股 http://stock.jrj.com.cn/concept/conceptdetail/conceptDetail_ytjs.shtml\n",
      "银行概念股 http://stock.jrj.com.cn/concept/conceptdetail/conceptDetail_yx.shtml\n",
      "医药概念股 http://stock.jrj.com.cn/concept/conceptdetail/conceptDetail_yy.shtml\n",
      "盐业改革概念股 http://stock.jrj.com.cn/concept/conceptdetail/conceptDetail_yygg.shtml\n",
      "页岩气概念股 http://stock.jrj.com.cn/concept/conceptdetail/conceptDetail_yyq.shtml\n",
      "中报高送转概念股 http://stock.jrj.com.cn/concept/conceptdetail/conceptDetail_zbgsz.shtml\n",
      "中电投系概念股 http://stock.jrj.com.cn/concept/conceptdetail/conceptDetail_zdtx.shtml\n",
      "中国电子集团概念股 http://stock.jrj.com.cn/concept/conceptdetail/conceptDetail_zgdzjt.shtml\n",
      "智慧城市概念股 http://stock.jrj.com.cn/concept/conceptdetail/conceptDetail_zhcs.shtml\n",
      "中航系概念股 http://stock.jrj.com.cn/concept/conceptdetail/conceptDetail_zhx.shtml\n",
      "中韩自贸概念股 http://stock.jrj.com.cn/concept/conceptdetail/conceptDetail_zhzm.shtml\n",
      "证金汇金概念股 http://stock.jrj.com.cn/concept/conceptdetail/conceptDetail_zjhj.shtml\n",
      "中粮系概念股 http://stock.jrj.com.cn/concept/conceptdetail/conceptDetail_zlx.shtml\n",
      "智能穿戴概念股 http://stock.jrj.com.cn/concept/conceptdetail/conceptDetail_zncd.shtml\n",
      "智能电视概念股 http://stock.jrj.com.cn/concept/conceptdetail/conceptDetail_znds.shtml\n",
      "智能家居概念股 http://stock.jrj.com.cn/concept/conceptdetail/conceptDetail_znjj.shtml\n",
      "智能物流概念股 http://stock.jrj.com.cn/concept/conceptdetail/conceptDetail_znwl.shtml\n",
      "猪肉概念股 http://stock.jrj.com.cn/concept/conceptdetail/conceptDetail_zr.shtml\n",
      "振兴东北概念股 http://stock.jrj.com.cn/concept/conceptdetail/conceptDetail_zxdb.shtml\n",
      "在线教育概念股 http://stock.jrj.com.cn/concept/conceptdetail/conceptDetail_zxjy.shtml\n",
      "在线旅游概念股 http://stock.jrj.com.cn/concept/conceptdetail/conceptDetail_zxly.shtml\n",
      "债转股概念股 http://stock.jrj.com.cn/concept/conceptdetail/conceptDetail_zzg.shtml\n"
     ]
    }
   ],
   "source": [
    "def get_href():\n",
    "    url='http://stock.jrj.com.cn/concept/conceptpage.shtml'\n",
    "    res=urllib2.urlopen(url)\n",
    "    html=res.read()\n",
    "    #print html\n",
    "    soup=BeautifulSoup(html)\n",
    "    soup_p=soup.findAll('p','class'=='jrj-clear')\n",
    "    category=[]\n",
    "    href=[]\n",
    "    for i in range(1,len(soup_p)):\n",
    "        for j in range(len(soup_p[i]('a'))):\n",
    "            category.append(soup_p[i]('a')[j].string)\n",
    "            href.append(soup_p[i]('a')[j]['href'])\n",
    "            print soup_p[i]('a')[j].string,soup_p[i]('a')[j]['href']\n",
    "    \n",
    "    return category,href\n",
    "\n",
    "category,href=get_href()"
   ]
  },
  {
   "cell_type": "code",
   "execution_count": null,
   "metadata": {
    "collapsed": true
   },
   "outputs": [],
   "source": []
  },
  {
   "cell_type": "code",
   "execution_count": 58,
   "metadata": {
    "collapsed": false
   },
   "outputs": [
    {
     "name": "stdout",
     "output_type": "stream",
     "text": [
      "var conceptstockdata={\n",
      "\"Summary\":{\"conceptcode\":\"af\",\"stocksize\":22},\n",
      "\"Column\":{\"stockcode\":0,\"stockname\":1,\"reason\":2,\"belongconcept\":3,\"conceptcode\":0,\"conceptname\":1},\n",
      "\"stockData\":[[\"002214\",\"�����Ƽ�\",\"��˾�ǹ��ڽ�����º����������з���������ҵ���ǹ��ڹ�ģ����ۺ�ʵ����ǿ���ú�����������������֮һ�������ȳ������ڰ�ȫ����ϵͳ�еõ��˹㷺Ӧ�á�\",\n",
      "[[\"af\",\"����\"]]],[\"002236\",\"�󻪹ɷ�\",\"��˾��רҵ���°�����Ƶ��ز�Ʒ���з������������۵ĸ��¼�����ҵ��ͬʱ��˾Ҳ���ҹ�������Ƶ�����ҵ��׼�Ĳ������붨���ߣ��������ҹ�������Ƶ�����ҵ��չ����ͷ��ҵ��\",\n",
      "[[\"af\",\"����\"],[\"ddsj\",\"������\"],[\"yjs\",\"�Ƽ���\"]]],[\"002298\",\"�е�����\",\"17.25��Ԫ�չ��е��˷������������빫����ȫ����ͨ���е��˷�����˾�����¶���뷴�ּ�������ȫ��صĶ���������ҵ����ŵ���е��˷�2015��ȡ�2016���ʵ�ֵĿ۳��Ǿ����������ľ��������ֱ𲻵���1.15��Ԫ��1.38��Ԫ��һ������������1250%��Ԥ���ϰ��꾻����������7��\",\n",
      "[[\"af\",\"����\"],[\"xnxs\",\"������ʵ\"]]],[\"002414\",\"�ߵº���\",\"�����ȳ�����ͷ����˾�ǹ��ڹ�ģ���ļ��⡢�����硢�˹�����ͼ��������λһ��ĺ�������ϵͳ�������̣���ȫ������Ժ��������������������ģ���Ʒ�㷺���ں���½���ո����ֵľ�����������װ���Լ�������ҽ�ơ���������ͨ����������\",\n",
      "[[\"af\",\"����\"],[\"wrj\",\"���˻�\"]]],[\"002415\",\"��������\",\"���ڰ�����Ƶ�����ͷ�����ݹ���Ȩ���������IMS�����ġ�ȫ��CCTV����Ƶ����豸�г����鱨�桷��ʾ����������DVR��Ʒ��������ȫ���г�ռ���ʵ�һλ�á�\",\n",
      "[[\"af\",\"����\"],[\"zhcs\",\"�ǻ۳���\"]]],[\"002528\",\"Ӣ����\",\"�߶˰�����Ʒ���ȹ�Ӧ�̣���˾�ǹ���Ϊ������ĸ߶˰�����Ʒ��Ӧ��֮һ������Ҫ��Ʒ����Ϊǰ�������Ƶ���ϵͳ���������Ʒ������ڿ��Ʋ�Ʒ��\",\n",
      "[[\"af\",\"����\"],[\"znjj\",\"���ܼҾ�\"]]],[\"002609\",\"��˳�Ƽ�\",\"��Ӫ�����豸�����������Ž�����ϵͳ������ͣ��������ϵͳ������ͨ��բ����ϵͳ�����ܰ����豸\",\n",
      "[[\"af\",\"����\"],[\"clw\",\"������\"],[\"wlaq2\",\"���簲ȫ\"]]],[\"300074\",\"��ƽ�ɷ�\",\"��˾����Ƶ���ϵͳ��ʵ�ָ���ʵ�ʻ�������Ƶ�������ĸ�����Ϊ���Զ�ʶ�𡢷����뱨�����¼����Զ�����������������Ƶ���ϵͳ��������Ƶ����ϵͳ��ʵ�ָ���ʵ�ʻ�������Ƶ�������ĸ�����Ϊ���Զ�ʶ�𡢷����뱨�����¼����Զ�����������\",\n",
      "[[\"af\",\"����\"],[\"ddsj\",\"������\"],[\"zhcs\",\"�ǻ۳���\"],[\"zxjy\",\"���߽���\"]]],[\"300076\",\"GQY��Ѷ\",\"3Dƴ����ϵͳ��ϸ����������������ʵ��ȫ����ĸ��������ֳ���ء�Զ�̴��䣬�������ʵʱԶ�������صĿհף����㷺Ӧ���ھ����侯ָ�Ӿ��ݡ������߷�ʵʱ��ء�����ˮ�����Ԥ������·��ͨȫ����ʾ���Լ��񺽹����Ӫָ�ӡ�����ң��ʵ���������ҽ�ơ��������������\",\n",
      "[[\"af\",\"����\"],[\"rgzn\",\"�˹�����\"]]],[\"300078\",\"����˼��\",\"��Ӫ������Ʒ����˾���ڰ�����ҵ�е�EAS��Ʒ��Ӧ�̣���Ӫҵ��ΪEAS��Ʒ���з������������ۣ�EAS��Ʒ�Ƿ��������豸��һ�֣���Ҫ��ƷΪ����Ӳ��ǩ����Ƶ���ǩ���������ǩ�ȸ�����Ʒ������ǩ�Ϳ���������������������������豸��\",\n",
      "[[\"af\",\"����\"]]],[\"300098\",\"������\",\"��Ƶ����ۺϹ���ƽ̨��12.88���չ��������ӡ������Ƽ������������ǹ������ȵ���·�г���ȫϵͳ����Ʒ�ͽ�������ṩ�̡����Ƽ��ǹ������ȵ����ݰ�ȫ��Ʒ����������ṩ�̺�������\",\n",
      "[[\"af\",\"����\"],[\"rgzn\",\"�˹�����\"],[\"xnxs\",\"������ʵ\"],[\"zbgsz\",\"�б�����ת\"],[\"znjj\",\"���ܼҾ�\"]]],[\"300101\",\"��о�Ƽ�\",\"��Ƶ����������򣺹�˾�ѳе��˹�����Ƶ/ͼ���������Ʒ50%���ϵ����ƿ�������ʵ���������ǡ��ɻ����״������������ҵ��Ӧ�á������������ҵͬ���Ʒ��ȣ���˾�Ĳ�Ʒ�ɿ��Ըߡ���̬��Χ�󡢿���������ǿ����Ӧ�����ҹ��ǻ۳��н��衢������ء���ͨ������Ŀǰ���ڡ�����60�����족������ɽ������ϰ���������������ѧ���˶��ᡱ�ȴ��ͻ��ʵ��Ӧ�á�\",\n",
      "[[\"af\",\"����\"],[\"bddh\",\"��������\"],[\"zbgsz\",\"�б�����ת\"]]],[\"300155\",\"���ӱ�\",\"��˾�ǹ���¥��Խ���ҵ����ͷ��ҵ���ع��ӹ�˾�µϰ�������Ƶ��ء��Ž�������ȫ������ϵͳ�������豸������ϵͳ���ɷ���Ϊһ����ۺ��԰���������ҵ��\",\n",
      "[[\"af\",\"����\"],[\"zhcs\",\"�ǻ۳���\"],[\"znjj\",\"���ܼҾ�\"]]],[\"300188\",\"���ǰؿ�\",\"��˾�ǹ������ȵĵ�������ȡ֤�밲ȫ��Ʒ�������ṩ�̣���Ӫҵ�������������ȡ֤��Ʒ��������Ϣ��ȫ��Ʒ�����Ʒϵ��\",\n",
      "[[\"af\",\"����\"],[\"ddsj\",\"������\"],[\"wlaq2\",\"���簲ȫ\"],[\"yfzg\",\"�����ι�\"],[\"yjs\",\"�Ƽ���\"]]],[\"300270\",\"��������\",\"��Ӫ������Ƶ��ش��䣺��˾��Ӫ������Ƶ��ش��似������Ʒ���з������������ۣ��ǹ���������Ƶ���˴��似������Ŀ����ߺ������ߣ���Ҫ��ƷΪǶ�������������������������Ƶ��˻���VAR��ƽ̨�ȡ�\",\n",
      "[[\"af\",\"����\"],[\"ddsj\",\"������\"]]],[\"300275\",\"÷��ɭ\",\"��Ӫ����������Ʒ��ռӪҵ���볬��90%\",\n",
      "[[\"af\",\"����\"],[\"zhcs\",\"�ǻ۳���\"]]],[\"300367\",\"��������\",\"�������ȵĳ��м���Ƶ�����������ƽ̨��Ӧ�̣�2014�깫˾��Ƶ����ƽ̨�г�ռ����ȫ��������й���һ\",\n",
      "[[\"af\",\"����\"],[\"ddsj\",\"������\"],[\"rgzn\",\"�˹�����\"],[\"wlaq2\",\"���簲ȫ\"],[\"xnxs\",\"������ʵ\"],[\"zhcs\",\"�ǻ۳���\"]]],[\"300369\",\"���˿Ƽ�\",\"Ͷ��7.06��Ԫ�����ǻ۰�ȫ������ϵ������Ŀ��Ͷ��3.0&nbsp;��Ԫ���ڰ�ȫ���ݿ�ѧƽ̨������Ŀ������Ѷ���ش�ս�Ժ�������Ӫҵ��Ϣ��ȫ��Ʒ������5���չ�����ͨ����Ӫҵ��Ϊ���ݰ�ȫ���������ݰ�ȫ�����ǹ�������������ݰ�ȫ����ҵ�����ҵ֮һ\",\n",
      "[[\"af\",\"����\"],[\"ddsj\",\"������\"],[\"wlaq2\",\"���簲ȫ\"],[\"yjs\",\"�Ƽ���\"]]],[\"300448\",\"���ƿƼ�\",\"��Ҫ��Ʒ�������ڰ���ϵͳ�ͽ��ڰ����豸������ҵ�������������а����������а���Ϊ��������Ľ��ڰ�����ҵ�����������ṩ��\",\n",
      "[[\"af\",\"����\"]]],[\"600654\",\"�а���\",\"ԭ��˾Ϊ���ֹɷ�,�ⶨ���չ��а���100%��Ȩ��ת�Ͱ��������ۺ���ҵ���а������ܲ�λ�ڱ�����һ�Ҵ����ۺϰ���������ϵͳ��������Ӫ�����ṩ�̣���۰���������������ҵȫ��ҵ��������Դ��&nbsp;\",\n",
      "[[\"af\",\"����\"],[\"shgzgg\",\"�Ϻ����ʸĸ�\"]]],[\"600728\",\"�Ѷ��Ƽ�\",\"��˾ҵ���漰��ȫ��������ϵͳ��ơ�ʩ����ά�ޡ���Ӫҵ��Ϊ���ܰ��������ܻ��졢���缰�Ƽ����Ʒ���������ʶ��\",\n",
      "[[\"af\",\"����\"],[\"rgzn\",\"�˹�����\"],[\"rlsb\",\"����ʶ��\"]]],[\"600855\",\"���쳤��\",\"��˾����չ�����Ƽ�������Ƽ��԰����Ƽ�ϵͳ��ҵ��ĿΪ��Ӫҵ����Ҫ���������Ƽ�ϵͳ��Ŀ��ơ����ɽ���ͷ���ȣ������������������ڹ���ͬ��ҵ�д������ȵ�λ������ƽ�����н��衢�ǻ۳��н��衣\",\n",
      "[[\"af\",\"����\"],[\"jg\",\"����\"],[\"rngc\",\"���Թ���\"]]]]};\n"
     ]
    }
   ],
   "source": [
    "url='http://stock.jrj.com.cn/concept/conceptdetail/conceptStock_af.js'\n",
    "content=urllib.urlopen(url).read()#notice that urllib2 will raise HTTPError\n",
    "print content"
   ]
  },
  {
   "cell_type": "code",
   "execution_count": 59,
   "metadata": {
    "collapsed": false
   },
   "outputs": [
    {
     "name": "stdout",
     "output_type": "stream",
     "text": [
      "var conceptstockdata={\n",
      "\"Summary\":{\"conceptcode\":\"ss\",\"stocksize\":8},\n",
      "\"Column\":{\"stockcode\":0,\"stockname\":1,\"reason\":2,\"belongconcept\":3,\"conceptcode\":0,\"conceptname\":1},\n",
      "\"stockData\":[[\"000567\",\"���¹ɷ�\",\"��˾��Ӫ���ز������;Ƶ����2007���Ծ����չ�λ�ں����е��������ʴ�Ƶ�\",\n",
      "[[\"amc\",\"AMC\"],[\"ss\",\"��ɳ\"]]],[\"000735\",\"��ţɽ\",\"��˾����������ֳΪ���Ĵ��ͼ��ţ��ǹ���ũҵ��ҵ���ص���ͷ��ҵ������ʡ��ͷ��ҵ��˾���ҹ�ũҵ��ҵ����ϯ�����϶���ũҵ��ҵ�������ص���ͷ��ҵ\",\n",
      "[[\"nkgg\",\"ũ�Ѹĸ�\"],[\"ss\",\"��ɳ\"],[\"tdlz\",\"������ת\"],[\"zr\",\"����\"]]],[\"000886\",\"���ϸ���\",\"���ϸ������й���һ���ɷ��Ƹ��ٹ�·���ȴ��������θ��ٹ�·��¢������������ʡ���ν�ͨ��Դ�������ź��Ͼ��÷�չ���̻������е���¢����\",\n",
      "[[\"ss\",\"��ɳ\"]]],[\"002320\",\"��Ͽ�ɷ�\",\"��˾��Ҫ�����Ժ���ʡΪ���ĵ��Ϻ��͹�����ҵ��,һֱ�Ⱦ��ҹ��Ϻ��͹������г���λ�����ҹ�ˮ·�����ֱ�Ӻ�������淽\",\n",
      "[[\"gksy\",\"�ۿ�ˮ��\"],[\"ss\",\"��ɳ\"]]],[\"002596\",\"��������\",\"��˾�Ǻ�����Ʒ��������ͷ����������ɳ�������ٴ����Ļ����������˹��쵺��\",\n",
      "[[\"ss\",\"��ɳ\"]]],[\"600209\",\"�޶ٷ�չ\",\"��˾��Ҫ���¾Ƶ꾭Ӫ������װ�ι��̡���Ʒ��Ӫ�������豸��ͨ��ҵ����˾ӵ��λ�ں��ϲ���ˮ�Ǵ�����滮����Ȫ���ϵ�1821Ķ����ʹ��Ȩ\",\n",
      "[[\"ss\",\"��ɳ\"],[\"tdlz\",\"������ת\"]]],[\"600515\",\"��������\",\"��Ϊ����ʡ��Ʒ������ҵ����ͷ��ҵ����˾����ӵ���ź���ʡ����͵ĺ��ϵ�һ�ٻ��̳���ͬʱ���ع���Ŀǰ����ʡΨһ�������϶�������������ͷ��ҵ����ʩ����ҵ\",\n",
      "[[\"ss\",\"��ɳ\"]]],[\"601118\",\"������\",\"��˾���ҹ������Ȼ��������ҵ�����Բ���Ϊ�������𽺲���ռȫ������30%���ϣ����ƻ�������룬���ƺ��ϵ����������⽺����Դ\",\n",
      "[[\"nkgg\",\"ũ�Ѹĸ�\"],[\"ss\",\"��ɳ\"],[\"tdlz\",\"������ת\"]]]]};\n"
     ]
    }
   ],
   "source": [
    "url='http://stock.jrj.com.cn/concept/conceptdetail/conceptStock_ss.js'\n",
    "content=urllib.urlopen(url).read()#notice that urllib2 will raise HTTPError\n",
    "print content"
   ]
  },
  {
   "cell_type": "code",
   "execution_count": 30,
   "metadata": {
    "collapsed": false
   },
   "outputs": [
    {
     "name": "stdout",
     "output_type": "stream",
     "text": [
      "<type 'str'>\n"
     ]
    }
   ],
   "source": [
    "print type(content)"
   ]
  },
  {
   "cell_type": "code",
   "execution_count": 65,
   "metadata": {
    "collapsed": false
   },
   "outputs": [
    {
     "name": "stdout",
     "output_type": "stream",
     "text": [
      "['000567', '000735', '000886', '002320', '002596', '600209', '600515', '601118']\n"
     ]
    }
   ],
   "source": [
    "sid=re.findall('[036]\\d\\d\\d\\d\\d',content)\n",
    "print sid"
   ]
  },
  {
   "cell_type": "code",
   "execution_count": 36,
   "metadata": {
    "collapsed": false
   },
   "outputs": [
    {
     "name": "stdout",
     "output_type": "stream",
     "text": [
      "22\n"
     ]
    }
   ],
   "source": [
    "print len(sid)"
   ]
  },
  {
   "cell_type": "code",
   "execution_count": 63,
   "metadata": {
    "collapsed": true
   },
   "outputs": [],
   "source": [
    "def get_sid(url):\n",
    "    content=urllib.urlopen(url).read()\n",
    "    sid=re.findall('[036]\\d\\d\\d\\d\\d',content)\n",
    "    return sid"
   ]
  },
  {
   "cell_type": "code",
   "execution_count": 64,
   "metadata": {
    "collapsed": false
   },
   "outputs": [
    {
     "data": {
      "text/plain": [
       "[]"
      ]
     },
     "execution_count": 64,
     "metadata": {},
     "output_type": "execute_result"
    }
   ],
   "source": [
    "get_sid('http://stock.jrj.com.cn/concept/conceptdetail/conceptDetail_3ddy.js')"
   ]
  },
  {
   "cell_type": "code",
   "execution_count": 55,
   "metadata": {
    "collapsed": false
   },
   "outputs": [
    {
     "name": "stdout",
     "output_type": "stream",
     "text": [
      "20160421\n"
     ]
    }
   ],
   "source": [
    "import time\n",
    "date=date=time.strftime(\"%Y%m%d\",time.localtime(time.time()))\n",
    "print date"
   ]
  },
  {
   "cell_type": "code",
   "execution_count": null,
   "metadata": {
    "collapsed": true
   },
   "outputs": [],
   "source": []
  },
  {
   "cell_type": "code",
   "execution_count": 61,
   "metadata": {
    "collapsed": false
   },
   "outputs": [
    {
     "name": "stdout",
     "output_type": "stream",
     "text": [
      "0\n",
      "0\n",
      "0\n",
      "0\n",
      "0\n",
      "0\n",
      "0\n",
      "0\n",
      "0\n",
      "0\n",
      "0\n",
      "0\n",
      "0\n",
      "0\n",
      "0\n",
      "0\n",
      "0\n",
      "0\n",
      "0\n",
      "0\n",
      "0\n",
      "0\n",
      "0\n",
      "0\n",
      "0\n",
      "0\n",
      "0\n",
      "0\n",
      "0\n",
      "0\n",
      "0\n",
      "0\n",
      "0\n",
      "0\n",
      "0\n",
      "0\n",
      "0\n",
      "0\n",
      "0\n",
      "0\n",
      "0\n",
      "0\n",
      "0\n",
      "0\n",
      "0\n",
      "0\n",
      "0\n",
      "0\n",
      "0\n",
      "0\n",
      "0\n",
      "0\n",
      "0\n",
      "0\n",
      "0\n",
      "0\n",
      "0\n",
      "0\n",
      "0\n",
      "0\n",
      "0\n",
      "0\n",
      "0\n",
      "0\n",
      "0\n",
      "0\n",
      "0\n",
      "0\n",
      "0\n",
      "0\n",
      "0\n",
      "0\n",
      "0\n",
      "0\n",
      "0\n",
      "0\n",
      "0\n",
      "0\n",
      "0\n",
      "0\n",
      "0\n",
      "0\n",
      "0\n",
      "0\n",
      "0\n",
      "0\n",
      "0\n",
      "0\n",
      "0\n",
      "0\n",
      "0\n",
      "0\n",
      "0\n",
      "0\n",
      "0\n",
      "0\n",
      "0\n",
      "0\n",
      "0\n",
      "0\n",
      "0\n",
      "0\n",
      "0\n",
      "0\n",
      "0\n",
      "0\n",
      "0\n",
      "0\n",
      "0\n",
      "0\n",
      "0\n",
      "0\n",
      "0\n",
      "0\n",
      "0\n",
      "0\n",
      "0\n",
      "0\n",
      "0\n",
      "0\n",
      "0\n",
      "0\n",
      "0\n",
      "0\n",
      "0\n",
      "0\n",
      "0\n",
      "0\n",
      "0\n",
      "0\n",
      "0\n",
      "0\n",
      "0\n",
      "0\n",
      "0\n",
      "0\n",
      "0\n",
      "0\n",
      "0\n",
      "0\n",
      "0\n",
      "0\n",
      "0\n",
      "0\n",
      "0\n",
      "0\n",
      "0\n",
      "0\n",
      "0\n",
      "0\n",
      "0\n",
      "0\n",
      "0\n",
      "0\n",
      "0\n",
      "0\n",
      "0\n",
      "0\n",
      "0\n",
      "0\n",
      "0\n",
      "0\n",
      "0\n",
      "0\n",
      "0\n",
      "0\n",
      "0\n",
      "0\n",
      "0\n",
      "0\n",
      "0\n",
      "0\n",
      "0\n",
      "0\n"
     ]
    }
   ],
   "source": [
    "import os\n",
    "folder=r'c:\\cq\\%s'%date\n",
    "if not os.path.isdir(folder):\n",
    "    os.makedirs(folder)\n",
    "\n",
    "for i in range(len(href)):\n",
    "    f=open(os.path.join(folder,category[i]+'.txt'),'w')\n",
    "    url=href[i][:-5]+'js'\n",
    "    sid=get_sid(url)\n",
    "    print len(sid)\n",
    "    for j in range(len(sid)):\n",
    "        f.write('%s\\n'%sid[j])\n",
    "    f.close()"
   ]
  },
  {
   "cell_type": "code",
   "execution_count": 66,
   "metadata": {
    "collapsed": false
   },
   "outputs": [
    {
     "name": "stdout",
     "output_type": "stream",
     "text": [
      "0\n",
      "0\n",
      "0\n",
      "0\n",
      "0\n",
      "0\n",
      "0\n",
      "0\n",
      "0\n",
      "0\n",
      "0\n",
      "0\n",
      "0\n",
      "0\n",
      "0\n",
      "0\n",
      "0\n",
      "0\n",
      "0\n",
      "0\n",
      "0\n",
      "0\n",
      "0\n",
      "0\n",
      "0\n",
      "0\n",
      "0\n",
      "0\n",
      "0\n",
      "0\n",
      "0\n",
      "0\n",
      "0\n",
      "0\n",
      "0\n",
      "0\n",
      "0\n",
      "0\n",
      "0\n",
      "0\n",
      "0\n",
      "0\n",
      "0\n",
      "0\n",
      "0\n",
      "0\n",
      "0\n",
      "0\n",
      "0\n",
      "0\n",
      "0\n",
      "0\n",
      "0\n",
      "0\n",
      "0\n",
      "0\n",
      "0\n",
      "0\n",
      "0\n",
      "0\n",
      "0\n",
      "0\n",
      "0\n",
      "0\n",
      "0\n",
      "0\n",
      "0\n",
      "0\n",
      "0\n",
      "0\n",
      "0\n",
      "0\n",
      "0\n",
      "0\n",
      "0\n",
      "0\n",
      "0\n",
      "0\n",
      "0\n",
      "0\n",
      "0\n",
      "0\n",
      "0\n",
      "0\n",
      "0\n",
      "0\n",
      "0\n",
      "0\n",
      "0\n",
      "0\n",
      "0\n"
     ]
    },
    {
     "ename": "KeyboardInterrupt",
     "evalue": "",
     "output_type": "error",
     "traceback": [
      "\u001b[1;31m---------------------------------------------------------------------------\u001b[0m",
      "\u001b[1;31mKeyboardInterrupt\u001b[0m                         Traceback (most recent call last)",
      "\u001b[1;32m<ipython-input-66-e05a4c0a7bb6>\u001b[0m in \u001b[0;36m<module>\u001b[1;34m()\u001b[0m\n\u001b[0;32m      7\u001b[0m     \u001b[0mf\u001b[0m\u001b[1;33m=\u001b[0m\u001b[0mopen\u001b[0m\u001b[1;33m(\u001b[0m\u001b[0mos\u001b[0m\u001b[1;33m.\u001b[0m\u001b[0mpath\u001b[0m\u001b[1;33m.\u001b[0m\u001b[0mjoin\u001b[0m\u001b[1;33m(\u001b[0m\u001b[0mfolder\u001b[0m\u001b[1;33m,\u001b[0m\u001b[0mcategory\u001b[0m\u001b[1;33m[\u001b[0m\u001b[0mi\u001b[0m\u001b[1;33m]\u001b[0m\u001b[1;33m+\u001b[0m\u001b[1;34m'.txt'\u001b[0m\u001b[1;33m)\u001b[0m\u001b[1;33m,\u001b[0m\u001b[1;34m'w'\u001b[0m\u001b[1;33m)\u001b[0m\u001b[1;33m\u001b[0m\u001b[0m\n\u001b[0;32m      8\u001b[0m     \u001b[0murl\u001b[0m\u001b[1;33m=\u001b[0m\u001b[0mhref\u001b[0m\u001b[1;33m[\u001b[0m\u001b[0mi\u001b[0m\u001b[1;33m]\u001b[0m\u001b[1;33m[\u001b[0m\u001b[1;33m:\u001b[0m\u001b[1;33m-\u001b[0m\u001b[1;36m5\u001b[0m\u001b[1;33m]\u001b[0m\u001b[1;33m+\u001b[0m\u001b[1;34m'js'\u001b[0m\u001b[1;33m\u001b[0m\u001b[0m\n\u001b[1;32m----> 9\u001b[1;33m     \u001b[0mcontent\u001b[0m\u001b[1;33m=\u001b[0m\u001b[0murllib\u001b[0m\u001b[1;33m.\u001b[0m\u001b[0murlopen\u001b[0m\u001b[1;33m(\u001b[0m\u001b[0murl\u001b[0m\u001b[1;33m)\u001b[0m\u001b[1;33m.\u001b[0m\u001b[0mread\u001b[0m\u001b[1;33m(\u001b[0m\u001b[1;33m)\u001b[0m\u001b[1;33m\u001b[0m\u001b[0m\n\u001b[0m\u001b[0;32m     10\u001b[0m     \u001b[0msid\u001b[0m\u001b[1;33m=\u001b[0m\u001b[0mre\u001b[0m\u001b[1;33m.\u001b[0m\u001b[0mfindall\u001b[0m\u001b[1;33m(\u001b[0m\u001b[1;34m'[036]\\d\\d\\d\\d\\d'\u001b[0m\u001b[1;33m,\u001b[0m\u001b[0mcontent\u001b[0m\u001b[1;33m)\u001b[0m\u001b[1;33m\u001b[0m\u001b[0m\n\u001b[0;32m     11\u001b[0m     \u001b[1;32mprint\u001b[0m \u001b[0mlen\u001b[0m\u001b[1;33m(\u001b[0m\u001b[0msid\u001b[0m\u001b[1;33m)\u001b[0m\u001b[1;33m\u001b[0m\u001b[0m\n",
      "\u001b[1;32mC:\\Anaconda\\lib\\urllib.pyc\u001b[0m in \u001b[0;36murlopen\u001b[1;34m(url, data, proxies, context)\u001b[0m\n\u001b[0;32m     85\u001b[0m         \u001b[0mopener\u001b[0m \u001b[1;33m=\u001b[0m \u001b[0m_urlopener\u001b[0m\u001b[1;33m\u001b[0m\u001b[0m\n\u001b[0;32m     86\u001b[0m     \u001b[1;32mif\u001b[0m \u001b[0mdata\u001b[0m \u001b[1;32mis\u001b[0m \u001b[0mNone\u001b[0m\u001b[1;33m:\u001b[0m\u001b[1;33m\u001b[0m\u001b[0m\n\u001b[1;32m---> 87\u001b[1;33m         \u001b[1;32mreturn\u001b[0m \u001b[0mopener\u001b[0m\u001b[1;33m.\u001b[0m\u001b[0mopen\u001b[0m\u001b[1;33m(\u001b[0m\u001b[0murl\u001b[0m\u001b[1;33m)\u001b[0m\u001b[1;33m\u001b[0m\u001b[0m\n\u001b[0m\u001b[0;32m     88\u001b[0m     \u001b[1;32melse\u001b[0m\u001b[1;33m:\u001b[0m\u001b[1;33m\u001b[0m\u001b[0m\n\u001b[0;32m     89\u001b[0m         \u001b[1;32mreturn\u001b[0m \u001b[0mopener\u001b[0m\u001b[1;33m.\u001b[0m\u001b[0mopen\u001b[0m\u001b[1;33m(\u001b[0m\u001b[0murl\u001b[0m\u001b[1;33m,\u001b[0m \u001b[0mdata\u001b[0m\u001b[1;33m)\u001b[0m\u001b[1;33m\u001b[0m\u001b[0m\n",
      "\u001b[1;32mC:\\Anaconda\\lib\\urllib.pyc\u001b[0m in \u001b[0;36mopen\u001b[1;34m(self, fullurl, data)\u001b[0m\n\u001b[0;32m    211\u001b[0m         \u001b[1;32mtry\u001b[0m\u001b[1;33m:\u001b[0m\u001b[1;33m\u001b[0m\u001b[0m\n\u001b[0;32m    212\u001b[0m             \u001b[1;32mif\u001b[0m \u001b[0mdata\u001b[0m \u001b[1;32mis\u001b[0m \u001b[0mNone\u001b[0m\u001b[1;33m:\u001b[0m\u001b[1;33m\u001b[0m\u001b[0m\n\u001b[1;32m--> 213\u001b[1;33m                 \u001b[1;32mreturn\u001b[0m \u001b[0mgetattr\u001b[0m\u001b[1;33m(\u001b[0m\u001b[0mself\u001b[0m\u001b[1;33m,\u001b[0m \u001b[0mname\u001b[0m\u001b[1;33m)\u001b[0m\u001b[1;33m(\u001b[0m\u001b[0murl\u001b[0m\u001b[1;33m)\u001b[0m\u001b[1;33m\u001b[0m\u001b[0m\n\u001b[0m\u001b[0;32m    214\u001b[0m             \u001b[1;32melse\u001b[0m\u001b[1;33m:\u001b[0m\u001b[1;33m\u001b[0m\u001b[0m\n\u001b[0;32m    215\u001b[0m                 \u001b[1;32mreturn\u001b[0m \u001b[0mgetattr\u001b[0m\u001b[1;33m(\u001b[0m\u001b[0mself\u001b[0m\u001b[1;33m,\u001b[0m \u001b[0mname\u001b[0m\u001b[1;33m)\u001b[0m\u001b[1;33m(\u001b[0m\u001b[0murl\u001b[0m\u001b[1;33m,\u001b[0m \u001b[0mdata\u001b[0m\u001b[1;33m)\u001b[0m\u001b[1;33m\u001b[0m\u001b[0m\n",
      "\u001b[1;32mC:\\Anaconda\\lib\\urllib.pyc\u001b[0m in \u001b[0;36mopen_http\u001b[1;34m(self, url, data)\u001b[0m\n\u001b[0;32m    348\u001b[0m         \u001b[1;32mif\u001b[0m \u001b[0mrealhost\u001b[0m\u001b[1;33m:\u001b[0m \u001b[0mh\u001b[0m\u001b[1;33m.\u001b[0m\u001b[0mputheader\u001b[0m\u001b[1;33m(\u001b[0m\u001b[1;34m'Host'\u001b[0m\u001b[1;33m,\u001b[0m \u001b[0mrealhost\u001b[0m\u001b[1;33m)\u001b[0m\u001b[1;33m\u001b[0m\u001b[0m\n\u001b[0;32m    349\u001b[0m         \u001b[1;32mfor\u001b[0m \u001b[0margs\u001b[0m \u001b[1;32min\u001b[0m \u001b[0mself\u001b[0m\u001b[1;33m.\u001b[0m\u001b[0maddheaders\u001b[0m\u001b[1;33m:\u001b[0m \u001b[0mh\u001b[0m\u001b[1;33m.\u001b[0m\u001b[0mputheader\u001b[0m\u001b[1;33m(\u001b[0m\u001b[1;33m*\u001b[0m\u001b[0margs\u001b[0m\u001b[1;33m)\u001b[0m\u001b[1;33m\u001b[0m\u001b[0m\n\u001b[1;32m--> 350\u001b[1;33m         \u001b[0mh\u001b[0m\u001b[1;33m.\u001b[0m\u001b[0mendheaders\u001b[0m\u001b[1;33m(\u001b[0m\u001b[0mdata\u001b[0m\u001b[1;33m)\u001b[0m\u001b[1;33m\u001b[0m\u001b[0m\n\u001b[0m\u001b[0;32m    351\u001b[0m         \u001b[0merrcode\u001b[0m\u001b[1;33m,\u001b[0m \u001b[0merrmsg\u001b[0m\u001b[1;33m,\u001b[0m \u001b[0mheaders\u001b[0m \u001b[1;33m=\u001b[0m \u001b[0mh\u001b[0m\u001b[1;33m.\u001b[0m\u001b[0mgetreply\u001b[0m\u001b[1;33m(\u001b[0m\u001b[1;33m)\u001b[0m\u001b[1;33m\u001b[0m\u001b[0m\n\u001b[0;32m    352\u001b[0m         \u001b[0mfp\u001b[0m \u001b[1;33m=\u001b[0m \u001b[0mh\u001b[0m\u001b[1;33m.\u001b[0m\u001b[0mgetfile\u001b[0m\u001b[1;33m(\u001b[0m\u001b[1;33m)\u001b[0m\u001b[1;33m\u001b[0m\u001b[0m\n",
      "\u001b[1;32mC:\\Anaconda\\lib\\httplib.pyc\u001b[0m in \u001b[0;36mendheaders\u001b[1;34m(self, message_body)\u001b[0m\n\u001b[0;32m   1047\u001b[0m         \u001b[1;32melse\u001b[0m\u001b[1;33m:\u001b[0m\u001b[1;33m\u001b[0m\u001b[0m\n\u001b[0;32m   1048\u001b[0m             \u001b[1;32mraise\u001b[0m \u001b[0mCannotSendHeader\u001b[0m\u001b[1;33m(\u001b[0m\u001b[1;33m)\u001b[0m\u001b[1;33m\u001b[0m\u001b[0m\n\u001b[1;32m-> 1049\u001b[1;33m         \u001b[0mself\u001b[0m\u001b[1;33m.\u001b[0m\u001b[0m_send_output\u001b[0m\u001b[1;33m(\u001b[0m\u001b[0mmessage_body\u001b[0m\u001b[1;33m)\u001b[0m\u001b[1;33m\u001b[0m\u001b[0m\n\u001b[0m\u001b[0;32m   1050\u001b[0m \u001b[1;33m\u001b[0m\u001b[0m\n\u001b[0;32m   1051\u001b[0m     \u001b[1;32mdef\u001b[0m \u001b[0mrequest\u001b[0m\u001b[1;33m(\u001b[0m\u001b[0mself\u001b[0m\u001b[1;33m,\u001b[0m \u001b[0mmethod\u001b[0m\u001b[1;33m,\u001b[0m \u001b[0murl\u001b[0m\u001b[1;33m,\u001b[0m \u001b[0mbody\u001b[0m\u001b[1;33m=\u001b[0m\u001b[0mNone\u001b[0m\u001b[1;33m,\u001b[0m \u001b[0mheaders\u001b[0m\u001b[1;33m=\u001b[0m\u001b[1;33m{\u001b[0m\u001b[1;33m}\u001b[0m\u001b[1;33m)\u001b[0m\u001b[1;33m:\u001b[0m\u001b[1;33m\u001b[0m\u001b[0m\n",
      "\u001b[1;32mC:\\Anaconda\\lib\\httplib.pyc\u001b[0m in \u001b[0;36m_send_output\u001b[1;34m(self, message_body)\u001b[0m\n\u001b[0;32m    891\u001b[0m             \u001b[0mmsg\u001b[0m \u001b[1;33m+=\u001b[0m \u001b[0mmessage_body\u001b[0m\u001b[1;33m\u001b[0m\u001b[0m\n\u001b[0;32m    892\u001b[0m             \u001b[0mmessage_body\u001b[0m \u001b[1;33m=\u001b[0m \u001b[0mNone\u001b[0m\u001b[1;33m\u001b[0m\u001b[0m\n\u001b[1;32m--> 893\u001b[1;33m         \u001b[0mself\u001b[0m\u001b[1;33m.\u001b[0m\u001b[0msend\u001b[0m\u001b[1;33m(\u001b[0m\u001b[0mmsg\u001b[0m\u001b[1;33m)\u001b[0m\u001b[1;33m\u001b[0m\u001b[0m\n\u001b[0m\u001b[0;32m    894\u001b[0m         \u001b[1;32mif\u001b[0m \u001b[0mmessage_body\u001b[0m \u001b[1;32mis\u001b[0m \u001b[1;32mnot\u001b[0m \u001b[0mNone\u001b[0m\u001b[1;33m:\u001b[0m\u001b[1;33m\u001b[0m\u001b[0m\n\u001b[0;32m    895\u001b[0m             \u001b[1;31m#message_body was not a string (i.e. it is a file) and\u001b[0m\u001b[1;33m\u001b[0m\u001b[1;33m\u001b[0m\u001b[0m\n",
      "\u001b[1;32mC:\\Anaconda\\lib\\httplib.pyc\u001b[0m in \u001b[0;36msend\u001b[1;34m(self, data)\u001b[0m\n\u001b[0;32m    853\u001b[0m         \u001b[1;32mif\u001b[0m \u001b[0mself\u001b[0m\u001b[1;33m.\u001b[0m\u001b[0msock\u001b[0m \u001b[1;32mis\u001b[0m \u001b[0mNone\u001b[0m\u001b[1;33m:\u001b[0m\u001b[1;33m\u001b[0m\u001b[0m\n\u001b[0;32m    854\u001b[0m             \u001b[1;32mif\u001b[0m \u001b[0mself\u001b[0m\u001b[1;33m.\u001b[0m\u001b[0mauto_open\u001b[0m\u001b[1;33m:\u001b[0m\u001b[1;33m\u001b[0m\u001b[0m\n\u001b[1;32m--> 855\u001b[1;33m                 \u001b[0mself\u001b[0m\u001b[1;33m.\u001b[0m\u001b[0mconnect\u001b[0m\u001b[1;33m(\u001b[0m\u001b[1;33m)\u001b[0m\u001b[1;33m\u001b[0m\u001b[0m\n\u001b[0m\u001b[0;32m    856\u001b[0m             \u001b[1;32melse\u001b[0m\u001b[1;33m:\u001b[0m\u001b[1;33m\u001b[0m\u001b[0m\n\u001b[0;32m    857\u001b[0m                 \u001b[1;32mraise\u001b[0m \u001b[0mNotConnected\u001b[0m\u001b[1;33m(\u001b[0m\u001b[1;33m)\u001b[0m\u001b[1;33m\u001b[0m\u001b[0m\n",
      "\u001b[1;32mC:\\Anaconda\\lib\\httplib.pyc\u001b[0m in \u001b[0;36mconnect\u001b[1;34m(self)\u001b[0m\n\u001b[0;32m    830\u001b[0m         \u001b[1;34m\"\"\"Connect to the host and port specified in __init__.\"\"\"\u001b[0m\u001b[1;33m\u001b[0m\u001b[0m\n\u001b[0;32m    831\u001b[0m         self.sock = self._create_connection((self.host,self.port),\n\u001b[1;32m--> 832\u001b[1;33m                                            self.timeout, self.source_address)\n\u001b[0m\u001b[0;32m    833\u001b[0m \u001b[1;33m\u001b[0m\u001b[0m\n\u001b[0;32m    834\u001b[0m         \u001b[1;32mif\u001b[0m \u001b[0mself\u001b[0m\u001b[1;33m.\u001b[0m\u001b[0m_tunnel_host\u001b[0m\u001b[1;33m:\u001b[0m\u001b[1;33m\u001b[0m\u001b[0m\n",
      "\u001b[1;32mC:\\Anaconda\\lib\\socket.pyc\u001b[0m in \u001b[0;36mcreate_connection\u001b[1;34m(address, timeout, source_address)\u001b[0m\n\u001b[0;32m    564\u001b[0m             \u001b[1;32mif\u001b[0m \u001b[0msource_address\u001b[0m\u001b[1;33m:\u001b[0m\u001b[1;33m\u001b[0m\u001b[0m\n\u001b[0;32m    565\u001b[0m                 \u001b[0msock\u001b[0m\u001b[1;33m.\u001b[0m\u001b[0mbind\u001b[0m\u001b[1;33m(\u001b[0m\u001b[0msource_address\u001b[0m\u001b[1;33m)\u001b[0m\u001b[1;33m\u001b[0m\u001b[0m\n\u001b[1;32m--> 566\u001b[1;33m             \u001b[0msock\u001b[0m\u001b[1;33m.\u001b[0m\u001b[0mconnect\u001b[0m\u001b[1;33m(\u001b[0m\u001b[0msa\u001b[0m\u001b[1;33m)\u001b[0m\u001b[1;33m\u001b[0m\u001b[0m\n\u001b[0m\u001b[0;32m    567\u001b[0m             \u001b[1;32mreturn\u001b[0m \u001b[0msock\u001b[0m\u001b[1;33m\u001b[0m\u001b[0m\n\u001b[0;32m    568\u001b[0m \u001b[1;33m\u001b[0m\u001b[0m\n",
      "\u001b[1;32mC:\\Anaconda\\lib\\socket.pyc\u001b[0m in \u001b[0;36mmeth\u001b[1;34m(name, self, *args)\u001b[0m\n\u001b[0;32m    226\u001b[0m \u001b[1;33m\u001b[0m\u001b[0m\n\u001b[0;32m    227\u001b[0m \u001b[1;32mdef\u001b[0m \u001b[0mmeth\u001b[0m\u001b[1;33m(\u001b[0m\u001b[0mname\u001b[0m\u001b[1;33m,\u001b[0m\u001b[0mself\u001b[0m\u001b[1;33m,\u001b[0m\u001b[1;33m*\u001b[0m\u001b[0margs\u001b[0m\u001b[1;33m)\u001b[0m\u001b[1;33m:\u001b[0m\u001b[1;33m\u001b[0m\u001b[0m\n\u001b[1;32m--> 228\u001b[1;33m     \u001b[1;32mreturn\u001b[0m \u001b[0mgetattr\u001b[0m\u001b[1;33m(\u001b[0m\u001b[0mself\u001b[0m\u001b[1;33m.\u001b[0m\u001b[0m_sock\u001b[0m\u001b[1;33m,\u001b[0m\u001b[0mname\u001b[0m\u001b[1;33m)\u001b[0m\u001b[1;33m(\u001b[0m\u001b[1;33m*\u001b[0m\u001b[0margs\u001b[0m\u001b[1;33m)\u001b[0m\u001b[1;33m\u001b[0m\u001b[0m\n\u001b[0m\u001b[0;32m    229\u001b[0m \u001b[1;33m\u001b[0m\u001b[0m\n\u001b[0;32m    230\u001b[0m \u001b[1;32mfor\u001b[0m \u001b[0m_m\u001b[0m \u001b[1;32min\u001b[0m \u001b[0m_socketmethods\u001b[0m\u001b[1;33m:\u001b[0m\u001b[1;33m\u001b[0m\u001b[0m\n",
      "\u001b[1;31mKeyboardInterrupt\u001b[0m: "
     ]
    }
   ],
   "source": [
    "import os\n",
    "folder=r'c:\\cq\\%s'%date\n",
    "if not os.path.isdir(folder):\n",
    "    os.makedirs(folder)\n",
    "\n",
    "for i in range(len(href)):\n",
    "    f=open(os.path.join(folder,category[i]+'.txt'),'w')\n",
    "    url=href[i][:-5]+'js'\n",
    "    content=urllib.urlopen(url).read()\n",
    "    sid=re.findall('[036]\\d\\d\\d\\d\\d',content)\n",
    "    print len(sid)\n",
    "    for j in range(len(sid)):\n",
    "        f.write('%s\\n'%sid[j])\n",
    "    f.close()"
   ]
  },
  {
   "cell_type": "code",
   "execution_count": null,
   "metadata": {
    "collapsed": true
   },
   "outputs": [],
   "source": []
  }
 ],
 "metadata": {
  "kernelspec": {
   "display_name": "Python 2",
   "language": "python",
   "name": "python2"
  },
  "language_info": {
   "codemirror_mode": {
    "name": "ipython",
    "version": 2
   },
   "file_extension": ".py",
   "mimetype": "text/x-python",
   "name": "python",
   "nbconvert_exporter": "python",
   "pygments_lexer": "ipython2",
   "version": "2.7.10"
  }
 },
 "nbformat": 4,
 "nbformat_minor": 0
}
