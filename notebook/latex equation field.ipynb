{
 "cells": [
  {
   "cell_type": "markdown",
   "metadata": {},
   "source": [
    "$$RSP_{i,t}=\\sum_{n=1}^{N_t} \\frac{Ask_{i,n}-Bid_{i,n}}{(Bid_{i,n}+Ask_{i,n})/2} \\times 100$$"
   ]
  },
  {
   "cell_type": "markdown",
   "metadata": {},
   "source": [
    "$$Turnover_{i,t}=\\frac{TS_{i,t}}{CS_{i,t}}$$"
   ]
  },
  {
   "cell_type": "markdown",
   "metadata": {},
   "source": [
    "$$Amihud_{i,t}=\\frac{\\left | r_{i,t} \\right \\vert}{Volume_{i,t}}$$"
   ]
  },
  {
   "cell_type": "markdown",
   "metadata": {},
   "source": [
    "$$Depth1_{i,t}=\\frac{1}{n}\\sum_{j=1}^n \\frac{(S_{1,i,j,t} \\times SV_{1,i,j,t}+B_{1,i,j,t}\\times BV_{1,i,j,t})}{2}$$"
   ]
  },
  {
   "cell_type": "markdown",
   "metadata": {},
   "source": [
    "$$Depth5_{i,t}=\\frac{1}{n}\\sum_{j=1}^n \\frac{\\sum_{m=1}^{5}(S_{1,i,j,t} \\times SV_{1,i,j,t}+B_{1,i,j,t}\\times BV_{1,i,j,t})}{2}$$"
   ]
  },
  {
   "cell_type": "markdown",
   "metadata": {},
   "source": [
    "$$HFV_{i,j,t}=\\sqrt{(Variance(log(midpoint_{i,j,t}-log(midpoint_{i,j-1,t}))}\\times 100$$"
   ]
  },
  {
   "cell_type": "markdown",
   "metadata": {},
   "source": [
    "$$RV_{i,t}=\\sqrt{\\sum_{j=1}^n r_{i,j,t}^2}\\times 100$$"
   ]
  },
  {
   "cell_type": "markdown",
   "metadata": {},
   "source": [
    "$$Distance_{i,j}=(X_i-X_j)\\prime \\hat \\alpha \\prime \\hat \\alpha (X_i-X_j) \\quad  for \\quad i \\neq j$$"
   ]
  },
  {
   "cell_type": "markdown",
   "metadata": {},
   "source": [
    "$$MktQ_{i,t}=\\beta_0 + \\gamma_i \\sum_{i=1}^{N-1}F_i +\\alpha_{T_i} \\sum_{i=1}^{T-1}T_i+\\beta_cX_{i,t} + \\beta_iD_i+\\beta_tD_t+\\beta_{tr}D_i \\times D_t +\\epsilon_{i,t}$$"
   ]
  },
  {
   "cell_type": "markdown",
   "metadata": {},
   "source": [
    "$$STD_{i,t}=\\lambda_0 + \\sum_{t} \\phi_t T_t + \\sum_i \\theta_i a_i +\\varphi Treat_{i,t}+\\lambda_1 Sysrisk_{i,t} +\\lambda_2LnFsize_{i,t}+\\lambda_2LnFsize_{i,t}+\\lambda_3Invp_{i,t} +\\epsilon_{i,t}$$"
   ]
  },
  {
   "cell_type": "markdown",
   "metadata": {},
   "source": [
    "$$Volatility_t=\\alpha +\\beta_1 PessimistVolume_t+\\beta_2 OptimistVolume_t +\\sum_{j=1}^{2}\\gamma_j Dummy_{jt} + \\sum_{j=1}^{2}\\theta_j PessimistVolume_t \\times Dummy_{jt} +\\sum_{j=1}^{2} \\eta_j OptimistVolume_t \\times Dummy_{jt} +\\beta_3 SmallVolume_t +\\beta_4 Volatility_{t-1} +\\beta_5 Volatitlity_{t-1} +\\beta_6 OpenInterest_t +\\beta_7 \\Delta TotalTradingVolume_t +\\epsilon_t $$"
   ]
  },
  {
   "cell_type": "markdown",
   "metadata": {},
   "source": [
    "$$ \\Delta Liquidity_{jt} =\\alpha +\\zeta_j +\\beta_1 CoverageTermination_t +\\beta_2 \\Delta InsiderHoldings_{jt} +\\beta_3 \\Delta InsiderHoldings_{jt} \\times CoverageTermination_t +\\beta_4 \\Delta InstHoldings_{jt} +\\beta_5 \\Delta X_{jt}+ \\beta_6 Time_t +\\beta_7 Time_t^2 +\\epsilon_{jt}$$"
   ]
  },
  {
   "cell_type": "code",
   "execution_count": null,
   "metadata": {},
   "outputs": [],
   "source": []
  }
 ],
 "metadata": {
  "kernelspec": {
   "display_name": "Python 3",
   "language": "python",
   "name": "python3"
  },
  "language_info": {
   "codemirror_mode": {
    "name": "ipython",
    "version": 3
   },
   "file_extension": ".py",
   "mimetype": "text/x-python",
   "name": "python",
   "nbconvert_exporter": "python",
   "pygments_lexer": "ipython3",
   "version": "3.6.4"
  },
  "toc": {
   "nav_menu": {},
   "number_sections": true,
   "sideBar": true,
   "skip_h1_title": false,
   "title_cell": "Table of Contents",
   "title_sidebar": "Contents",
   "toc_cell": false,
   "toc_position": {},
   "toc_section_display": true,
   "toc_window_display": false
  }
 },
 "nbformat": 4,
 "nbformat_minor": 2
}
