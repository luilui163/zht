{
 "cells": [
  {
   "cell_type": "markdown",
   "metadata": {},
   "source": [
    "# Tips\n",
    "## My suggestions\n",
    "1. code review for the whole projects row by row\n",
    "2. avoid cross import\n",
    "\n",
    "\n",
    "### Unify the DataFrame\n",
    "when work with a project,all the Dataframe should share the same properties in respect of：\n",
    "\t1. multiIndex or single Index,if multiIndex,then they should share the same index.names\n",
    "\t2. the category of index or column should be the same.You can use the function like `df.index.astye('str')` to unify them.For multiIndex,you can use functions like `df.index.levels[1].astype(str)` to unify them.\n",
    "\t3. If the index is datetime,think about the following aspects:\n",
    "\t\t1. timestamp or period?\n",
    "\t\t2. frequency\n",
    "\t\t3. month end?\n",
    "    4. all the pandas.Series should have a name,and all the index of DataFrame should have names.\n",
    "\n",
    "\n",
    "    \n",
    "## Structure of Code is Key  \n",
    "do not:\n",
    "1. Multiple and messy circular dependencies.Don't import class or function from each other.\n",
    "2. Hidden coupling: each and every change in Table's implementation breaks 20 tests in unrelated test cases bevcause it breaks Carpenter's code,which requires very careful surgery to adapt the change.This means you have too many assumptions about Table in Carpenter's code or the reverse.\n",
    "3. Heavy usage of global state or context: instead of explicityly passing `(height,width,type,wood)` to each other,Table and Carpenter rely on global variables that can be modified and are modified on the fly by different agents.You need to scrutinize all access to these global variables to understand why a rectangular table became a square,and discover that remote template code is also modifying this context,messing with table dimensions.\n",
    "4. Spaghetti code: multiple pages of nested if clauses and for loops with a lot of copy pasted procesural code and no proper segmentation are known as spaghetti code.\n",
    "\n",
    "## Modules  \n",
    "Python modules are one of teh main abstraction layers available and probably the most natural one.Abstraction layers allow separating code into parts holding ralated data and functionality.  \n",
    "\n",
    "For example,a layer of project can handle interfacing with user actions,while another would handle low level manipulation of data.The most natural way to separate these two layers is to regroup all interfacing functionality in one file,and all low level operations in another file.In this case,the interface file needs to import the low level file.  \n",
    "\n",
    "**Using import \\* makes code harder to read and makes dependencies less compartmentalized.**  \n",
    "\n",
    "## Packages  \n",
    "A file `modu.py` in the directory `apck/` is imported with the statement `import pack.modu`.This statement will look for an `__init__.py` file in `pack`,execute all of its top-level statements.Then it will look for a file named `pack/modu.py` and execute all of its top-level statements.  \n",
    "\n",
    "## Object-oriented programming  \n",
    "Carefully isolating functions with context and side-effects from functions with logic(called pure functions) allow the following benefits:  \n",
    "* Pure functions are deterministic:given a fixed input,the output will always be the same.\n",
    "* Pure functions are much easier to change or replace if they need to be refactored or optimized.\n",
    "* Pure functions are easier to test with unit-tests:There is less need for complex context setup and data cleaning afterwards.\n",
    "* Pure functions are easier to manipulate,decorate,and pass around. \n",
    "\n",
    "In summary,pure functions are more efficient building blocks than classes and objects for some architectures because they have no context or side-effects.  \n",
    "\n",
    "Obviously,object-orientation is useful and even necessary in many cases,for example when developing graphical desktop applications or games,where the things that are manipulated (windows,buttions,avatars,vehicles) have a relatively long life of their own in the computer's memory.\n",
    "\n",
    "\n",
    "## Decorators  \n",
    "The 'decorated'function or method will replace the original 'undecorated' function or method.Because functions are first-class objects in Python.  \n",
    "\n",
    "This mechanism is useful for seperating concerns and avoiding external un-related logic 'polluting' the core logic of the function or method.A good example of a piece of functionality that is better hanled with decoration is memoization or cashing: you want to store the results of an expensive function in a table and use them directly instead of recomputing them when they have already been computed.  \n",
    "\n",
    "## Dynamic typing  \n",
    "Avoid using the same variable name for different things.  \n",
    "There is no efficiency gain when reusing names:the assignments will have to create new objects anyway.  \n",
    "\n",
    "## Mutable and immutable types  \n",
    "Immutable types provide no method for changing their content.For instance,the variable x set to the integer 6 has no 'increment' method.If you want to compute x+1,you have to create another integer and give it a name.  \n",
    "```python\n",
    "x=6\n",
    "x=x+1\n",
    "```\n",
    "\n",
    "**Bad**  \n",
    "```python\n",
    "#create a concatenated string from 0 to 19\n",
    "nums=''\n",
    "for n in range(20):\n",
    "    nums+=str(n) # slow and inefficient\n",
    "print nums\n",
    "```\n",
    "\n",
    "**Good**  \n",
    "```python\n",
    "nums=[]\n",
    "for n in range(20):\n",
    "    nums.append(str(n))\n",
    "print ''.join(nums) # much more efficient\n",
    "```\n",
    "\n",
    "**Better**\n",
    "```python \n",
    "nums=[str(n) for n in range(20)]\n",
    "print ''.join(nums) \n",
    "``` \n",
    "\n",
    "**Best**  \n",
    "```python \n",
    "nums=map(str,range(20))\n",
    "print ''.join(nums)\n",
    "```\n",
    "\n",
    "`join()` is not always best.Sometimes, using the addition operator is actually facter.  \n",
    "```python\n",
    "foo='foo'\n",
    "bar='bar'\n",
    "\n",
    "foobar=foo+bar # This is good\n",
    "foo+='ooo'# This is bad,instead you should do:\n",
    "foo=''.join([foo,'ooo'])\n",
    "```\n",
    "\n",
    "```python\n",
    "foo='foo'\n",
    "bar='bar'\n",
    "\n",
    "foobar='%s%s'%(foo,bar) #It is OK\n",
    "foobar='{0}{1}'.format(foo,bar) #It is better\n",
    "foobar='{foo}{bar}'.format(foo=foo,bar=bar) #It is best\n",
    "```\n",
    "\n",
    "---------------------\n",
    "## Code style  \n",
    "\n",
    "**One statement per line**  \n",
    "\n",
    "*bad*\n",
    "```python\n",
    "if <complex comparison> and <other complex comparison>:\n",
    "    # do something\n",
    "```\n",
    "\n",
    "*good*\n",
    "```python\n",
    "cond1=<complex comparison>\n",
    "cond2=<other complex comparison>\n",
    "if cond1 and cond2:\n",
    "    #do something\n",
    "```\n",
    "\n",
    "**Unpacking**    \n",
    "a,b=b,a\n",
    "\n",
    "\n",
    "** Searching for an item in a collection**  \n",
    "```python\n",
    "l=['s','p','a','b']\n",
    "s=set(['s','p','a','b'])\n",
    "\n",
    "def lookup_list(s): #not good\n",
    "    return 's' in l\n",
    "    \n",
    "def lookup_set(s): #better\n",
    "    return 's' in s\n",
    "```\n",
    "To determine whether an item is in a list,Python will have to go through each item until find a matching item.This is time consuming,especially for long lists.In a set,on the other hand,the hash of the item will tell Python where in the set to look for a matching item.As a result ,the search can be done quickly,even if the set is large.Searching in dictornaries works the same way.  \n",
    "\n",
    "\n",
    "**Short ways to manipulate lists**  \n",
    "\n",
    "*bad*\n",
    "```python \n",
    "#Filter elements greater thean 4\n",
    "a=[3,4,5]\n",
    "b=[]\n",
    "for i in a:\n",
    "    if i>4:\n",
    "        b.append(i)\n",
    "```\n",
    "\n",
    "*Good*\n",
    "```python\n",
    "a=[3,4,5]\n",
    "b=[i for i in a if i>4]\n",
    "#OR:\n",
    "b=filter(lambda x:x>4,a)\n",
    "```\n",
    "\n",
    "*bad*\n",
    "```python\n",
    "#add three to all list members\n",
    "a[3,4,5]\n",
    "for i in range(len(a)):\n",
    "    a[i]+=3\n",
    "```\n",
    "\n",
    "*Good*  \n",
    "```python\n",
    "a=[3,4,5]\n",
    "a=[i+3 for i in a]\n",
    "# OR:\n",
    "a=map(lambda x:x+3,a)\n",
    "```\n",
    "\n",
    "** Read From a File **  \n",
    "\n",
    "*bad*\n",
    "```python\n",
    "f=open('file.txt')\n",
    "a=f.read()\n",
    "print a \n",
    "f.close()\n",
    "```\n",
    "*Good*\n",
    "```python\n",
    "with open('file.txt') as f:\n",
    "    for line in f:\n",
    "        print line\n",
    "```\n",
    "\n",
    "# encode and decoding\n",
    "**Encoding** is the process of translating a string of characters into its raw bytes form,according to a desired encoding name. **Decoding** is the process of translating a raw string of bytes into its character string form,according to its encoding name.\n",
    "\n",
    "**Encoding**: `str`$\\rightarrow$ `bytes`  \n",
    "**Decoding**: `bytes-like object` $\\rightarrow$ `str`   \n",
    "\n",
    "python3 with 3 string object types:\n",
    "1. `str` for representing Unicode text (both 8-bit and wide) \n",
    "2. `bytes` for representing binary data \n",
    "3. `bytearray` a mutable flavor of the bytes type"
   ]
  },
  {
   "cell_type": "code",
   "execution_count": 1,
   "metadata": {},
   "outputs": [
    {
     "data": {
      "text/plain": [
       "(bytes, str)"
      ]
     },
     "execution_count": 1,
     "metadata": {},
     "output_type": "execute_result"
    }
   ],
   "source": [
    "B=b'spam' # make a bytes object (8-bit bytes)\n",
    "S='eggs'  # make a str object (unicode chracters,8-bit or wider)\n",
    "\n",
    "type(B),type(S)"
   ]
  },
  {
   "cell_type": "markdown",
   "metadata": {},
   "source": [
    "## handle the problem of `UnicodeEncodeError`:`gbk codec can't encode character...`"
   ]
  },
  {
   "cell_type": "code",
   "execution_count": 2,
   "metadata": {},
   "outputs": [],
   "source": [
    "import locale\n",
    "import sys\n",
    "\n",
    "def p(f):\n",
    "    print('%s.%s():%s'%(f.__module__,f.__name__,f()))"
   ]
  },
  {
   "cell_type": "code",
   "execution_count": 3,
   "metadata": {},
   "outputs": [
    {
     "name": "stdout",
     "output_type": "stream",
     "text": [
      "sys.getdefaultencoding():utf-8\n"
     ]
    }
   ],
   "source": [
    "# 返回当前系统所使用的默认字符编码\n",
    "p(sys.getdefaultencoding)"
   ]
  },
  {
   "cell_type": "code",
   "execution_count": 4,
   "metadata": {},
   "outputs": [
    {
     "name": "stdout",
     "output_type": "stream",
     "text": [
      "sys.getfilesystemencoding():utf-8\n"
     ]
    }
   ],
   "source": [
    "#返回用于转换Unicode文件名至系统文件名所使用的编码\n",
    "p(sys.getfilesystemencoding)"
   ]
  },
  {
   "cell_type": "code",
   "execution_count": 5,
   "metadata": {},
   "outputs": [
    {
     "name": "stdout",
     "output_type": "stream",
     "text": [
      "locale.getdefaultlocale():('zh_CN', 'cp936')\n"
     ]
    }
   ],
   "source": [
    "# 获取默认的区域设置并返回元组（语言，编码）\n",
    "p(locale.getdefaultlocale)"
   ]
  },
  {
   "cell_type": "code",
   "execution_count": 6,
   "metadata": {},
   "outputs": [
    {
     "name": "stdout",
     "output_type": "stream",
     "text": [
      "locale.getpreferredencoding():cp936\n"
     ]
    }
   ],
   "source": [
    "# 返回用户设定的文本数据编码\n",
    "# 文档提到this function only returns a guess\n",
    "p(locale.getpreferredencoding)"
   ]
  },
  {
   "cell_type": "code",
   "execution_count": 7,
   "metadata": {},
   "outputs": [
    {
     "ename": "AttributeError",
     "evalue": "'str' object has no attribute 'decode'",
     "output_type": "error",
     "traceback": [
      "\u001b[1;31m---------------------------------------------------------------------------\u001b[0m",
      "\u001b[1;31mAttributeError\u001b[0m                            Traceback (most recent call last)",
      "\u001b[1;32m<ipython-input-7-e5be9b263f4b>\u001b[0m in \u001b[0;36m<module>\u001b[1;34m()\u001b[0m\n\u001b[0;32m      1\u001b[0m \u001b[1;31m# \\xba\\xba 是‘汉’的 GBK 编码\u001b[0m\u001b[1;33m\u001b[0m\u001b[1;33m\u001b[0m\u001b[0m\n\u001b[0;32m      2\u001b[0m \u001b[1;31m# mbcs 是不推荐使用的编码，这里仅作测试表明为什么不应该用\u001b[0m\u001b[1;33m\u001b[0m\u001b[1;33m\u001b[0m\u001b[0m\n\u001b[1;32m----> 3\u001b[1;33m \u001b[0mprint\u001b[0m\u001b[1;33m(\u001b[0m\u001b[1;34mr\"'\\xba\\xba'.decode('mbcs'):\"\u001b[0m\u001b[1;33m,\u001b[0m\u001b[0mrepr\u001b[0m\u001b[1;33m(\u001b[0m\u001b[1;34m'\\xba\\xba'\u001b[0m\u001b[1;33m.\u001b[0m\u001b[0mdecode\u001b[0m\u001b[1;33m(\u001b[0m\u001b[1;34m'mbcs'\u001b[0m\u001b[1;33m)\u001b[0m\u001b[1;33m)\u001b[0m\u001b[1;33m)\u001b[0m\u001b[1;33m\u001b[0m\u001b[0m\n\u001b[0m",
      "\u001b[1;31mAttributeError\u001b[0m: 'str' object has no attribute 'decode'"
     ]
    }
   ],
   "source": [
    "# \\xba\\xba 是‘汉’的 GBK 编码\n",
    "# mbcs 是不推荐使用的编码，这里仅作测试表明为什么不应该用\n",
    "print(r\"'\\xba\\xba'.decode('mbcs'):\",repr('\\xba\\xba'.decode('mbcs')))"
   ]
  },
  {
   "cell_type": "markdown",
   "metadata": {},
   "source": [
    "```python\n",
    "open(file,mode='r',buffering=-1,encoding=None,errors=None,newline=None,closefd=True,opener=None)\n",
    "```\n",
    ">  \n",
    "1. ***encoding*** is the name of the encoding used to decode or encode the file.This should only be used in text mode.The default encoding is platform dependent (whatever `locale.getpreferredencoding()` returns),but any text encoding supported by Python can be used.For reading and writing raw bytes use binary mode and leave encoding unspecified.\n",
    "errors can be 'ignore','replace' and so on.\n",
    "2. Python distinguishes between binary and text I/O,Files opened in binary mode (including 'b' in the mode argument) return contents as `bytes` objects without any decoding.In text mode (the default,or then 't' is included in the mode argument),the contents of the file are returned as `str`,the bytes having been first decode using a platform-dependent encoding or using the specified encoding if given.  \n",
    "3. Note:Python doesn't depend on the underlying operating system's notion of text files;all the processing is done by Python itself,and is thererfore platform-independent.\n",
    "4. *** When we open file with 'r' mode,open will first decode the content.And when we open file with 'w' mode,open will first encode the str we send in.***\n",
    "\n",
    "\n",
    "so,by default `with open('name.txt','w') as f:` will write with encoding of `cp936`.We'd better set the `encoding` as `utf-8`,if there is `UnicodeEncodeError` with writing function.For example:\n",
    "```python\n",
    "\n",
    "direc=r'D:\\app\\HistCite Pro 2.0\\TXT'\n",
    "fns=os.listdir(direc)\n",
    "\n",
    "content=[]\n",
    "for fn in fns:\n",
    "    '''\n",
    "    if we use open(os.path.join(direc,fn)).read(),open will first decode the bytes in the file with \n",
    "    default encoding type,that is,cp936.But this will send us an UnicodeDecodeError:'gbk' codec can't decode byte\n",
    "    ...\n",
    "    So,we set the encoding as 'utf-8' to force open decode the bytes in file with 'utf-8'\n",
    "    '''\n",
    "    con=open(os.path.join(direc,fn),encoding='utf-8').read()\n",
    "    content.append(con)\n",
    "\n",
    "    '''\n",
    "    In the same way,here we assign the encoding as 'utf-8' again,or it will encode the str with encoding='cp936' and \n",
    "    send use an UnicodeEncodeError:'gbk' codec can't encode character.....\n",
    "    '''\n",
    "with open('bib.txt','w',encoding='utf-8') as f:\n",
    "    f.write('\\n'.join(content))\n",
    "```"
   ]
  },
  {
   "cell_type": "markdown",
   "metadata": {},
   "source": [
    "## `read_csv` with `UnicodeDecodeError`\n",
    "refer to [this link](https://stackoverflow.com/questions/18171739/unicodedecodeerror-when-reading-csv-file-in-pandas-with-python)\n",
    "```python\n",
    "def txt2csv(fns):\n",
    "    for fn in fns:\n",
    "        p = os.path.join(txtpath, fn)\n",
    "        # use python to python engine to parse the data,since there are some files too big.\n",
    "        try:\n",
    "            df = pd.read_csv(p, sep='\\t', encoding='ISO-8859-1', error_bad_lines=False, skiprows=[1, 2])\n",
    "        except:\n",
    "            df = pd.read_csv(p, sep='\\t', encoding='ISO-8859-1', error_bad_lines=False, skiprows=[1, 2],\n",
    "                             engine='python')\n",
    "        df.to_csv(os.path.join(r'E:\\a\\tmp', fn[:-4] + '.csv'), encoding='utf-8')\n",
    "```"
   ]
  },
  {
   "cell_type": "markdown",
   "metadata": {},
   "source": [
    "### parse text\n",
    "**Tipes**:\n",
    "1. Before parsing the text,use notepad++ (show the hiden characters with the theme of deep black,for more tricks about notepad++,refer to windows.md) to analyse the delimiter of the text （End of the line and sep).  \n",
    "2. read the official documents about `open`:\n",
    "    ```\n",
    "    open(file,mode='r',buffering=-1,encoding=None,errors=None,newline=None,closefd=True,opener=None)\n",
    "    ```\n",
    "    `encoding` is the name of the encoding used to decode or encode the file.This should only be used in text mode.The default encoding is platform dependent (whatever `locale.getpreferedencoding()` returns),but any text encoding supported by Python can be used.\n",
    "    \n",
    "    `newline` controls how [universal newlines](https://docs.python.org/3/glossary.html) mode works (it only applies to text mode).It can be `None`,`''`,`'\\n'`,`'\\r'`,and `'\\r\\n'`.It works as follows:\n",
    "    - When reading input from the stream,if newline is `None`,universal newlines mode is enabled.Lines in the input can end in `'\\n'`,`'\\r'`,or `'\\r\\n'`,and these are translated into `'\\n'` before being returned to the caller.If it is `''`,universal newliens mode is enabled,but line endings are returned to the caller untranslated.If it has any of the other legal values,input lines are only terminated by the given string,and the line ending is returned to the caller untranslated.\n",
    "    - When writing output to the stream,if newline is `None`,any `'\\n'` chracters written are translated to the system default line separator,`os.linesep`.If newline is `''` or `'\\n'`,no translation takes place.If newline is any of the other legal values,any `'\\n'` characters written are translated to the given string.\n",
    "    \n",
    "Example:\n",
    "```python\n",
    "def clean_txt(fn):\n",
    "    inputPath=os.path.join(txtDir, fn)\n",
    "    outputPath=os.path.join(txtNewDir, fn)\n",
    "    bunchsize=1000000\n",
    "    valid=0\n",
    "    invalid=0\n",
    "    bunch=[]\n",
    "    with open(inputPath,encoding='ISO-8859-1',newline='\\r\\n') as r,\\\n",
    "            open(outputPath,'w',encoding='ISO-8859-1') as w:\n",
    "        coln=len(r.readline().split('\\t'))\n",
    "        for line in r:\n",
    "            if len(line.split('\\t'))==coln:\n",
    "                # bunch.append(line+'\\n') #'\\n` denote CRLF in python3\n",
    "                # bunch.append(line.replace('\\n','').replace(' ','')) #'\\n` denote CRLF in python3\n",
    "                # newline=line.replace('\\n','').replace(' ','').replace(',','').replace('\\t',',')\n",
    "                newline=line.replace('\\n','').replace(' ','')\n",
    "                bunch.append(newline)\n",
    "                valid+=1\n",
    "            else:\n",
    "                invalid+=1\n",
    "\n",
    "            if len(bunch)==bunchsize:\n",
    "                # w.write(l+'\\r\\n' for l in bunch)\n",
    "                w.writelines(bunch) #equals w.write(l+'\\n' for l in bunch)\n",
    "                bunch=[]\n",
    "\n",
    "        w.writelines(bunch)\n",
    "\n",
    "    print(fn)\n",
    "    return fn,valid,invalid\n",
    "```"
   ]
  },
  {
   "cell_type": "markdown",
   "metadata": {},
   "source": [
    "# time\n",
    "refer to [this link](https://stackoverflow.com/questions/415511/how-to-get-current-time-in-python/415519#415519)"
   ]
  },
  {
   "cell_type": "code",
   "execution_count": 24,
   "metadata": {},
   "outputs": [
    {
     "data": {
      "text/plain": [
       "'2018-04-04 11:50:08'"
      ]
     },
     "execution_count": 24,
     "metadata": {},
     "output_type": "execute_result"
    }
   ],
   "source": [
    "from datetime import datetime\n",
    "\n",
    "datetime.now().strftime('%Y-%m-%d %H:%M:%S')"
   ]
  },
  {
   "cell_type": "code",
   "execution_count": 26,
   "metadata": {},
   "outputs": [
    {
     "data": {
      "text/plain": [
       "'2018-04-04 11:50:28.256350'"
      ]
     },
     "execution_count": 26,
     "metadata": {},
     "output_type": "execute_result"
    }
   ],
   "source": [
    "str(datetime.now())"
   ]
  },
  {
   "cell_type": "code",
   "execution_count": 27,
   "metadata": {},
   "outputs": [
    {
     "data": {
      "text/plain": [
       "'2018-04-04 11:51:21'"
      ]
     },
     "execution_count": 27,
     "metadata": {},
     "output_type": "execute_result"
    }
   ],
   "source": [
    "import time\n",
    "\n",
    "time.strftime('%Y-%m-%d %H:%M:%S')"
   ]
  },
  {
   "cell_type": "markdown",
   "metadata": {},
   "source": [
    "# 30-seconds-of-python-code\n",
    "refer to https://github.com/kriadmin/30-seconds-of-python-code#bubble_sort\n",
    "\n",
    "## List\n",
    "### chunk\n",
    "chunks an list into smaller lists of a specified size"
   ]
  },
  {
   "cell_type": "code",
   "execution_count": 4,
   "metadata": {},
   "outputs": [
    {
     "data": {
      "text/plain": [
       "[[1, 2], [3, 4], [5]]"
      ]
     },
     "execution_count": 4,
     "metadata": {},
     "output_type": "execute_result"
    }
   ],
   "source": [
    "from math import ceil\n",
    "\n",
    "def chunk(lst,size):\n",
    "    return list(map(lambda x:lst[x*size:x*size+size],\n",
    "                    list(range(0,ceil(len(lst)/size)))))\n",
    "\n",
    "chunk([1,2,3,4,5],2)"
   ]
  },
  {
   "cell_type": "markdown",
   "metadata": {},
   "source": [
    "### compact\n",
    "use `filter()` to filter out falsey values(false,None,0,and \"\")"
   ]
  },
  {
   "cell_type": "code",
   "execution_count": 7,
   "metadata": {},
   "outputs": [
    {
     "data": {
      "text/plain": [
       "[1, 2, 3, 'a', 's', 34]"
      ]
     },
     "execution_count": 7,
     "metadata": {},
     "output_type": "execute_result"
    }
   ],
   "source": [
    "def compact(lst):\n",
    "    return list(filter(bool,lst))\n",
    "\n",
    "compact([0,1,False,2,'',3,'a','s',34])"
   ]
  },
  {
   "cell_type": "markdown",
   "metadata": {},
   "source": [
    "### count_by\n",
    "already implemented `collections.Counter`  \n",
    "\n",
    "Groups the element of a list based on the given function and returns the count of elements in each group."
   ]
  },
  {
   "cell_type": "code",
   "execution_count": 9,
   "metadata": {},
   "outputs": [
    {
     "data": {
      "text/plain": [
       "{4: 1, 6: 2}"
      ]
     },
     "execution_count": 9,
     "metadata": {},
     "output_type": "execute_result"
    }
   ],
   "source": [
    "def count_by(lst,fn=lambda x:x):\n",
    "    key={}\n",
    "    for el in map(fn,lst):\n",
    "        key[el]=0 if el not in key else key[el]\n",
    "        key[el]+=1\n",
    "    return key\n",
    "\n",
    "from math import floor\n",
    "count_by([6.1,6.8,4.2],floor)"
   ]
  },
  {
   "cell_type": "code",
   "execution_count": 10,
   "metadata": {},
   "outputs": [
    {
     "data": {
      "text/plain": [
       "{'o': 1, 't': 2}"
      ]
     },
     "execution_count": 10,
     "metadata": {},
     "output_type": "execute_result"
    }
   ],
   "source": [
    "count_by(['one','two','three'],lambda x:x[0])"
   ]
  },
  {
   "cell_type": "markdown",
   "metadata": {},
   "source": [
    "### Group"
   ]
  },
  {
   "cell_type": "code",
   "execution_count": 1,
   "metadata": {},
   "outputs": [],
   "source": [
    "def group_with(lst, func=lambda x: x):\n",
    "    '''\n",
    "    group the list by applying func\n",
    "    '''\n",
    "    key = {}\n",
    "    for initial, transformed in zip(lst, map(func, lst)):\n",
    "        key[transformed] = [] if transformed not in key else key[\n",
    "            transformed]\n",
    "        key[transformed].append(initial)\n",
    "    return key"
   ]
  },
  {
   "cell_type": "code",
   "execution_count": 2,
   "metadata": {},
   "outputs": [
    {
     "data": {
      "text/plain": [
       "{'a': ['a1', 'a2'], 'b': ['b1', 'b3'], 'c': ['c3']}"
      ]
     },
     "execution_count": 2,
     "metadata": {},
     "output_type": "execute_result"
    }
   ],
   "source": [
    "group_with(['a1','a2','b1','c3','b3'],func=lambda x:x[0])"
   ]
  },
  {
   "cell_type": "code",
   "execution_count": null,
   "metadata": {},
   "outputs": [],
   "source": []
  },
  {
   "cell_type": "markdown",
   "metadata": {},
   "source": [
    "### count_occurences\n",
    "Already implemented via `list.count()`  "
   ]
  },
  {
   "cell_type": "code",
   "execution_count": 11,
   "metadata": {},
   "outputs": [
    {
     "data": {
      "text/plain": [
       "2"
      ]
     },
     "execution_count": 11,
     "metadata": {},
     "output_type": "execute_result"
    }
   ],
   "source": [
    "def count_occurences(lst,val):\n",
    "    return len([x for x in lst if x==val and type(x)==type(val)])\n",
    "\n",
    "count_occurences([1,1,2,1.0,2,1.0,3],1.0)"
   ]
  },
  {
   "cell_type": "markdown",
   "metadata": {},
   "source": [
    "### deep_flatten"
   ]
  },
  {
   "cell_type": "code",
   "execution_count": 12,
   "metadata": {},
   "outputs": [
    {
     "data": {
      "text/plain": [
       "[1, 2, 3, 4, 5]"
      ]
     },
     "execution_count": 12,
     "metadata": {},
     "output_type": "execute_result"
    }
   ],
   "source": [
    "def spread(arg):\n",
    "    ret=[]\n",
    "    for i in arg:\n",
    "        if isinstance(i,list):\n",
    "            ret.extend(i)\n",
    "        else:\n",
    "            ret.append(i)\n",
    "    return ret\n",
    "\n",
    "def deep_flatten(lst):\n",
    "    result=[]\n",
    "    result.extend(spread(list(map(lambda x:deep_flatten(x) if\n",
    "                                 type(x)==list else x,lst))))\n",
    "    return result\n",
    "\n",
    "deep_flatten([1,[2],[[3],4],5])"
   ]
  },
  {
   "cell_type": "markdown",
   "metadata": {},
   "source": [
    "### difference_by\n",
    "Returns the difference between two list,after applying the provided function to each list element of both."
   ]
  },
  {
   "cell_type": "code",
   "execution_count": 13,
   "metadata": {},
   "outputs": [
    {
     "data": {
      "text/plain": [
       "[1.2]"
      ]
     },
     "execution_count": 13,
     "metadata": {},
     "output_type": "execute_result"
    }
   ],
   "source": [
    "def difference_by(a,b,fn=lambda x:x):\n",
    "    b=set(map(fn,b))\n",
    "    return [item for item in a if fn(item) not in b]\n",
    "\n",
    "from math import floor\n",
    "difference_by([2.1,1.2],[2.3,3.4],floor)"
   ]
  },
  {
   "cell_type": "markdown",
   "metadata": {},
   "source": [
    "### has_duplicates"
   ]
  },
  {
   "cell_type": "code",
   "execution_count": 14,
   "metadata": {},
   "outputs": [
    {
     "data": {
      "text/plain": [
       "True"
      ]
     },
     "execution_count": 14,
     "metadata": {},
     "output_type": "execute_result"
    }
   ],
   "source": [
    "def has_duplicates(lst):\n",
    "    return len(lst)!=len(set(lst))\n",
    "\n",
    "has_duplicates([1,1,2,4])"
   ]
  },
  {
   "cell_type": "markdown",
   "metadata": {},
   "source": [
    "### shuffle"
   ]
  },
  {
   "cell_type": "code",
   "execution_count": 16,
   "metadata": {},
   "outputs": [
    {
     "data": {
      "text/plain": [
       "[1, 2, 3]"
      ]
     },
     "execution_count": 16,
     "metadata": {},
     "output_type": "execute_result"
    }
   ],
   "source": [
    "from copy import deepcopy\n",
    "from random import randint\n",
    "\n",
    "def shuffle(lst):\n",
    "    temp_lst=deepcopy(lst)\n",
    "    m=len(temp_lst)\n",
    "    while(m):\n",
    "        m-=1\n",
    "        i=randint(0,m)\n",
    "        temp_lst[m],temp_lst[i],temp_lst[m]\n",
    "    return temp_lst\n",
    "\n",
    "foo =[1,2,3]\n",
    "shuffle(foo)"
   ]
  },
  {
   "cell_type": "markdown",
   "metadata": {},
   "source": [
    "### zip\n",
    "Already implemented via `itertools.zip_longest()`"
   ]
  },
  {
   "cell_type": "code",
   "execution_count": 17,
   "metadata": {},
   "outputs": [
    {
     "data": {
      "text/plain": [
       "[['a', 1, True], ['b', 2, False]]"
      ]
     },
     "execution_count": 17,
     "metadata": {},
     "output_type": "execute_result"
    }
   ],
   "source": [
    "def zip(*args,fillvalue=None):\n",
    "    max_length=max([len(lst) for lst in args])\n",
    "    result=[]\n",
    "    for i in range(max_length):\n",
    "        result.append([\n",
    "            args[k][i] if i<len(args[k]) else None for k in range(len(args))\n",
    "        ])\n",
    "    return result\n",
    "\n",
    "zip(['a','b'],[1,2],[True,False])"
   ]
  },
  {
   "cell_type": "code",
   "execution_count": 18,
   "metadata": {},
   "outputs": [
    {
     "data": {
      "text/plain": [
       "[['a', 1, True], [None, 2, False], [None, None, True]]"
      ]
     },
     "execution_count": 18,
     "metadata": {},
     "output_type": "execute_result"
    }
   ],
   "source": [
    "zip(['a'],[1,2],[True,False,True])"
   ]
  },
  {
   "cell_type": "markdown",
   "metadata": {},
   "source": [
    "## math\n",
    "### max_n"
   ]
  },
  {
   "cell_type": "code",
   "execution_count": 19,
   "metadata": {},
   "outputs": [],
   "source": [
    "def max_n(lst,n=1,reverse=True):\n",
    "    return sorted(lst,reverse=reverse)[:n]"
   ]
  },
  {
   "cell_type": "markdown",
   "metadata": {},
   "source": [
    "## String\n",
    "### capitalize"
   ]
  },
  {
   "cell_type": "code",
   "execution_count": 20,
   "metadata": {},
   "outputs": [
    {
     "data": {
      "text/plain": [
       "'FooBar'"
      ]
     },
     "execution_count": 20,
     "metadata": {},
     "output_type": "execute_result"
    }
   ],
   "source": [
    "def capitalize(string,lower_rest=False):\n",
    "    return string[:1].upper() + (string[1:].lower() if lower_rest else string[1:])\n",
    "\n",
    "capitalize('fooBar')"
   ]
  },
  {
   "cell_type": "code",
   "execution_count": 21,
   "metadata": {},
   "outputs": [
    {
     "data": {
      "text/plain": [
       "'Foobar'"
      ]
     },
     "execution_count": 21,
     "metadata": {},
     "output_type": "execute_result"
    }
   ],
   "source": [
    "capitalize('fooBar',lower_rest=True)"
   ]
  },
  {
   "cell_type": "markdown",
   "metadata": {},
   "source": [
    "### capitalize_every_word\n",
    "uses `str.title` to capitalize first letter of every word in the string."
   ]
  },
  {
   "cell_type": "code",
   "execution_count": 22,
   "metadata": {},
   "outputs": [
    {
     "data": {
      "text/plain": [
       "'Hello World!'"
      ]
     },
     "execution_count": 22,
     "metadata": {},
     "output_type": "execute_result"
    }
   ],
   "source": [
    "def capitalize_every_word(string):\n",
    "    return string.title()\n",
    "\n",
    "capitalize_every_word('hello world!')"
   ]
  },
  {
   "cell_type": "code",
   "execution_count": null,
   "metadata": {},
   "outputs": [],
   "source": []
  },
  {
   "cell_type": "code",
   "execution_count": null,
   "metadata": {},
   "outputs": [],
   "source": []
  },
  {
   "cell_type": "code",
   "execution_count": null,
   "metadata": {},
   "outputs": [],
   "source": []
  },
  {
   "cell_type": "code",
   "execution_count": null,
   "metadata": {},
   "outputs": [],
   "source": []
  },
  {
   "cell_type": "markdown",
   "metadata": {},
   "source": [
    "# flatten a nested list"
   ]
  },
  {
   "cell_type": "code",
   "execution_count": 8,
   "metadata": {},
   "outputs": [],
   "source": [
    "ll =[[52, None, None], [129, None, None], [56, None, None], [111, None, None]]"
   ]
  },
  {
   "cell_type": "markdown",
   "metadata": {},
   "source": [
    "## list of comprehension"
   ]
  },
  {
   "cell_type": "code",
   "execution_count": 9,
   "metadata": {},
   "outputs": [
    {
     "data": {
      "text/plain": [
       "[52, None, None, 129, None, None, 56, None, None, 111, None, None]"
      ]
     },
     "execution_count": 9,
     "metadata": {},
     "output_type": "execute_result"
    }
   ],
   "source": [
    "nl=[x for l in ll for x in l]\n",
    "nl"
   ]
  },
  {
   "cell_type": "markdown",
   "metadata": {},
   "source": [
    "## `chain` from `itertools`"
   ]
  },
  {
   "cell_type": "code",
   "execution_count": 10,
   "metadata": {},
   "outputs": [
    {
     "data": {
      "text/plain": [
       "[52, None, None, 129, None, None, 56, None, None, 111, None, None]"
      ]
     },
     "execution_count": 10,
     "metadata": {},
     "output_type": "execute_result"
    }
   ],
   "source": [
    "from itertools import chain\n",
    "nl=list(chain(*ll))\n",
    "nl"
   ]
  },
  {
   "cell_type": "markdown",
   "metadata": {},
   "source": [
    "## use `chain.from_iterable`"
   ]
  },
  {
   "cell_type": "code",
   "execution_count": 11,
   "metadata": {},
   "outputs": [
    {
     "data": {
      "text/plain": [
       "[52, None, None, 129, None, None, 56, None, None, 111, None, None]"
      ]
     },
     "execution_count": 11,
     "metadata": {},
     "output_type": "execute_result"
    }
   ],
   "source": [
    "nl=list(chain.from_iterable(ll))\n",
    "nl"
   ]
  },
  {
   "cell_type": "markdown",
   "metadata": {},
   "source": [
    "## `sum`"
   ]
  },
  {
   "cell_type": "code",
   "execution_count": 12,
   "metadata": {},
   "outputs": [
    {
     "data": {
      "text/plain": [
       "[52, None, None, 129, None, None, 56, None, None, 111, None, None]"
      ]
     },
     "execution_count": 12,
     "metadata": {},
     "output_type": "execute_result"
    }
   ],
   "source": [
    "nl=sum(ll,[])\n",
    "nl"
   ]
  },
  {
   "cell_type": "markdown",
   "metadata": {},
   "source": [
    "## use `reduce` function"
   ]
  },
  {
   "cell_type": "code",
   "execution_count": 15,
   "metadata": {},
   "outputs": [
    {
     "data": {
      "text/plain": [
       "[52, None, None, 129, None, None, 56, None, None, 111, None, None]"
      ]
     },
     "execution_count": 15,
     "metadata": {},
     "output_type": "execute_result"
    }
   ],
   "source": [
    "from functools import reduce\n",
    "\n",
    "nl=reduce(lambda x,y:x+y,ll)\n",
    "nl"
   ]
  },
  {
   "cell_type": "markdown",
   "metadata": {},
   "source": [
    "## `operator.add`"
   ]
  },
  {
   "cell_type": "code",
   "execution_count": 16,
   "metadata": {},
   "outputs": [
    {
     "data": {
      "text/plain": [
       "[52, None, None, 129, None, None, 56, None, None, 111, None, None]"
      ]
     },
     "execution_count": 16,
     "metadata": {},
     "output_type": "execute_result"
    }
   ],
   "source": [
    "import operator\n",
    "nl=reduce(operator.add,ll)\n",
    "nl"
   ]
  },
  {
   "cell_type": "markdown",
   "metadata": {},
   "source": [
    "refer to [this link](https://stackoverflow.com/questions/20112776/how-do-i-flatten-a-list-of-lists-nested-lists)  \n",
    "`operator.add` method is fastest."
   ]
  },
  {
   "cell_type": "markdown",
   "metadata": {},
   "source": [
    "# Functions as objects\n",
    "A parameter is a variable in a method definition.When a method is called,the arguments are the data you pass into the method's parameters.\n",
    "\n",
    "## Higher-order functions\n",
    "Functions that can accept other functions as arguments are also called higher-order functions.\n",
    "\n",
    "### `map`"
   ]
  },
  {
   "cell_type": "code",
   "execution_count": 17,
   "metadata": {},
   "outputs": [
    {
     "data": {
      "text/plain": [
       "[1, 1, 2, 6, 24, 120, 720, 5040, 40320, 362880, 3628800]"
      ]
     },
     "execution_count": 17,
     "metadata": {},
     "output_type": "execute_result"
    }
   ],
   "source": [
    "def factorial(n):\n",
    "    '''return n!'''\n",
    "    return 1 if n<2 else n*factorial(n-1)\n",
    "\n",
    "list(map(factorial,range(11)))"
   ]
  },
  {
   "cell_type": "code",
   "execution_count": 69,
   "metadata": {},
   "outputs": [
    {
     "data": {
      "text/plain": [
       "[0, 1, 4, 9, 16]"
      ]
     },
     "execution_count": 69,
     "metadata": {},
     "output_type": "execute_result"
    }
   ],
   "source": [
    "def square(x):\n",
    "    return x*x\n",
    "\n",
    "def my_map(func,mylist):\n",
    "    return [func(i) for i in mylist]\n",
    "\n",
    "my_map(square,range(5))"
   ]
  },
  {
   "cell_type": "markdown",
   "metadata": {},
   "source": [
    "### sorting\n",
    "refer to official documents:https://docs.python.org/3/howto/sorting.html"
   ]
  },
  {
   "cell_type": "markdown",
   "metadata": {},
   "source": [
    "## The seven flavors of callable objects\n",
    "1. **user-defined functions**  \n",
    "     created with `def` statements or `lambda` expressions\n",
    "2. **Built-in functions**  \n",
    "    a function implemented in C(for CPython),like len or time.strftime\n",
    "3. **Build-in methods**  \n",
    "    methods implemented in C,like dict.get\n",
    "4. **Methods**  \n",
    "    functions defined in the body of a class\n",
    "5. **Classes**  \n",
    "    calling a class is like calling a function\n",
    "6. **Class instances**  \n",
    "    if a class defines a __call__ method,then its instances may be invoked as functions\n",
    "7. **Generator functions**  \n",
    "    functions or methods that use the yield keyword.When called,generator functions return a generator object."
   ]
  },
  {
   "cell_type": "markdown",
   "metadata": {},
   "source": [
    "## user defined callable types"
   ]
  },
  {
   "cell_type": "code",
   "execution_count": 20,
   "metadata": {},
   "outputs": [],
   "source": [
    "import random\n",
    "class BingoCage:\n",
    "    def __init__(self,items):\n",
    "        self._items=list(items)\n",
    "        random.shuffle(self._items)\n",
    "        \n",
    "    def pick(self):\n",
    "        try:\n",
    "            return self._items.pop()\n",
    "        except IndexError:\n",
    "            raise LookupError('pick from empty BingoCage')\n",
    "    \n",
    "    #shortcut to bingo.pick():bingo()\n",
    "    def __call__(self):\n",
    "        return self.pick()"
   ]
  },
  {
   "cell_type": "code",
   "execution_count": 21,
   "metadata": {},
   "outputs": [
    {
     "data": {
      "text/plain": [
       "0"
      ]
     },
     "execution_count": 21,
     "metadata": {},
     "output_type": "execute_result"
    }
   ],
   "source": [
    "bingo=BingoCage(range(3))\n",
    "bingo.pick()"
   ]
  },
  {
   "cell_type": "code",
   "execution_count": 22,
   "metadata": {},
   "outputs": [
    {
     "data": {
      "text/plain": [
       "2"
      ]
     },
     "execution_count": 22,
     "metadata": {},
     "output_type": "execute_result"
    }
   ],
   "source": [
    "bingo()"
   ]
  },
  {
   "cell_type": "markdown",
   "metadata": {},
   "source": [
    "## paramters"
   ]
  },
  {
   "cell_type": "code",
   "execution_count": 36,
   "metadata": {},
   "outputs": [],
   "source": [
    "def tag(name,*content,cls=None,**attrs):\n",
    "    '''Generate one or more HTML tags'''\n",
    "    if cls is not None:\n",
    "        attrs['class']=cls\n",
    "    if attrs:\n",
    "        attr_str=''.join(' %s=\"%s\"'%(attr,value) \n",
    "                         for attr,value \n",
    "                         in sorted(attrs.items()))\n",
    "    else:\n",
    "        attr_str=''\n",
    "    if content:\n",
    "        return '\\n'.join('<%s%s>%s</%s>'%\n",
    "                        (name,attr_str,c,name) for c in content)\n",
    "    else:\n",
    "        return '<%s%s />'%(name,attr_str)"
   ]
  },
  {
   "cell_type": "code",
   "execution_count": 37,
   "metadata": {},
   "outputs": [
    {
     "data": {
      "text/plain": [
       "'<br />'"
      ]
     },
     "execution_count": 37,
     "metadata": {},
     "output_type": "execute_result"
    }
   ],
   "source": [
    "tag('br')"
   ]
  },
  {
   "cell_type": "code",
   "execution_count": 38,
   "metadata": {},
   "outputs": [
    {
     "name": "stdout",
     "output_type": "stream",
     "text": [
      "<p>hello</p>\n"
     ]
    }
   ],
   "source": [
    "# any number of arguments after the first are captured by *content as a tuuple\n",
    "print(tag('p','hello'))"
   ]
  },
  {
   "cell_type": "code",
   "execution_count": 39,
   "metadata": {},
   "outputs": [
    {
     "name": "stdout",
     "output_type": "stream",
     "text": [
      "<p>hello</p>\n",
      "<p>world</p>\n"
     ]
    }
   ],
   "source": [
    "print(tag('p','hello','world'))"
   ]
  },
  {
   "cell_type": "code",
   "execution_count": 40,
   "metadata": {},
   "outputs": [
    {
     "data": {
      "text/plain": [
       "'<p id=\"33\">hello</p>'"
      ]
     },
     "execution_count": 40,
     "metadata": {},
     "output_type": "execute_result"
    }
   ],
   "source": [
    "# keyword arguments not explicityly named in the tag\n",
    "# signature are captured by **attrs as a dict\n",
    "tag('p','hello',id=33)"
   ]
  },
  {
   "cell_type": "code",
   "execution_count": 42,
   "metadata": {},
   "outputs": [
    {
     "name": "stdout",
     "output_type": "stream",
     "text": [
      "<p class=\"sidebar\">hello</p>\n",
      "<p class=\"sidebar\">world</p>\n"
     ]
    }
   ],
   "source": [
    "# The cls paramter can only be passed as a keyword argument\n",
    "print(tag('p','hello','world',cls='sidebar'))"
   ]
  },
  {
   "cell_type": "code",
   "execution_count": 45,
   "metadata": {},
   "outputs": [
    {
     "data": {
      "text/plain": [
       "'<img content=\"testing\" />'"
      ]
     },
     "execution_count": 45,
     "metadata": {},
     "output_type": "execute_result"
    }
   ],
   "source": [
    "# even the first paramter can only be passed as a keyword argument\n",
    "tag(content='testing',name='img')"
   ]
  },
  {
   "cell_type": "code",
   "execution_count": 46,
   "metadata": {},
   "outputs": [
    {
     "data": {
      "text/plain": [
       "'<img class=\"framed\" src=\"sunset.jpg\" title=\"Sunset boulevard\" />'"
      ]
     },
     "execution_count": 46,
     "metadata": {},
     "output_type": "execute_result"
    }
   ],
   "source": [
    "# Prefixing the my_tag dict with ** passes all its items as separate arguments\n",
    "# which are then bound to the named parameters,with the remaining caught by\n",
    "# **attrs\n",
    "my_tag={'name':'img','title':'Sunset boulevard',\n",
    "       'src':'sunset.jpg','cls':'framed'}\n",
    "tag(**my_tag)"
   ]
  },
  {
   "cell_type": "markdown",
   "metadata": {},
   "source": [
    "## Retrieving information about parameters"
   ]
  },
  {
   "cell_type": "code",
   "execution_count": 48,
   "metadata": {},
   "outputs": [
    {
     "data": {
      "text/plain": [
       "'(name, *content, cls=None, **attrs)'"
      ]
     },
     "execution_count": 48,
     "metadata": {},
     "output_type": "execute_result"
    }
   ],
   "source": [
    "import inspect\n",
    "sig=inspect.signature(tag)\n",
    "str(sig)"
   ]
  },
  {
   "cell_type": "markdown",
   "metadata": {},
   "source": [
    "## `itemgetter`"
   ]
  },
  {
   "cell_type": "code",
   "execution_count": 50,
   "metadata": {},
   "outputs": [
    {
     "data": {
      "text/plain": [
       "['reapberry', 'cherry', 'fig', 'banana', 'apple', 'strawberry']"
      ]
     },
     "execution_count": 50,
     "metadata": {},
     "output_type": "execute_result"
    }
   ],
   "source": [
    "from operator import itemgetter\n",
    "\n",
    "fruits=['strawberry','fig','apple','cherry','reapberry','banana']\n",
    "sorted(fruits,key=itemgetter(2))"
   ]
  },
  {
   "cell_type": "markdown",
   "metadata": {},
   "source": [
    "## `attrgetter`"
   ]
  },
  {
   "cell_type": "code",
   "execution_count": 52,
   "metadata": {},
   "outputs": [],
   "source": [
    "class Student:\n",
    "    def __init__(self,name,grade,age):\n",
    "        self.name=name\n",
    "        self.grade=grade\n",
    "        self.age=age\n",
    "    \n",
    "    def __repr__(self):\n",
    "        return repr((self.name,self.grade,self.age))\n",
    "\n",
    "student_objects=[\n",
    "    Student('join','A',15),\n",
    "    Student('jane','B',12),\n",
    "    Student('dave','B',10)\n",
    "]"
   ]
  },
  {
   "cell_type": "code",
   "execution_count": 53,
   "metadata": {},
   "outputs": [
    {
     "data": {
      "text/plain": [
       "[('dave', 'B', 10), ('jane', 'B', 12), ('join', 'A', 15)]"
      ]
     },
     "execution_count": 53,
     "metadata": {},
     "output_type": "execute_result"
    }
   ],
   "source": [
    "from operator import attrgetter\n",
    "\n",
    "sorted(student_objects,key=attrgetter('age'))"
   ]
  },
  {
   "cell_type": "markdown",
   "metadata": {},
   "source": [
    "## `methodcaller`\n",
    "Return a callable object that calls the method name on its operand.If additional arguments and/or keyword arguments are given,they will be given to teh method as well.For example:\n",
    "- After `f=methodcaller('name')` the call `f(b)` returns `b.name()`\n",
    "- After `f=methodcaller('name','foo',bar=1)` the call `f(b)` returns `b.name('foo',bar=1)`\n",
    "Equavalent to:\n",
    "```python\n",
    "def methodcaller(name,*args,**kwargs):\n",
    "    def caller(obj):\n",
    "        return gettattr(obj,name)(*args,**kwargs)\n",
    "    return caller\n",
    "```"
   ]
  },
  {
   "cell_type": "markdown",
   "metadata": {},
   "source": [
    "## `partial`"
   ]
  },
  {
   "cell_type": "code",
   "execution_count": 54,
   "metadata": {},
   "outputs": [],
   "source": [
    "def power(base,exponent):\n",
    "    return base**exponent\n",
    "\n",
    "def square(base):\n",
    "    power(base,2)\n",
    "\n",
    "def cube(base):\n",
    "    return power(base,3)"
   ]
  },
  {
   "cell_type": "code",
   "execution_count": 55,
   "metadata": {},
   "outputs": [],
   "source": [
    "from functools import partial\n",
    "\n",
    "square=partial(power,exponent=2)\n",
    "cube=partial(power,exponent=3)"
   ]
  },
  {
   "cell_type": "code",
   "execution_count": 56,
   "metadata": {},
   "outputs": [
    {
     "data": {
      "text/plain": [
       "4"
      ]
     },
     "execution_count": 56,
     "metadata": {},
     "output_type": "execute_result"
    }
   ],
   "source": [
    "square(2)"
   ]
  },
  {
   "cell_type": "code",
   "execution_count": 57,
   "metadata": {},
   "outputs": [
    {
     "data": {
      "text/plain": [
       "8"
      ]
     },
     "execution_count": 57,
     "metadata": {},
     "output_type": "execute_result"
    }
   ],
   "source": [
    "cube(2)"
   ]
  },
  {
   "cell_type": "markdown",
   "metadata": {},
   "source": [
    "Rougly,`partial` does someting like this (apart from keyword args support etc):\n",
    "```python\n",
    "def partial(func,*part_args):\n",
    "    def wrapper(*extra_args):\n",
    "        args=list(part_args)\n",
    "        args.extend(extra_args)\n",
    "        return func(*args)\n",
    "    return wrapper\n",
    "```"
   ]
  },
  {
   "cell_type": "markdown",
   "metadata": {},
   "source": [
    "## Decorators and closures\n",
    "### first-class function\n",
    "First-class function allow us to treat function like any other object.For example,we can pass functions as arguments to other functions,we can return functions,and we can assign functions to variables."
   ]
  },
  {
   "cell_type": "code",
   "execution_count": 92,
   "metadata": {},
   "outputs": [
    {
     "name": "stdout",
     "output_type": "stream",
     "text": [
      "Log: Hi\n"
     ]
    }
   ],
   "source": [
    "# closure\n",
    "def logger(msg):\n",
    "    def log_message():\n",
    "        print('Log:',msg)\n",
    "    return log_message\n",
    "\n",
    "log_hi=logger('Hi')\n",
    "log_hi()"
   ]
  },
  {
   "cell_type": "code",
   "execution_count": 93,
   "metadata": {},
   "outputs": [
    {
     "name": "stdout",
     "output_type": "stream",
     "text": [
      "<function html_tag.<locals>.wrap_text at 0x000001DC0C880598>\n",
      "<h1>Test headLine!</h1>\n",
      "<h1>Another Headline!</h1>\n"
     ]
    }
   ],
   "source": [
    "# closure\n",
    "def html_tag(tag):\n",
    "    \n",
    "    def wrap_text(msg):\n",
    "        print('<{0}>{1}</{0}>'.format(tag,msg))\n",
    "    \n",
    "    return wrap_text\n",
    "\n",
    "print_h1=html_tag('h1')\n",
    "print(print_h1)\n",
    "print_h1('Test headLine!')\n",
    "print_h1('Another Headline!')"
   ]
  },
  {
   "cell_type": "code",
   "execution_count": 94,
   "metadata": {},
   "outputs": [
    {
     "name": "stdout",
     "output_type": "stream",
     "text": [
      "<p>Test Paragraph!</p>\n"
     ]
    }
   ],
   "source": [
    "print_p=html_tag('p')\n",
    "print_p('Test Paragraph!')"
   ]
  },
  {
   "cell_type": "code",
   "execution_count": null,
   "metadata": {},
   "outputs": [],
   "source": []
  },
  {
   "cell_type": "markdown",
   "metadata": {},
   "source": [
    "### Closures\n",
    "Closures can allow us to take advantage of the first-class functioins and return an inner function that remembers and has access to variables local to the scope which we created."
   ]
  },
  {
   "cell_type": "code",
   "execution_count": 58,
   "metadata": {},
   "outputs": [],
   "source": [
    "class Averager():\n",
    "    def __init__(self):\n",
    "        self.series=[]\n",
    "    \n",
    "    def __call__(self,new_value):\n",
    "        self.series.append(new_value)\n",
    "        total=sum(self.series)\n",
    "        return total/len(self.series)"
   ]
  },
  {
   "cell_type": "code",
   "execution_count": 60,
   "metadata": {},
   "outputs": [
    {
     "data": {
      "text/plain": [
       "10.0"
      ]
     },
     "execution_count": 60,
     "metadata": {},
     "output_type": "execute_result"
    }
   ],
   "source": [
    "avg=Averager()\n",
    "avg(10)"
   ]
  },
  {
   "cell_type": "code",
   "execution_count": 61,
   "metadata": {},
   "outputs": [
    {
     "data": {
      "text/plain": [
       "10.5"
      ]
     },
     "execution_count": 61,
     "metadata": {},
     "output_type": "execute_result"
    }
   ],
   "source": [
    "avg(11)"
   ]
  },
  {
   "cell_type": "code",
   "execution_count": 62,
   "metadata": {},
   "outputs": [
    {
     "data": {
      "text/plain": [
       "11.0"
      ]
     },
     "execution_count": 62,
     "metadata": {},
     "output_type": "execute_result"
    }
   ],
   "source": [
    "avg(12)"
   ]
  },
  {
   "cell_type": "code",
   "execution_count": 63,
   "metadata": {},
   "outputs": [],
   "source": [
    "# A hihger-order function to calculate a running average\n",
    "def make_averager():\n",
    "    series=[]\n",
    "    \n",
    "    def averager(new_value):\n",
    "        series.append(new_value)\n",
    "        total=sum(series)\n",
    "        return total/len(series)\n",
    "    \n",
    "    return averager"
   ]
  },
  {
   "cell_type": "code",
   "execution_count": 64,
   "metadata": {},
   "outputs": [
    {
     "data": {
      "text/plain": [
       "10.0"
      ]
     },
     "execution_count": 64,
     "metadata": {},
     "output_type": "execute_result"
    }
   ],
   "source": [
    "avg=make_averager()\n",
    "avg(10)"
   ]
  },
  {
   "cell_type": "code",
   "execution_count": 65,
   "metadata": {},
   "outputs": [
    {
     "data": {
      "text/plain": [
       "10.5"
      ]
     },
     "execution_count": 65,
     "metadata": {},
     "output_type": "execute_result"
    }
   ],
   "source": [
    "avg(11)"
   ]
  },
  {
   "attachments": {
    "image.png": {
     "image/png": "[encoded data removed]"
    }
   },
   "cell_type": "markdown",
   "metadata": {},
   "source": [
    "Actually,a closure is function with an extended scope that encompass non-global variables referenced in the body of the function but not defined there.It does not matter whether the function is anonymous or not,what matters is that it can access non-global variables that are defined outside of its body.\n",
    "![image.png](attachment:image.png)"
   ]
  },
  {
   "cell_type": "code",
   "execution_count": null,
   "metadata": {},
   "outputs": [],
   "source": []
  },
  {
   "cell_type": "code",
   "execution_count": null,
   "metadata": {},
   "outputs": [],
   "source": []
  },
  {
   "cell_type": "code",
   "execution_count": null,
   "metadata": {},
   "outputs": [],
   "source": []
  },
  {
   "cell_type": "code",
   "execution_count": null,
   "metadata": {},
   "outputs": [],
   "source": []
  },
  {
   "cell_type": "markdown",
   "metadata": {},
   "source": [
    "### The `nonlocal` declaration\n",
    "Our previous implementation of make_averager was not efficient.A better implementation would just store the total and the number of items so far,and compute the mean from these two numbers."
   ]
  },
  {
   "cell_type": "code",
   "execution_count": 66,
   "metadata": {},
   "outputs": [],
   "source": [
    "# A broken hiher-order function to calculate a running average without keeping all history\n",
    "def make_averager():\n",
    "    count=0\n",
    "    total=0\n",
    "    \n",
    "    def averager(new_value):\n",
    "        count+=1\n",
    "        total+=new_value\n",
    "        return total/count\n",
    "    \n",
    "    return averager"
   ]
  },
  {
   "cell_type": "code",
   "execution_count": 67,
   "metadata": {},
   "outputs": [
    {
     "ename": "UnboundLocalError",
     "evalue": "local variable 'count' referenced before assignment",
     "output_type": "error",
     "traceback": [
      "\u001b[1;31m---------------------------------------------------------------------------\u001b[0m",
      "\u001b[1;31mUnboundLocalError\u001b[0m                         Traceback (most recent call last)",
      "\u001b[1;32m<ipython-input-67-3539e31c016f>\u001b[0m in \u001b[0;36m<module>\u001b[1;34m()\u001b[0m\n\u001b[0;32m      1\u001b[0m \u001b[0mavg\u001b[0m\u001b[1;33m=\u001b[0m\u001b[0mmake_averager\u001b[0m\u001b[1;33m(\u001b[0m\u001b[1;33m)\u001b[0m\u001b[1;33m\u001b[0m\u001b[0m\n\u001b[1;32m----> 2\u001b[1;33m \u001b[0mavg\u001b[0m\u001b[1;33m(\u001b[0m\u001b[1;36m10\u001b[0m\u001b[1;33m)\u001b[0m\u001b[1;33m\u001b[0m\u001b[0m\n\u001b[0m",
      "\u001b[1;32m<ipython-input-66-6ad47ce6bde8>\u001b[0m in \u001b[0;36maverager\u001b[1;34m(new_value)\u001b[0m\n\u001b[0;32m      5\u001b[0m \u001b[1;33m\u001b[0m\u001b[0m\n\u001b[0;32m      6\u001b[0m     \u001b[1;32mdef\u001b[0m \u001b[0maverager\u001b[0m\u001b[1;33m(\u001b[0m\u001b[0mnew_value\u001b[0m\u001b[1;33m)\u001b[0m\u001b[1;33m:\u001b[0m\u001b[1;33m\u001b[0m\u001b[0m\n\u001b[1;32m----> 7\u001b[1;33m         \u001b[0mcount\u001b[0m\u001b[1;33m+=\u001b[0m\u001b[1;36m1\u001b[0m\u001b[1;33m\u001b[0m\u001b[0m\n\u001b[0m\u001b[0;32m      8\u001b[0m         \u001b[0mtotal\u001b[0m\u001b[1;33m+=\u001b[0m\u001b[0mnew_value\u001b[0m\u001b[1;33m\u001b[0m\u001b[0m\n\u001b[0;32m      9\u001b[0m         \u001b[1;32mreturn\u001b[0m \u001b[0mtotal\u001b[0m\u001b[1;33m/\u001b[0m\u001b[0mcount\u001b[0m\u001b[1;33m\u001b[0m\u001b[0m\n",
      "\u001b[1;31mUnboundLocalError\u001b[0m: local variable 'count' referenced before assignment"
     ]
    }
   ],
   "source": [
    "avg=make_averager()\n",
    "avg(10)"
   ]
  },
  {
   "cell_type": "markdown",
   "metadata": {},
   "source": [
    "The problem is that the statement count+=1 acutally means the same as count = count +1, when count is a number or any immutable type. So we are acutally assigning to count in the body of averager,and that makes it a local variable.The same problem affects the total variable.  \n",
    "\n",
    "We did not have this problem in this function:\n",
    "```python\n",
    "# A hihger-order function to calculate a running average\n",
    "def make_averager():\n",
    "    series=[]\n",
    "    \n",
    "    def averager(new_value):\n",
    "        series.append(new_value)\n",
    "        total=sum(series)\n",
    "        return total/len(series)\n",
    "    \n",
    "    return averager\n",
    "```\n",
    "Because we only called * series.append * and invoked *sum* and *len* on it.So we took the advantage of the fact that lists are mutable. \n",
    "\n",
    "To work around this the *nonlocal* declaration was introduced in python 3.It lets you flag a variable as a free variable even when it is assigned a new value within the function.If a new value is assigned to a *nonlocal* variable,the binding stored in the closure is changed.A correct implementation of our newest *make_averager* looks like:\n",
    "```python\n",
    "def make_averager():\n",
    "    count=0\n",
    "    total=0\n",
    "    \n",
    "    def averager(new_value):\n",
    "        nonlocal count,total\n",
    "        count+=1\n",
    "        total+=new_value\n",
    "        return total/count\n",
    "    \n",
    "    return averager\n",
    "```"
   ]
  },
  {
   "cell_type": "markdown",
   "metadata": {},
   "source": [
    "### Decorators\n",
    "A function takes another function and extends the behavior of the alter function **without** explicitly modifying it.**Put simply,decorators wrap a function,modifying its behavior**.  \n",
    "\n",
    "Function decorators are executed as soon as module is imported,but the decorated functions only run when they are explicitly invoked.This highlights the difference between what Pythonistas call import time and run time.  \n",
    "\n",
    "For deep understanding of decorater,refer to [this link](http://wordaligned.org/articles/echo)\n",
    "\n",
    "#### First class objects\n",
    "In python,functions are **first-class objects**.This means that functions can be passed around,and used as arguments,just like any other value(e.g,string,int,float).  \n",
    "\n",
    "#### Nested functions\n",
    "Because of the first-class nature of functions in Python,you can **define functions inside other functions**.Such functions are called nested functions. \n",
    "```python\n",
    "\n",
    "def parent():\n",
    "    print('printing from the parent() function.')\n",
    "    \n",
    "    def first_child():\n",
    "        return 'Printing from the first_child() function.'\n",
    "    \n",
    "    def second_child():\n",
    "        return 'printing from the second_child() function.'\n",
    "\n",
    "    print(first_child())\n",
    "    print(second_child())\n",
    "```\n",
    "#### Returning Functions\n",
    "Python also allows you to **return functions from other functions**.\n",
    "\n",
    "```python\n",
    "def parent(num):\n",
    "\n",
    "    def first_child():\n",
    "        return \"Printing from the first_child() function.\"\n",
    "\n",
    "    def second_child():\n",
    "        return \"Printing from the second_child() function.\"\n",
    "\n",
    "    try:\n",
    "        assert num == 10\n",
    "        return first_child\n",
    "    except AssertionError:\n",
    "        return second_child\n",
    "\n",
    "foo = parent(10)\n",
    "bar = parent(11)\n",
    "```"
   ]
  },
  {
   "cell_type": "markdown",
   "metadata": {},
   "source": [
    "### `functools.wraps`\n",
    "when you use a decorator,you're replacing one function with another.In other words,if you have a decorator.\n",
    "```python\n",
    "def logged(func):\n",
    "    def with_logging(*args,**kwargs):\n",
    "        print(func.__name__+' was called')\n",
    "        return func(*args,**kwargs)\n",
    "    return with_logging\n",
    "```\n",
    "\n",
    "then when you say\n",
    "\n",
    "```python\n",
    "@logged\n",
    "def f(x):\n",
    "    '''does some math'''\n",
    "    return x+x*x\n",
    "```\n",
    "\n",
    "it's exactly the same as saying\n",
    "\n",
    "```python\n",
    "def f(x):\n",
    "    '''deoes some math'''\n",
    "    return x+x*x\n",
    "f=logged(f)\n",
    "```\n",
    "\n",
    "and your function `f` is replaced with the function with_logging.Unfortunately,this means that if you then say\n",
    "\n",
    "```\n",
    "print(f.__name__)\n",
    "```\n",
    "\n",
    "it will print `with_logging` because that's the name of your new function.In fact,if you look at teh docstring for `f`,it will be blank because `with_logging` has no docstring,and so the docstring you wrote won't be there anymore.Also,if you look at the pydoc result for that function,it won't be listed as taking one argument `x`;instead it'll be listed as taking `*args` and `**kwargs` because that's what with_logging takes.  \n",
    "\n",
    "If using a decorator always meant losing this information about a function,it would be a serious problem.That's why we have `functools.wraps`.This takes a function used in a decorator and adds the functionality of copying over the function name,docstring,arguments list,etc.And since `wraps` is itself a decorator,the following code does the correct thing:\n",
    "```python\n",
    "from functools import wraps\n",
    "def logged(func):\n",
    "    @wraps(func)\n",
    "    def with_logging(*args,**kwargs):\n",
    "        print(func.__name__ + ' was called')\n",
    "        return func(*args,**kwargs)\n",
    "    return with_logging\n",
    "   \n",
    "@logged\n",
    "def f(x):\n",
    "    '''does some math'''\n",
    "    return x+x*x\n",
    "```"
   ]
  },
  {
   "cell_type": "code",
   "execution_count": 101,
   "metadata": {},
   "outputs": [],
   "source": [
    "from functools import wraps\n",
    "def logged(func):\n",
    "    @wraps(func)\n",
    "    def with_logging(*args,**kwargs):\n",
    "        print(func.__name__ + ' was called')\n",
    "        return func(*args,**kwargs)\n",
    "    return with_logging\n",
    "   \n",
    "@logged\n",
    "def f(x):\n",
    "    '''does some math'''\n",
    "    return x+x*x"
   ]
  },
  {
   "cell_type": "code",
   "execution_count": 102,
   "metadata": {},
   "outputs": [
    {
     "name": "stdout",
     "output_type": "stream",
     "text": [
      "f\n",
      "does some math\n"
     ]
    }
   ],
   "source": [
    "print(f.__name__)\n",
    "print(f.__doc__)"
   ]
  },
  {
   "cell_type": "markdown",
   "metadata": {},
   "source": [
    "### Decorators in the standard library\n",
    "Python has three built-in functions that are designed to decorate methods:\n",
    "1. `property`\n",
    "2. `classmethod`\n",
    "3. `staticmethod`\n",
    "\n",
    "### Stacked decorators\n",
    "```python\n",
    "@d1\n",
    "@d2\n",
    "def f(x):\n",
    "    return x*x\n",
    "```\n",
    "Is the same as:\n",
    "```python\n",
    "def f(x):\n",
    "    return x*x\n",
    "f=d1(d2(f))\n",
    "```\n",
    "### Parametrized decorators\n",
    "#### Example1"
   ]
  },
  {
   "cell_type": "code",
   "execution_count": 103,
   "metadata": {},
   "outputs": [
    {
     "name": "stdout",
     "output_type": "stream",
     "text": [
      "runing register(active=False)->decorate(<function f1 at 0x000001DC0C9DC2F0>)\n",
      "runing register(active=True)->decorate(<function f2 at 0x000001DC0C9DC048>)\n"
     ]
    }
   ],
   "source": [
    "registry=set()\n",
    "def register(active=True):\n",
    "    # The decorate inner function is teh actual decorator;\n",
    "    def decorate(func):\n",
    "        print('runing register(active=%s)->decorate(%s)'%(active,func))\n",
    "        if active:\n",
    "            registry.add(func)\n",
    "        else:\n",
    "            registry.discard(func)\n",
    "        \n",
    "        return func\n",
    "    \n",
    "    return decorate\n",
    "\n",
    "#register factory musted invoked as a function,with the desired parameters\n",
    "@register(active=False)\n",
    "def f1():\n",
    "    print('running f1()')\n",
    "\n",
    "# If no parameters are passsed,register must still be called as a function @register() to \n",
    "# return the actual decorator,decorator\n",
    "@register()\n",
    "def f2():\n",
    "    print('running f2()')\n",
    "\n",
    "def f3():\n",
    "    print('runnning f3()')"
   ]
  },
  {
   "cell_type": "code",
   "execution_count": 105,
   "metadata": {},
   "outputs": [
    {
     "name": "stdout",
     "output_type": "stream",
     "text": [
      "running f1()\n",
      "running f2()\n",
      "runnning f3()\n",
      "1\n"
     ]
    }
   ],
   "source": [
    "f1()\n",
    "f2()\n",
    "f3()\n",
    "print(len(registry))"
   ]
  },
  {
   "cell_type": "markdown",
   "metadata": {},
   "source": [
    "#### Example 2"
   ]
  },
  {
   "cell_type": "code",
   "execution_count": 113,
   "metadata": {},
   "outputs": [
    {
     "name": "stdout",
     "output_type": "stream",
     "text": [
      "[0.12333846s] snooze(0.123) -> None\n",
      "[0.12338781s] snooze(0.123) -> None\n",
      "[0.12384081s] snooze(0.123) -> None\n"
     ]
    }
   ],
   "source": [
    "import time\n",
    "\n",
    "DEFAULT_FMT='[{elapsed:0.8f}s] {name}({args}) -> {result}'\n",
    "\n",
    "# clock is our parametrized decorator factory\n",
    "def clock(fmt=DEFAULT_FMT):\n",
    "    #decorate is the actual decorator\n",
    "    def decorate(func):\n",
    "        #clocked wraps the decorated function\n",
    "        def clocked(*_args):\n",
    "            t0=time.time()\n",
    "            _result=func(*_args)\n",
    "            elapsed=time.time()-t0\n",
    "            name=func.__name__\n",
    "            args=', '.join(repr(arg) for arg in _args)\n",
    "            result=repr(_result)\n",
    "            # Using **locals() here allows any local variable of clocked to be referenced in the fmt\n",
    "            print(fmt.format(**locals()))\n",
    "            return _result\n",
    "        return clocked\n",
    "    return decorate\n",
    "\n",
    "@clock()\n",
    "def snooze(seconds):\n",
    "    time.sleep(seconds)\n",
    "\n",
    "for i in range(3):\n",
    "    snooze(.123)"
   ]
  },
  {
   "cell_type": "code",
   "execution_count": 112,
   "metadata": {},
   "outputs": [
    {
     "name": "stdout",
     "output_type": "stream",
     "text": [
      "snooze: 0.12337350845336914s\n",
      "snooze: 0.12338495254516602s\n",
      "snooze: 0.12386536598205566s\n"
     ]
    }
   ],
   "source": [
    "@clock('{name}: {elapsed}s')\n",
    "def snooze(seconds):\n",
    "    time.sleep(seconds)\n",
    "\n",
    "for i in range(3):\n",
    "    snooze(.123)"
   ]
  },
  {
   "cell_type": "code",
   "execution_count": null,
   "metadata": {},
   "outputs": [],
   "source": []
  },
  {
   "cell_type": "code",
   "execution_count": null,
   "metadata": {},
   "outputs": [],
   "source": []
  },
  {
   "cell_type": "markdown",
   "metadata": {},
   "source": [
    "#### Examples"
   ]
  },
  {
   "cell_type": "code",
   "execution_count": 95,
   "metadata": {},
   "outputs": [
    {
     "name": "stdout",
     "output_type": "stream",
     "text": [
      "\n",
      "Sum of all the numbers: 49995000\n",
      "Time it took  to run the function: 0.0015039443969726562\n",
      "\n"
     ]
    }
   ],
   "source": [
    "import time\n",
    "\n",
    "def timing_function(some_function):\n",
    "    \n",
    "    '''\n",
    "    outputs the time a function takes to execute\n",
    "    '''\n",
    "    \n",
    "    def wrapper():\n",
    "        t1=time.time()\n",
    "        some_function()\n",
    "        t2=time.time()\n",
    "        return 'Time it took  to run the function: ' + str((t2-t1))+ '\\n'\n",
    "    \n",
    "    return wrapper\n",
    "\n",
    "@timing_function\n",
    "def my_function():\n",
    "    num_list=[]\n",
    "    for num in (range(0,10000)):\n",
    "        num_list.append(num)\n",
    "    print('\\nSum of all the numbers: '+ str((sum(num_list))))\n",
    "\n",
    "print(my_function())"
   ]
  },
  {
   "cell_type": "code",
   "execution_count": 96,
   "metadata": {},
   "outputs": [
    {
     "name": "stdout",
     "output_type": "stream",
     "text": [
      "222\n",
      "1\n",
      "2\n",
      "3\n",
      "4\n",
      "5\n"
     ]
    }
   ],
   "source": [
    "from time import sleep\n",
    "\n",
    "def sleep_decorator(function):\n",
    "    '''\n",
    "    Limits how fast the function is called.\n",
    "    '''\n",
    "    \n",
    "    def wrapper(*args,**kwargs):\n",
    "        sleep(2)\n",
    "        return function(*args,**kwargs)\n",
    "    return wrapper\n",
    "\n",
    "@sleep_decorator\n",
    "def print_number(num):\n",
    "    return num\n",
    "\n",
    "print(print_number(222))\n",
    "\n",
    "for num in range(1,6):\n",
    "    print(print_number(num))"
   ]
  },
  {
   "cell_type": "code",
   "execution_count": 97,
   "metadata": {},
   "outputs": [
    {
     "name": "stdout",
     "output_type": "stream",
     "text": [
      "wrapper executed this before display1\n",
      "display function ran\n",
      "call method executed this before display2\n",
      "display function ran\n"
     ]
    }
   ],
   "source": [
    "def decorator_function(original_function):\n",
    "    def wrapper_function(*args,**kwargs):\n",
    "        print('wrapper executed this before {}'.format(original_function.__name__))\n",
    "        return original_function(*args,**kwargs)\n",
    "    \n",
    "    return wrapper_function\n",
    "\n",
    "\n",
    "class decorator_class(object):\n",
    "    def __init__(self,original_function):\n",
    "        self.original_function=original_function\n",
    "        \n",
    "    def __call__(self,*args,**kwargs):\n",
    "        print('call method executed this before {}'.format(self.original_function.__name__))\n",
    "        return self.original_function(*args,**kwargs)\n",
    "\n",
    "@decorator_function\n",
    "def display1():\n",
    "    print('display function ran')\n",
    "\n",
    "@decorator_class\n",
    "def display2():\n",
    "    print('display function ran')\n",
    "    \n",
    "display1()\n",
    "display2()"
   ]
  },
  {
   "cell_type": "code",
   "execution_count": 98,
   "metadata": {},
   "outputs": [
    {
     "name": "stdout",
     "output_type": "stream",
     "text": [
      "display_info ran with arguments (Hank,30)\n"
     ]
    }
   ],
   "source": [
    "def my_logger(orig_func):\n",
    "    import logging\n",
    "    logging.basicConfig(filename='{}.log'.format(orig_func.__name__),level=logging.INFO)\n",
    "    \n",
    "    def wrapper(*args,**kwargs):\n",
    "        logging.info(\n",
    "        'Ran with args: {}, and kwargs: {}'.format(args,kwargs))\n",
    "        orig_func(*args,**kwargs)\n",
    "    \n",
    "    return wrapper\n",
    "\n",
    "@my_logger\n",
    "def display_info(name,age):\n",
    "    print('display_info ran with arguments ({},{})'.format(name,age))\n",
    "\n",
    "display_info('Hank',30)"
   ]
  },
  {
   "cell_type": "code",
   "execution_count": 99,
   "metadata": {},
   "outputs": [
    {
     "name": "stdout",
     "output_type": "stream",
     "text": [
      "display_info ran with arguments (Tom,22)\n",
      "wrapper ran in : 0.0 sec\n"
     ]
    }
   ],
   "source": [
    "def my_timer(orig_func):\n",
    "    import time\n",
    "    \n",
    "    def wrapper(*args,**kwargs):\n",
    "        t1=time.time()\n",
    "        result=orig_func(*args,**kwargs)\n",
    "        t2=time.time()-t1\n",
    "        print('{} ran in : {} sec'.format(orig_func.__name__,t2))\n",
    "        return result\n",
    "    \n",
    "    return wrapper\n",
    "\n",
    "@my_timer\n",
    "@my_logger\n",
    "def display_info(name,age):\n",
    "    print('display_info ran with arguments ({},{})'.format(name,age))\n",
    "\n",
    "'''\n",
    "The function above equals:\n",
    "\n",
    "display_info=my_timer(my_logger(display_info))\n",
    "'''\n",
    "    \n",
    "display_info('Tom',22)"
   ]
  },
  {
   "cell_type": "markdown",
   "metadata": {},
   "source": [
    "### Tricks\n",
    "1. you can use map to decorator a bunch of functions at one time.For example:\n",
    "    ```\n",
    "    f,g,h,k=map(echo,[f,g,h,k]) #echo is a decorator\n",
    "    ```"
   ]
  },
  {
   "cell_type": "markdown",
   "metadata": {},
   "source": [
    "### `closure`,`partial` and `decorator`\n",
    "Creating a closure is a technique for doing things.You can do a bunch of things with closures.On the other hand,`partial` and `decorator` are particular purpose.Maybe they use closures.Maybe they don't.That's an implementation detail,and you don't need to worry about it.What's important is that they achieve the result you want.  \n",
    "\n",
    "Consider a `partial`One way to create it would be to use a closure:\n",
    "```python\n",
    "def partial(f,*args):\n",
    "    def pf(*rest):\n",
    "        return f(*args,*rest)\n",
    "    return pf\n",
    "```\n",
    "But id doesn't have to be that way.For example:\n",
    "```python\n",
    "class Partial:\n",
    "    def __init__(self,func,args):\n",
    "        self.args=args\n",
    "        self.func=func\n",
    "     \n",
    "    def __call__(self，*rest):\n",
    "         f=self.func\n",
    "         args=self.args\n",
    "         return f(*args,*rest)\n",
    "\n",
    "def partial(f,*args)\n",
    "    return Partial(f,args)\n",
    "```\n",
    "There's no closure here.But I get the partial behavior,so who cares?  \n",
    "\n",
    "The same is for decorators.A decorator might be a closure,or it might not."
   ]
  },
  {
   "cell_type": "markdown",
   "metadata": {},
   "source": [
    "# Object Oriented Idioms\n",
    "## `classmethod` versus `staticmethod`\n",
    "refer to [this link](https://stackoverflow.com/questions/12179271/meaning-of-classmethod-and-staticmethod-for-beginner)"
   ]
  },
  {
   "cell_type": "markdown",
   "metadata": {},
   "source": [
    "# Python cookbook\n",
    "## Data Structures and Algorithms\n",
    "### `collection.deque` Keeping the last N items \n",
    "Keeping a limited history is a pperfect use for a `collection.deque`\n",
    "```python\n",
    "from collections import deque\n",
    "\n",
    "def search(lines,pattern,history=5)：\n",
    "    previous_lines=deque(maxlen=history)\n",
    "    for line in lines:\n",
    "    if pattern in line:\n",
    "        yield line,previous_lines\n",
    "    previous_lines.append(line)\n",
    "```\n",
    "### `heapq.nlargets()` finding the largest or smallest N items"
   ]
  },
  {
   "cell_type": "code",
   "execution_count": 1,
   "metadata": {},
   "outputs": [
    {
     "name": "stdout",
     "output_type": "stream",
     "text": [
      "[42, 37, 23]\n",
      "[-4, 1, 2]\n"
     ]
    }
   ],
   "source": [
    "import heapq\n",
    "\n",
    "nums = [1, 8, 2, 23, 7, -4, 18, 23, 42, 37, 2]\n",
    "print(heapq.nlargest(3, nums)) # Prints [42, 37, 23]\n",
    "print(heapq.nsmallest(3, nums)) # Prints [-4, 1, 2]"
   ]
  },
  {
   "cell_type": "code",
   "execution_count": 2,
   "metadata": {},
   "outputs": [],
   "source": [
    "portfolio = [\n",
    "{'name': 'IBM', 'shares': 100, 'price': 91.1},\n",
    "{'name': 'AAPL', 'shares': 50, 'price': 543.22},\n",
    "{'name': 'FB', 'shares': 200, 'price': 21.09},\n",
    "{'name': 'HPQ', 'shares': 35, 'price': 31.75},\n",
    "{'name': 'YHOO', 'shares': 45, 'price': 16.35},\n",
    "{'name': 'ACME', 'shares': 75, 'price': 115.65}\n",
    "]\n",
    "cheap = heapq.nsmallest(3, portfolio, key=lambda s: s['price'])\n",
    "expensive = heapq.nlargest(3, portfolio, key=lambda s: s['price'])"
   ]
  },
  {
   "cell_type": "markdown",
   "metadata": {},
   "source": [
    "### `defaultdict` Mapping keys to multiple values in a dictionary"
   ]
  },
  {
   "cell_type": "markdown",
   "metadata": {},
   "source": [
    "Initialization of the first value can be messy.\n",
    "```python\n",
    "d={}\n",
    "for key,value in pairs:\n",
    "    if key not in d:\n",
    "        d[key]=[]\n",
    "    d[key].append(value)\n",
    "```"
   ]
  },
  {
   "cell_type": "code",
   "execution_count": 3,
   "metadata": {},
   "outputs": [],
   "source": [
    "from collections import defaultdict\n",
    "\n",
    "d=defaultdict(list)\n",
    "d['a'].append(1)\n",
    "d['a'].append(2)\n",
    "d['b'].append(4)"
   ]
  },
  {
   "cell_type": "code",
   "execution_count": 4,
   "metadata": {},
   "outputs": [],
   "source": [
    "d={} # A regular dictionary\n",
    "d.setdefault('a',[]).append(1)\n",
    "d.setdefault('a',[]).append(2)\n",
    "d.setdefault('b',[]).append(4)"
   ]
  },
  {
   "cell_type": "markdown",
   "metadata": {},
   "source": [
    "### `OrderedDict` Keeping dictionaries in order"
   ]
  },
  {
   "cell_type": "code",
   "execution_count": 6,
   "metadata": {},
   "outputs": [
    {
     "name": "stdout",
     "output_type": "stream",
     "text": [
      "foo 1\n",
      "bar 2\n",
      "spam 3\n",
      "grok 4\n"
     ]
    }
   ],
   "source": [
    "from collections import OrderedDict\n",
    "\n",
    "d=OrderedDict()\n",
    "d['foo']=1\n",
    "d['bar']=2\n",
    "d['spam']=3\n",
    "d['grok']=4\n",
    "\n",
    "for key in d:\n",
    "    print(key,d[key])"
   ]
  },
  {
   "cell_type": "code",
   "execution_count": 8,
   "metadata": {},
   "outputs": [
    {
     "data": {
      "text/plain": [
       "'{\"foo\": 1, \"bar\": 2, \"spam\": 3, \"grok\": 4}'"
      ]
     },
     "execution_count": 8,
     "metadata": {},
     "output_type": "execute_result"
    }
   ],
   "source": [
    "import json\n",
    "json.dumps(d)"
   ]
  },
  {
   "cell_type": "markdown",
   "metadata": {},
   "source": [
    "### Calculating with Dictionaries"
   ]
  },
  {
   "cell_type": "code",
   "execution_count": 9,
   "metadata": {},
   "outputs": [],
   "source": [
    "prices = {\n",
    "'ACME': 45.23,\n",
    "'AAPL': 612.78,\n",
    "'IBM': 205.55,\n",
    "'HPQ': 37.20,\n",
    "'FB': 10.75\n",
    "}"
   ]
  },
  {
   "cell_type": "code",
   "execution_count": 11,
   "metadata": {},
   "outputs": [
    {
     "name": "stdout",
     "output_type": "stream",
     "text": [
      "(10.75, 'FB')\n"
     ]
    }
   ],
   "source": [
    "min_price=min(zip(prices.values(),prices.keys()))\n",
    "print(min_price)"
   ]
  },
  {
   "cell_type": "code",
   "execution_count": 14,
   "metadata": {},
   "outputs": [
    {
     "data": {
      "text/plain": [
       "'AAPL'"
      ]
     },
     "execution_count": 14,
     "metadata": {},
     "output_type": "execute_result"
    }
   ],
   "source": [
    "# If you try to perform common data reductions on a dictionary,you'll\n",
    "# find that they only process the keys,not the values.\n",
    "min(prices)"
   ]
  },
  {
   "cell_type": "code",
   "execution_count": 13,
   "metadata": {},
   "outputs": [
    {
     "data": {
      "text/plain": [
       "'FB'"
      ]
     },
     "execution_count": 13,
     "metadata": {},
     "output_type": "execute_result"
    }
   ],
   "source": [
    "min(prices,key=lambda x:prices[x])"
   ]
  },
  {
   "cell_type": "markdown",
   "metadata": {},
   "source": [
    "### Finding commonalities in Two dictionaries"
   ]
  },
  {
   "cell_type": "code",
   "execution_count": 15,
   "metadata": {},
   "outputs": [],
   "source": [
    "a={'x':1,'y':2,'z':3}\n",
    "b={'w':10,'x':11,'y':2}"
   ]
  },
  {
   "cell_type": "code",
   "execution_count": 16,
   "metadata": {},
   "outputs": [
    {
     "data": {
      "text/plain": [
       "{'x', 'y'}"
      ]
     },
     "execution_count": 16,
     "metadata": {},
     "output_type": "execute_result"
    }
   ],
   "source": [
    "# Find keys in common\n",
    "a.keys() & b.keys()"
   ]
  },
  {
   "cell_type": "code",
   "execution_count": 17,
   "metadata": {},
   "outputs": [
    {
     "data": {
      "text/plain": [
       "{'z'}"
      ]
     },
     "execution_count": 17,
     "metadata": {},
     "output_type": "execute_result"
    }
   ],
   "source": [
    "# Find keys in a that not in b\n",
    "a.keys()-b.keys()"
   ]
  },
  {
   "cell_type": "code",
   "execution_count": 19,
   "metadata": {},
   "outputs": [
    {
     "data": {
      "text/plain": [
       "{('y', 2)}"
      ]
     },
     "execution_count": 19,
     "metadata": {},
     "output_type": "execute_result"
    }
   ],
   "source": [
    "# Find (key,value) pairs in common\n",
    "a.items() & b.items()"
   ]
  },
  {
   "cell_type": "code",
   "execution_count": 21,
   "metadata": {},
   "outputs": [
    {
     "data": {
      "text/plain": [
       "{'x': 1, 'y': 2}"
      ]
     },
     "execution_count": 21,
     "metadata": {},
     "output_type": "execute_result"
    }
   ],
   "source": [
    "# make a new dictionary with certain keys removed\n",
    "c={key:a[key] for key in a.keys()-{'z','w'}}\n",
    "c"
   ]
  },
  {
   "cell_type": "markdown",
   "metadata": {},
   "source": [
    "### Removing duplicates from a sequence while maintaining order\n",
    "If the values in the sequence are hashable,we can do as the following."
   ]
  },
  {
   "cell_type": "code",
   "execution_count": 1,
   "metadata": {},
   "outputs": [],
   "source": [
    "def dedupe(items):\n",
    "    seen=set()\n",
    "    for item in items:\n",
    "        if item not in seen:\n",
    "            yield item\n",
    "            seen.add(item)"
   ]
  },
  {
   "cell_type": "markdown",
   "metadata": {},
   "source": [
    "This only works if the items in the sequence are hashable.If you are trying to eliminate duplicates in a sequence of unhashable types (such as dicts),you can make a slight change to this recipe,as follows："
   ]
  },
  {
   "cell_type": "code",
   "execution_count": 6,
   "metadata": {},
   "outputs": [],
   "source": [
    "def dedupe(items,key=None):\n",
    "    seen=set()\n",
    "    for item in items:\n",
    "        val=item if key is None else key(item)\n",
    "        if val not in seen:\n",
    "            yield item\n",
    "            seen.add(val)"
   ]
  },
  {
   "cell_type": "code",
   "execution_count": 7,
   "metadata": {},
   "outputs": [
    {
     "data": {
      "text/plain": [
       "[{'x': 1, 'y': 2}, {'x': 1, 'y': 3}, {'x': 2, 'y': 4}]"
      ]
     },
     "execution_count": 7,
     "metadata": {},
     "output_type": "execute_result"
    }
   ],
   "source": [
    "a=[{'x':1,'y':2},{'x':1,'y':3},{'x':1,'y':2},{'x':2,'y':4}]\n",
    "\n",
    "list(dedupe(a,key=lambda d:(d['x'],d['y'])))"
   ]
  },
  {
   "cell_type": "code",
   "execution_count": 8,
   "metadata": {},
   "outputs": [
    {
     "data": {
      "text/plain": [
       "[{'x': 1, 'y': 2}, {'x': 2, 'y': 4}]"
      ]
     },
     "execution_count": 8,
     "metadata": {},
     "output_type": "execute_result"
    }
   ],
   "source": [
    "list(dedupe(a,key=lambda d:d['x']))"
   ]
  },
  {
   "cell_type": "markdown",
   "metadata": {},
   "source": [
    "# Jupyter\n",
    "The name jupyter is an indirect acronyum of the three core languages it was designed for:**JU**lia,**PYT**hon,and **R** and is inspired by the planet jupiter.  \n",
    "\n",
    "When working with Python in Jupyter,the IPython kernel is used.which give us some handy access to IPython features from within our Jupyter notebooks.\n",
    "\n",
    "## Pretty display of variables\n",
    "1.By setting  `ast_note_interactivity` as 'all',you can see the value of multiple statements at once."
   ]
  },
  {
   "cell_type": "code",
   "execution_count": 30,
   "metadata": {},
   "outputs": [
    {
     "data": {
      "text/html": [
       "<div>\n",
       "<style scoped>\n",
       "    .dataframe tbody tr th:only-of-type {\n",
       "        vertical-align: middle;\n",
       "    }\n",
       "\n",
       "    .dataframe tbody tr th {\n",
       "        vertical-align: top;\n",
       "    }\n",
       "\n",
       "    .dataframe thead th {\n",
       "        text-align: right;\n",
       "    }\n",
       "</style>\n",
       "<table border=\"1\" class=\"dataframe\">\n",
       "  <thead>\n",
       "    <tr style=\"text-align: right;\">\n",
       "      <th></th>\n",
       "      <th>lat</th>\n",
       "      <th>long</th>\n",
       "      <th>depth</th>\n",
       "      <th>mag</th>\n",
       "      <th>stations</th>\n",
       "    </tr>\n",
       "  </thead>\n",
       "  <tbody>\n",
       "    <tr>\n",
       "      <th>1</th>\n",
       "      <td>-20.42</td>\n",
       "      <td>181.62</td>\n",
       "      <td>562</td>\n",
       "      <td>4.8</td>\n",
       "      <td>41</td>\n",
       "    </tr>\n",
       "    <tr>\n",
       "      <th>2</th>\n",
       "      <td>-20.62</td>\n",
       "      <td>181.03</td>\n",
       "      <td>650</td>\n",
       "      <td>4.2</td>\n",
       "      <td>15</td>\n",
       "    </tr>\n",
       "    <tr>\n",
       "      <th>3</th>\n",
       "      <td>-26.00</td>\n",
       "      <td>184.10</td>\n",
       "      <td>42</td>\n",
       "      <td>5.4</td>\n",
       "      <td>43</td>\n",
       "    </tr>\n",
       "    <tr>\n",
       "      <th>4</th>\n",
       "      <td>-17.97</td>\n",
       "      <td>181.66</td>\n",
       "      <td>626</td>\n",
       "      <td>4.1</td>\n",
       "      <td>19</td>\n",
       "    </tr>\n",
       "    <tr>\n",
       "      <th>5</th>\n",
       "      <td>-20.42</td>\n",
       "      <td>181.96</td>\n",
       "      <td>649</td>\n",
       "      <td>4.0</td>\n",
       "      <td>11</td>\n",
       "    </tr>\n",
       "  </tbody>\n",
       "</table>\n",
       "</div>"
      ],
      "text/plain": [
       "     lat    long  depth  mag  stations\n",
       "1 -20.42  181.62    562  4.8        41\n",
       "2 -20.62  181.03    650  4.2        15\n",
       "3 -26.00  184.10     42  5.4        43\n",
       "4 -17.97  181.66    626  4.1        19\n",
       "5 -20.42  181.96    649  4.0        11"
      ]
     },
     "execution_count": 30,
     "metadata": {},
     "output_type": "execute_result"
    },
    {
     "data": {
      "text/html": [
       "<div>\n",
       "<style scoped>\n",
       "    .dataframe tbody tr th:only-of-type {\n",
       "        vertical-align: middle;\n",
       "    }\n",
       "\n",
       "    .dataframe tbody tr th {\n",
       "        vertical-align: top;\n",
       "    }\n",
       "\n",
       "    .dataframe thead th {\n",
       "        text-align: right;\n",
       "    }\n",
       "</style>\n",
       "<table border=\"1\" class=\"dataframe\">\n",
       "  <thead>\n",
       "    <tr style=\"text-align: right;\">\n",
       "      <th></th>\n",
       "      <th>lat</th>\n",
       "      <th>long</th>\n",
       "      <th>depth</th>\n",
       "      <th>mag</th>\n",
       "      <th>stations</th>\n",
       "    </tr>\n",
       "  </thead>\n",
       "  <tbody>\n",
       "    <tr>\n",
       "      <th>996</th>\n",
       "      <td>-25.93</td>\n",
       "      <td>179.54</td>\n",
       "      <td>470</td>\n",
       "      <td>4.4</td>\n",
       "      <td>22</td>\n",
       "    </tr>\n",
       "    <tr>\n",
       "      <th>997</th>\n",
       "      <td>-12.28</td>\n",
       "      <td>167.06</td>\n",
       "      <td>248</td>\n",
       "      <td>4.7</td>\n",
       "      <td>35</td>\n",
       "    </tr>\n",
       "    <tr>\n",
       "      <th>998</th>\n",
       "      <td>-20.13</td>\n",
       "      <td>184.20</td>\n",
       "      <td>244</td>\n",
       "      <td>4.5</td>\n",
       "      <td>34</td>\n",
       "    </tr>\n",
       "    <tr>\n",
       "      <th>999</th>\n",
       "      <td>-17.40</td>\n",
       "      <td>187.80</td>\n",
       "      <td>40</td>\n",
       "      <td>4.5</td>\n",
       "      <td>14</td>\n",
       "    </tr>\n",
       "    <tr>\n",
       "      <th>1000</th>\n",
       "      <td>-21.59</td>\n",
       "      <td>170.56</td>\n",
       "      <td>165</td>\n",
       "      <td>6.0</td>\n",
       "      <td>119</td>\n",
       "    </tr>\n",
       "  </tbody>\n",
       "</table>\n",
       "</div>"
      ],
      "text/plain": [
       "        lat    long  depth  mag  stations\n",
       "996  -25.93  179.54    470  4.4        22\n",
       "997  -12.28  167.06    248  4.7        35\n",
       "998  -20.13  184.20    244  4.5        34\n",
       "999  -17.40  187.80     40  4.5        14\n",
       "1000 -21.59  170.56    165  6.0       119"
      ]
     },
     "execution_count": 30,
     "metadata": {},
     "output_type": "execute_result"
    }
   ],
   "source": [
    "from IPython.core.interactiveshell import InteractiveShell\n",
    "InteractiveShell.ast_node_interactivity='all'\n",
    "\n",
    "from pydataset import data\n",
    "quakes=data('quakes')\n",
    "quakes.head()\n",
    "quakes.tail()"
   ]
  },
  {
   "cell_type": "markdown",
   "metadata": {},
   "source": [
    "If you want to set this behavior for all instances of Jupyter (Notebook and Console),simply create a file `~/.ipython/profile_default/ipython_config.py` with the lines below:\n",
    "```python\n",
    "c=get_config()\n",
    "\n",
    "#Run all nodes interactively\n",
    "c.InteractiveShell.ast_node_interactivity='all'\n",
    "```"
   ]
  },
  {
   "cell_type": "markdown",
   "metadata": {},
   "source": [
    "## Plotting in notebooks\n",
    "`%matplotlib inline`"
   ]
  },
  {
   "cell_type": "markdown",
   "metadata": {},
   "source": [
    "## Ipython Magic Commands"
   ]
  },
  {
   "cell_type": "code",
   "execution_count": 31,
   "metadata": {},
   "outputs": [
    {
     "data": {
      "application/json": {
       "cell": {
        "!": "OSMagics",
        "HTML": "Other",
        "SVG": "Other",
        "bash": "Other",
        "capture": "ExecutionMagics",
        "cmd": "Other",
        "debug": "ExecutionMagics",
        "file": "Other",
        "html": "DisplayMagics",
        "javascript": "DisplayMagics",
        "js": "DisplayMagics",
        "latex": "DisplayMagics",
        "markdown": "DisplayMagics",
        "perl": "Other",
        "prun": "ExecutionMagics",
        "pypy": "Other",
        "python": "Other",
        "python2": "Other",
        "python3": "Other",
        "ruby": "Other",
        "script": "ScriptMagics",
        "sh": "Other",
        "svg": "DisplayMagics",
        "sx": "OSMagics",
        "system": "OSMagics",
        "time": "ExecutionMagics",
        "timeit": "ExecutionMagics",
        "writefile": "OSMagics"
       },
       "line": {
        "alias": "OSMagics",
        "alias_magic": "BasicMagics",
        "autocall": "AutoMagics",
        "automagic": "AutoMagics",
        "autosave": "KernelMagics",
        "bookmark": "OSMagics",
        "cd": "OSMagics",
        "clear": "KernelMagics",
        "cls": "KernelMagics",
        "colors": "BasicMagics",
        "config": "ConfigMagics",
        "connect_info": "KernelMagics",
        "copy": "Other",
        "ddir": "Other",
        "debug": "ExecutionMagics",
        "dhist": "OSMagics",
        "dirs": "OSMagics",
        "doctest_mode": "BasicMagics",
        "echo": "Other",
        "ed": "Other",
        "edit": "KernelMagics",
        "env": "OSMagics",
        "gui": "BasicMagics",
        "hist": "Other",
        "history": "HistoryMagics",
        "killbgscripts": "ScriptMagics",
        "ldir": "Other",
        "less": "KernelMagics",
        "load": "CodeMagics",
        "load_ext": "ExtensionMagics",
        "loadpy": "CodeMagics",
        "logoff": "LoggingMagics",
        "logon": "LoggingMagics",
        "logstart": "LoggingMagics",
        "logstate": "LoggingMagics",
        "logstop": "LoggingMagics",
        "ls": "Other",
        "lsmagic": "BasicMagics",
        "macro": "ExecutionMagics",
        "magic": "BasicMagics",
        "matplotlib": "PylabMagics",
        "mkdir": "Other",
        "more": "KernelMagics",
        "notebook": "BasicMagics",
        "page": "BasicMagics",
        "pastebin": "CodeMagics",
        "pdb": "ExecutionMagics",
        "pdef": "NamespaceMagics",
        "pdoc": "NamespaceMagics",
        "pfile": "NamespaceMagics",
        "pinfo": "NamespaceMagics",
        "pinfo2": "NamespaceMagics",
        "pip": "BasicMagics",
        "popd": "OSMagics",
        "pprint": "BasicMagics",
        "precision": "BasicMagics",
        "profile": "BasicMagics",
        "prun": "ExecutionMagics",
        "psearch": "NamespaceMagics",
        "psource": "NamespaceMagics",
        "pushd": "OSMagics",
        "pwd": "OSMagics",
        "pycat": "OSMagics",
        "pylab": "PylabMagics",
        "qtconsole": "KernelMagics",
        "quickref": "BasicMagics",
        "recall": "HistoryMagics",
        "rehashx": "OSMagics",
        "reload_ext": "ExtensionMagics",
        "ren": "Other",
        "rep": "Other",
        "rerun": "HistoryMagics",
        "reset": "NamespaceMagics",
        "reset_selective": "NamespaceMagics",
        "rmdir": "Other",
        "run": "ExecutionMagics",
        "save": "CodeMagics",
        "sc": "OSMagics",
        "set_env": "OSMagics",
        "store": "StoreMagics",
        "sx": "OSMagics",
        "system": "OSMagics",
        "tb": "ExecutionMagics",
        "time": "ExecutionMagics",
        "timeit": "ExecutionMagics",
        "unalias": "OSMagics",
        "unload_ext": "ExtensionMagics",
        "who": "NamespaceMagics",
        "who_ls": "NamespaceMagics",
        "whos": "NamespaceMagics",
        "xdel": "NamespaceMagics",
        "xmode": "BasicMagics"
       }
      },
      "text/plain": [
       "Available line magics:\n",
       "%alias  %alias_magic  %autocall  %automagic  %autosave  %bookmark  %cd  %clear  %cls  %colors  %config  %connect_info  %copy  %ddir  %debug  %dhist  %dirs  %doctest_mode  %echo  %ed  %edit  %env  %gui  %hist  %history  %killbgscripts  %ldir  %less  %load  %load_ext  %loadpy  %logoff  %logon  %logstart  %logstate  %logstop  %ls  %lsmagic  %macro  %magic  %matplotlib  %mkdir  %more  %notebook  %page  %pastebin  %pdb  %pdef  %pdoc  %pfile  %pinfo  %pinfo2  %popd  %pprint  %precision  %profile  %prun  %psearch  %psource  %pushd  %pwd  %pycat  %pylab  %qtconsole  %quickref  %recall  %rehashx  %reload_ext  %ren  %rep  %rerun  %reset  %reset_selective  %rmdir  %run  %save  %sc  %set_env  %store  %sx  %system  %tb  %time  %timeit  %unalias  %unload_ext  %who  %who_ls  %whos  %xdel  %xmode\n",
       "\n",
       "Available cell magics:\n",
       "%%!  %%HTML  %%SVG  %%bash  %%capture  %%cmd  %%debug  %%file  %%html  %%javascript  %%js  %%latex  %%markdown  %%perl  %%prun  %%pypy  %%python  %%python2  %%python3  %%ruby  %%script  %%sh  %%svg  %%sx  %%system  %%time  %%timeit  %%writefile\n",
       "\n",
       "Automagic is ON, % prefix IS NOT needed for line magics."
      ]
     },
     "execution_count": 31,
     "metadata": {},
     "output_type": "execute_result"
    }
   ],
   "source": [
    "# list all magic command\n",
    "%lsmagic"
   ]
  },
  {
   "cell_type": "markdown",
   "metadata": {},
   "source": [
    "### `%run`:execute python code\n",
    "`%run` can execute both .py files and jupyter notebooks.\n",
    "\n",
    "Note that using `%run` is not the same as importing a python module.\n",
    "\n",
    "### `load`: Insert the code from an external script\n",
    "\n",
    "### `%%time` and `%timeit`\n",
    "These are especially handy when you have some slow code and you're trying to indentifying where the issue is.  \n",
    "`%%time` will give you information about a single run of the code in your cell.  \n",
    "`%%timeit` will uses the Python timeit module which runs a statement 100,000 times (by default) and then provides the mean of the fastest three times."
   ]
  },
  {
   "cell_type": "code",
   "execution_count": 32,
   "metadata": {},
   "outputs": [
    {
     "name": "stdout",
     "output_type": "stream",
     "text": [
      "Wall time: 14.4 s\n"
     ]
    }
   ],
   "source": [
    "%%time\n",
    "import time\n",
    "for _ in range(1000):\n",
    "    time.sleep(0.01)"
   ]
  },
  {
   "cell_type": "code",
   "execution_count": 33,
   "metadata": {},
   "outputs": [
    {
     "name": "stdout",
     "output_type": "stream",
     "text": [
      "5.67 µs ± 214 ns per loop (mean ± std. dev. of 7 runs, 100000 loops each)\n"
     ]
    }
   ],
   "source": [
    "import numpy\n",
    "\n",
    "%timeit numpy.random.normal(size=100)"
   ]
  },
  {
   "cell_type": "markdown",
   "metadata": {},
   "source": [
    "## Suppress the output of a final function\n",
    "To do this,you just add a semicoloon at the end."
   ]
  },
  {
   "cell_type": "code",
   "execution_count": 34,
   "metadata": {},
   "outputs": [],
   "source": [
    "%matplotlib inline\n",
    "\n",
    "from matplotlib import pyplot as plt\n",
    "import numpy\n",
    "x=numpy.linspace(0,1,1000)**1.5"
   ]
  },
  {
   "cell_type": "code",
   "execution_count": 35,
   "metadata": {},
   "outputs": [
    {
     "data": {
      "text/plain": [
       "(array([216., 126., 106.,  95.,  87.,  81.,  77.,  73.,  71.,  68.]),\n",
       " array([0. , 0.1, 0.2, 0.3, 0.4, 0.5, 0.6, 0.7, 0.8, 0.9, 1. ]),\n",
       " <a list of 10 Patch objects>)"
      ]
     },
     "execution_count": 35,
     "metadata": {},
     "output_type": "execute_result"
    },
    {
     "data": {
      "image/png": "[encoded data removed]",
      "text/plain": [
       "<matplotlib.figure.Figure at 0x1e07bb61a90>"
      ]
     },
     "metadata": {},
     "output_type": "display_data"
    }
   ],
   "source": [
    "# Here you get the output of the function\n",
    "plt.hist(x)"
   ]
  },
  {
   "cell_type": "code",
   "execution_count": 36,
   "metadata": {},
   "outputs": [
    {
     "data": {
      "image/png": "[encoded data removed]",
      "text/plain": [
       "<matplotlib.figure.Figure at 0x1e07e54a860>"
      ]
     },
     "metadata": {},
     "output_type": "display_data"
    }
   ],
   "source": [
    "# By adding a semicolon at the end,the output is suppressed\n",
    "plt.hist(x);"
   ]
  },
  {
   "cell_type": "markdown",
   "metadata": {},
   "source": [
    "## Executing Shell commands"
   ]
  },
  {
   "cell_type": "code",
   "execution_count": 41,
   "metadata": {},
   "outputs": [
    {
     "name": "stdout",
     "output_type": "stream",
     "text": [
      " 驱动器 D 中的卷是 LENOVO\n",
      " 卷的序列号是 26F4-F274\n",
      "\n",
      " D:\\zht\\code\\notebook 的目录\n",
      "\n",
      "2018/02/09  14:55             2,499 .~gitStudyNotes.ipynb\n",
      "2018/02/10  09:06             4,470 cite2c-A jupyter extension for zotero.ipynb\n",
      "2018/02/10  09:06         2,286,421 dataAnalysis_summary.ipynb\n",
      "2018/02/09  14:55           354,705 Estimating Standard Errors in Python.ipynb\n",
      "2018/03/07  12:41            13,138 fluent_python_studyNotes.ipynb\n",
      "2018/02/09  14:55             3,502 gitStudyNotes.ipynb\n",
      "2018/03/29  00:40             3,642 latex equation field.ipynb\n",
      "2018/03/31  00:36           105,083 matplotlib.ipynb\n",
      "2018/02/10  18:58               951 numpy_notes.ipynb\n",
      "2018/04/03  20:09           674,763 pandas handbook.ipynb\n",
      "2018/02/09  20:22           569,183 Pandas_API.ipynb\n",
      "2018/02/09  14:55             9,391 pelicanStudyNotes.ipynb\n",
      "2018/02/09  14:55             9,278 pelicanSyntax.ipynb\n",
      "2017/05/26  16:46             9,697 Performance and Code Optimization.ipynb\n",
      "2017/06/26  18:17             9,586 plotly.ipynb\n",
      "2018/04/04  12:29           209,500 python handbook.ipynb\n",
      "2017/05/09  15:03           321,758 python_data_science_handbook_notes.ipynb\n",
      "2017/05/09  00:09         1,710,280 scipy_notes.ipynb\n",
      "2018/02/03  17:29             9,590 Timing-and-profiling.ipynb\n",
      "2018/02/07  18:45         1,421,232 visualization.ipynb\n",
      "              20 个文件      7,728,669 字节\n",
      "               0 个目录 260,871,237,632 可用字节\n"
     ]
    }
   ],
   "source": [
    "ls *.ipynb"
   ]
  },
  {
   "cell_type": "markdown",
   "metadata": {},
   "source": [
    "## Multicursor support\n",
    "click and drag your mouse while holding down `alt`\n",
    "![](https://www.dataquest.io/blog/content/images/multiline.gif)"
   ]
  },
  {
   "cell_type": "markdown",
   "metadata": {},
   "source": [
    "## Profiling and timing code\n",
    "1. `%time`:Time the execution of a single statement\n",
    "2. `%timeit`:Time repeated execution of a single statement for more accuracy\n",
    "3. `%prun`:Run code with the profiler\n",
    "4. `%lprun`:Run code with the line-by-line profiler\n",
    "5. `%memit`:measure the memory use of a single statement\n",
    "6. `%mprun`:Run code with the line-by-line memory profiler"
   ]
  },
  {
   "cell_type": "markdown",
   "metadata": {},
   "source": [
    "## Timing code Snippets:`%timeit` and `%time`\n",
    "`%timeit` for line-magic  \n",
    "`%%timeit` for cell-magic"
   ]
  },
  {
   "cell_type": "code",
   "execution_count": 2,
   "metadata": {},
   "outputs": [
    {
     "name": "stdout",
     "output_type": "stream",
     "text": [
      "1.19 µs ± 12.4 ns per loop (mean ± std. dev. of 7 runs, 1000000 loops each)\n"
     ]
    }
   ],
   "source": [
    "%timeit sum(range(100))"
   ]
  },
  {
   "cell_type": "code",
   "execution_count": 3,
   "metadata": {},
   "outputs": [
    {
     "name": "stdout",
     "output_type": "stream",
     "text": [
      "416 ms ± 5.96 ms per loop (mean ± std. dev. of 7 runs, 1 loop each)\n"
     ]
    }
   ],
   "source": [
    "%%timeit\n",
    "total=0\n",
    "for i in range(1000):\n",
    "    for j in range(1000):\n",
    "        total+=i*(-1)**j"
   ]
  },
  {
   "cell_type": "markdown",
   "metadata": {},
   "source": [
    "Sometimes repeating an operation is note the best option.For example,if we have a list that we'd like to sort,we might be misled by a repeated operation.Sorting a pre-sorted list is much faster than sorting an unsorted list,so the repetition will skew the result:"
   ]
  },
  {
   "cell_type": "code",
   "execution_count": 4,
   "metadata": {},
   "outputs": [
    {
     "name": "stdout",
     "output_type": "stream",
     "text": [
      "1.51 ms ± 62.4 µs per loop (mean ± std. dev. of 7 runs, 1000 loops each)\n"
     ]
    }
   ],
   "source": [
    "import random\n",
    "L=[random.random() for i in range(100000)]\n",
    "%timeit L.sort()"
   ]
  },
  {
   "cell_type": "markdown",
   "metadata": {},
   "source": [
    "For this,the `%time` magic function may be a better choice.It also is a good choice for longer-running commands,when short,system-related delays are unlikely to affect the result.Let's time the sorting of an unsorted and a presorted list:"
   ]
  },
  {
   "cell_type": "code",
   "execution_count": 5,
   "metadata": {},
   "outputs": [
    {
     "name": "stdout",
     "output_type": "stream",
     "text": [
      "sorting an unsorted list:\n",
      "Wall time: 35.1 ms\n"
     ]
    }
   ],
   "source": [
    "import random\n",
    "L=[random.random() for i in range(100000)]\n",
    "print('sorting an unsorted list:')\n",
    "%time L.sort()"
   ]
  },
  {
   "cell_type": "code",
   "execution_count": 6,
   "metadata": {},
   "outputs": [
    {
     "name": "stdout",
     "output_type": "stream",
     "text": [
      "sorting an already sorted list:\n",
      "Wall time: 2.01 ms\n"
     ]
    }
   ],
   "source": [
    "print('sorting an already sorted list:')\n",
    "%time L.sort()"
   ]
  },
  {
   "cell_type": "markdown",
   "metadata": {},
   "source": [
    "## Profiling full scripts:`%prun`"
   ]
  },
  {
   "cell_type": "code",
   "execution_count": 7,
   "metadata": {},
   "outputs": [],
   "source": [
    "def sum_of_lists(N):\n",
    "    total=0\n",
    "    for i in range(5):\n",
    "        L=[j^(j>>i) for j in range(N)]\n",
    "        total+=sum(L)\n",
    "    return total"
   ]
  },
  {
   "cell_type": "code",
   "execution_count": 9,
   "metadata": {},
   "outputs": [
    {
     "name": "stdout",
     "output_type": "stream",
     "text": [
      " "
     ]
    }
   ],
   "source": [
    "%prun sum_of_lists(1000000)"
   ]
  },
  {
   "cell_type": "markdown",
   "metadata": {},
   "source": [
    "The result is as follows:\n",
    "```\n",
    "         14 function calls in 0.816 seconds\n",
    "\n",
    "   Ordered by: internal time\n",
    "\n",
    "   ncalls  tottime  percall  cumtime  percall filename:lineno(function)\n",
    "        5    0.662    0.132    0.662    0.132 <ipython-input-7-6bcd3b93ec33>:4(<listcomp>)\n",
    "        5    0.106    0.021    0.106    0.021 {built-in method builtins.sum}\n",
    "        1    0.036    0.036    0.804    0.804 <ipython-input-7-6bcd3b93ec33>:1(sum_of_lists)\n",
    "        1    0.012    0.012    0.816    0.816 <string>:1(<module>)\n",
    "        1    0.000    0.000    0.816    0.816 {built-in method builtins.exec}\n",
    "        1    0.000    0.000    0.000    0.000 {method 'disable' of '_lsprof.Profiler' objects}\n",
    "```"
   ]
  },
  {
   "cell_type": "code",
   "execution_count": 11,
   "metadata": {},
   "outputs": [],
   "source": [
    "%load_ext line_profiler"
   ]
  },
  {
   "cell_type": "code",
   "execution_count": 12,
   "metadata": {},
   "outputs": [],
   "source": [
    "%lprun -f sum_of_lists sum_of_lists(5000)"
   ]
  },
  {
   "cell_type": "markdown",
   "metadata": {},
   "source": [
    "The result is as follows:\n",
    "```\n",
    "Timer unit: 3.64673e-07 s\n",
    "\n",
    "Total time: 0.00769532 s\n",
    "File: <ipython-input-7-6bcd3b93ec33>\n",
    "Function: sum_of_lists at line 1\n",
    "\n",
    "Line #      Hits         Time  Per Hit   % Time  Line Contents\n",
    "==============================================================\n",
    "     1                                           def sum_of_lists(N):\n",
    "     2         1          5.0      5.0      0.0      total=0\n",
    "     3         6         18.0      3.0      0.1      for i in range(5):\n",
    "     4         5      20470.0   4094.0     97.0          L=[j^(j>>i) for j in range(N)]\n",
    "     5         5        608.0    121.6      2.9          total+=sum(L)\n",
    "     6         1          1.0      1.0      0.0      return total\n",
    "```"
   ]
  },
  {
   "cell_type": "markdown",
   "metadata": {},
   "source": [
    "## Profiling memory use:`%memit` and `%mprun`"
   ]
  },
  {
   "cell_type": "code",
   "execution_count": 14,
   "metadata": {},
   "outputs": [],
   "source": [
    "%load_ext memory_profiler"
   ]
  },
  {
   "cell_type": "code",
   "execution_count": 15,
   "metadata": {},
   "outputs": [
    {
     "name": "stdout",
     "output_type": "stream",
     "text": [
      "peak memory: 121.80 MiB, increment: 74.83 MiB\n"
     ]
    }
   ],
   "source": [
    "%memit sum_of_lists(1000000)"
   ]
  },
  {
   "cell_type": "markdown",
   "metadata": {},
   "source": [
    "For a line-by-line description of memory use,we can use the `%mprun` magic.Unfortunately,this magic works only for functions defined in separate modules rather than the notebook itself,so we'll start by using the `%%file` magic to create a simple module called `mprun_demo.py`,which contains our `sum_of_lists` function,with one addition that will make our memory profiling results more clear:"
   ]
  },
  {
   "cell_type": "code",
   "execution_count": 16,
   "metadata": {},
   "outputs": [
    {
     "name": "stdout",
     "output_type": "stream",
     "text": [
      "Writing mprun_demo.py\n"
     ]
    }
   ],
   "source": [
    "%%file mprun_demo.py\n",
    "def sum_of_lists(N):\n",
    "    total=0\n",
    "    for i in range(5):\n",
    "        L=[j^(j>>i) for j in range(N)]\n",
    "        total+=sum(L)\n",
    "        del L #remove reference to L\n",
    "    return total"
   ]
  },
  {
   "cell_type": "code",
   "execution_count": 17,
   "metadata": {},
   "outputs": [
    {
     "name": "stdout",
     "output_type": "stream",
     "text": [
      "\n"
     ]
    }
   ],
   "source": [
    "from mprun_demo import sum_of_lists\n",
    "%mprun -f sum_of_lists sum_of_lists(100000)"
   ]
  },
  {
   "cell_type": "markdown",
   "metadata": {},
   "source": [
    "The result is as follows:\n",
    "```\n",
    "Filename: D:\\zht\\code\\notebook\\mprun_demo.py\n",
    "\n",
    "Line #    Mem usage    Increment   Line Contents\n",
    "================================================\n",
    "     1     49.1 MiB     49.1 MiB   def sum_of_lists(N):\n",
    "     2     49.1 MiB      0.0 MiB       total=0\n",
    "     3     49.1 MiB      0.0 MiB       for i in range(5):\n",
    "     4     51.3 MiB -569451.7 MiB           L=[j^(j>>i) for j in range(N)]\n",
    "     5     51.3 MiB     -0.2 MiB           total+=sum(L)\n",
    "     6     49.0 MiB     -9.5 MiB           del L #remove reference to L\n",
    "     7     49.0 MiB     -0.1 MiB       return total\n",
    "```"
   ]
  },
  {
   "cell_type": "code",
   "execution_count": null,
   "metadata": {},
   "outputs": [],
   "source": []
  }
 ],
 "metadata": {
  "kernelspec": {
   "display_name": "Python 3",
   "language": "python",
   "name": "python3"
  },
  "language_info": {
   "codemirror_mode": {
    "name": "ipython",
    "version": 3
   },
   "file_extension": ".py",
   "mimetype": "text/x-python",
   "name": "python",
   "nbconvert_exporter": "python",
   "pygments_lexer": "ipython3",
   "version": "3.6.4"
  },
  "toc": {
   "nav_menu": {
    "height": "450px",
    "width": "328px"
   },
   "number_sections": true,
   "sideBar": true,
   "skip_h1_title": false,
   "title_cell": "Table of Contents",
   "title_sidebar": "Contents",
   "toc_cell": false,
   "toc_position": {
    "height": "calc(100% - 180px)",
    "left": "10px",
    "top": "150px",
    "width": "299px"
   },
   "toc_section_display": true,
   "toc_window_display": false
  }
 },
 "nbformat": 4,
 "nbformat_minor": 2
}
