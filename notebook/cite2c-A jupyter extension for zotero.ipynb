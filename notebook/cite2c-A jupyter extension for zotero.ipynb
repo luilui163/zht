{
 "cells": [
  {
   "cell_type": "markdown",
   "metadata": {},
   "source": [
    "Steps:  \n",
    "1. install the cite2c:\n",
    "    1. `pip install cite2c`\n",
    "    2. `python -m cite2c.install`\n",
    "\n",
    "2. set zotero  \n",
    "    1. open the zotero webpage\n",
    "    2. check `Setting>Privacy` to make sure that `Publish entire library` is ticked.(If not,it will always tell you there are no matches when you want to insert citations.\n",
    "    \n",
    "3. You will seet two new toolbar buttons ![](https://github.com/takluyver/cite2c/blob/master/toolbar_buttons.png).If this two toolbar buttons do not show,the possible reason is that there are some other jupyter extension may have covered the toolbar buttons (such as \"Table of Contents (2)\").In this way,you have to disable this kind of extensions in jupyter to use cite2c.(You can use Nbextensions to manage your extensions)\n",
    "\n",
    "3. For your first time to use,click the left button in ![](https://github.com/takluyver/cite2c/blob/master/toolbar_buttons.png),and input your userID (not your Key).If you do not have any matches when you try to insert citations,make sure you have set the zotero as the steps (2.A).If there is still no matches,it may be due to wrong userID.To change the userID,open 'cite2c.json' in '.jupyter\\nbconfig' and change it.Usually,it will be OK.\n",
    "\n",
    "Here is the example of how the citation is like:  \n",
    "This is the first citation <cite data-cite=\"4698190/EVT5KKC5\"></cite>  \n",
    "This is another citation <cite data-cite=\"4698190/H3PMJ89L\"></cite>\n",
    "\n",
    "And this is the bibliography:  \n",
    "<div class=\"cite2c-biblio\"></div>"
   ]
  }
 ],
 "metadata": {
  "cite2c": {
   "citations": {
    "4698190/EVT5KKC5": {
     "DOI": "10.1093/rfs/hhw101",
     "URL": "https://academic.oup.com/rfs/article-lookup/doi/10.1093/rfs/hhw101",
     "accessed": {
      "day": "26",
      "month": "6",
      "year": "2017"
     },
     "author": [
      {
       "family": "Barillas",
       "given": "Francisco"
      },
      {
       "family": "Shanken",
       "given": "Jay"
      }
     ],
     "container-title": "The Review of Financial Studies",
     "id": "4698190/EVT5KKC5",
     "issue": "4",
     "issued": {
      "month": "4",
      "year": "2017"
     },
     "language": "en",
     "page": "1316-1338",
     "page-first": "1316",
     "title": "Which Alpha?",
     "type": "article-journal",
     "volume": "30"
    },
    "4698190/H3PMJ89L": {
     "DOI": "10.1111/j.1540-6261.1996.tb05202.x",
     "URL": "http://onlinelibrary.wiley.com/doi/10.1111/j.1540-6261.1996.tb05202.x/abstract",
     "abstract": "Previous work shows that average returns on common stocks are related to firm characteristics like size, earnings/price, cash flow/price, book-to-market equity, past sales growth, long-term past return, and short-term past return. Because these patterns in average returns apparently are not explained by the CAPM, they are called anomalies. We find that, except for the continuation of short-term returns, the anomalies largely disappear in a three-factor model. Our results are consistent with rational ICAPM or APT asset pricing, but we also consider irrational pricing and data problems as possible explanations.",
     "accessed": {
      "day": "11",
      "month": "10",
      "year": "2017"
     },
     "author": [
      {
       "family": "Fama",
       "given": "Eugene F."
      },
      {
       "family": "French",
       "given": "Kenneth R."
      }
     ],
     "container-title": "The Journal of Finance",
     "container-title-short": "The Journal of Finance",
     "id": "4698190/H3PMJ89L",
     "issue": "1",
     "issued": {
      "day": 1.0,
      "month": "3",
      "year": "1996"
     },
     "journalAbbreviation": "The Journal of Finance",
     "language": "en",
     "page": "55-84",
     "page-first": "55",
     "title": "Multifactor Explanations of Asset Pricing Anomalies",
     "type": "article-journal",
     "volume": "51"
    }
   }
  },
  "kernelspec": {
   "display_name": "Python 2",
   "language": "python",
   "name": "python2"
  },
  "language_info": {
   "codemirror_mode": {
    "name": "ipython",
    "version": 2
   },
   "file_extension": ".py",
   "mimetype": "text/x-python",
   "name": "python",
   "nbconvert_exporter": "python",
   "pygments_lexer": "ipython2",
   "version": "2.7.12"
  }
 },
 "nbformat": 4,
 "nbformat_minor": 2
}
